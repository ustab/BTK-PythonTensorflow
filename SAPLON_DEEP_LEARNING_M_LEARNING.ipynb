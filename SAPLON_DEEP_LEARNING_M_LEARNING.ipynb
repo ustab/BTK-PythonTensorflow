{
  "cells": [
    {
      "cell_type": "markdown",
      "metadata": {
        "id": "view-in-github",
        "colab_type": "text"
      },
      "source": [
        "<a href=\"https://colab.research.google.com/github/ustab/BTK-PythonTensorflow/blob/master/SAPLON_DEEP_LEARNING_M_LEARNING.ipynb\" target=\"_parent\"><img src=\"https://colab.research.google.com/assets/colab-badge.svg\" alt=\"Open In Colab\"/></a>"
      ]
    },
    {
      "cell_type": "markdown",
      "metadata": {
        "id": "rNdWfPXCjTjY"
      },
      "source": [
        "# Observing Learning Curve Changes\n",
        "\n",
        "**Learning Objectives**\n",
        "\n",
        "### Learning objectives\n",
        "1. xxxxxx\n",
        "2. xxxxxxx\n",
        "3. xxxxxxx \n",
        "\n",
        "\n",
        "## Introduction \n",
        "\n",
        "\n",
        "In this notebook, you will observe learning curve change on ______.  You will use the Keras Sequential Model to build an ML model to predict housing prices.\n",
        "\n",
        "A learning curve is a plot of model learning performance over experience or time.\n",
        "\n",
        "Learning curves are a widely used diagnostic tool in machine learning for algorithms that learn from a training dataset incrementally. The model can be evaluated on the training dataset and on a hold out validation dataset after each update during training and plots of the measured performance can created to show learning curves.\n",
        "\n",
        "Reviewing learning curves of models during training can be used to diagnose problems with learning, such as an underfit or overfit model, as well as whether the training and validation datasets are suitably representative.\n",
        "\n",
        "https://machinelearningmastery.com/learning-curves-for-diagnosing-machine-learning-model-performance/#:~:text=A%20learning%20curve%20is%20a,from%20a%20training%20dataset%20incrementally.&text=Learning%20curves%20are%20plots%20that,time%20in%20terms%20of%20experience.\n",
        "\n",
        "Each learning objective will correspond to a __#TODO__ in the [student lab notebook](../labs/keras_dnn.ipynb) -- try to complete that notebook first before reviewing this solution notebook. \n"
      ]
    },
    {
      "cell_type": "markdown",
      "metadata": {
        "id": "VxyBFc_kKazA"
      },
      "source": [
        "Start by importing the necessary libraries for this lab."
      ]
    },
    {
      "cell_type": "code",
      "execution_count": null,
      "metadata": {
        "colab": {
          "base_uri": "https://localhost:8080/"
        },
        "id": "lufWkcaljW4k",
        "outputId": "e9874e79-b1c1-47c6-dae6-fd3fbb9336b9"
      },
      "outputs": [
        {
          "output_type": "stream",
          "name": "stdout",
          "text": [
            "chown: invalid user: ‘jupyter:jupyter’\n"
          ]
        }
      ],
      "source": [
        "!sudo chown -R jupyter:jupyter /home/jupyter/training-data-analyst"
      ]
    },
    {
      "cell_type": "code",
      "execution_count": null,
      "metadata": {
        "colab": {
          "base_uri": "https://localhost:8080/"
        },
        "id": "ZVvx0Xv1jW4k",
        "outputId": "c7108141-1acb-4c64-bce1-c2f39a57e4c1"
      },
      "outputs": [
        {
          "output_type": "stream",
          "name": "stdout",
          "text": [
            "Looking in indexes: https://pypi.org/simple, https://us-python.pkg.dev/colab-wheels/public/simple/\n",
            "Collecting sklearn\n",
            "  Downloading sklearn-0.0.tar.gz (1.1 kB)\n",
            "Requirement already satisfied: scikit-learn in /usr/local/lib/python3.7/dist-packages (from sklearn) (1.0.2)\n",
            "Requirement already satisfied: joblib>=0.11 in /usr/local/lib/python3.7/dist-packages (from scikit-learn->sklearn) (1.2.0)\n",
            "Requirement already satisfied: numpy>=1.14.6 in /usr/local/lib/python3.7/dist-packages (from scikit-learn->sklearn) (1.21.6)\n",
            "Requirement already satisfied: scipy>=1.1.0 in /usr/local/lib/python3.7/dist-packages (from scikit-learn->sklearn) (1.7.3)\n",
            "Requirement already satisfied: threadpoolctl>=2.0.0 in /usr/local/lib/python3.7/dist-packages (from scikit-learn->sklearn) (3.1.0)\n",
            "Building wheels for collected packages: sklearn\n",
            "  Building wheel for sklearn (setup.py) ... \u001b[?25l\u001b[?25hdone\n",
            "  Created wheel for sklearn: filename=sklearn-0.0-py2.py3-none-any.whl size=1310 sha256=b0300e3c978b5a8db9ad8687e429f1bb45e26e992ae1a027668eb2693634cf27\n",
            "  Stored in directory: /root/.cache/pip/wheels/46/ef/c3/157e41f5ee1372d1be90b09f74f82b10e391eaacca8f22d33e\n",
            "Successfully built sklearn\n",
            "Installing collected packages: sklearn\n",
            "Successfully installed sklearn-0.0\n"
          ]
        }
      ],
      "source": [
        "# Install Sklearn\n",
        "!python3 -m pip install --user sklearn"
      ]
    },
    {
      "cell_type": "markdown",
      "source": [
        "# Yeni Bölüm"
      ],
      "metadata": {
        "id": "VQpVez-HjcVC"
      }
    },
    {
      "cell_type": "markdown",
      "source": [
        "# Yeni Bölüm"
      ],
      "metadata": {
        "id": "1lbAIOdkjc63"
      }
    },
    {
      "cell_type": "code",
      "execution_count": null,
      "metadata": {
        "colab": {
          "base_uri": "https://localhost:8080/"
        },
        "id": "7GlAB7VLjW4l",
        "outputId": "4fb1a48f-ef51-4a92-8175-10535ef048b5"
      },
      "outputs": [
        {
          "output_type": "stream",
          "name": "stdout",
          "text": [
            "Looking in indexes: https://pypi.org/simple, https://us-python.pkg.dev/colab-wheels/public/simple/\n",
            "Collecting tensorflow==2.1\n",
            "  Downloading tensorflow-2.1.0-cp37-cp37m-manylinux2010_x86_64.whl (421.8 MB)\n",
            "\u001b[K     |████████████████████████████████| 421.8 MB 24 kB/s \n",
            "\u001b[?25hRequirement already satisfied: six>=1.12.0 in /usr/local/lib/python3.7/dist-packages (from tensorflow==2.1) (1.15.0)\n",
            "Requirement already satisfied: numpy<2.0,>=1.16.0 in /usr/local/lib/python3.7/dist-packages (from tensorflow==2.1) (1.21.6)\n",
            "Requirement already satisfied: protobuf>=3.8.0 in /usr/local/lib/python3.7/dist-packages (from tensorflow==2.1) (3.17.3)\n",
            "Requirement already satisfied: astor>=0.6.0 in /usr/local/lib/python3.7/dist-packages (from tensorflow==2.1) (0.8.1)\n",
            "Requirement already satisfied: termcolor>=1.1.0 in /usr/local/lib/python3.7/dist-packages (from tensorflow==2.1) (2.0.1)\n",
            "Collecting tensorboard<2.2.0,>=2.1.0\n",
            "  Downloading tensorboard-2.1.1-py3-none-any.whl (3.8 MB)\n",
            "\u001b[K     |████████████████████████████████| 3.8 MB 40.2 MB/s \n",
            "\u001b[?25hRequirement already satisfied: grpcio>=1.8.6 in /usr/local/lib/python3.7/dist-packages (from tensorflow==2.1) (1.49.1)\n",
            "Requirement already satisfied: wheel>=0.26 in /usr/local/lib/python3.7/dist-packages (from tensorflow==2.1) (0.37.1)\n",
            "Collecting tensorflow-estimator<2.2.0,>=2.1.0rc0\n",
            "  Downloading tensorflow_estimator-2.1.0-py2.py3-none-any.whl (448 kB)\n",
            "\u001b[K     |████████████████████████████████| 448 kB 51.5 MB/s \n",
            "\u001b[?25hCollecting scipy==1.4.1\n",
            "  Downloading scipy-1.4.1-cp37-cp37m-manylinux1_x86_64.whl (26.1 MB)\n",
            "\u001b[K     |████████████████████████████████| 26.1 MB 1.7 MB/s \n",
            "\u001b[?25hRequirement already satisfied: opt-einsum>=2.3.2 in /usr/local/lib/python3.7/dist-packages (from tensorflow==2.1) (3.3.0)\n",
            "Collecting keras-applications>=1.0.8\n",
            "  Downloading Keras_Applications-1.0.8-py3-none-any.whl (50 kB)\n",
            "\u001b[K     |████████████████████████████████| 50 kB 7.8 MB/s \n",
            "\u001b[?25hCollecting gast==0.2.2\n",
            "  Downloading gast-0.2.2.tar.gz (10 kB)\n",
            "Requirement already satisfied: keras-preprocessing>=1.1.0 in /usr/local/lib/python3.7/dist-packages (from tensorflow==2.1) (1.1.2)\n",
            "Requirement already satisfied: wrapt>=1.11.1 in /usr/local/lib/python3.7/dist-packages (from tensorflow==2.1) (1.14.1)\n",
            "Requirement already satisfied: google-pasta>=0.1.6 in /usr/local/lib/python3.7/dist-packages (from tensorflow==2.1) (0.2.0)\n",
            "Requirement already satisfied: absl-py>=0.7.0 in /usr/local/lib/python3.7/dist-packages (from tensorflow==2.1) (1.2.0)\n",
            "Requirement already satisfied: h5py in /usr/local/lib/python3.7/dist-packages (from keras-applications>=1.0.8->tensorflow==2.1) (3.1.0)\n",
            "Requirement already satisfied: google-auth<2,>=1.6.3 in /usr/local/lib/python3.7/dist-packages (from tensorboard<2.2.0,>=2.1.0->tensorflow==2.1) (1.35.0)\n",
            "Requirement already satisfied: markdown>=2.6.8 in /usr/local/lib/python3.7/dist-packages (from tensorboard<2.2.0,>=2.1.0->tensorflow==2.1) (3.4.1)\n",
            "Requirement already satisfied: werkzeug>=0.11.15 in /usr/local/lib/python3.7/dist-packages (from tensorboard<2.2.0,>=2.1.0->tensorflow==2.1) (1.0.1)\n",
            "Requirement already satisfied: google-auth-oauthlib<0.5,>=0.4.1 in /usr/local/lib/python3.7/dist-packages (from tensorboard<2.2.0,>=2.1.0->tensorflow==2.1) (0.4.6)\n",
            "Requirement already satisfied: setuptools>=41.0.0 in /usr/local/lib/python3.7/dist-packages (from tensorboard<2.2.0,>=2.1.0->tensorflow==2.1) (57.4.0)\n",
            "Requirement already satisfied: requests<3,>=2.21.0 in /usr/local/lib/python3.7/dist-packages (from tensorboard<2.2.0,>=2.1.0->tensorflow==2.1) (2.23.0)\n",
            "Requirement already satisfied: rsa<5,>=3.1.4 in /usr/local/lib/python3.7/dist-packages (from google-auth<2,>=1.6.3->tensorboard<2.2.0,>=2.1.0->tensorflow==2.1) (4.9)\n",
            "Requirement already satisfied: cachetools<5.0,>=2.0.0 in /usr/local/lib/python3.7/dist-packages (from google-auth<2,>=1.6.3->tensorboard<2.2.0,>=2.1.0->tensorflow==2.1) (4.2.4)\n",
            "Requirement already satisfied: pyasn1-modules>=0.2.1 in /usr/local/lib/python3.7/dist-packages (from google-auth<2,>=1.6.3->tensorboard<2.2.0,>=2.1.0->tensorflow==2.1) (0.2.8)\n",
            "Requirement already satisfied: requests-oauthlib>=0.7.0 in /usr/local/lib/python3.7/dist-packages (from google-auth-oauthlib<0.5,>=0.4.1->tensorboard<2.2.0,>=2.1.0->tensorflow==2.1) (1.3.1)\n",
            "Requirement already satisfied: importlib-metadata>=4.4 in /usr/local/lib/python3.7/dist-packages (from markdown>=2.6.8->tensorboard<2.2.0,>=2.1.0->tensorflow==2.1) (5.0.0)\n",
            "Requirement already satisfied: zipp>=0.5 in /usr/local/lib/python3.7/dist-packages (from importlib-metadata>=4.4->markdown>=2.6.8->tensorboard<2.2.0,>=2.1.0->tensorflow==2.1) (3.8.1)\n",
            "Requirement already satisfied: typing-extensions>=3.6.4 in /usr/local/lib/python3.7/dist-packages (from importlib-metadata>=4.4->markdown>=2.6.8->tensorboard<2.2.0,>=2.1.0->tensorflow==2.1) (4.1.1)\n",
            "Requirement already satisfied: pyasn1<0.5.0,>=0.4.6 in /usr/local/lib/python3.7/dist-packages (from pyasn1-modules>=0.2.1->google-auth<2,>=1.6.3->tensorboard<2.2.0,>=2.1.0->tensorflow==2.1) (0.4.8)\n",
            "Requirement already satisfied: urllib3!=1.25.0,!=1.25.1,<1.26,>=1.21.1 in /usr/local/lib/python3.7/dist-packages (from requests<3,>=2.21.0->tensorboard<2.2.0,>=2.1.0->tensorflow==2.1) (1.24.3)\n",
            "Requirement already satisfied: chardet<4,>=3.0.2 in /usr/local/lib/python3.7/dist-packages (from requests<3,>=2.21.0->tensorboard<2.2.0,>=2.1.0->tensorflow==2.1) (3.0.4)\n",
            "Requirement already satisfied: idna<3,>=2.5 in /usr/local/lib/python3.7/dist-packages (from requests<3,>=2.21.0->tensorboard<2.2.0,>=2.1.0->tensorflow==2.1) (2.10)\n",
            "Requirement already satisfied: certifi>=2017.4.17 in /usr/local/lib/python3.7/dist-packages (from requests<3,>=2.21.0->tensorboard<2.2.0,>=2.1.0->tensorflow==2.1) (2022.9.24)\n",
            "Requirement already satisfied: oauthlib>=3.0.0 in /usr/local/lib/python3.7/dist-packages (from requests-oauthlib>=0.7.0->google-auth-oauthlib<0.5,>=0.4.1->tensorboard<2.2.0,>=2.1.0->tensorflow==2.1) (3.2.1)\n",
            "Requirement already satisfied: cached-property in /usr/local/lib/python3.7/dist-packages (from h5py->keras-applications>=1.0.8->tensorflow==2.1) (1.5.2)\n",
            "Building wheels for collected packages: gast\n",
            "  Building wheel for gast (setup.py) ... \u001b[?25l\u001b[?25hdone\n",
            "  Created wheel for gast: filename=gast-0.2.2-py3-none-any.whl size=7554 sha256=d7a27707521c98bd9d887d208e2d650140d775c230ac010609357f8d04e2b526\n",
            "  Stored in directory: /root/.cache/pip/wheels/21/7f/02/420f32a803f7d0967b48dd823da3f558c5166991bfd204eef3\n",
            "Successfully built gast\n",
            "Installing collected packages: tensorflow-estimator, tensorboard, scipy, keras-applications, gast, tensorflow\n",
            "  Attempting uninstall: tensorflow-estimator\n",
            "    Found existing installation: tensorflow-estimator 2.8.0\n",
            "    Uninstalling tensorflow-estimator-2.8.0:\n",
            "      Successfully uninstalled tensorflow-estimator-2.8.0\n",
            "  Attempting uninstall: tensorboard\n",
            "    Found existing installation: tensorboard 2.8.0\n",
            "    Uninstalling tensorboard-2.8.0:\n",
            "      Successfully uninstalled tensorboard-2.8.0\n",
            "  Attempting uninstall: scipy\n",
            "    Found existing installation: scipy 1.7.3\n",
            "    Uninstalling scipy-1.7.3:\n",
            "      Successfully uninstalled scipy-1.7.3\n",
            "  Attempting uninstall: gast\n",
            "    Found existing installation: gast 0.5.3\n",
            "    Uninstalling gast-0.5.3:\n",
            "      Successfully uninstalled gast-0.5.3\n",
            "  Attempting uninstall: tensorflow\n",
            "    Found existing installation: tensorflow 2.8.2+zzzcolab20220929150707\n",
            "    Uninstalling tensorflow-2.8.2+zzzcolab20220929150707:\n",
            "      Successfully uninstalled tensorflow-2.8.2+zzzcolab20220929150707\n",
            "\u001b[31mERROR: pip's dependency resolver does not currently take into account all the packages that are installed. This behaviour is the source of the following dependency conflicts.\n",
            "tensorflow-probability 0.16.0 requires gast>=0.3.2, but you have gast 0.2.2 which is incompatible.\n",
            "plotnine 0.8.0 requires scipy>=1.5.0, but you have scipy 1.4.1 which is incompatible.\n",
            "jaxlib 0.3.20+cuda11.cudnn805 requires scipy>=1.5, but you have scipy 1.4.1 which is incompatible.\n",
            "jax 0.3.21 requires scipy>=1.5, but you have scipy 1.4.1 which is incompatible.\u001b[0m\n",
            "Successfully installed gast-0.2.2 keras-applications-1.0.8 scipy-1.4.1 tensorboard-2.1.1 tensorflow-2.1.0 tensorflow-estimator-2.1.0\n"
          ]
        }
      ],
      "source": [
        "# Ensure the right version of Tensorflow is installed.\n",
        "!pip freeze | grep tensorflow==2.1 || pip install tensorflow==2.1"
      ]
    },
    {
      "cell_type": "markdown",
      "metadata": {
        "id": "YKAoFS57jW4l"
      },
      "source": [
        "**Note:** After executing the above cell you will see the output\n",
        "`tensorflow==2.1.0` that is the installed version of tensorflow."
      ]
    },
    {
      "cell_type": "code",
      "execution_count": null,
      "metadata": {
        "colab": {
          "base_uri": "https://localhost:8080/"
        },
        "id": "9dEreb4QKizj",
        "outputId": "1004b507-7e92-4793-888d-24459cb55489"
      },
      "outputs": [
        {
          "output_type": "stream",
          "name": "stdout",
          "text": [
            "TensorFlow version:  2.8.2\n"
          ]
        }
      ],
      "source": [
        "import os\n",
        "import tensorflow.keras\n",
        "\n",
        "import matplotlib.pyplot as plt\n",
        "import pandas as pd\n",
        "import tensorflow as tf\n",
        "\n",
        "from tensorflow import feature_column as fc\n",
        "from tensorflow.keras import layers\n",
        "from tensorflow import keras\n",
        "from tensorflow.keras import layers\n",
        "from tensorflow.keras.optimizers import Adam\n",
        "from sklearn.model_selection import train_test_split\n",
        "from keras.utils.vis_utils import plot_model\n",
        "print(\"TensorFlow version: \",tf.version.VERSION)\n"
      ]
    },
    {
      "cell_type": "markdown",
      "metadata": {
        "id": "oDiUe_GsjW4l"
      },
      "source": [
        "Many of the Google Machine Learning Courses Programming Exercises use the  [California Housing Dataset](https://developers.google.com/machine-learning/crash-course/california-housing-data-description\n",
        "), which contains data drawn from the 1990 U.S. Census.  Our lab dataset has been pre-processed so that there are no missing values.\n",
        "\n",
        "First, let's download the raw .csv data by copying the data from a cloud storage bucket.\n"
      ]
    },
    {
      "cell_type": "code",
      "source": [
        "from sklearn.datasets import fetch_california_housing\n",
        "\n",
        "california_housing = fetch_california_housing(as_frame=True)"
      ],
      "metadata": {
        "id": "BlE9p7IAnYo2"
      },
      "execution_count": null,
      "outputs": []
    },
    {
      "cell_type": "code",
      "execution_count": null,
      "metadata": {
        "id": "37cvVLiLjW4l"
      },
      "outputs": [],
      "source": [
        "if not os.path.isdir(\"../data\"):\n",
        "    os.makedirs(\"../data\")"
      ]
    },
    {
      "cell_type": "code",
      "execution_count": null,
      "metadata": {
        "colab": {
          "base_uri": "https://localhost:8080/"
        },
        "id": "lBvy2j_VjW4m",
        "outputId": "4cf0cd9a-fb2c-4e78-c05c-c8cc780680d8"
      },
      "outputs": [
        {
          "output_type": "stream",
          "name": "stdout",
          "text": [
            "Copying gs://cloud-training-demos/feat_eng/housing/housing_pre-proc.csv...\n",
            "/ [1 files][  1.4 MiB/  1.4 MiB]                                                \n",
            "Operation completed over 1 objects/1.4 MiB.                                      \n"
          ]
        }
      ],
      "source": [
        "!gsutil cp gs://cloud-training-demos/feat_eng/housing/housing_pre-proc.csv ../data    "
      ]
    },
    {
      "cell_type": "markdown",
      "metadata": {
        "id": "lM6-n6xntv3t"
      },
      "source": [
        "Now, let's read in the dataset just copied from the cloud storage bucket and create a Pandas dataframe."
      ]
    },
    {
      "cell_type": "code",
      "execution_count": null,
      "metadata": {
        "colab": {
          "base_uri": "https://localhost:8080/",
          "height": 276
        },
        "id": "REZ57BXCLdfG",
        "outputId": "347f1c0d-e6cd-482f-d8ce-93dec50bd284"
      },
      "outputs": [
        {
          "output_type": "stream",
          "name": "stderr",
          "text": [
            "/usr/local/lib/python3.7/dist-packages/IPython/core/interactiveshell.py:3326: FutureWarning: The error_bad_lines argument has been deprecated and will be removed in a future version.\n",
            "\n",
            "\n",
            "  exec(code_obj, self.user_global_ns, self.user_ns)\n"
          ]
        },
        {
          "output_type": "execute_result",
          "data": {
            "text/plain": [
              "   longitude  latitude  housing_median_age  total_rooms  total_bedrooms  \\\n",
              "0    -122.23     37.88                41.0        880.0           129.0   \n",
              "1    -122.22     37.86                21.0       7099.0          1106.0   \n",
              "2    -122.24     37.85                52.0       1467.0           190.0   \n",
              "3    -122.25     37.85                52.0       1274.0           235.0   \n",
              "4    -122.25     37.85                52.0       1627.0           280.0   \n",
              "\n",
              "   population  households  median_income  median_house_value ocean_proximity  \n",
              "0       322.0       126.0         8.3252            452600.0        NEAR BAY  \n",
              "1      2401.0      1138.0         8.3014            358500.0        NEAR BAY  \n",
              "2       496.0       177.0         7.2574            352100.0        NEAR BAY  \n",
              "3       558.0       219.0         5.6431            341300.0        NEAR BAY  \n",
              "4       565.0       259.0         3.8462            342200.0        NEAR BAY  "
            ],
            "text/html": [
              "\n",
              "  <div id=\"df-80d7f2d8-8e60-4b31-8ab0-e554549e8794\">\n",
              "    <div class=\"colab-df-container\">\n",
              "      <div>\n",
              "<style scoped>\n",
              "    .dataframe tbody tr th:only-of-type {\n",
              "        vertical-align: middle;\n",
              "    }\n",
              "\n",
              "    .dataframe tbody tr th {\n",
              "        vertical-align: top;\n",
              "    }\n",
              "\n",
              "    .dataframe thead th {\n",
              "        text-align: right;\n",
              "    }\n",
              "</style>\n",
              "<table border=\"1\" class=\"dataframe\">\n",
              "  <thead>\n",
              "    <tr style=\"text-align: right;\">\n",
              "      <th></th>\n",
              "      <th>longitude</th>\n",
              "      <th>latitude</th>\n",
              "      <th>housing_median_age</th>\n",
              "      <th>total_rooms</th>\n",
              "      <th>total_bedrooms</th>\n",
              "      <th>population</th>\n",
              "      <th>households</th>\n",
              "      <th>median_income</th>\n",
              "      <th>median_house_value</th>\n",
              "      <th>ocean_proximity</th>\n",
              "    </tr>\n",
              "  </thead>\n",
              "  <tbody>\n",
              "    <tr>\n",
              "      <th>0</th>\n",
              "      <td>-122.23</td>\n",
              "      <td>37.88</td>\n",
              "      <td>41.0</td>\n",
              "      <td>880.0</td>\n",
              "      <td>129.0</td>\n",
              "      <td>322.0</td>\n",
              "      <td>126.0</td>\n",
              "      <td>8.3252</td>\n",
              "      <td>452600.0</td>\n",
              "      <td>NEAR BAY</td>\n",
              "    </tr>\n",
              "    <tr>\n",
              "      <th>1</th>\n",
              "      <td>-122.22</td>\n",
              "      <td>37.86</td>\n",
              "      <td>21.0</td>\n",
              "      <td>7099.0</td>\n",
              "      <td>1106.0</td>\n",
              "      <td>2401.0</td>\n",
              "      <td>1138.0</td>\n",
              "      <td>8.3014</td>\n",
              "      <td>358500.0</td>\n",
              "      <td>NEAR BAY</td>\n",
              "    </tr>\n",
              "    <tr>\n",
              "      <th>2</th>\n",
              "      <td>-122.24</td>\n",
              "      <td>37.85</td>\n",
              "      <td>52.0</td>\n",
              "      <td>1467.0</td>\n",
              "      <td>190.0</td>\n",
              "      <td>496.0</td>\n",
              "      <td>177.0</td>\n",
              "      <td>7.2574</td>\n",
              "      <td>352100.0</td>\n",
              "      <td>NEAR BAY</td>\n",
              "    </tr>\n",
              "    <tr>\n",
              "      <th>3</th>\n",
              "      <td>-122.25</td>\n",
              "      <td>37.85</td>\n",
              "      <td>52.0</td>\n",
              "      <td>1274.0</td>\n",
              "      <td>235.0</td>\n",
              "      <td>558.0</td>\n",
              "      <td>219.0</td>\n",
              "      <td>5.6431</td>\n",
              "      <td>341300.0</td>\n",
              "      <td>NEAR BAY</td>\n",
              "    </tr>\n",
              "    <tr>\n",
              "      <th>4</th>\n",
              "      <td>-122.25</td>\n",
              "      <td>37.85</td>\n",
              "      <td>52.0</td>\n",
              "      <td>1627.0</td>\n",
              "      <td>280.0</td>\n",
              "      <td>565.0</td>\n",
              "      <td>259.0</td>\n",
              "      <td>3.8462</td>\n",
              "      <td>342200.0</td>\n",
              "      <td>NEAR BAY</td>\n",
              "    </tr>\n",
              "  </tbody>\n",
              "</table>\n",
              "</div>\n",
              "      <button class=\"colab-df-convert\" onclick=\"convertToInteractive('df-80d7f2d8-8e60-4b31-8ab0-e554549e8794')\"\n",
              "              title=\"Convert this dataframe to an interactive table.\"\n",
              "              style=\"display:none;\">\n",
              "        \n",
              "  <svg xmlns=\"http://www.w3.org/2000/svg\" height=\"24px\"viewBox=\"0 0 24 24\"\n",
              "       width=\"24px\">\n",
              "    <path d=\"M0 0h24v24H0V0z\" fill=\"none\"/>\n",
              "    <path d=\"M18.56 5.44l.94 2.06.94-2.06 2.06-.94-2.06-.94-.94-2.06-.94 2.06-2.06.94zm-11 1L8.5 8.5l.94-2.06 2.06-.94-2.06-.94L8.5 2.5l-.94 2.06-2.06.94zm10 10l.94 2.06.94-2.06 2.06-.94-2.06-.94-.94-2.06-.94 2.06-2.06.94z\"/><path d=\"M17.41 7.96l-1.37-1.37c-.4-.4-.92-.59-1.43-.59-.52 0-1.04.2-1.43.59L10.3 9.45l-7.72 7.72c-.78.78-.78 2.05 0 2.83L4 21.41c.39.39.9.59 1.41.59.51 0 1.02-.2 1.41-.59l7.78-7.78 2.81-2.81c.8-.78.8-2.07 0-2.86zM5.41 20L4 18.59l7.72-7.72 1.47 1.35L5.41 20z\"/>\n",
              "  </svg>\n",
              "      </button>\n",
              "      \n",
              "  <style>\n",
              "    .colab-df-container {\n",
              "      display:flex;\n",
              "      flex-wrap:wrap;\n",
              "      gap: 12px;\n",
              "    }\n",
              "\n",
              "    .colab-df-convert {\n",
              "      background-color: #E8F0FE;\n",
              "      border: none;\n",
              "      border-radius: 50%;\n",
              "      cursor: pointer;\n",
              "      display: none;\n",
              "      fill: #1967D2;\n",
              "      height: 32px;\n",
              "      padding: 0 0 0 0;\n",
              "      width: 32px;\n",
              "    }\n",
              "\n",
              "    .colab-df-convert:hover {\n",
              "      background-color: #E2EBFA;\n",
              "      box-shadow: 0px 1px 2px rgba(60, 64, 67, 0.3), 0px 1px 3px 1px rgba(60, 64, 67, 0.15);\n",
              "      fill: #174EA6;\n",
              "    }\n",
              "\n",
              "    [theme=dark] .colab-df-convert {\n",
              "      background-color: #3B4455;\n",
              "      fill: #D2E3FC;\n",
              "    }\n",
              "\n",
              "    [theme=dark] .colab-df-convert:hover {\n",
              "      background-color: #434B5C;\n",
              "      box-shadow: 0px 1px 3px 1px rgba(0, 0, 0, 0.15);\n",
              "      filter: drop-shadow(0px 1px 2px rgba(0, 0, 0, 0.3));\n",
              "      fill: #FFFFFF;\n",
              "    }\n",
              "  </style>\n",
              "\n",
              "      <script>\n",
              "        const buttonEl =\n",
              "          document.querySelector('#df-80d7f2d8-8e60-4b31-8ab0-e554549e8794 button.colab-df-convert');\n",
              "        buttonEl.style.display =\n",
              "          google.colab.kernel.accessAllowed ? 'block' : 'none';\n",
              "\n",
              "        async function convertToInteractive(key) {\n",
              "          const element = document.querySelector('#df-80d7f2d8-8e60-4b31-8ab0-e554549e8794');\n",
              "          const dataTable =\n",
              "            await google.colab.kernel.invokeFunction('convertToInteractive',\n",
              "                                                     [key], {});\n",
              "          if (!dataTable) return;\n",
              "\n",
              "          const docLinkHtml = 'Like what you see? Visit the ' +\n",
              "            '<a target=\"_blank\" href=https://colab.research.google.com/notebooks/data_table.ipynb>data table notebook</a>'\n",
              "            + ' to learn more about interactive tables.';\n",
              "          element.innerHTML = '';\n",
              "          dataTable['output_type'] = 'display_data';\n",
              "          await google.colab.output.renderOutput(dataTable, element);\n",
              "          const docLink = document.createElement('div');\n",
              "          docLink.innerHTML = docLinkHtml;\n",
              "          element.appendChild(docLink);\n",
              "        }\n",
              "      </script>\n",
              "    </div>\n",
              "  </div>\n",
              "  "
            ]
          },
          "metadata": {},
          "execution_count": 23
        }
      ],
      "source": [
        "housing_df = pd.read_csv('../data/housing_pre-proc.csv', error_bad_lines=False)\n",
        "housing_df.head()"
      ]
    },
    {
      "cell_type": "markdown",
      "metadata": {
        "id": "x1PbDiwqjW4m"
      },
      "source": [
        "We can use .describe() to see some summary statistics for the numeric fields in our dataframe. Note, for example, the count row and corresponding columns. The count shows 20433.000000 for all feature columns. Thus, there are no missing values."
      ]
    },
    {
      "cell_type": "markdown",
      "metadata": {
        "id": "u0zhLtQqMPem"
      },
      "source": [
        "####  Split the dataset for ML\n",
        "\n",
        "The dataset we loaded was a single CSV file. We will split this into train, validation, and test sets.\n"
      ]
    },
    {
      "cell_type": "code",
      "execution_count": null,
      "metadata": {
        "colab": {
          "base_uri": "https://localhost:8080/"
        },
        "id": "YEOpw7LhMYsI",
        "outputId": "3350d2a3-9bc7-4119-9c67-5c8b26ce970b"
      },
      "outputs": [
        {
          "output_type": "stream",
          "name": "stdout",
          "text": [
            "13076 train examples\n",
            "3270 validation examples\n",
            "4087 test examples\n"
          ]
        }
      ],
      "source": [
        "train, test = train_test_split(housing_df, test_size=0.2)\n",
        "train, val = train_test_split(train, test_size=0.2)\n",
        "\n",
        "print(len(train), 'train examples')\n",
        "print(len(val), 'validation examples')\n",
        "print(len(test), 'test examples')\n",
        "\n",
        "train.to_csv('../data/housing-train.csv', encoding='utf-8', index=False)\n",
        "val.to_csv('../data/housing-val.csv', encoding='utf-8', index=False)\n",
        "test.to_csv('../data/housing-test.csv', encoding='utf-8', index=False)"
      ]
    },
    {
      "cell_type": "code",
      "execution_count": null,
      "metadata": {
        "id": "aScgigFejW4n"
      },
      "outputs": [],
      "source": [
        "# A utility method to create a tf.data dataset from a Pandas Dataframe\n",
        "\n",
        "def df_to_dataset(dataframe, shuffle=True, batch_size=32):\n",
        "    dataframe = dataframe.copy()\n",
        "    labels = dataframe.pop('median_house_value')\n",
        "    ds = tf.data.Dataset.from_tensor_slices((dict(dataframe), labels))\n",
        "    if shuffle:\n",
        "        ds = ds.shuffle(buffer_size=len(dataframe))\n",
        "    ds = ds.batch(batch_size)\n",
        "    return ds\n",
        "\n",
        "# Next we initialize the training and validation datasets.\n",
        "batch_size = 32\n",
        "train_ds = df_to_dataset(train)\n",
        "val_ds = df_to_dataset(val, shuffle=False, batch_size=batch_size)\n",
        "\n",
        "# Input Pipeline\n",
        "numeric_cols = ['longitude', 'latitude', 'housing_median_age', 'total_rooms',\n",
        "                'total_bedrooms', 'population', 'households', 'median_income']\n",
        "\n",
        "# Next, we scale the numerical feature columns that we assigned to the variable \"numeric cols\".\n",
        "# Scalar def get_scal(feature):\n",
        "def get_scal(feature):\n",
        "    def minmax(x):\n",
        "        mini = train[feature].min()\n",
        "        maxi = train[feature].max()\n",
        "        return (x - mini)/(maxi-mini)\n",
        "        return(minmax)\n",
        "    \n",
        "feature_columns = []\n",
        "for header in numeric_cols:\n",
        "    scal_input_fn = get_scal(header)\n",
        "    feature_columns.append(fc.numeric_column(header,\n",
        "                                             normalizer_fn=scal_input_fn))\n"
      ]
    },
    {
      "cell_type": "markdown",
      "metadata": {
        "id": "9Ug3hB8Sl0jO"
      },
      "source": [
        "### Using the Keras Sequential Model\n",
        "\n",
        "Next, we will run this cell to compile and fit the Keras Sequential model."
      ]
    },
    {
      "cell_type": "markdown",
      "metadata": {
        "id": "VKeW2SHzjW4n"
      },
      "source": [
        "## Model 1 - hard cording the learning rate to .5"
      ]
    },
    {
      "cell_type": "code",
      "execution_count": null,
      "metadata": {
        "colab": {
          "base_uri": "https://localhost:8080/"
        },
        "id": "1MpumTNHjW4n",
        "outputId": "54b0b586-3635-49a6-96f0-b14d03e42a90"
      },
      "outputs": [
        {
          "output_type": "stream",
          "name": "stdout",
          "text": [
            "Epoch 1/32\n"
          ]
        },
        {
          "output_type": "stream",
          "name": "stderr",
          "text": [
            "WARNING:tensorflow:Layers in a Sequential model should only have a single input tensor. Received: inputs={'longitude': <tf.Tensor 'IteratorGetNext:3' shape=(None,) dtype=float64>, 'latitude': <tf.Tensor 'IteratorGetNext:2' shape=(None,) dtype=float64>, 'housing_median_age': <tf.Tensor 'IteratorGetNext:1' shape=(None,) dtype=float64>, 'total_rooms': <tf.Tensor 'IteratorGetNext:8' shape=(None,) dtype=float64>, 'total_bedrooms': <tf.Tensor 'IteratorGetNext:7' shape=(None,) dtype=float64>, 'population': <tf.Tensor 'IteratorGetNext:6' shape=(None,) dtype=float64>, 'households': <tf.Tensor 'IteratorGetNext:0' shape=(None,) dtype=float64>, 'median_income': <tf.Tensor 'IteratorGetNext:4' shape=(None,) dtype=float64>, 'ocean_proximity': <tf.Tensor 'IteratorGetNext:5' shape=(None,) dtype=string>}. Consider rewriting this model with the Functional API.\n",
            "WARNING:tensorflow:Layers in a Sequential model should only have a single input tensor. Received: inputs={'longitude': <tf.Tensor 'IteratorGetNext:3' shape=(None,) dtype=float64>, 'latitude': <tf.Tensor 'IteratorGetNext:2' shape=(None,) dtype=float64>, 'housing_median_age': <tf.Tensor 'IteratorGetNext:1' shape=(None,) dtype=float64>, 'total_rooms': <tf.Tensor 'IteratorGetNext:8' shape=(None,) dtype=float64>, 'total_bedrooms': <tf.Tensor 'IteratorGetNext:7' shape=(None,) dtype=float64>, 'population': <tf.Tensor 'IteratorGetNext:6' shape=(None,) dtype=float64>, 'households': <tf.Tensor 'IteratorGetNext:0' shape=(None,) dtype=float64>, 'median_income': <tf.Tensor 'IteratorGetNext:4' shape=(None,) dtype=float64>, 'ocean_proximity': <tf.Tensor 'IteratorGetNext:5' shape=(None,) dtype=string>}. Consider rewriting this model with the Functional API.\n"
          ]
        },
        {
          "output_type": "stream",
          "name": "stdout",
          "text": [
            "398/409 [============================>.] - ETA: 0s - loss: 13940589568.0000 - mse: 13940589568.0000"
          ]
        },
        {
          "output_type": "stream",
          "name": "stderr",
          "text": [
            "WARNING:tensorflow:Layers in a Sequential model should only have a single input tensor. Received: inputs={'longitude': <tf.Tensor 'IteratorGetNext:3' shape=(None,) dtype=float64>, 'latitude': <tf.Tensor 'IteratorGetNext:2' shape=(None,) dtype=float64>, 'housing_median_age': <tf.Tensor 'IteratorGetNext:1' shape=(None,) dtype=float64>, 'total_rooms': <tf.Tensor 'IteratorGetNext:8' shape=(None,) dtype=float64>, 'total_bedrooms': <tf.Tensor 'IteratorGetNext:7' shape=(None,) dtype=float64>, 'population': <tf.Tensor 'IteratorGetNext:6' shape=(None,) dtype=float64>, 'households': <tf.Tensor 'IteratorGetNext:0' shape=(None,) dtype=float64>, 'median_income': <tf.Tensor 'IteratorGetNext:4' shape=(None,) dtype=float64>, 'ocean_proximity': <tf.Tensor 'IteratorGetNext:5' shape=(None,) dtype=string>}. Consider rewriting this model with the Functional API.\n"
          ]
        },
        {
          "output_type": "stream",
          "name": "stdout",
          "text": [
            "\b\b\b\b\b\b\b\b\b\b\b\b\b\b\b\b\b\b\b\b\b\b\b\b\b\b\b\b\b\b\b\b\b\b\b\b\b\b\b\b\b\b\b\b\b\b\b\b\b\b\b\b\b\b\b\b\b\b\b\b\b\b\b\b\b\b\b\b\b\b\b\b\b\b\b\b\b\b\b\b\b\b\b\b\b\b\b\b\b\b\b\b\b\b\b\b\b\b\b\r409/409 [==============================] - 3s 4ms/step - loss: 13852058624.0000 - mse: 13852058624.0000 - val_loss: 10715769856.0000 - val_mse: 10715769856.0000\n",
            "Epoch 2/32\n",
            "409/409 [==============================] - 1s 3ms/step - loss: 10026314752.0000 - mse: 10026314752.0000 - val_loss: 9926435840.0000 - val_mse: 9926435840.0000\n",
            "Epoch 3/32\n",
            "409/409 [==============================] - 1s 3ms/step - loss: 9341093888.0000 - mse: 9341093888.0000 - val_loss: 7195714560.0000 - val_mse: 7195714560.0000\n",
            "Epoch 4/32\n",
            "409/409 [==============================] - 1s 2ms/step - loss: 7879192576.0000 - mse: 7879192576.0000 - val_loss: 6557781504.0000 - val_mse: 6557781504.0000\n",
            "Epoch 5/32\n",
            "409/409 [==============================] - 1s 3ms/step - loss: 7973514752.0000 - mse: 7973514752.0000 - val_loss: 9395450880.0000 - val_mse: 9395450880.0000\n",
            "Epoch 6/32\n",
            "409/409 [==============================] - 1s 3ms/step - loss: 8236338176.0000 - mse: 8236338176.0000 - val_loss: 8519458816.0000 - val_mse: 8519458816.0000\n",
            "Epoch 7/32\n",
            "409/409 [==============================] - 1s 3ms/step - loss: 7692630016.0000 - mse: 7692630016.0000 - val_loss: 6320497152.0000 - val_mse: 6320497152.0000\n",
            "Epoch 8/32\n",
            "409/409 [==============================] - 1s 3ms/step - loss: 6886808576.0000 - mse: 6886808576.0000 - val_loss: 6333041664.0000 - val_mse: 6333041664.0000\n",
            "Epoch 9/32\n",
            "409/409 [==============================] - 1s 2ms/step - loss: 6895493632.0000 - mse: 6895493632.0000 - val_loss: 6037274624.0000 - val_mse: 6037274624.0000\n",
            "Epoch 10/32\n",
            "409/409 [==============================] - 1s 3ms/step - loss: 6794004480.0000 - mse: 6794004480.0000 - val_loss: 5743640576.0000 - val_mse: 5743640576.0000\n",
            "Epoch 11/32\n",
            "409/409 [==============================] - 1s 3ms/step - loss: 10781340672.0000 - mse: 10781340672.0000 - val_loss: 8823465984.0000 - val_mse: 8823465984.0000\n",
            "Epoch 12/32\n",
            "409/409 [==============================] - 1s 3ms/step - loss: 8364990976.0000 - mse: 8364990976.0000 - val_loss: 7258159616.0000 - val_mse: 7258159616.0000\n",
            "Epoch 13/32\n",
            "409/409 [==============================] - 1s 2ms/step - loss: 8094897152.0000 - mse: 8094897152.0000 - val_loss: 6253493760.0000 - val_mse: 6253493760.0000\n",
            "Epoch 14/32\n",
            "409/409 [==============================] - 1s 3ms/step - loss: 7359630848.0000 - mse: 7359630848.0000 - val_loss: 5547924992.0000 - val_mse: 5547924992.0000\n",
            "Epoch 15/32\n",
            "409/409 [==============================] - 1s 3ms/step - loss: 6692747264.0000 - mse: 6692747264.0000 - val_loss: 6541947904.0000 - val_mse: 6541947904.0000\n",
            "Epoch 16/32\n",
            "409/409 [==============================] - 1s 3ms/step - loss: 6489100288.0000 - mse: 6489100288.0000 - val_loss: 7043232256.0000 - val_mse: 7043232256.0000\n",
            "Epoch 17/32\n",
            "409/409 [==============================] - 1s 3ms/step - loss: 6057897984.0000 - mse: 6057897984.0000 - val_loss: 5625058304.0000 - val_mse: 5625058304.0000\n",
            "Epoch 18/32\n",
            "409/409 [==============================] - 1s 2ms/step - loss: 6787691520.0000 - mse: 6787691520.0000 - val_loss: 6678615040.0000 - val_mse: 6678615040.0000\n",
            "Epoch 19/32\n",
            "409/409 [==============================] - 1s 3ms/step - loss: 6583797248.0000 - mse: 6583797248.0000 - val_loss: 5485872640.0000 - val_mse: 5485872640.0000\n",
            "Epoch 20/32\n",
            "409/409 [==============================] - 1s 3ms/step - loss: 6476476928.0000 - mse: 6476476928.0000 - val_loss: 6145866240.0000 - val_mse: 6145866240.0000\n",
            "Epoch 21/32\n",
            "409/409 [==============================] - 1s 3ms/step - loss: 6271628800.0000 - mse: 6271628800.0000 - val_loss: 5659763200.0000 - val_mse: 5659763200.0000\n",
            "Epoch 22/32\n",
            "409/409 [==============================] - 1s 3ms/step - loss: 6199362048.0000 - mse: 6199362048.0000 - val_loss: 6305141760.0000 - val_mse: 6305141760.0000\n",
            "Epoch 23/32\n",
            "409/409 [==============================] - 1s 3ms/step - loss: 6815343616.0000 - mse: 6815343616.0000 - val_loss: 6467457536.0000 - val_mse: 6467457536.0000\n",
            "Epoch 24/32\n",
            "409/409 [==============================] - 1s 3ms/step - loss: 6474611200.0000 - mse: 6474611200.0000 - val_loss: 5439331840.0000 - val_mse: 5439331840.0000\n",
            "Epoch 25/32\n",
            "409/409 [==============================] - 1s 2ms/step - loss: 6261027840.0000 - mse: 6261027840.0000 - val_loss: 5775518208.0000 - val_mse: 5775518208.0000\n",
            "Epoch 26/32\n",
            "409/409 [==============================] - 1s 3ms/step - loss: 6351958528.0000 - mse: 6351958528.0000 - val_loss: 5493654016.0000 - val_mse: 5493654016.0000\n",
            "Epoch 27/32\n",
            "409/409 [==============================] - 1s 2ms/step - loss: 6320065024.0000 - mse: 6320065024.0000 - val_loss: 7131304960.0000 - val_mse: 7131304960.0000\n",
            "Epoch 28/32\n",
            "409/409 [==============================] - 1s 3ms/step - loss: 6264326656.0000 - mse: 6264326656.0000 - val_loss: 5753671680.0000 - val_mse: 5753671680.0000\n",
            "Epoch 29/32\n",
            "409/409 [==============================] - 1s 3ms/step - loss: 6446546432.0000 - mse: 6446546432.0000 - val_loss: 7082184192.0000 - val_mse: 7082184192.0000\n",
            "Epoch 30/32\n",
            "409/409 [==============================] - 1s 3ms/step - loss: 6374124032.0000 - mse: 6374124032.0000 - val_loss: 6084313600.0000 - val_mse: 6084313600.0000\n",
            "Epoch 31/32\n",
            "409/409 [==============================] - 2s 5ms/step - loss: 6399308800.0000 - mse: 6399308800.0000 - val_loss: 6026073088.0000 - val_mse: 6026073088.0000\n",
            "Epoch 32/32\n",
            "409/409 [==============================] - 1s 2ms/step - loss: 6297011200.0000 - mse: 6297011200.0000 - val_loss: 5460463104.0000 - val_mse: 5460463104.0000\n"
          ]
        }
      ],
      "source": [
        "# Model create\n",
        "\n",
        "feature_layer = tf.keras.layers.DenseFeatures(feature_columns, dtype='float64')\n",
        "\n",
        "model = tf.keras.Sequential([\n",
        "  feature_layer,\n",
        "  layers.Dense(12, input_dim=8, activation='relu'),\n",
        "  layers.Dense(8, activation='relu'),\n",
        "  layers.Dense(1, activation='linear',  name='median_house_value')\n",
        "])\n",
        "\n",
        "# Model compile\n",
        "opt = keras.optimizers.Adam(learning_rate=.5)\n",
        "model.compile(optimizer=opt,\n",
        "              loss='mse',\n",
        "              metrics=['mse'])\n",
        "\n",
        "# Model Fit\n",
        "history = model.fit(train_ds,\n",
        "                    validation_data=val_ds,\n",
        "                    epochs=32)"
      ]
    },
    {
      "cell_type": "code",
      "execution_count": null,
      "metadata": {
        "colab": {
          "base_uri": "https://localhost:8080/",
          "height": 350
        },
        "id": "iLBsEv0_jW4n",
        "outputId": "a157470c-6708-4db9-e94a-975c6d2d72cf"
      },
      "outputs": [
        {
          "output_type": "display_data",
          "data": {
            "text/plain": [
              "<Figure size 720x360 with 2 Axes>"
            ],
            "image/png": "[encoded data removed]"
          },
          "metadata": {
            "needs_background": "light"
          }
        }
      ],
      "source": [
        "def plot_curves(history, metrics):\n",
        "    nrows = 1\n",
        "    ncols = 2\n",
        "    fig = plt.figure(figsize=(10, 5))\n",
        "\n",
        "    for idx, key in enumerate(metrics):  \n",
        "        ax = fig.add_subplot(nrows, ncols, idx+1)\n",
        "        plt.plot(history.history[key])\n",
        "        plt.plot(history.history['val_{}'.format(key)])\n",
        "        plt.title('model {}'.format(key))\n",
        "        plt.ylabel(key)\n",
        "        plt.xlabel('epoch')\n",
        "        plt.legend(['train', 'validation'], loc='upper left'); \n",
        "plot_curves(history, ['loss', 'mse'])\n",
        "\n",
        "# Print .5"
      ]
    },
    {
      "cell_type": "markdown",
      "metadata": {
        "id": "c4x-pYjVjW4o"
      },
      "source": [
        "## Model 2 - hard cording the learning rate to .1"
      ]
    },
    {
      "cell_type": "code",
      "execution_count": null,
      "metadata": {
        "colab": {
          "base_uri": "https://localhost:8080/"
        },
        "id": "PM5m3A6AjW4o",
        "outputId": "e30d56c0-4dda-4e06-9d43-1733178a599e"
      },
      "outputs": [
        {
          "output_type": "stream",
          "name": "stdout",
          "text": [
            "Epoch 1/32\n"
          ]
        },
        {
          "output_type": "stream",
          "name": "stderr",
          "text": [
            "WARNING:tensorflow:Layers in a Sequential model should only have a single input tensor. Received: inputs={'longitude': <tf.Tensor 'IteratorGetNext:3' shape=(None,) dtype=float64>, 'latitude': <tf.Tensor 'IteratorGetNext:2' shape=(None,) dtype=float64>, 'housing_median_age': <tf.Tensor 'IteratorGetNext:1' shape=(None,) dtype=float64>, 'total_rooms': <tf.Tensor 'IteratorGetNext:8' shape=(None,) dtype=float64>, 'total_bedrooms': <tf.Tensor 'IteratorGetNext:7' shape=(None,) dtype=float64>, 'population': <tf.Tensor 'IteratorGetNext:6' shape=(None,) dtype=float64>, 'households': <tf.Tensor 'IteratorGetNext:0' shape=(None,) dtype=float64>, 'median_income': <tf.Tensor 'IteratorGetNext:4' shape=(None,) dtype=float64>, 'ocean_proximity': <tf.Tensor 'IteratorGetNext:5' shape=(None,) dtype=string>}. Consider rewriting this model with the Functional API.\n",
            "WARNING:tensorflow:Layers in a Sequential model should only have a single input tensor. Received: inputs={'longitude': <tf.Tensor 'IteratorGetNext:3' shape=(None,) dtype=float64>, 'latitude': <tf.Tensor 'IteratorGetNext:2' shape=(None,) dtype=float64>, 'housing_median_age': <tf.Tensor 'IteratorGetNext:1' shape=(None,) dtype=float64>, 'total_rooms': <tf.Tensor 'IteratorGetNext:8' shape=(None,) dtype=float64>, 'total_bedrooms': <tf.Tensor 'IteratorGetNext:7' shape=(None,) dtype=float64>, 'population': <tf.Tensor 'IteratorGetNext:6' shape=(None,) dtype=float64>, 'households': <tf.Tensor 'IteratorGetNext:0' shape=(None,) dtype=float64>, 'median_income': <tf.Tensor 'IteratorGetNext:4' shape=(None,) dtype=float64>, 'ocean_proximity': <tf.Tensor 'IteratorGetNext:5' shape=(None,) dtype=string>}. Consider rewriting this model with the Functional API.\n"
          ]
        },
        {
          "output_type": "stream",
          "name": "stdout",
          "text": [
            "393/409 [===========================>..] - ETA: 0s - loss: 16277086208.0000 - mse: 16277086208.0000"
          ]
        },
        {
          "output_type": "stream",
          "name": "stderr",
          "text": [
            "WARNING:tensorflow:Layers in a Sequential model should only have a single input tensor. Received: inputs={'longitude': <tf.Tensor 'IteratorGetNext:3' shape=(None,) dtype=float64>, 'latitude': <tf.Tensor 'IteratorGetNext:2' shape=(None,) dtype=float64>, 'housing_median_age': <tf.Tensor 'IteratorGetNext:1' shape=(None,) dtype=float64>, 'total_rooms': <tf.Tensor 'IteratorGetNext:8' shape=(None,) dtype=float64>, 'total_bedrooms': <tf.Tensor 'IteratorGetNext:7' shape=(None,) dtype=float64>, 'population': <tf.Tensor 'IteratorGetNext:6' shape=(None,) dtype=float64>, 'households': <tf.Tensor 'IteratorGetNext:0' shape=(None,) dtype=float64>, 'median_income': <tf.Tensor 'IteratorGetNext:4' shape=(None,) dtype=float64>, 'ocean_proximity': <tf.Tensor 'IteratorGetNext:5' shape=(None,) dtype=string>}. Consider rewriting this model with the Functional API.\n"
          ]
        },
        {
          "output_type": "stream",
          "name": "stdout",
          "text": [
            "\b\b\b\b\b\b\b\b\b\b\b\b\b\b\b\b\b\b\b\b\b\b\b\b\b\b\b\b\b\b\b\b\b\b\b\b\b\b\b\b\b\b\b\b\b\b\b\b\b\b\b\b\b\b\b\b\b\b\b\b\b\b\b\b\b\b\b\b\b\b\b\b\b\b\b\b\b\b\b\b\b\b\b\b\b\b\b\b\b\b\b\b\b\b\b\b\b\b\b\r409/409 [==============================] - 2s 3ms/step - loss: 16071007232.0000 - mse: 16071007232.0000 - val_loss: 10718229504.0000 - val_mse: 10718229504.0000\n",
            "Epoch 2/32\n",
            "409/409 [==============================] - 1s 2ms/step - loss: 10315328512.0000 - mse: 10315328512.0000 - val_loss: 9491794944.0000 - val_mse: 9491794944.0000\n",
            "Epoch 3/32\n",
            "409/409 [==============================] - 1s 2ms/step - loss: 9150245888.0000 - mse: 9150245888.0000 - val_loss: 9907513344.0000 - val_mse: 9907513344.0000\n",
            "Epoch 4/32\n",
            "409/409 [==============================] - 1s 2ms/step - loss: 8326064128.0000 - mse: 8326064128.0000 - val_loss: 8301357056.0000 - val_mse: 8301357056.0000\n",
            "Epoch 5/32\n",
            "409/409 [==============================] - 1s 3ms/step - loss: 7989916160.0000 - mse: 7989916160.0000 - val_loss: 7316492800.0000 - val_mse: 7316492800.0000\n",
            "Epoch 6/32\n",
            "409/409 [==============================] - 1s 2ms/step - loss: 7819990016.0000 - mse: 7819990016.0000 - val_loss: 7549597184.0000 - val_mse: 7549597184.0000\n",
            "Epoch 7/32\n",
            "409/409 [==============================] - 1s 3ms/step - loss: 7873913856.0000 - mse: 7873913856.0000 - val_loss: 7251017216.0000 - val_mse: 7251017216.0000\n",
            "Epoch 8/32\n",
            "409/409 [==============================] - 1s 3ms/step - loss: 7422011904.0000 - mse: 7422011904.0000 - val_loss: 6636996096.0000 - val_mse: 6636996096.0000\n",
            "Epoch 9/32\n",
            "409/409 [==============================] - 1s 2ms/step - loss: 6991404544.0000 - mse: 6991404544.0000 - val_loss: 6423476736.0000 - val_mse: 6423476736.0000\n",
            "Epoch 10/32\n",
            "409/409 [==============================] - 1s 2ms/step - loss: 6760452096.0000 - mse: 6760452096.0000 - val_loss: 6319353344.0000 - val_mse: 6319353344.0000\n",
            "Epoch 11/32\n",
            "409/409 [==============================] - 1s 2ms/step - loss: 6544836096.0000 - mse: 6544836096.0000 - val_loss: 6087636480.0000 - val_mse: 6087636480.0000\n",
            "Epoch 12/32\n",
            "409/409 [==============================] - 1s 3ms/step - loss: 6509518848.0000 - mse: 6509518848.0000 - val_loss: 5904038400.0000 - val_mse: 5904038400.0000\n",
            "Epoch 13/32\n",
            "409/409 [==============================] - 1s 3ms/step - loss: 6453469696.0000 - mse: 6453469696.0000 - val_loss: 6099168256.0000 - val_mse: 6099168256.0000\n",
            "Epoch 14/32\n",
            "409/409 [==============================] - 1s 3ms/step - loss: 6259849216.0000 - mse: 6259849216.0000 - val_loss: 6328130560.0000 - val_mse: 6328130560.0000\n",
            "Epoch 15/32\n",
            "409/409 [==============================] - 1s 3ms/step - loss: 6438616064.0000 - mse: 6438616064.0000 - val_loss: 5933140480.0000 - val_mse: 5933140480.0000\n",
            "Epoch 16/32\n",
            "409/409 [==============================] - 1s 3ms/step - loss: 6078936064.0000 - mse: 6078936064.0000 - val_loss: 5416354816.0000 - val_mse: 5416354816.0000\n",
            "Epoch 17/32\n",
            "409/409 [==============================] - 1s 2ms/step - loss: 6085488640.0000 - mse: 6085488640.0000 - val_loss: 5586645504.0000 - val_mse: 5586645504.0000\n",
            "Epoch 18/32\n",
            "409/409 [==============================] - 1s 2ms/step - loss: 5934883840.0000 - mse: 5934883840.0000 - val_loss: 5523025408.0000 - val_mse: 5523025408.0000\n",
            "Epoch 19/32\n",
            "409/409 [==============================] - 1s 3ms/step - loss: 5653336576.0000 - mse: 5653336576.0000 - val_loss: 5108791808.0000 - val_mse: 5108791808.0000\n",
            "Epoch 20/32\n",
            "409/409 [==============================] - 1s 3ms/step - loss: 5655992832.0000 - mse: 5655992832.0000 - val_loss: 5553598976.0000 - val_mse: 5553598976.0000\n",
            "Epoch 21/32\n",
            "409/409 [==============================] - 1s 2ms/step - loss: 5629081088.0000 - mse: 5629081088.0000 - val_loss: 5182631936.0000 - val_mse: 5182631936.0000\n",
            "Epoch 22/32\n",
            "409/409 [==============================] - 1s 3ms/step - loss: 5745406976.0000 - mse: 5745406976.0000 - val_loss: 5811520512.0000 - val_mse: 5811520512.0000\n",
            "Epoch 23/32\n",
            "409/409 [==============================] - 1s 3ms/step - loss: 5586362368.0000 - mse: 5586362368.0000 - val_loss: 5731962368.0000 - val_mse: 5731962368.0000\n",
            "Epoch 24/32\n",
            "409/409 [==============================] - 1s 2ms/step - loss: 5454705152.0000 - mse: 5454705152.0000 - val_loss: 5048722432.0000 - val_mse: 5048722432.0000\n",
            "Epoch 25/32\n",
            "409/409 [==============================] - 1s 3ms/step - loss: 5610832896.0000 - mse: 5610832896.0000 - val_loss: 4947805184.0000 - val_mse: 4947805184.0000\n",
            "Epoch 26/32\n",
            "409/409 [==============================] - 1s 3ms/step - loss: 5678220288.0000 - mse: 5678220288.0000 - val_loss: 5679437312.0000 - val_mse: 5679437312.0000\n",
            "Epoch 27/32\n",
            "409/409 [==============================] - 1s 2ms/step - loss: 5433265152.0000 - mse: 5433265152.0000 - val_loss: 5544697344.0000 - val_mse: 5544697344.0000\n",
            "Epoch 28/32\n",
            "409/409 [==============================] - 1s 3ms/step - loss: 5371600896.0000 - mse: 5371600896.0000 - val_loss: 5254300672.0000 - val_mse: 5254300672.0000\n",
            "Epoch 29/32\n",
            "409/409 [==============================] - 1s 3ms/step - loss: 5769989632.0000 - mse: 5769989632.0000 - val_loss: 5085568000.0000 - val_mse: 5085568000.0000\n",
            "Epoch 30/32\n",
            "409/409 [==============================] - 1s 3ms/step - loss: 5580808704.0000 - mse: 5580808704.0000 - val_loss: 5241283584.0000 - val_mse: 5241283584.0000\n",
            "Epoch 31/32\n",
            "409/409 [==============================] - 1s 3ms/step - loss: 5527869440.0000 - mse: 5527869440.0000 - val_loss: 5170190336.0000 - val_mse: 5170190336.0000\n",
            "Epoch 32/32\n",
            "409/409 [==============================] - 1s 2ms/step - loss: 5505686528.0000 - mse: 5505686528.0000 - val_loss: 6471091712.0000 - val_mse: 6471091712.0000\n"
          ]
        }
      ],
      "source": [
        "# Model create\n",
        "feature_layer = tf.keras.layers.DenseFeatures(feature_columns, dtype='float64')\n",
        "\n",
        "model = tf.keras.Sequential([\n",
        "  feature_layer,\n",
        "  layers.Dense(12, input_dim=8, activation='relu'),\n",
        "  layers.Dense(8, activation='relu'),\n",
        "  layers.Dense(1, activation='linear',  name='median_house_value')\n",
        "])\n",
        "\n",
        "# Model compile\n",
        "model.compile(optimizer=keras.optimizers.Adam(learning_rate=0.1),\n",
        "              loss='mse',\n",
        "              metrics=['mse'])\n",
        "\n",
        "# Model Fit\n",
        "history = model.fit(train_ds,\n",
        "                    validation_data=val_ds,\n",
        "                    epochs=32)"
      ]
    },
    {
      "cell_type": "code",
      "execution_count": null,
      "metadata": {
        "colab": {
          "base_uri": "https://localhost:8080/",
          "height": 350
        },
        "id": "mREZNSMqjW4o",
        "outputId": "8f8d1524-b52d-46ec-a9a4-07076966a1e1"
      },
      "outputs": [
        {
          "output_type": "display_data",
          "data": {
            "text/plain": [
              "<Figure size 720x360 with 2 Axes>"
            ],
            "image/png": "[encoded data removed]"
          },
          "metadata": {
            "needs_background": "light"
          }
        }
      ],
      "source": [
        "def plot_curves(history, metrics):\n",
        "    nrows = 1\n",
        "    ncols = 2\n",
        "    fig = plt.figure(figsize=(10, 5))\n",
        "\n",
        "    for idx, key in enumerate(metrics):  \n",
        "        ax = fig.add_subplot(nrows, ncols, idx+1)\n",
        "        plt.plot(history.history[key])\n",
        "        plt.plot(history.history['val_{}'.format(key)])\n",
        "        plt.title('model {}'.format(key))\n",
        "        plt.ylabel(key)\n",
        "        plt.xlabel('epoch')\n",
        "        plt.legend(['train', 'validation'], loc='upper left');  \n",
        "plot_curves(history, ['loss', 'mse'])\n",
        "\n",
        "# ME:  Add a print title:  .1"
      ]
    },
    {
      "cell_type": "markdown",
      "metadata": {
        "id": "7rNxCW-vjW4o"
      },
      "source": [
        "## Model 3 - hard cording the learning rate to .01 "
      ]
    },
    {
      "cell_type": "code",
      "execution_count": null,
      "metadata": {
        "colab": {
          "base_uri": "https://localhost:8080/"
        },
        "id": "52r7oapPjW4o",
        "outputId": "2a3bf4b3-a48b-4a70-e072-0c17ec300df9"
      },
      "outputs": [
        {
          "output_type": "stream",
          "name": "stdout",
          "text": [
            "Epoch 1/32\n"
          ]
        },
        {
          "output_type": "stream",
          "name": "stderr",
          "text": [
            "WARNING:tensorflow:Layers in a Sequential model should only have a single input tensor. Received: inputs={'longitude': <tf.Tensor 'IteratorGetNext:3' shape=(None,) dtype=float64>, 'latitude': <tf.Tensor 'IteratorGetNext:2' shape=(None,) dtype=float64>, 'housing_median_age': <tf.Tensor 'IteratorGetNext:1' shape=(None,) dtype=float64>, 'total_rooms': <tf.Tensor 'IteratorGetNext:8' shape=(None,) dtype=float64>, 'total_bedrooms': <tf.Tensor 'IteratorGetNext:7' shape=(None,) dtype=float64>, 'population': <tf.Tensor 'IteratorGetNext:6' shape=(None,) dtype=float64>, 'households': <tf.Tensor 'IteratorGetNext:0' shape=(None,) dtype=float64>, 'median_income': <tf.Tensor 'IteratorGetNext:4' shape=(None,) dtype=float64>, 'ocean_proximity': <tf.Tensor 'IteratorGetNext:5' shape=(None,) dtype=string>}. Consider rewriting this model with the Functional API.\n",
            "WARNING:tensorflow:Layers in a Sequential model should only have a single input tensor. Received: inputs={'longitude': <tf.Tensor 'IteratorGetNext:3' shape=(None,) dtype=float64>, 'latitude': <tf.Tensor 'IteratorGetNext:2' shape=(None,) dtype=float64>, 'housing_median_age': <tf.Tensor 'IteratorGetNext:1' shape=(None,) dtype=float64>, 'total_rooms': <tf.Tensor 'IteratorGetNext:8' shape=(None,) dtype=float64>, 'total_bedrooms': <tf.Tensor 'IteratorGetNext:7' shape=(None,) dtype=float64>, 'population': <tf.Tensor 'IteratorGetNext:6' shape=(None,) dtype=float64>, 'households': <tf.Tensor 'IteratorGetNext:0' shape=(None,) dtype=float64>, 'median_income': <tf.Tensor 'IteratorGetNext:4' shape=(None,) dtype=float64>, 'ocean_proximity': <tf.Tensor 'IteratorGetNext:5' shape=(None,) dtype=string>}. Consider rewriting this model with the Functional API.\n"
          ]
        },
        {
          "output_type": "stream",
          "name": "stdout",
          "text": [
            "393/409 [===========================>..] - ETA: 0s - loss: 29122514944.0000 - mse: 29122514944.0000"
          ]
        },
        {
          "output_type": "stream",
          "name": "stderr",
          "text": [
            "WARNING:tensorflow:Layers in a Sequential model should only have a single input tensor. Received: inputs={'longitude': <tf.Tensor 'IteratorGetNext:3' shape=(None,) dtype=float64>, 'latitude': <tf.Tensor 'IteratorGetNext:2' shape=(None,) dtype=float64>, 'housing_median_age': <tf.Tensor 'IteratorGetNext:1' shape=(None,) dtype=float64>, 'total_rooms': <tf.Tensor 'IteratorGetNext:8' shape=(None,) dtype=float64>, 'total_bedrooms': <tf.Tensor 'IteratorGetNext:7' shape=(None,) dtype=float64>, 'population': <tf.Tensor 'IteratorGetNext:6' shape=(None,) dtype=float64>, 'households': <tf.Tensor 'IteratorGetNext:0' shape=(None,) dtype=float64>, 'median_income': <tf.Tensor 'IteratorGetNext:4' shape=(None,) dtype=float64>, 'ocean_proximity': <tf.Tensor 'IteratorGetNext:5' shape=(None,) dtype=string>}. Consider rewriting this model with the Functional API.\n"
          ]
        },
        {
          "output_type": "stream",
          "name": "stdout",
          "text": [
            "\b\b\b\b\b\b\b\b\b\b\b\b\b\b\b\b\b\b\b\b\b\b\b\b\b\b\b\b\b\b\b\b\b\b\b\b\b\b\b\b\b\b\b\b\b\b\b\b\b\b\b\b\b\b\b\b\b\b\b\b\b\b\b\b\b\b\b\b\b\b\b\b\b\b\b\b\b\b\b\b\b\b\b\b\b\b\b\b\b\b\b\b\b\b\b\b\b\b\b\r409/409 [==============================] - 2s 3ms/step - loss: 28830984192.0000 - mse: 28830984192.0000 - val_loss: 22066860032.0000 - val_mse: 22066860032.0000\n",
            "Epoch 2/32\n",
            "409/409 [==============================] - 1s 2ms/step - loss: 17029300224.0000 - mse: 17029300224.0000 - val_loss: 11527073792.0000 - val_mse: 11527073792.0000\n",
            "Epoch 3/32\n",
            "409/409 [==============================] - 1s 3ms/step - loss: 11009028096.0000 - mse: 11009028096.0000 - val_loss: 10664720384.0000 - val_mse: 10664720384.0000\n",
            "Epoch 4/32\n",
            "409/409 [==============================] - 1s 2ms/step - loss: 10520712192.0000 - mse: 10520712192.0000 - val_loss: 10163158016.0000 - val_mse: 10163158016.0000\n",
            "Epoch 5/32\n",
            "409/409 [==============================] - 1s 3ms/step - loss: 10155285504.0000 - mse: 10155285504.0000 - val_loss: 9919426560.0000 - val_mse: 9919426560.0000\n",
            "Epoch 6/32\n",
            "409/409 [==============================] - 1s 3ms/step - loss: 9766145024.0000 - mse: 9766145024.0000 - val_loss: 9372519424.0000 - val_mse: 9372519424.0000\n",
            "Epoch 7/32\n",
            "409/409 [==============================] - 1s 3ms/step - loss: 9349085184.0000 - mse: 9349085184.0000 - val_loss: 8997711872.0000 - val_mse: 8997711872.0000\n",
            "Epoch 8/32\n",
            "409/409 [==============================] - 1s 3ms/step - loss: 8956602368.0000 - mse: 8956602368.0000 - val_loss: 8897087488.0000 - val_mse: 8897087488.0000\n",
            "Epoch 9/32\n",
            "409/409 [==============================] - 1s 3ms/step - loss: 8652594176.0000 - mse: 8652594176.0000 - val_loss: 8439638528.0000 - val_mse: 8439638528.0000\n",
            "Epoch 10/32\n",
            "409/409 [==============================] - 1s 3ms/step - loss: 8398941696.0000 - mse: 8398941696.0000 - val_loss: 8135586304.0000 - val_mse: 8135586304.0000\n",
            "Epoch 11/32\n",
            "409/409 [==============================] - 1s 3ms/step - loss: 8151524864.0000 - mse: 8151524864.0000 - val_loss: 7851615744.0000 - val_mse: 7851615744.0000\n",
            "Epoch 12/32\n",
            "409/409 [==============================] - 1s 3ms/step - loss: 7861145600.0000 - mse: 7861145600.0000 - val_loss: 7545906176.0000 - val_mse: 7545906176.0000\n",
            "Epoch 13/32\n",
            "409/409 [==============================] - 1s 3ms/step - loss: 7631123456.0000 - mse: 7631123456.0000 - val_loss: 7386761728.0000 - val_mse: 7386761728.0000\n",
            "Epoch 14/32\n",
            "409/409 [==============================] - 1s 2ms/step - loss: 7382631936.0000 - mse: 7382631936.0000 - val_loss: 7502207488.0000 - val_mse: 7502207488.0000\n",
            "Epoch 15/32\n",
            "409/409 [==============================] - 1s 3ms/step - loss: 7242318336.0000 - mse: 7242318336.0000 - val_loss: 7339610112.0000 - val_mse: 7339610112.0000\n",
            "Epoch 16/32\n",
            "409/409 [==============================] - 1s 2ms/step - loss: 7064845824.0000 - mse: 7064845824.0000 - val_loss: 6934440448.0000 - val_mse: 6934440448.0000\n",
            "Epoch 17/32\n",
            "409/409 [==============================] - 1s 3ms/step - loss: 6943667712.0000 - mse: 6943667712.0000 - val_loss: 6677641728.0000 - val_mse: 6677641728.0000\n",
            "Epoch 18/32\n",
            "409/409 [==============================] - 1s 3ms/step - loss: 6793694720.0000 - mse: 6793694720.0000 - val_loss: 7493235712.0000 - val_mse: 7493235712.0000\n",
            "Epoch 19/32\n",
            "409/409 [==============================] - 1s 2ms/step - loss: 6642465792.0000 - mse: 6642465792.0000 - val_loss: 6547192320.0000 - val_mse: 6547192320.0000\n",
            "Epoch 20/32\n",
            "409/409 [==============================] - 1s 3ms/step - loss: 6489111552.0000 - mse: 6489111552.0000 - val_loss: 6466347520.0000 - val_mse: 6466347520.0000\n",
            "Epoch 21/32\n",
            "409/409 [==============================] - 1s 3ms/step - loss: 6380632064.0000 - mse: 6380632064.0000 - val_loss: 6124557824.0000 - val_mse: 6124557824.0000\n",
            "Epoch 22/32\n",
            "409/409 [==============================] - 1s 3ms/step - loss: 6271348224.0000 - mse: 6271348224.0000 - val_loss: 6101846016.0000 - val_mse: 6101846016.0000\n",
            "Epoch 23/32\n",
            "409/409 [==============================] - 1s 3ms/step - loss: 6183250432.0000 - mse: 6183250432.0000 - val_loss: 6459410432.0000 - val_mse: 6459410432.0000\n",
            "Epoch 24/32\n",
            "409/409 [==============================] - 1s 3ms/step - loss: 6066833408.0000 - mse: 6066833408.0000 - val_loss: 5870035456.0000 - val_mse: 5870035456.0000\n",
            "Epoch 25/32\n",
            "409/409 [==============================] - 1s 3ms/step - loss: 5883039744.0000 - mse: 5883039744.0000 - val_loss: 5712083968.0000 - val_mse: 5712083968.0000\n",
            "Epoch 26/32\n",
            "409/409 [==============================] - 1s 3ms/step - loss: 5758079488.0000 - mse: 5758079488.0000 - val_loss: 5601157632.0000 - val_mse: 5601157632.0000\n",
            "Epoch 27/32\n",
            "409/409 [==============================] - 1s 3ms/step - loss: 5754367488.0000 - mse: 5754367488.0000 - val_loss: 5534870016.0000 - val_mse: 5534870016.0000\n",
            "Epoch 28/32\n",
            "409/409 [==============================] - 1s 3ms/step - loss: 5652561920.0000 - mse: 5652561920.0000 - val_loss: 5906605568.0000 - val_mse: 5906605568.0000\n",
            "Epoch 29/32\n",
            "409/409 [==============================] - 1s 3ms/step - loss: 5544124928.0000 - mse: 5544124928.0000 - val_loss: 5478591488.0000 - val_mse: 5478591488.0000\n",
            "Epoch 30/32\n",
            "409/409 [==============================] - 1s 3ms/step - loss: 5478564352.0000 - mse: 5478564352.0000 - val_loss: 5304207872.0000 - val_mse: 5304207872.0000\n",
            "Epoch 31/32\n",
            "409/409 [==============================] - 1s 3ms/step - loss: 5469810176.0000 - mse: 5469810176.0000 - val_loss: 5214134784.0000 - val_mse: 5214134784.0000\n",
            "Epoch 32/32\n",
            "409/409 [==============================] - 1s 3ms/step - loss: 5425410048.0000 - mse: 5425410048.0000 - val_loss: 5236985856.0000 - val_mse: 5236985856.0000\n"
          ]
        }
      ],
      "source": [
        "# Model create\n",
        "\n",
        "feature_layer = tf.keras.layers.DenseFeatures(feature_columns, dtype='float64')\n",
        "\n",
        "model = tf.keras.Sequential([\n",
        "  feature_layer,\n",
        "  layers.Dense(12, input_dim=8, activation='relu'),\n",
        "  layers.Dense(8, activation='relu'),\n",
        "  layers.Dense(1, activation='linear',  name='median_house_value')\n",
        "])\n",
        "\n",
        "# Model compile\n",
        "opt = keras.optimizers.Adam(learning_rate=0.01)\n",
        "model.compile(optimizer=opt,\n",
        "              loss='mse',\n",
        "              metrics=['mse'])\n",
        "\n",
        "# Model Fit\n",
        "history = model.fit(train_ds,\n",
        "                    validation_data=val_ds,\n",
        "                    epochs=32)  # Increase Epochs to 32"
      ]
    },
    {
      "cell_type": "code",
      "execution_count": null,
      "metadata": {
        "colab": {
          "base_uri": "https://localhost:8080/",
          "height": 350
        },
        "id": "O6OJ92fwjW4o",
        "outputId": "7b2a2122-38ec-453e-e515-bdd5f003d5a5"
      },
      "outputs": [
        {
          "output_type": "display_data",
          "data": {
            "text/plain": [
              "<Figure size 720x360 with 2 Axes>"
            ],
            "image/png": "[encoded data removed]"
          },
          "metadata": {
            "needs_background": "light"
          }
        }
      ],
      "source": [
        "def plot_curves(history, metrics):\n",
        "    nrows = 1\n",
        "    ncols = 2\n",
        "    fig = plt.figure(figsize=(10, 5))\n",
        "\n",
        "    for idx, key in enumerate(metrics):  \n",
        "        ax = fig.add_subplot(nrows, ncols, idx+1)\n",
        "        plt.plot(history.history[key])\n",
        "        plt.plot(history.history['val_{}'.format(key)])\n",
        "        plt.title('model {}'.format(key))\n",
        "        plt.ylabel(key)\n",
        "        plt.xlabel('epoch')\n",
        "        plt.legend(['train', 'validation'], loc='upper left');  \n",
        "plot_curves(history, ['loss', 'mse'])\n",
        "\n",
        "# Print .01 in title"
      ]
    },
    {
      "cell_type": "markdown",
      "metadata": {
        "id": "E-NaV8NhjW4p"
      },
      "source": [
        "## Model 4 - hard cording the learning rate to .001 "
      ]
    },
    {
      "cell_type": "code",
      "execution_count": null,
      "metadata": {
        "colab": {
          "base_uri": "https://localhost:8080/"
        },
        "id": "Y_-eQvpljW4p",
        "outputId": "c1f4ca5b-f8d1-4e72-8195-7b81d2ac9a4c"
      },
      "outputs": [
        {
          "output_type": "stream",
          "name": "stdout",
          "text": [
            "Epoch 1/32\n"
          ]
        },
        {
          "output_type": "stream",
          "name": "stderr",
          "text": [
            "WARNING:tensorflow:Layers in a Sequential model should only have a single input tensor. Received: inputs={'longitude': <tf.Tensor 'IteratorGetNext:3' shape=(None,) dtype=float64>, 'latitude': <tf.Tensor 'IteratorGetNext:2' shape=(None,) dtype=float64>, 'housing_median_age': <tf.Tensor 'IteratorGetNext:1' shape=(None,) dtype=float64>, 'total_rooms': <tf.Tensor 'IteratorGetNext:8' shape=(None,) dtype=float64>, 'total_bedrooms': <tf.Tensor 'IteratorGetNext:7' shape=(None,) dtype=float64>, 'population': <tf.Tensor 'IteratorGetNext:6' shape=(None,) dtype=float64>, 'households': <tf.Tensor 'IteratorGetNext:0' shape=(None,) dtype=float64>, 'median_income': <tf.Tensor 'IteratorGetNext:4' shape=(None,) dtype=float64>, 'ocean_proximity': <tf.Tensor 'IteratorGetNext:5' shape=(None,) dtype=string>}. Consider rewriting this model with the Functional API.\n",
            "WARNING:tensorflow:Layers in a Sequential model should only have a single input tensor. Received: inputs={'longitude': <tf.Tensor 'IteratorGetNext:3' shape=(None,) dtype=float64>, 'latitude': <tf.Tensor 'IteratorGetNext:2' shape=(None,) dtype=float64>, 'housing_median_age': <tf.Tensor 'IteratorGetNext:1' shape=(None,) dtype=float64>, 'total_rooms': <tf.Tensor 'IteratorGetNext:8' shape=(None,) dtype=float64>, 'total_bedrooms': <tf.Tensor 'IteratorGetNext:7' shape=(None,) dtype=float64>, 'population': <tf.Tensor 'IteratorGetNext:6' shape=(None,) dtype=float64>, 'households': <tf.Tensor 'IteratorGetNext:0' shape=(None,) dtype=float64>, 'median_income': <tf.Tensor 'IteratorGetNext:4' shape=(None,) dtype=float64>, 'ocean_proximity': <tf.Tensor 'IteratorGetNext:5' shape=(None,) dtype=string>}. Consider rewriting this model with the Functional API.\n"
          ]
        },
        {
          "output_type": "stream",
          "name": "stdout",
          "text": [
            "402/409 [============================>.] - ETA: 0s - loss: 52059758592.0000 - mse: 52059758592.0000"
          ]
        },
        {
          "output_type": "stream",
          "name": "stderr",
          "text": [
            "WARNING:tensorflow:Layers in a Sequential model should only have a single input tensor. Received: inputs={'longitude': <tf.Tensor 'IteratorGetNext:3' shape=(None,) dtype=float64>, 'latitude': <tf.Tensor 'IteratorGetNext:2' shape=(None,) dtype=float64>, 'housing_median_age': <tf.Tensor 'IteratorGetNext:1' shape=(None,) dtype=float64>, 'total_rooms': <tf.Tensor 'IteratorGetNext:8' shape=(None,) dtype=float64>, 'total_bedrooms': <tf.Tensor 'IteratorGetNext:7' shape=(None,) dtype=float64>, 'population': <tf.Tensor 'IteratorGetNext:6' shape=(None,) dtype=float64>, 'households': <tf.Tensor 'IteratorGetNext:0' shape=(None,) dtype=float64>, 'median_income': <tf.Tensor 'IteratorGetNext:4' shape=(None,) dtype=float64>, 'ocean_proximity': <tf.Tensor 'IteratorGetNext:5' shape=(None,) dtype=string>}. Consider rewriting this model with the Functional API.\n"
          ]
        },
        {
          "output_type": "stream",
          "name": "stdout",
          "text": [
            "\b\b\b\b\b\b\b\b\b\b\b\b\b\b\b\b\b\b\b\b\b\b\b\b\b\b\b\b\b\b\b\b\b\b\b\b\b\b\b\b\b\b\b\b\b\b\b\b\b\b\b\b\b\b\b\b\b\b\b\b\b\b\b\b\b\b\b\b\b\b\b\b\b\b\b\b\b\b\b\b\b\b\b\b\b\b\b\b\b\b\b\b\b\b\b\b\b\b\b\r409/409 [==============================] - 2s 3ms/step - loss: 52019609600.0000 - mse: 52019609600.0000 - val_loss: 41172418560.0000 - val_mse: 41172418560.0000\n",
            "Epoch 2/32\n",
            "409/409 [==============================] - 1s 2ms/step - loss: 30678855680.0000 - mse: 30678855680.0000 - val_loss: 26248108032.0000 - val_mse: 26248108032.0000\n",
            "Epoch 3/32\n",
            "409/409 [==============================] - 1s 3ms/step - loss: 26998962176.0000 - mse: 26998962176.0000 - val_loss: 25895184384.0000 - val_mse: 25895184384.0000\n",
            "Epoch 4/32\n",
            "409/409 [==============================] - 1s 3ms/step - loss: 26681937920.0000 - mse: 26681937920.0000 - val_loss: 25508829184.0000 - val_mse: 25508829184.0000\n",
            "Epoch 5/32\n",
            "409/409 [==============================] - 1s 3ms/step - loss: 26266699776.0000 - mse: 26266699776.0000 - val_loss: 25006946304.0000 - val_mse: 25006946304.0000\n",
            "Epoch 6/32\n",
            "409/409 [==============================] - 1s 2ms/step - loss: 25693085696.0000 - mse: 25693085696.0000 - val_loss: 24392701952.0000 - val_mse: 24392701952.0000\n",
            "Epoch 7/32\n",
            "409/409 [==============================] - 1s 3ms/step - loss: 24933967872.0000 - mse: 24933967872.0000 - val_loss: 23600984064.0000 - val_mse: 23600984064.0000\n",
            "Epoch 8/32\n",
            "409/409 [==============================] - 1s 3ms/step - loss: 24013797376.0000 - mse: 24013797376.0000 - val_loss: 22669778944.0000 - val_mse: 22669778944.0000\n",
            "Epoch 9/32\n",
            "409/409 [==============================] - 1s 2ms/step - loss: 22947641344.0000 - mse: 22947641344.0000 - val_loss: 21617870848.0000 - val_mse: 21617870848.0000\n",
            "Epoch 10/32\n",
            "409/409 [==============================] - 1s 3ms/step - loss: 21741373440.0000 - mse: 21741373440.0000 - val_loss: 20390547456.0000 - val_mse: 20390547456.0000\n",
            "Epoch 11/32\n",
            "409/409 [==============================] - 1s 2ms/step - loss: 20357607424.0000 - mse: 20357607424.0000 - val_loss: 19035967488.0000 - val_mse: 19035967488.0000\n",
            "Epoch 12/32\n",
            "409/409 [==============================] - 1s 3ms/step - loss: 18825140224.0000 - mse: 18825140224.0000 - val_loss: 17505847296.0000 - val_mse: 17505847296.0000\n",
            "Epoch 13/32\n",
            "409/409 [==============================] - 1s 3ms/step - loss: 17221795840.0000 - mse: 17221795840.0000 - val_loss: 16030169088.0000 - val_mse: 16030169088.0000\n",
            "Epoch 14/32\n",
            "409/409 [==============================] - 1s 2ms/step - loss: 15648647168.0000 - mse: 15648647168.0000 - val_loss: 14615010304.0000 - val_mse: 14615010304.0000\n",
            "Epoch 15/32\n",
            "409/409 [==============================] - 1s 2ms/step - loss: 14221809664.0000 - mse: 14221809664.0000 - val_loss: 13410536448.0000 - val_mse: 13410536448.0000\n",
            "Epoch 16/32\n",
            "409/409 [==============================] - 1s 3ms/step - loss: 13040335872.0000 - mse: 13040335872.0000 - val_loss: 12476500992.0000 - val_mse: 12476500992.0000\n",
            "Epoch 17/32\n",
            "409/409 [==============================] - 1s 3ms/step - loss: 12190522368.0000 - mse: 12190522368.0000 - val_loss: 11864067072.0000 - val_mse: 11864067072.0000\n",
            "Epoch 18/32\n",
            "409/409 [==============================] - 1s 3ms/step - loss: 11668315136.0000 - mse: 11668315136.0000 - val_loss: 11535827968.0000 - val_mse: 11535827968.0000\n",
            "Epoch 19/32\n",
            "409/409 [==============================] - 1s 3ms/step - loss: 11396543488.0000 - mse: 11396543488.0000 - val_loss: 11363557376.0000 - val_mse: 11363557376.0000\n",
            "Epoch 20/32\n",
            "409/409 [==============================] - 1s 3ms/step - loss: 11261557760.0000 - mse: 11261557760.0000 - val_loss: 11258063872.0000 - val_mse: 11258063872.0000\n",
            "Epoch 21/32\n",
            "409/409 [==============================] - 1s 3ms/step - loss: 11183551488.0000 - mse: 11183551488.0000 - val_loss: 11201586176.0000 - val_mse: 11201586176.0000\n",
            "Epoch 22/32\n",
            "409/409 [==============================] - 1s 3ms/step - loss: 11131960320.0000 - mse: 11131960320.0000 - val_loss: 11165547520.0000 - val_mse: 11165547520.0000\n",
            "Epoch 23/32\n",
            "409/409 [==============================] - 1s 2ms/step - loss: 11081273344.0000 - mse: 11081273344.0000 - val_loss: 11107039232.0000 - val_mse: 11107039232.0000\n",
            "Epoch 24/32\n",
            "409/409 [==============================] - 1s 2ms/step - loss: 11044246528.0000 - mse: 11044246528.0000 - val_loss: 11062354944.0000 - val_mse: 11062354944.0000\n",
            "Epoch 25/32\n",
            "409/409 [==============================] - 1s 3ms/step - loss: 10998052864.0000 - mse: 10998052864.0000 - val_loss: 11012873216.0000 - val_mse: 11012873216.0000\n",
            "Epoch 26/32\n",
            "409/409 [==============================] - 1s 3ms/step - loss: 10948391936.0000 - mse: 10948391936.0000 - val_loss: 10964972544.0000 - val_mse: 10964972544.0000\n",
            "Epoch 27/32\n",
            "409/409 [==============================] - 1s 3ms/step - loss: 10906753024.0000 - mse: 10906753024.0000 - val_loss: 10949452800.0000 - val_mse: 10949452800.0000\n",
            "Epoch 28/32\n",
            "409/409 [==============================] - 1s 3ms/step - loss: 10862466048.0000 - mse: 10862466048.0000 - val_loss: 10872977408.0000 - val_mse: 10872977408.0000\n",
            "Epoch 29/32\n",
            "409/409 [==============================] - 1s 3ms/step - loss: 10810836992.0000 - mse: 10810836992.0000 - val_loss: 10822346752.0000 - val_mse: 10822346752.0000\n",
            "Epoch 30/32\n",
            "409/409 [==============================] - 1s 3ms/step - loss: 10773687296.0000 - mse: 10773687296.0000 - val_loss: 10832724992.0000 - val_mse: 10832724992.0000\n",
            "Epoch 31/32\n",
            "409/409 [==============================] - 1s 3ms/step - loss: 10720614400.0000 - mse: 10720614400.0000 - val_loss: 10720093184.0000 - val_mse: 10720093184.0000\n",
            "Epoch 32/32\n",
            "409/409 [==============================] - 1s 3ms/step - loss: 10672765952.0000 - mse: 10672765952.0000 - val_loss: 10671678464.0000 - val_mse: 10671678464.0000\n"
          ]
        }
      ],
      "source": [
        "# Model create\n",
        "\n",
        "feature_layer = tf.keras.layers.DenseFeatures(feature_columns, dtype='float64')\n",
        "\n",
        "model = tf.keras.Sequential([\n",
        "  feature_layer,\n",
        "  layers.Dense(12, input_dim=8, activation='relu'),\n",
        "  layers.Dense(8, activation='relu'),\n",
        "  layers.Dense(1, activation='linear',  name='median_house_value')\n",
        "])\n",
        "\n",
        "# Model compile\n",
        "opt = keras.optimizers.Adam(learning_rate=0.001)\n",
        "model.compile(optimizer=opt,\n",
        "              loss='mse',\n",
        "              metrics=['mse'])\n",
        "\n",
        "# Model Fit\n",
        "history = model.fit(train_ds,\n",
        "                    validation_data=val_ds,\n",
        "                    epochs=32)  # Increase Epochs to 32"
      ]
    },
    {
      "cell_type": "code",
      "execution_count": null,
      "metadata": {
        "colab": {
          "base_uri": "https://localhost:8080/",
          "height": 350
        },
        "id": "0ZpiZoTtjW4p",
        "outputId": "23494bf9-9a35-42db-9f8e-ed4a38875ac1"
      },
      "outputs": [
        {
          "output_type": "display_data",
          "data": {
            "text/plain": [
              "<Figure size 720x360 with 2 Axes>"
            ],
            "image/png": "[encoded data removed]"
          },
          "metadata": {
            "needs_background": "light"
          }
        }
      ],
      "source": [
        "def plot_curves(history, metrics):\n",
        "    nrows = 1\n",
        "    ncols = 2\n",
        "    fig = plt.figure(figsize=(10, 5))\n",
        "\n",
        "    for idx, key in enumerate(metrics):  \n",
        "        ax = fig.add_subplot(nrows, ncols, idx+1)\n",
        "        plt.plot(history.history[key])\n",
        "        plt.plot(history.history['val_{}'.format(key)])\n",
        "        plt.title('model {}'.format(key))\n",
        "        plt.ylabel(key)\n",
        "        plt.xlabel('epoch')\n",
        "        plt.legend(['train', 'validation'], loc='upper left');  \n",
        "        \n",
        "plot_curves(history, ['loss', 'mse'])\n",
        "\n",
        "# Print .001"
      ]
    },
    {
      "cell_type": "markdown",
      "metadata": {
        "id": "HwYWKk01jW4p"
      },
      "source": [
        "CONVERGENCE!"
      ]
    },
    {
      "cell_type": "markdown",
      "metadata": {
        "id": "gz0QbB-CjW4p"
      },
      "source": [
        "Copyright 2020 Google Inc.\n",
        "Licensed under the Apache License, Version 2.0 (the \"License\"); you may not use this file except in compliance with the License. You may obtain a copy of the License at\n",
        "http://www.apache.org/licenses/LICENSE-2.0\n",
        "Unless required by applicable law or agreed to in writing, software distributed under the License is distributed on an \"AS IS\" BASIS, WITHOUT WARRANTIES OR CONDITIONS OF ANY KIND, either express or implied. See the License for the specific language governing permissions and limitations under the License."
      ]
    }
  ],
  "metadata": {
    "colab": {
      "collapsed_sections": [],
      "provenance": [],
      "include_colab_link": true
    },
    "kernelspec": {
      "display_name": "Python 3",
      "language": "python",
      "name": "python3"
    },
    "language_info": {
      "codemirror_mode": {
        "name": "ipython",
        "version": 3
      },
      "file_extension": ".py",
      "mimetype": "text/x-python",
      "name": "python",
      "nbconvert_exporter": "python",
      "pygments_lexer": "ipython3",
      "version": "3.5.3"
    }
  },
  "nbformat": 4,
  "nbformat_minor": 0
}