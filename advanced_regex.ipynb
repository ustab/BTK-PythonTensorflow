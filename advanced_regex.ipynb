{
  "cells": [
    {
      "cell_type": "markdown",
      "metadata": {
        "id": "view-in-github",
        "colab_type": "text"
      },
      "source": [
        "<a href=\"https://colab.research.google.com/github/ustab/BTK-PythonTensorflow/blob/master/advanced_regex.ipynb\" target=\"_parent\"><img src=\"https://colab.research.google.com/assets/colab-badge.svg\" alt=\"Open In Colab\"/></a>"
      ]
    },
    {
      "cell_type": "markdown",
      "metadata": {
        "id": "o3sZ7dIqBPFV"
      },
      "source": [
        "# Advanced Regular Expressions Lab\n",
        "\n",
        "Complete the following set of exercises to solidify your knowledge of regular expressions."
      ]
    },
    {
      "cell_type": "code",
      "execution_count": 2,
      "metadata": {
        "id": "NEm9SECZBPFZ"
      },
      "outputs": [],
      "source": [
        "import re"
      ]
    },
    {
      "cell_type": "markdown",
      "metadata": {
        "id": "VOr20JoTBPFa"
      },
      "source": [
        "### 1. Use a regular expression to find and extract all vowels in the following text."
      ]
    },
    {
      "cell_type": "code",
      "execution_count": 3,
      "metadata": {
        "id": "kyAy7dXzBPFb"
      },
      "outputs": [],
      "source": [
        "text = \"This is going to be a sentence with a good number of vowels in it.\""
      ]
    },
    {
      "cell_type": "code",
      "execution_count": 7,
      "metadata": {
        "colab": {
          "base_uri": "https://localhost:8080/"
        },
        "id": "9oB0s4bwBPFb",
        "outputId": "77738061-611e-419e-ffed-78b610258c35"
      },
      "outputs": [
        {
          "output_type": "execute_result",
          "data": {
            "text/plain": [
              "['i',\n",
              " 'i',\n",
              " 'o',\n",
              " 'i',\n",
              " 'o',\n",
              " 'e',\n",
              " 'a',\n",
              " 'e',\n",
              " 'e',\n",
              " 'e',\n",
              " 'i',\n",
              " 'a',\n",
              " 'o',\n",
              " 'o',\n",
              " 'u',\n",
              " 'e',\n",
              " 'o',\n",
              " 'o',\n",
              " 'e',\n",
              " 'i',\n",
              " 'i']"
            ]
          },
          "metadata": {},
          "execution_count": 7
        }
      ],
      "source": [
        "re.findall('[aieou]',text)"
      ]
    },
    {
      "cell_type": "markdown",
      "metadata": {
        "id": "LX0Ef_wTBPFd"
      },
      "source": [
        "### 2. Use a regular expression to find and extract all occurrences and tenses (singular and plural) of the word \"puppy\" in the text below."
      ]
    },
    {
      "cell_type": "code",
      "execution_count": 8,
      "metadata": {
        "id": "uZ2FxcU6BPFd"
      },
      "outputs": [],
      "source": [
        "text = \"The puppy saw all the rest of the puppies playing and wanted to join them. I saw this and wanted a puppy of my own!\"\n"
      ]
    },
    {
      "cell_type": "code",
      "source": [
        "re.findall('la*[\\w]+',text)"
      ],
      "metadata": {
        "colab": {
          "base_uri": "https://localhost:8080/"
        },
        "id": "weTkn2uVCQot",
        "outputId": "82fc2e69-1b2e-4acf-f75a-94ddefad3112"
      },
      "execution_count": 23,
      "outputs": [
        {
          "output_type": "execute_result",
          "data": {
            "text/plain": [
              "['ll', 'laying']"
            ]
          },
          "metadata": {},
          "execution_count": 23
        }
      ]
    },
    {
      "cell_type": "code",
      "execution_count": 15,
      "metadata": {
        "colab": {
          "base_uri": "https://localhost:8080/"
        },
        "id": "96LjkWxkBPFd",
        "outputId": "73b8c4bd-1007-4737-ebbd-5f1dc5ffbe4e"
      },
      "outputs": [
        {
          "output_type": "execute_result",
          "data": {
            "text/plain": [
              "['puppy', 'puppies', 'puppy']"
            ]
          },
          "metadata": {},
          "execution_count": 15
        }
      ],
      "source": [
        "re.findall('pupp[\\w]+',text)"
      ]
    },
    {
      "cell_type": "markdown",
      "metadata": {
        "id": "K36f5rTZBPFe"
      },
      "source": [
        "### 3. Use a regular expression to find and extract all tenses (present and past) of the word \"run\" in the text below."
      ]
    },
    {
      "cell_type": "code",
      "execution_count": 24,
      "metadata": {
        "id": "lW7Nmp8pBPFe"
      },
      "outputs": [],
      "source": [
        "text = \"I ran the relay race the only way I knew how to run it.\""
      ]
    },
    {
      "cell_type": "code",
      "execution_count": 25,
      "metadata": {
        "colab": {
          "base_uri": "https://localhost:8080/"
        },
        "id": "sAfRq1fuBPFf",
        "outputId": "69158c01-cd11-4bdf-8ae7-670e1c0d1c90"
      },
      "outputs": [
        {
          "output_type": "execute_result",
          "data": {
            "text/plain": [
              "['ran', 'run']"
            ]
          },
          "metadata": {},
          "execution_count": 25
        }
      ],
      "source": [
        "re.findall('r[au]n',text)"
      ]
    },
    {
      "cell_type": "markdown",
      "metadata": {
        "id": "sgiQY3tJBPFf"
      },
      "source": [
        "### 4. Use a regular expression to find and extract all words that begin with the letter \"r\" from the previous text."
      ]
    },
    {
      "cell_type": "code",
      "execution_count": 26,
      "metadata": {
        "colab": {
          "base_uri": "https://localhost:8080/"
        },
        "id": "AmYriucfBPFg",
        "outputId": "3114e73a-7ad0-4dec-edc5-9fee1c4a54d7"
      },
      "outputs": [
        {
          "output_type": "execute_result",
          "data": {
            "text/plain": [
              "['ran', 'relay', 'race', 'run']"
            ]
          },
          "metadata": {},
          "execution_count": 26
        }
      ],
      "source": [
        "re.findall('r[a-z]+',text)"
      ]
    },
    {
      "cell_type": "markdown",
      "metadata": {
        "id": "nNR0caBuBPFg"
      },
      "source": [
        "### 5. Use a regular expression to find and substitute the letter \"i\" for the exclamation marks in the text below."
      ]
    },
    {
      "cell_type": "code",
      "execution_count": 27,
      "metadata": {
        "id": "X9U-nq7lBPFg"
      },
      "outputs": [],
      "source": [
        "text = \"Th!s !s a sentence w!th spec!al characters !n !t.\""
      ]
    },
    {
      "cell_type": "code",
      "source": [
        "re.sub('!','*',text)"
      ],
      "metadata": {
        "colab": {
          "base_uri": "https://localhost:8080/",
          "height": 36
        },
        "id": "aLtLubsWDZ2-",
        "outputId": "901341e7-0d56-49cd-b461-01ece83a4821"
      },
      "execution_count": 32,
      "outputs": [
        {
          "output_type": "execute_result",
          "data": {
            "text/plain": [
              "'Th*s *s a sentence w*th spec*al characters *n *t.'"
            ],
            "application/vnd.google.colaboratory.intrinsic+json": {
              "type": "string"
            }
          },
          "metadata": {},
          "execution_count": 32
        }
      ]
    },
    {
      "cell_type": "code",
      "source": [
        "re.sub('!','salakca',text)"
      ],
      "metadata": {
        "colab": {
          "base_uri": "https://localhost:8080/",
          "height": 36
        },
        "id": "Pfg6UHzXDFCy",
        "outputId": "2eb2eeb9-12fd-4047-c090-70c37819b278"
      },
      "execution_count": 31,
      "outputs": [
        {
          "output_type": "execute_result",
          "data": {
            "text/plain": [
              "'Thsalakcas salakcas a sentence wsalakcath specsalakcaal characters salakcan salakcat.'"
            ],
            "application/vnd.google.colaboratory.intrinsic+json": {
              "type": "string"
            }
          },
          "metadata": {},
          "execution_count": 31
        }
      ]
    },
    {
      "cell_type": "code",
      "execution_count": 28,
      "metadata": {
        "colab": {
          "base_uri": "https://localhost:8080/",
          "height": 36
        },
        "id": "4jkU5fxPBPFg",
        "outputId": "f822a926-00a7-4b02-858e-0c963a2587c7"
      },
      "outputs": [
        {
          "output_type": "execute_result",
          "data": {
            "text/plain": [
              "'This is a sentence with special characters in it.'"
            ],
            "application/vnd.google.colaboratory.intrinsic+json": {
              "type": "string"
            }
          },
          "metadata": {},
          "execution_count": 28
        }
      ],
      "source": [
        "re.sub('!','i',text)"
      ]
    },
    {
      "cell_type": "markdown",
      "metadata": {
        "id": "C5kqeeR_BPFh"
      },
      "source": [
        "### 6. Use a regular expression to find and extract words longer than 4 characters in the text below."
      ]
    },
    {
      "cell_type": "code",
      "execution_count": 33,
      "metadata": {
        "id": "uEl2jHZ5BPFh"
      },
      "outputs": [],
      "source": [
        "text = \"This sentence has words of varying lengths.\""
      ]
    },
    {
      "cell_type": "code",
      "execution_count": 34,
      "metadata": {
        "colab": {
          "base_uri": "https://localhost:8080/"
        },
        "id": "Pf8rIWxzBPFh",
        "outputId": "a7893072-ece3-4a5a-95d6-d35d59b9ca13"
      },
      "outputs": [
        {
          "output_type": "execute_result",
          "data": {
            "text/plain": [
              "['This', 'sentence', 'words', 'varying', 'lengths']"
            ]
          },
          "metadata": {},
          "execution_count": 34
        }
      ],
      "source": [
        "re.findall('\\w{4,}',text)"
      ]
    },
    {
      "cell_type": "markdown",
      "metadata": {
        "id": "0PuKn35RBPFi"
      },
      "source": [
        "### 7. Use a regular expression to find and extract all occurrences of the letter \"b\", some letter(s), and then the letter \"t\" in the sentence below."
      ]
    },
    {
      "cell_type": "code",
      "execution_count": 35,
      "metadata": {
        "id": "MKeF8jOyBPFi"
      },
      "outputs": [],
      "source": [
        "text = \"I bet the robot couldn't beat the other bot with a bat, but instead it bit me.\""
      ]
    },
    {
      "cell_type": "code",
      "execution_count": 36,
      "metadata": {
        "colab": {
          "base_uri": "https://localhost:8080/"
        },
        "id": "04vPyjw5BPFi",
        "outputId": "1b271aa7-bfcf-476c-d4da-e425ac3422a0"
      },
      "outputs": [
        {
          "output_type": "execute_result",
          "data": {
            "text/plain": [
              "['bet', 'bot', 'beat', 'bot', 'bat', 'but', 'bit']"
            ]
          },
          "metadata": {},
          "execution_count": 36
        }
      ],
      "source": [
        "re.findall('b[a-z]+t',text)"
      ]
    },
    {
      "cell_type": "markdown",
      "metadata": {
        "id": "Q2nwaOsRBPFj"
      },
      "source": [
        "### 8. Use a regular expression to find and extract all words that contain either \"ea\" or \"eo\" in them."
      ]
    },
    {
      "cell_type": "code",
      "execution_count": 37,
      "metadata": {
        "id": "gS20sloyBPFj"
      },
      "outputs": [],
      "source": [
        "text = \"During many of the peaks and troughs of history, the people living it didn't fully realize what was unfolding. But we all know we're navigating breathtaking history: Nearly every day could be — maybe will be — a book.\"\n"
      ]
    },
    {
      "cell_type": "code",
      "execution_count": 38,
      "metadata": {
        "colab": {
          "base_uri": "https://localhost:8080/"
        },
        "id": "o2Moe8P0BPFk",
        "outputId": "0fb98461-5cc0-4aa8-ae05-43bcf91e9bfc"
      },
      "outputs": [
        {
          "output_type": "execute_result",
          "data": {
            "text/plain": [
              "['peaks', 'people', 'realize', 'breathtaking', 'Nearly']"
            ]
          },
          "metadata": {},
          "execution_count": 38
        }
      ],
      "source": [
        "re.findall('\\w+e[ao]\\w+',text)"
      ]
    },
    {
      "cell_type": "markdown",
      "metadata": {
        "id": "KNv8PN3dBPFk"
      },
      "source": [
        "### 9. Use a regular expression to find and extract all the capitalized words in the text below individually."
      ]
    },
    {
      "cell_type": "code",
      "execution_count": 39,
      "metadata": {
        "id": "Tqe_zfcLBPFk"
      },
      "outputs": [],
      "source": [
        "text = \"Teddy Roosevelt and Abraham Lincoln walk into a bar.\""
      ]
    },
    {
      "cell_type": "code",
      "execution_count": 40,
      "metadata": {
        "colab": {
          "base_uri": "https://localhost:8080/"
        },
        "id": "BwR_a-NeBPFl",
        "outputId": "0606ade0-0bcb-4b71-bdb4-8f3f92ea5d0e"
      },
      "outputs": [
        {
          "output_type": "execute_result",
          "data": {
            "text/plain": [
              "['Teddy', 'Roosevelt', 'Abraham', 'Lincoln']"
            ]
          },
          "metadata": {},
          "execution_count": 40
        }
      ],
      "source": [
        "re.findall('[A-Z]\\w+',text)"
      ]
    },
    {
      "cell_type": "markdown",
      "metadata": {
        "id": "qwK_iZ4-BPFm"
      },
      "source": [
        "### 10. Use a regular expression to find and extract all the sets of consecutive capitalized words in the text above."
      ]
    },
    {
      "cell_type": "code",
      "execution_count": 41,
      "metadata": {
        "colab": {
          "base_uri": "https://localhost:8080/"
        },
        "id": "EL8oCtU7BPFn",
        "outputId": "9126e8f4-eea0-4784-a2e8-52215e5aaff8"
      },
      "outputs": [
        {
          "output_type": "execute_result",
          "data": {
            "text/plain": [
              "['Teddy Roosevelt', 'Abraham Lincoln']"
            ]
          },
          "metadata": {},
          "execution_count": 41
        }
      ],
      "source": [
        "re.findall('[A-Z]\\w+\\s[A-Z]\\w+',text)"
      ]
    },
    {
      "cell_type": "markdown",
      "metadata": {
        "id": "bJSNTHy-BPFn"
      },
      "source": [
        "### 11. Use a regular expression to find and extract all the quotes from the text below.\n",
        "\n",
        "*Hint: This one is a little more complex than the single quote example in the lesson because there are multiple quotes in the text.*"
      ]
    },
    {
      "cell_type": "code",
      "execution_count": 42,
      "metadata": {
        "id": "gVMiKTbUBPFo"
      },
      "outputs": [],
      "source": [
        "text = 'Roosevelt says to Lincoln, \"I will bet you $50 I can get the bartender to give me a free drink.\" Lincoln says, \"I am in!\"'\n"
      ]
    },
    {
      "cell_type": "code",
      "execution_count": 43,
      "metadata": {
        "colab": {
          "base_uri": "https://localhost:8080/"
        },
        "id": "R_2k-ci_BPFo",
        "outputId": "cd096269-20b4-47d0-d2c8-cd458231c51b"
      },
      "outputs": [
        {
          "output_type": "execute_result",
          "data": {
            "text/plain": [
              "['I will bet you $50 I can get the bartender to give me a free drink.',\n",
              " 'I am in!']"
            ]
          },
          "metadata": {},
          "execution_count": 43
        }
      ],
      "source": [
        "re.findall('\"([^\"]*)\"',text)"
      ]
    },
    {
      "cell_type": "markdown",
      "metadata": {
        "id": "VXtDojnzBPFo"
      },
      "source": [
        "### 12. Use a regular expression to find and extract all the numbers from the text below."
      ]
    },
    {
      "cell_type": "code",
      "execution_count": 44,
      "metadata": {
        "id": "-IpD6eXwBPFo"
      },
      "outputs": [],
      "source": [
        "text = \"There were 30 students in the class. Of the 30 students, 14 were male and 16 were female. Only 10 students got A's on the exam.\"\n"
      ]
    },
    {
      "cell_type": "code",
      "execution_count": 45,
      "metadata": {
        "colab": {
          "base_uri": "https://localhost:8080/"
        },
        "id": "3LYvp80IBPFp",
        "outputId": "0ad516e8-73f6-48b0-b1f9-bc6e8ed10812"
      },
      "outputs": [
        {
          "output_type": "execute_result",
          "data": {
            "text/plain": [
              "['30', '30', '14', '16', '10']"
            ]
          },
          "metadata": {},
          "execution_count": 45
        }
      ],
      "source": [
        "re.findall('\\d+',text)"
      ]
    },
    {
      "cell_type": "markdown",
      "metadata": {
        "id": "HN-5vhNTBPFp"
      },
      "source": [
        "### 13. Use a regular expression to find and extract all the social security numbers from the text below."
      ]
    },
    {
      "cell_type": "code",
      "execution_count": 46,
      "metadata": {
        "id": "ILp6LseDBPFp"
      },
      "outputs": [],
      "source": [
        "text = \"\"\"\n",
        "Henry's social security number is 876-93-2289 and his phone number is (847)789-0984.\n",
        "Darlene's social security number is 098-32-5295 and her phone number is (987)222-0901.\n",
        "\"\"\""
      ]
    },
    {
      "cell_type": "code",
      "execution_count": 47,
      "metadata": {
        "colab": {
          "base_uri": "https://localhost:8080/"
        },
        "id": "BJl0VSWGBPFp",
        "outputId": "aa9d3841-eced-42c7-da12-c52078daa47d"
      },
      "outputs": [
        {
          "output_type": "execute_result",
          "data": {
            "text/plain": [
              "['876-93-2289', '098-32-5295']"
            ]
          },
          "metadata": {},
          "execution_count": 47
        }
      ],
      "source": [
        "re.findall('\\d{3}-\\d{2}-\\d{4}',text)"
      ]
    },
    {
      "cell_type": "markdown",
      "metadata": {
        "id": "BVpGBdubBPFq"
      },
      "source": [
        "### 14. Use a regular expression to find and extract all the phone numbers from the text below."
      ]
    },
    {
      "cell_type": "code",
      "execution_count": 48,
      "metadata": {
        "colab": {
          "base_uri": "https://localhost:8080/"
        },
        "id": "pt2610PaBPFq",
        "outputId": "d9ac554e-4bcf-4274-8d07-0f4f3667fbc3"
      },
      "outputs": [
        {
          "output_type": "execute_result",
          "data": {
            "text/plain": [
              "['(847)789-0984', '(987)222-0901']"
            ]
          },
          "metadata": {},
          "execution_count": 48
        }
      ],
      "source": [
        "re.findall('\\(\\d{3}\\)\\d{3}-\\d{4}',text)"
      ]
    },
    {
      "cell_type": "markdown",
      "metadata": {
        "id": "KpocpysNBPFq"
      },
      "source": [
        "### 15. Use a regular expression to find and extract all the formatted numbers (both social security and phone) from the text below."
      ]
    },
    {
      "cell_type": "code",
      "execution_count": 49,
      "metadata": {
        "colab": {
          "base_uri": "https://localhost:8080/"
        },
        "id": "PUn7xeXPBPFq",
        "outputId": "003fd968-381d-412d-fd75-c6de504fa80a"
      },
      "outputs": [
        {
          "output_type": "execute_result",
          "data": {
            "text/plain": [
              "['876-93-2289', '(847)789-0984', '098-32-5295', '(987)222-0901']"
            ]
          },
          "metadata": {},
          "execution_count": 49
        }
      ],
      "source": [
        "re.findall('\\(?\\d{3}[\\)-]\\d{2,3}-\\d{4}',text)"
      ]
    },
    {
      "cell_type": "code",
      "execution_count": null,
      "metadata": {
        "id": "M92Q-MxqBPFr"
      },
      "outputs": [],
      "source": []
    }
  ],
  "metadata": {
    "kernelspec": {
      "display_name": "Python 3",
      "language": "python",
      "name": "python3"
    },
    "language_info": {
      "codemirror_mode": {
        "name": "ipython",
        "version": 3
      },
      "file_extension": ".py",
      "mimetype": "text/x-python",
      "name": "python",
      "nbconvert_exporter": "python",
      "pygments_lexer": "ipython3",
      "version": "3.8.5"
    },
    "colab": {
      "provenance": [],
      "collapsed_sections": [],
      "include_colab_link": true
    }
  },
  "nbformat": 4,
  "nbformat_minor": 0
}