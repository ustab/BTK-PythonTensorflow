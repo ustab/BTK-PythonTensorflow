{
  "cells": [
    {
      "cell_type": "markdown",
      "metadata": {
        "id": "view-in-github",
        "colab_type": "text"
      },
      "source": [
        "<a href=\"https://colab.research.google.com/github/ustab/BTK-PythonTensorflow/blob/master/mnist_turkce_aciklamali_derin_ogrenmeye_giris_1.ipynb\" target=\"_parent\"><img src=\"https://colab.research.google.com/assets/colab-badge.svg\" alt=\"Open In Colab\"/></a>"
      ]
    },
    {
      "cell_type": "markdown",
      "metadata": {
        "papermill": {
          "duration": 0.019526,
          "end_time": "2021-01-06T14:24:02.836797",
          "exception": false,
          "start_time": "2021-01-06T14:24:02.817271",
          "status": "completed"
        },
        "tags": [],
        "id": "1prwsJY64E0p"
      },
      "source": [
        "\n",
        "# **$\\color{purple}{\\text{Derin Öğrenmeye Giriş 1 - MNIST FASHION Veri Seti ile İleri Beslemeli Ağlar  }}$**\n",
        "\n",
        "*Hi folks, this notebook dedicated to Turkish researchers & deep leaners. Hence, the language is completely Turkish.*\n",
        "\n",
        "Herkese merhaba, kaggle setlerine ve eğitimlerine devam ediyoruz. Bu notebook ile yapay sinir ağlarına bir giriş yapacağız. Sonrasında Mnist fashion data setini inceleyerek üzerinde basit \"ileri beslemeli yapay sinir ağlarını\" eğiteceğiz ve hazır modeller kullanmaktan çok kendimizin **Keras** kütüphanesi ile kuracağı modeller üzerinde hiperparemetreler üzerinden değerlendirmeler yapacağız. Derin öğrenmeye başlamak isteyen veya yeni başlamış araştırmacılar için işin temelinden başlanmasını öneririm. Bu notebook tam olarak temele yani matematiğine inmese de o temele inmek için bir kapı olabilir.\n",
        "\n",
        "İlk olarak, eğitmenli öğretme (supervised learning) yapay sinir ağlarının temelini neyin oluşturuğunu bilmekte fayda var. Hedef değere göre hedef fonksiyonu minimize veya maksimize etme problemi bizi optimizasyon teorisine kadar götürmektedir. En küçük kareler kuralı (least squares method) [1]  hedef değere ulaşmak için hedef fonksiyon katsayılarını optimize eden ilk algoritmalardan birisidir. Bana göre bu işin de ilk çıkış noktası bu olmuştur. Tabi optimizasyon teorisi derin öğrenmenin bir parçası olsa da kimse onu anmamaktadır :/ Oysa geri yayılımda(backprop) kullandığımız gradient descent algoritması ve L2, Adam, RMSprop, Madam gibi momentum algoritmalarının temeli bu matematikten gelmektedir. Es geçmemek gerekir.\n",
        "\n",
        "![leastsquares](https://www.i2tutorials.com/wp-content/media/2019/11/ordinary-Least-square-method-in-Machine-Learning-i2tutorials.jpg)\n",
        "\n",
        "\n",
        "Daha sonrasında ise bilinen en eski yapay sinir ağı olan perceptron 1958 yılında Frank Rosenblatt'ın  Cornell Aeronautical Laboratuvarlarındaki çalışmalarında ortaya koyduğu tek nöron yapılı modeldir.Öğrenme kuralı olarak delta kuralı (delta rule) kullanan ileri beslemeli (feedforward) sinir ağı her şeyin başlangıcı olmuştur. Tabi ilk eksikliği XOR problemini çözememesiyle ortaya konulunca çeşitli yenilikler de birbirini takip etti. İlk olarak perceptron aktivizasyon fonksiyonu olarak adım fonksiyonu (step function) kullanmaktaydı. Bu da delta kuralı ile öğrenme aşamasında bir takım sınırlar oluşturmaktaydı. Günümüzde dahi tercih edilen (?) sigmoid fonksiyonu eklendiğinde ise artık XOR problemini çözebilen bir sinir ağımız bulunmaktaydı. İsimleri zaman içinde değişti: Adaline, Madaline gibi. Şirin perceptron aşağıdaki gibidir. Çoklu girişi bulunmakta, nörona bağlayan kollardaki w ağırlıkları ile çarpılmakta ve toplama (sum) fonksiyonuna girmektedir. Sonrasında doğrusal olmayan aktivizasyon fonksiyonu (non-linear activation function) ile çıkış katmanına bağlanmaktadır. Burada doğrusal olmayan aktivizasyon fonksiyonu seçilmesinin ana nedeni, geri yayılım algoritmasında ağırlıklarımızı loss fonksiyonumuzun sonucuna bağlı olarak güncelleyebilmek içindir. Gayet tabi doğrusal bir aktivizasyon fonksiyonu da kullanılabilir ( Ne zamaan? Mesela bağlanım-regression problemlerinde.).\n",
        "\n",
        "![perceptron](https://www.cc.gatech.edu/~san37/img/dl/perceptron.jpg)\n",
        "\n",
        "Gel zaman git zaman, basit perceptron yapısına ilave nöronlar eklenerek ileri beslemeli sinir ağları \"multilayer perceptron (MLP)\" olarak karşımıza çıkıyor. Bu yapılarda giriş ve çıkış katmanları dışında kalan katmanlara gizli katman (hidden layer) adını veriyoruz. Problemin büyüklüğü ve hesaplama maliyetine göre gizli katman sayısı ve her bir gizli katmanda bulunan noron sayısı artış gösterebilmektedir. Çalışmalar göstermektedir ki probleme özgü olarak az sayıda noron ve gizli katman kullanmak ezberleme(over fit - high variance) problemine yol açmaktadır, noron sayısı ve gizli katman sayısı arttıkça başarımın bir yere kadar arttığı ve lokal minimum'lara takılamdan öğrenme gerçekleştirebildiği görünmektedir. Bu çalışmada da bunu bir miktar göstereceğiz. Alt yapısını anlamak isteyen arkadaşlar için önerim matematiğine inmek olacaktır, bunun için şu kaynakları öneririm:\n",
        "\n",
        "1. Introduction to Machine Learning, Fourth Edition, Ethem Alpaydin\n",
        "2. Yapay Sinir Ağları Kitap, Prof.Dr.Ercan Öztemel\n",
        "3. Derin Öğrenme, Ian Goodfellow\n",
        "4. Python ile Derin Öğrenme, François Chollet\n",
        "\n",
        "\n",
        "![MLP](https://missinglink.ai/wp-content/uploads/2018/11/multilayer-perceptron.png)\n",
        "\n",
        "\n",
        "MNIST data setleri temel yapay sinir ağları (ANN, CNN etc.) güzel bir başlangıçtır. Hand written digits ( el yazısı karakterleri) ve fashion olmak üzere en temel 2 veri seti bulunmaktadır. İlk çalışmamızda MNIST Fashion'ı inceleyeceğiz, 2. çalışmamızda ise Convolutional Neural Networks (CNN) ile beraber MNIST El yazısı karakterlerini inceleyeceğiz.\n",
        "\n",
        "Peki nedir MNSIT Fasion? 10 tane kıyafet sınıfı için toplamda 70000 28x28x1'lik fotoğraflar içeren bir veri setidir. Aşağıda ait olunan sınıfları görebilirsiniz. Amacımız 60000 eğitim seti ile doğru sınıflandırma yapmayı öğrenecek bir yapay sinir ağı geliştirmek ve mümkün olduğunca yüksek bir başarım yakalayabilmek.Sonuç olarak bu kılavuz, 10 kategoride 70.000 gri tonlamalı görüntü içeren Fashion MNIST veri kümesini kullanır. Görüntüler, aşağıda görüldüğü gibi düşük çözünürlükte (28 x 28 piksel) ayrı giyim eşyalarını göstermektedir. Data seti kaggle içerisinde 60000 Training, 10000 Test olarak ayrılmış bulunmaktadır.\n",
        "\n",
        "\n",
        "![nnsr](https://cdn-images-1.medium.com/max/888/1*-kpgaee9X9Gm-SrQKdk_og.png)\n",
        "\n",
        "\n",
        "\n",
        "[1] https://en.wikipedia.org/wiki/Least_squares\n"
      ]
    },
    {
      "cell_type": "markdown",
      "metadata": {
        "papermill": {
          "duration": 0.016381,
          "end_time": "2021-01-06T14:24:02.869491",
          "exception": false,
          "start_time": "2021-01-06T14:24:02.853110",
          "status": "completed"
        },
        "tags": [],
        "id": "dMyalTL74E0y"
      },
      "source": [
        "İhtiyacımız olan kütüphaneleri yüklüyoruz. Temel olarak Tensorflow ve Keras'tan yardım alacağız."
      ]
    },
    {
      "cell_type": "code",
      "source": [
        "import numpy as np # linear algebra\n",
        "import pandas as pd # data processing, CSV file I/O (e.g. pd.read_csv)\n",
        "import os\n",
        "import tensorflow as tf\n",
        "import tensorflow.keras"
      ],
      "metadata": {
        "id": "0WJVN68B46oR"
      },
      "execution_count": null,
      "outputs": []
    },
    {
      "cell_type": "code",
      "source": [
        "from sklearn.model_selection import train_test_split\n",
        "import matplotlib.pyplot as plt"
      ],
      "metadata": {
        "id": "u-Vfmmw75BdP"
      },
      "execution_count": null,
      "outputs": []
    },
    {
      "cell_type": "code",
      "source": [
        "!pip install matplotlib-venn"
      ],
      "metadata": {
        "colab": {
          "base_uri": "https://localhost:8080/"
        },
        "id": "jFOXFuuI59qh",
        "outputId": "98119315-835a-4da6-972e-0f1573e30ff5"
      },
      "execution_count": null,
      "outputs": [
        {
          "output_type": "stream",
          "name": "stdout",
          "text": [
            "Looking in indexes: https://pypi.org/simple, https://us-python.pkg.dev/colab-wheels/public/simple/\n",
            "Requirement already satisfied: matplotlib-venn in /usr/local/lib/python3.7/dist-packages (0.11.7)\n",
            "Requirement already satisfied: numpy in /usr/local/lib/python3.7/dist-packages (from matplotlib-venn) (1.21.6)\n",
            "Requirement already satisfied: scipy in /usr/local/lib/python3.7/dist-packages (from matplotlib-venn) (1.7.3)\n",
            "Requirement already satisfied: matplotlib in /usr/local/lib/python3.7/dist-packages (from matplotlib-venn) (3.2.2)\n",
            "Requirement already satisfied: kiwisolver>=1.0.1 in /usr/local/lib/python3.7/dist-packages (from matplotlib->matplotlib-venn) (1.4.4)\n",
            "Requirement already satisfied: pyparsing!=2.0.4,!=2.1.2,!=2.1.6,>=2.0.1 in /usr/local/lib/python3.7/dist-packages (from matplotlib->matplotlib-venn) (3.0.9)\n",
            "Requirement already satisfied: python-dateutil>=2.1 in /usr/local/lib/python3.7/dist-packages (from matplotlib->matplotlib-venn) (2.8.2)\n",
            "Requirement already satisfied: cycler>=0.10 in /usr/local/lib/python3.7/dist-packages (from matplotlib->matplotlib-venn) (0.11.0)\n",
            "Requirement already satisfied: typing-extensions in /usr/local/lib/python3.7/dist-packages (from kiwisolver>=1.0.1->matplotlib->matplotlib-venn) (4.3.0)\n",
            "Requirement already satisfied: six>=1.5 in /usr/local/lib/python3.7/dist-packages (from python-dateutil>=2.1->matplotlib->matplotlib-venn) (1.16.0)\n"
          ]
        }
      ]
    },
    {
      "cell_type": "code",
      "source": [
        "import cv2\n",
        "import numpy as np\n",
        "from PIL import Image\n",
        "import os\n",
        "from tensorflow.keras.utils import to_categorical"
      ],
      "metadata": {
        "id": "BEYsbc_cBzwx"
      },
      "execution_count": 28,
      "outputs": []
    },
    {
      "cell_type": "code",
      "source": [
        "from tensorflow.keras.layers import Dense, Dropout\n",
        "from tensorflow.keras import regularizers\n",
        "from tensorflow.keras.datasets import mnist\n",
        "from tensorflow.keras.models import Sequential"
      ],
      "metadata": {
        "id": "ruUg-BHB5LKf"
      },
      "execution_count": 29,
      "outputs": []
    },
    {
      "cell_type": "code",
      "execution_count": null,
      "metadata": {
        "_cell_guid": "b1076dfc-b9ad-4769-8c92-a6c4dae69d19",
        "_uuid": "8f2839f25d086af736a60e9eeb907d3b93b6e0e5",
        "execution": {
          "iopub.execute_input": "2021-01-06T14:24:02.911931Z",
          "iopub.status.busy": "2021-01-06T14:24:02.911013Z",
          "iopub.status.idle": "2021-01-06T14:24:10.404938Z",
          "shell.execute_reply": "2021-01-06T14:24:10.404197Z"
        },
        "papermill": {
          "duration": 7.519753,
          "end_time": "2021-01-06T14:24:10.405056",
          "exception": false,
          "start_time": "2021-01-06T14:24:02.885303",
          "status": "completed"
        },
        "tags": [],
        "id": "da64301D4E0z"
      },
      "outputs": [],
      "source": [
        "from tensorflow.keras.layers import Dense, Dropout, Flatten\n",
        "from tensorflow.keras.layers import Conv2D, MaxPooling2D\n",
        "from tensorflow.keras import backend as K\n",
        "from keras import optimizers\n",
        "import tensorflow as tf\n",
        "import cv2 \n",
        "import numpy as np \n",
        "import matplotlib.pyplot as plt \n",
        "#print(\"tensorflow version is : \", tf.__version__)"
      ]
    },
    {
      "cell_type": "markdown",
      "metadata": {
        "papermill": {
          "duration": 0.016232,
          "end_time": "2021-01-06T14:24:10.438718",
          "exception": false,
          "start_time": "2021-01-06T14:24:10.422486",
          "status": "completed"
        },
        "tags": [],
        "id": "UncCcfzP4E03"
      },
      "source": [
        "Dosyaları okuyoruz, ben tercihen os kütüphanesini kullanıyorum. Train 60000,785 ve Test 10000,785 boyutlarında. Bu şu anlama gelmektedir 60000 train datası var ve bu data 785 boyutlu. 785 boyutun 1 tanenesi label yani doğru etiket, 784 tanesi ise 28x28'lik fotoğrafın piksel değerleri. Gri bir imge olduğundan dolayı her bir pikselin değeri de 0 ila 255 arasında değişmektedir."
      ]
    },
    {
      "cell_type": "code",
      "execution_count": 31,
      "metadata": {
        "_cell_guid": "79c7e3d0-c299-4dcb-8224-4455121ee9b0",
        "_uuid": "d629ff2d2480ee46fbb7e2d37f6b5fab8052498a",
        "execution": {
          "iopub.execute_input": "2021-01-06T14:24:10.485665Z",
          "iopub.status.busy": "2021-01-06T14:24:10.484891Z",
          "iopub.status.idle": "2021-01-06T14:24:18.647463Z",
          "shell.execute_reply": "2021-01-06T14:24:18.646450Z"
        },
        "papermill": {
          "duration": 8.192554,
          "end_time": "2021-01-06T14:24:18.647635",
          "exception": false,
          "start_time": "2021-01-06T14:24:10.455081",
          "status": "completed"
        },
        "tags": [],
        "id": "N5SU5GFO4E04",
        "outputId": "b5b79fd0-5bd2-4bb2-ba9f-ec104d2695ee",
        "colab": {
          "base_uri": "https://localhost:8080/"
        }
      },
      "outputs": [
        {
          "output_type": "stream",
          "name": "stdout",
          "text": [
            "/content/fashion-mnist_train.csv\n",
            "/content/fashion-mnist_test.csv\n",
            "train shape:  (1887, 785)\n",
            "test shape:  (1886, 785)\n"
          ]
        }
      ],
      "source": [
        "path_train=os.path.join(\"/content/fashion-mnist_train.csv\")\n",
        "path_test=os.path.join(\"/content/fashion-mnist_test.csv\")\n",
        "print(path_train),print(path_test)\n",
        "train=pd.read_csv(path_train)\n",
        "test=pd.read_csv(path_test)\n",
        "\n",
        "print(\"train shape: \",train.shape)\n",
        "print(\"test shape: \",test.shape)"
      ]
    },
    {
      "cell_type": "code",
      "execution_count": 32,
      "metadata": {
        "execution": {
          "iopub.execute_input": "2021-01-06T14:24:18.698059Z",
          "iopub.status.busy": "2021-01-06T14:24:18.697365Z",
          "iopub.status.idle": "2021-01-06T14:24:18.719540Z",
          "shell.execute_reply": "2021-01-06T14:24:18.718794Z"
        },
        "papermill": {
          "duration": 0.052393,
          "end_time": "2021-01-06T14:24:18.719667",
          "exception": false,
          "start_time": "2021-01-06T14:24:18.667274",
          "status": "completed"
        },
        "tags": [],
        "id": "H8rnll6c4E06",
        "outputId": "64cd3b1c-3d6c-403f-840f-b5d8674a9dc2",
        "colab": {
          "base_uri": "https://localhost:8080/",
          "height": 237
        }
      },
      "outputs": [
        {
          "output_type": "execute_result",
          "data": {
            "text/plain": [
              "   label  pixel1  pixel2  pixel3  pixel4  pixel5  pixel6  pixel7  pixel8  \\\n",
              "0      0       0       0       0       0       0       0       0       9   \n",
              "1      1       0       0       0       0       0       0       0       0   \n",
              "2      2       0       0       0       0       0       0      14      53   \n",
              "\n",
              "   pixel9  ...  pixel775  pixel776  pixel777  pixel778  pixel779  pixel780  \\\n",
              "0       8  ...     103.0      87.0      56.0       0.0       0.0       0.0   \n",
              "1       0  ...      34.0       0.0       0.0       0.0       0.0       0.0   \n",
              "2      99  ...       0.0       0.0       0.0       0.0      63.0      53.0   \n",
              "\n",
              "   pixel781  pixel782  pixel783  pixel784  \n",
              "0       0.0       0.0       0.0       0.0  \n",
              "1       0.0       0.0       0.0       0.0  \n",
              "2      31.0       0.0       0.0       0.0  \n",
              "\n",
              "[3 rows x 785 columns]"
            ],
            "text/html": [
              "\n",
              "  <div id=\"df-5ea69149-8b7c-4366-b31b-18a56fd4bfa3\">\n",
              "    <div class=\"colab-df-container\">\n",
              "      <div>\n",
              "<style scoped>\n",
              "    .dataframe tbody tr th:only-of-type {\n",
              "        vertical-align: middle;\n",
              "    }\n",
              "\n",
              "    .dataframe tbody tr th {\n",
              "        vertical-align: top;\n",
              "    }\n",
              "\n",
              "    .dataframe thead th {\n",
              "        text-align: right;\n",
              "    }\n",
              "</style>\n",
              "<table border=\"1\" class=\"dataframe\">\n",
              "  <thead>\n",
              "    <tr style=\"text-align: right;\">\n",
              "      <th></th>\n",
              "      <th>label</th>\n",
              "      <th>pixel1</th>\n",
              "      <th>pixel2</th>\n",
              "      <th>pixel3</th>\n",
              "      <th>pixel4</th>\n",
              "      <th>pixel5</th>\n",
              "      <th>pixel6</th>\n",
              "      <th>pixel7</th>\n",
              "      <th>pixel8</th>\n",
              "      <th>pixel9</th>\n",
              "      <th>...</th>\n",
              "      <th>pixel775</th>\n",
              "      <th>pixel776</th>\n",
              "      <th>pixel777</th>\n",
              "      <th>pixel778</th>\n",
              "      <th>pixel779</th>\n",
              "      <th>pixel780</th>\n",
              "      <th>pixel781</th>\n",
              "      <th>pixel782</th>\n",
              "      <th>pixel783</th>\n",
              "      <th>pixel784</th>\n",
              "    </tr>\n",
              "  </thead>\n",
              "  <tbody>\n",
              "    <tr>\n",
              "      <th>0</th>\n",
              "      <td>0</td>\n",
              "      <td>0</td>\n",
              "      <td>0</td>\n",
              "      <td>0</td>\n",
              "      <td>0</td>\n",
              "      <td>0</td>\n",
              "      <td>0</td>\n",
              "      <td>0</td>\n",
              "      <td>9</td>\n",
              "      <td>8</td>\n",
              "      <td>...</td>\n",
              "      <td>103.0</td>\n",
              "      <td>87.0</td>\n",
              "      <td>56.0</td>\n",
              "      <td>0.0</td>\n",
              "      <td>0.0</td>\n",
              "      <td>0.0</td>\n",
              "      <td>0.0</td>\n",
              "      <td>0.0</td>\n",
              "      <td>0.0</td>\n",
              "      <td>0.0</td>\n",
              "    </tr>\n",
              "    <tr>\n",
              "      <th>1</th>\n",
              "      <td>1</td>\n",
              "      <td>0</td>\n",
              "      <td>0</td>\n",
              "      <td>0</td>\n",
              "      <td>0</td>\n",
              "      <td>0</td>\n",
              "      <td>0</td>\n",
              "      <td>0</td>\n",
              "      <td>0</td>\n",
              "      <td>0</td>\n",
              "      <td>...</td>\n",
              "      <td>34.0</td>\n",
              "      <td>0.0</td>\n",
              "      <td>0.0</td>\n",
              "      <td>0.0</td>\n",
              "      <td>0.0</td>\n",
              "      <td>0.0</td>\n",
              "      <td>0.0</td>\n",
              "      <td>0.0</td>\n",
              "      <td>0.0</td>\n",
              "      <td>0.0</td>\n",
              "    </tr>\n",
              "    <tr>\n",
              "      <th>2</th>\n",
              "      <td>2</td>\n",
              "      <td>0</td>\n",
              "      <td>0</td>\n",
              "      <td>0</td>\n",
              "      <td>0</td>\n",
              "      <td>0</td>\n",
              "      <td>0</td>\n",
              "      <td>14</td>\n",
              "      <td>53</td>\n",
              "      <td>99</td>\n",
              "      <td>...</td>\n",
              "      <td>0.0</td>\n",
              "      <td>0.0</td>\n",
              "      <td>0.0</td>\n",
              "      <td>0.0</td>\n",
              "      <td>63.0</td>\n",
              "      <td>53.0</td>\n",
              "      <td>31.0</td>\n",
              "      <td>0.0</td>\n",
              "      <td>0.0</td>\n",
              "      <td>0.0</td>\n",
              "    </tr>\n",
              "  </tbody>\n",
              "</table>\n",
              "<p>3 rows × 785 columns</p>\n",
              "</div>\n",
              "      <button class=\"colab-df-convert\" onclick=\"convertToInteractive('df-5ea69149-8b7c-4366-b31b-18a56fd4bfa3')\"\n",
              "              title=\"Convert this dataframe to an interactive table.\"\n",
              "              style=\"display:none;\">\n",
              "        \n",
              "  <svg xmlns=\"http://www.w3.org/2000/svg\" height=\"24px\"viewBox=\"0 0 24 24\"\n",
              "       width=\"24px\">\n",
              "    <path d=\"M0 0h24v24H0V0z\" fill=\"none\"/>\n",
              "    <path d=\"M18.56 5.44l.94 2.06.94-2.06 2.06-.94-2.06-.94-.94-2.06-.94 2.06-2.06.94zm-11 1L8.5 8.5l.94-2.06 2.06-.94-2.06-.94L8.5 2.5l-.94 2.06-2.06.94zm10 10l.94 2.06.94-2.06 2.06-.94-2.06-.94-.94-2.06-.94 2.06-2.06.94z\"/><path d=\"M17.41 7.96l-1.37-1.37c-.4-.4-.92-.59-1.43-.59-.52 0-1.04.2-1.43.59L10.3 9.45l-7.72 7.72c-.78.78-.78 2.05 0 2.83L4 21.41c.39.39.9.59 1.41.59.51 0 1.02-.2 1.41-.59l7.78-7.78 2.81-2.81c.8-.78.8-2.07 0-2.86zM5.41 20L4 18.59l7.72-7.72 1.47 1.35L5.41 20z\"/>\n",
              "  </svg>\n",
              "      </button>\n",
              "      \n",
              "  <style>\n",
              "    .colab-df-container {\n",
              "      display:flex;\n",
              "      flex-wrap:wrap;\n",
              "      gap: 12px;\n",
              "    }\n",
              "\n",
              "    .colab-df-convert {\n",
              "      background-color: #E8F0FE;\n",
              "      border: none;\n",
              "      border-radius: 50%;\n",
              "      cursor: pointer;\n",
              "      display: none;\n",
              "      fill: #1967D2;\n",
              "      height: 32px;\n",
              "      padding: 0 0 0 0;\n",
              "      width: 32px;\n",
              "    }\n",
              "\n",
              "    .colab-df-convert:hover {\n",
              "      background-color: #E2EBFA;\n",
              "      box-shadow: 0px 1px 2px rgba(60, 64, 67, 0.3), 0px 1px 3px 1px rgba(60, 64, 67, 0.15);\n",
              "      fill: #174EA6;\n",
              "    }\n",
              "\n",
              "    [theme=dark] .colab-df-convert {\n",
              "      background-color: #3B4455;\n",
              "      fill: #D2E3FC;\n",
              "    }\n",
              "\n",
              "    [theme=dark] .colab-df-convert:hover {\n",
              "      background-color: #434B5C;\n",
              "      box-shadow: 0px 1px 3px 1px rgba(0, 0, 0, 0.15);\n",
              "      filter: drop-shadow(0px 1px 2px rgba(0, 0, 0, 0.3));\n",
              "      fill: #FFFFFF;\n",
              "    }\n",
              "  </style>\n",
              "\n",
              "      <script>\n",
              "        const buttonEl =\n",
              "          document.querySelector('#df-5ea69149-8b7c-4366-b31b-18a56fd4bfa3 button.colab-df-convert');\n",
              "        buttonEl.style.display =\n",
              "          google.colab.kernel.accessAllowed ? 'block' : 'none';\n",
              "\n",
              "        async function convertToInteractive(key) {\n",
              "          const element = document.querySelector('#df-5ea69149-8b7c-4366-b31b-18a56fd4bfa3');\n",
              "          const dataTable =\n",
              "            await google.colab.kernel.invokeFunction('convertToInteractive',\n",
              "                                                     [key], {});\n",
              "          if (!dataTable) return;\n",
              "\n",
              "          const docLinkHtml = 'Like what you see? Visit the ' +\n",
              "            '<a target=\"_blank\" href=https://colab.research.google.com/notebooks/data_table.ipynb>data table notebook</a>'\n",
              "            + ' to learn more about interactive tables.';\n",
              "          element.innerHTML = '';\n",
              "          dataTable['output_type'] = 'display_data';\n",
              "          await google.colab.output.renderOutput(dataTable, element);\n",
              "          const docLink = document.createElement('div');\n",
              "          docLink.innerHTML = docLinkHtml;\n",
              "          element.appendChild(docLink);\n",
              "        }\n",
              "      </script>\n",
              "    </div>\n",
              "  </div>\n",
              "  "
            ]
          },
          "metadata": {},
          "execution_count": 32
        }
      ],
      "source": [
        "train.tail(3)\n",
        "test.head(3)"
      ]
    },
    {
      "cell_type": "markdown",
      "metadata": {
        "papermill": {
          "duration": 0.018076,
          "end_time": "2021-01-06T14:24:18.756268",
          "exception": false,
          "start_time": "2021-01-06T14:24:18.738192",
          "status": "completed"
        },
        "tags": [],
        "id": "cUqPnMtM4E08"
      },
      "source": [
        "İlk sütunu y train ve y test'e aktarıyoruz. Son durumda x_train piksel değerleri ve x_test ground truth(doğru etiket) ile modelimizi eğiteceğiz. Eğitilmiş modele x_test girdisini vererek eğitilen yapay sinir ağının sonuç vermesini sağlayacağız. Daha sonra y_test'de bulunan doğru etiketler ile validation accuracy yani doğrulama adımı başarımını hesaplayarak modelin görmediği data üstündeki başarımını sorgulayacağız. Burada en önemli olan konu test verisinin train verisine sızmamasıdır. Bundan dolayı öncesinde standartlaştırma kullanılması durumunda fit, fit_transform komutlarına dikkat etmek gerekir. Biz bu çalışmamızda kullanmıyoruz."
      ]
    },
    {
      "cell_type": "code",
      "execution_count": 34,
      "metadata": {
        "execution": {
          "iopub.execute_input": "2021-01-06T14:24:18.801956Z",
          "iopub.status.busy": "2021-01-06T14:24:18.800801Z",
          "iopub.status.idle": "2021-01-06T14:24:18.807545Z",
          "shell.execute_reply": "2021-01-06T14:24:18.808122Z"
        },
        "papermill": {
          "duration": 0.034014,
          "end_time": "2021-01-06T14:24:18.808339",
          "exception": false,
          "start_time": "2021-01-06T14:24:18.774325",
          "status": "completed"
        },
        "tags": [],
        "id": "JKWtuvgM4E09",
        "outputId": "2ae8acab-aa40-4e80-82ec-83ace3d018a8",
        "colab": {
          "base_uri": "https://localhost:8080/"
        }
      },
      "outputs": [
        {
          "output_type": "stream",
          "name": "stdout",
          "text": [
            "x_train shape:  (1887, 784)\n",
            "y_train shape:  (1887, 1)\n",
            "x_test shape:  (1886, 784)\n",
            "y_test shape:  (1886, 1)\n"
          ]
        }
      ],
      "source": [
        "y_train=train.iloc[:,:1]\n",
        "x_train = train.iloc[:,1:]\n",
        "y_test = test.iloc[:,:1]\n",
        "x_test = test.iloc[:,1:]\n",
        "\n",
        "print(\"x_train shape: \", x_train.shape)\n",
        "print(\"y_train shape: \", y_train.shape)\n",
        "print(\"x_test shape: \", x_test.shape)\n",
        "print(\"y_test shape: \", y_test.shape)\n"
      ]
    },
    {
      "cell_type": "markdown",
      "metadata": {
        "papermill": {
          "duration": 0.018788,
          "end_time": "2021-01-06T14:24:18.846709",
          "exception": false,
          "start_time": "2021-01-06T14:24:18.827921",
          "status": "completed"
        },
        "tags": [],
        "id": "8ZTA0hNP4E0-"
      },
      "source": [
        "Normalizasyon özellikle farklı boyutlardaki dataları 0 ile 1 arasında dağılım gösterecek şekilde yeniden düzenleme anlamına gelmektedir. Bir çok farklı yöntemi olduğu gibi, biz en büyük değere yani bir pikselin alabileceği en yüksek değer olan 255'e bölerek devam edeceğiz. \n",
        "\n",
        "Daha sonrasında bir sıra halinde ( 784 ) olan değerleri yeniden şekillendirerek (reshape) 28x28x1'lik fotoğrafları tekrar oluşturacağız. Bu adımın amacı sadece fotoğrafları görselleştirmektir. Yoksa bu şekilde devam ederek sinir ağı kurabiliriz. Burada reshape yaptığımızdan dolayı göreceksiniz yapay sinir ağlarına \"flatten\" yani 28x28'lik datayı 784'lük bir giriş vektörüne dönüştürme katmanı ekleyeceğiz.\n",
        "\n",
        "Bir diğer konu ise hedef değerin durumuna karar vermektir. Ne konuşmuştuk, y değerleri 0'dan 9'a kadar değişiyor ve şu anda y_train.shape[0]=60k, y_test.shape[0]=10k olmak üzere birer vektör halinde. Böyle de devam edebiliriz ama o zaman sinir ağı son katmanımızın (çıkış katmanı) nasıl bir yapıda olacağını iyi düşünmemiz gerekir. Tek bir norondan oluşup 0 ile 9 arasında değer veren bir yapı da inşa edebiliriz, ona göre aktivasyon fonksiyonu ve loss fonksiyonu seçeriz. Ama bunu düşünmeye gerek yok kategorik yapılar için çok ama çok iyi çalışan softmax aktivasyonu ve categorical_crossentropy loss fonskiyonu bu tarz 2'den fazla sınıf bulunan sınıflandırma problemleri için çok güzel çalışmaktadır. Ama softmax'i kullanmak için vektör halinde olan çıktımızı bir array'e dönüştürmemiz gerekiyor. Bu dönüşümlere encoding demekteyiz. Kullanacağımız yapı bir array oalcağından one hot encoding yapısını kullanacağız. Peki bu one hot encoding ne yapıyor? Aşağıdaki resimde de göründüğü üzere kategorik sınıflandırmayı (bu string de olabilir number da) bir vektörden matrixe dönüştürüyor. Bu sayede sonucu makineler daha rahat ifade edebiliyor. Yapay sinir ağları için de tek nöron üstünden tahminlemek yerine, sınıf adeti kadar nöron koyarak tahminlemek daha büyük başarı getiriyor.\n",
        "\n",
        "![ohe](https://i.imgur.com/mtimFxh.png)"
      ]
    },
    {
      "cell_type": "code",
      "source": [
        "import numpy as np"
      ],
      "metadata": {
        "id": "aPKZkYn_E4sD"
      },
      "execution_count": 38,
      "outputs": []
    },
    {
      "cell_type": "code",
      "execution_count": 41,
      "metadata": {
        "execution": {
          "iopub.execute_input": "2021-01-06T14:24:18.895802Z",
          "iopub.status.busy": "2021-01-06T14:24:18.895035Z",
          "iopub.status.idle": "2021-01-06T14:24:19.037689Z",
          "shell.execute_reply": "2021-01-06T14:24:19.036905Z"
        },
        "papermill": {
          "duration": 0.171739,
          "end_time": "2021-01-06T14:24:19.037830",
          "exception": false,
          "start_time": "2021-01-06T14:24:18.866091",
          "status": "completed"
        },
        "tags": [],
        "id": "aPOUrIhu4E0_",
        "outputId": "815787d2-b4a0-4eb8-f795-46707764488c",
        "colab": {
          "base_uri": "https://localhost:8080/"
        }
      },
      "outputs": [
        {
          "output_type": "stream",
          "name": "stdout",
          "text": [
            "x_train shape:  (1887, 28, 28, 1)\n",
            "y_train shape:  (1887, 10, 10, 10)\n",
            "x_test shape:  (1886, 28, 28, 1)\n",
            "y_test shape:  (1886, 10, 10, 10)\n"
          ]
        }
      ],
      "source": [
        "#normalize\n",
        "\n",
        "x_train = x_train/255.\n",
        "x_test  = x_test/255.\n",
        "\n",
        "#one-hot encoding\n",
        "num_classes=10\n",
        "y_train = tensorflow.keras.utils.to_categorical(y_train, num_classes)\n",
        "y_test = tensorflow.keras.utils.to_categorical(y_test, num_classes)\n",
        "\n",
        "print(\"x_train shape: \", x_train.shape)\n",
        "print(\"y_train shape: \", y_train.shape)\n",
        "print(\"x_test shape: \", x_test.shape)\n",
        "print(\"y_test shape: \", y_test.shape)\n"
      ]
    },
    {
      "cell_type": "markdown",
      "metadata": {
        "papermill": {
          "duration": 0.018946,
          "end_time": "2021-01-06T14:24:19.076264",
          "exception": false,
          "start_time": "2021-01-06T14:24:19.057318",
          "status": "completed"
        },
        "tags": [],
        "id": "ibJIlWzN4E1C"
      },
      "source": [
        "Aşağıda ilk 16 görseli ve ait oldukları sınıfları çizdiren bir matplotlib kodu bulunmaktadır."
      ]
    },
    {
      "cell_type": "code",
      "execution_count": 43,
      "metadata": {
        "execution": {
          "iopub.execute_input": "2021-01-06T14:24:19.123561Z",
          "iopub.status.busy": "2021-01-06T14:24:19.122702Z",
          "iopub.status.idle": "2021-01-06T14:24:21.104074Z",
          "shell.execute_reply": "2021-01-06T14:24:21.102924Z"
        },
        "papermill": {
          "duration": 2.008593,
          "end_time": "2021-01-06T14:24:21.104239",
          "exception": false,
          "start_time": "2021-01-06T14:24:19.095646",
          "status": "completed"
        },
        "tags": [],
        "id": "EghKG2Yn4E1D",
        "outputId": "ee540265-172a-44a1-c722-3470c2d1783f",
        "colab": {
          "base_uri": "https://localhost:8080/",
          "height": 934
        }
      },
      "outputs": [
        {
          "output_type": "display_data",
          "data": {
            "text/plain": [
              "<Figure size 1152x1152 with 16 Axes>"
            ],
            "image/png": "[encoded data removed]"
          },
          "metadata": {
            "needs_background": "light"
          }
        }
      ],
      "source": [
        "fig = plt.figure(figsize = (16, 16))\n",
        "\n",
        "for i in range(16):  \n",
        "    plt.subplot(4,4,1 + i)\n",
        "    plt.title(np.argmax(y_train[i]),fontname=\"Times New Roman\",fontweight=\"bold\")\n",
        "    plt.imshow(x_train[i,:,:,0], cmap=plt.get_cmap('gray'))\n",
        "plt.show()"
      ]
    },
    {
      "cell_type": "markdown",
      "metadata": {
        "papermill": {
          "duration": 0.021348,
          "end_time": "2021-01-06T14:24:21.148202",
          "exception": false,
          "start_time": "2021-01-06T14:24:21.126854",
          "status": "completed"
        },
        "tags": [],
        "id": "j5iY30bw4E1D"
      },
      "source": [
        "Şimdi bu kod çok önemli değil, bu olmasa da çalışır kodumuz ama temel olarak imgelerin farklı formatları olabiliyor. Bu formatlardan bazıları kanal sayısını ilk başta ifade ediyor, böyle bir imge var ise hizalamak için böyle bir kod yazılmakta. Sonuç olarak yapay sinir ağına girişimiz için imgelerin hepsi 28x28x1 boyutunda. Eğer konvolasyonel sinir ağı (CNN) kullanmayacak isek bu array'i yukarda bahsettiğim gibi vektöre çevireceğiz. CNN'ler \"MNIST Turkce Aciklamali Derin Ogrenmeye Giris - 2\" çalışmasının konusu olacaktır."
      ]
    },
    {
      "cell_type": "code",
      "execution_count": 44,
      "metadata": {
        "execution": {
          "iopub.execute_input": "2021-01-06T14:24:21.202050Z",
          "iopub.status.busy": "2021-01-06T14:24:21.201119Z",
          "iopub.status.idle": "2021-01-06T14:24:21.204880Z",
          "shell.execute_reply": "2021-01-06T14:24:21.205708Z"
        },
        "papermill": {
          "duration": 0.036207,
          "end_time": "2021-01-06T14:24:21.205884",
          "exception": false,
          "start_time": "2021-01-06T14:24:21.169677",
          "status": "completed"
        },
        "tags": [],
        "id": "lIl7CFXr4E1E",
        "outputId": "e0714095-9117-497b-f116-1ec3b2873543",
        "colab": {
          "base_uri": "https://localhost:8080/"
        }
      },
      "outputs": [
        {
          "output_type": "stream",
          "name": "stdout",
          "text": [
            "(28, 28, 1)\n"
          ]
        }
      ],
      "source": [
        "img_rows = 28\n",
        "img_cols = 28\n",
        "if K.image_data_format() == 'channels_first':\n",
        "    x_train = x_train.reshape(x_train.shape[0], 1, img_rows, img_cols)\n",
        "    x_test = x_test.reshape(x_test.shape[0], 1, img_rows, img_cols)\n",
        "    input_shape = (1, img_rows, img_cols)\n",
        "else:\n",
        "    x_train = x_train.reshape(x_train.shape[0], img_rows, img_cols, 1)\n",
        "    x_test = x_test.reshape(x_test.shape[0], img_rows, img_cols, 1)\n",
        "    input_shape = (img_rows, img_cols, 1)\n",
        "    \n",
        "print (input_shape)"
      ]
    },
    {
      "cell_type": "markdown",
      "metadata": {
        "papermill": {
          "duration": 0.021669,
          "end_time": "2021-01-06T14:24:21.249412",
          "exception": false,
          "start_time": "2021-01-06T14:24:21.227743",
          "status": "completed"
        },
        "tags": [],
        "id": "U-46LSd54E1F"
      },
      "source": [
        "Hiper parametreler deneme yanılma ile probleme özgü bulmamız gereken parametrelerdir. Bunlar için temel değerler tanımladım. İleride her birisini tek tek açıklarım belki :)"
      ]
    },
    {
      "cell_type": "code",
      "execution_count": 45,
      "metadata": {
        "execution": {
          "iopub.execute_input": "2021-01-06T14:24:21.299304Z",
          "iopub.status.busy": "2021-01-06T14:24:21.298457Z",
          "iopub.status.idle": "2021-01-06T14:24:21.301720Z",
          "shell.execute_reply": "2021-01-06T14:24:21.301079Z"
        },
        "papermill": {
          "duration": 0.030489,
          "end_time": "2021-01-06T14:24:21.301847",
          "exception": false,
          "start_time": "2021-01-06T14:24:21.271358",
          "status": "completed"
        },
        "tags": [],
        "id": "e3V5X3Lh4E1G"
      },
      "outputs": [],
      "source": [
        "#Hyper Parameters\n",
        "batch_size = 128\n",
        "num_classes = 10\n",
        "epochs = 20\n",
        "learning_rate=0.001\n"
      ]
    },
    {
      "cell_type": "markdown",
      "metadata": {
        "papermill": {
          "duration": 0.021187,
          "end_time": "2021-01-06T14:24:21.344765",
          "exception": false,
          "start_time": "2021-01-06T14:24:21.323578",
          "status": "completed"
        },
        "tags": [],
        "id": "9DjlBUeA4E1G"
      },
      "source": [
        "ilk modelimiz oldukça küçük bir sinir ağı. 2 Gizli katmanımız bulunuyor. İlki 8 nöronlu ve aktivizasyon olarak sigmoid fonksiyonu kullandık. Buradan sonra bir çok model deneyerek, hiper parametrelerle oynayarak sonuçları gözlemleyeceğiz.\n",
        "\n",
        "* input -> 8 -> sigmoid ->16 -> sigmoid -> softmax\n",
        "\n",
        "Başarım:   0.849 ( Val Acc.) --> Yüksek görünse de en yüksek skorların 0.99-1.00 arasında değiştiğini düşündüğümüzde büyük fark olduğu görünmektedir."
      ]
    },
    {
      "cell_type": "code",
      "source": [
        "modela = Sequential()\n",
        "modela.add(Flatten(input_shape=input_shape))\n",
        "\n",
        "modela.add(Dense(8, activation='sigmoid'))\n",
        "\n",
        "modela.add(Dense(16, activation='sigmoid'))\n",
        "\n",
        "modela.add(Dense(num_classes, activation='softmax'))"
      ],
      "metadata": {
        "id": "9Eg_Dp6DGn-T"
      },
      "execution_count": 47,
      "outputs": []
    },
    {
      "cell_type": "code",
      "source": [
        "adam=tensorflow.keras.optimizers.Adam(lr=learning_rate)\n",
        "modela.compile(loss='categorical_crossentropy', optimizer='adam',metrics=['accuracy'])\n",
        "modela.summary()"
      ],
      "metadata": {
        "colab": {
          "base_uri": "https://localhost:8080/"
        },
        "id": "NWaaD7FGGv4H",
        "outputId": "e1720799-88fd-460a-be44-c94084e37597"
      },
      "execution_count": 48,
      "outputs": [
        {
          "output_type": "stream",
          "name": "stdout",
          "text": [
            "Model: \"sequential_1\"\n",
            "_________________________________________________________________\n",
            " Layer (type)                Output Shape              Param #   \n",
            "=================================================================\n",
            " flatten_1 (Flatten)         (None, 784)               0         \n",
            "                                                                 \n",
            " dense_3 (Dense)             (None, 8)                 6280      \n",
            "                                                                 \n",
            " dense_4 (Dense)             (None, 16)                144       \n",
            "                                                                 \n",
            " dense_5 (Dense)             (None, 10)                170       \n",
            "                                                                 \n",
            "=================================================================\n",
            "Total params: 6,594\n",
            "Trainable params: 6,594\n",
            "Non-trainable params: 0\n",
            "_________________________________________________________________\n"
          ]
        }
      ]
    },
    {
      "cell_type": "markdown",
      "metadata": {
        "papermill": {
          "duration": 0.134115,
          "end_time": "2021-01-06T14:24:40.670258",
          "exception": false,
          "start_time": "2021-01-06T14:24:40.536143",
          "status": "completed"
        },
        "tags": [],
        "id": "u-4qT7qb4E1J"
      },
      "source": [
        "* input -> 512 -> tanh ->1024 -> tanh -> 1024 -> tanh -> softmax\n",
        "\n",
        "Başarım:   0.894 ( Val Acc.)"
      ]
    },
    {
      "cell_type": "code",
      "execution_count": 61,
      "metadata": {
        "execution": {
          "iopub.execute_input": "2021-01-06T14:24:40.949803Z",
          "iopub.status.busy": "2021-01-06T14:24:40.949092Z",
          "iopub.status.idle": "2021-01-06T14:24:41.034815Z",
          "shell.execute_reply": "2021-01-06T14:24:41.033826Z"
        },
        "papermill": {
          "duration": 0.23101,
          "end_time": "2021-01-06T14:24:41.035000",
          "exception": false,
          "start_time": "2021-01-06T14:24:40.803990",
          "status": "completed"
        },
        "tags": [],
        "id": "TcATnU2_4E1K",
        "outputId": "192defec-48aa-497c-c2ae-301fafa39018",
        "colab": {
          "base_uri": "https://localhost:8080/"
        }
      },
      "outputs": [
        {
          "output_type": "stream",
          "name": "stdout",
          "text": [
            "learn rate:  0.001 ,epochs:  20\n",
            "Model: \"sequential_3\"\n",
            "_________________________________________________________________\n",
            " Layer (type)                Output Shape              Param #   \n",
            "=================================================================\n",
            " flatten_3 (Flatten)         (None, 784)               0         \n",
            "                                                                 \n",
            " dense_10 (Dense)            (None, 512)               401920    \n",
            "                                                                 \n",
            " dense_11 (Dense)            (None, 1024)              525312    \n",
            "                                                                 \n",
            " dropout_2 (Dropout)         (None, 1024)              0         \n",
            "                                                                 \n",
            " dense_12 (Dense)            (None, 1024)              1049600   \n",
            "                                                                 \n",
            " dropout_3 (Dropout)         (None, 1024)              0         \n",
            "                                                                 \n",
            " dense_13 (Dense)            (None, 10)                10250     \n",
            "                                                                 \n",
            "=================================================================\n",
            "Total params: 1,987,082\n",
            "Trainable params: 1,987,082\n",
            "Non-trainable params: 0\n",
            "_________________________________________________________________\n"
          ]
        }
      ],
      "source": [
        "print(\"learn rate: \",learning_rate, \",epochs: \", epochs)\n",
        "\n",
        "model = Sequential()\n",
        "model.add(Flatten(input_shape=input_shape))\n",
        "model.add(Dense(512, activation='tanh'))\n",
        "model.add(Dense(1024, activation='tanh'))\n",
        "model.add(Dropout(0.2))\n",
        "model.add(Dense(1024, activation='tanh'))\n",
        "model.add(Dropout(0.2))\n",
        "model.add(Dense(num_classes, activation='softmax'))\n",
        "\n",
        "adam=tensorflow.keras.optimizers.Adam(lr=learning_rate)\n",
        "model.compile(loss='categorical_crossentropy', optimizer='adam',metrics=['accuracy'])\n",
        "model.summary()"
      ]
    },
    {
      "cell_type": "markdown",
      "metadata": {
        "papermill": {
          "duration": 1.711352,
          "end_time": "2021-01-06T14:29:23.275807",
          "exception": false,
          "start_time": "2021-01-06T14:29:21.564455",
          "status": "completed"
        },
        "tags": [],
        "id": "IyPAWaEC4E1M"
      },
      "source": [
        "* input --> 512-> relu -> 1024 ->relu -> 1024 -> relu -> Softmax, optimizer = adam\n",
        "\n",
        "Başarım:   0.898 ( Val Acc.)"
      ]
    },
    {
      "cell_type": "code",
      "source": [
        "model2 = Sequential()\n",
        "model2.add(Flatten(input_shape=input_shape))\n",
        "model2.add(Dense(512, activation='relu'))\n",
        "model2.add(Dense(1024, activation='relu'))\n",
        "model2.add(Dropout(0.2))\n",
        "model2.add(Dense(1024, activation='relu'))\n",
        "model2.add(Dropout(0.2))\n",
        "model2.add(Dense(num_classes, activation='softmax'))"
      ],
      "metadata": {
        "id": "nCkaKcDfIXB6"
      },
      "execution_count": 65,
      "outputs": []
    },
    {
      "cell_type": "code",
      "source": [
        "adam=tensorflow.keras.optimizers.Adam(lr=learning_rate)\n",
        "model2.compile(loss='categorical_crossentropy', optimizer='adam',metrics=['accuracy'])\n",
        "model2.summary()\n"
      ],
      "metadata": {
        "colab": {
          "base_uri": "https://localhost:8080/"
        },
        "id": "KuMgKketIdGN",
        "outputId": "5c2fa905-cd08-4ab1-b95e-bb6e62756d27"
      },
      "execution_count": 68,
      "outputs": [
        {
          "output_type": "stream",
          "name": "stdout",
          "text": [
            "Model: \"sequential_6\"\n",
            "_________________________________________________________________\n",
            " Layer (type)                Output Shape              Param #   \n",
            "=================================================================\n",
            " flatten_6 (Flatten)         (None, 784)               0         \n",
            "                                                                 \n",
            " dense_22 (Dense)            (None, 512)               401920    \n",
            "                                                                 \n",
            " dense_23 (Dense)            (None, 1024)              525312    \n",
            "                                                                 \n",
            " dropout_8 (Dropout)         (None, 1024)              0         \n",
            "                                                                 \n",
            " dense_24 (Dense)            (None, 1024)              1049600   \n",
            "                                                                 \n",
            " dropout_9 (Dropout)         (None, 1024)              0         \n",
            "                                                                 \n",
            " dense_25 (Dense)            (None, 10)                10250     \n",
            "                                                                 \n",
            "=================================================================\n",
            "Total params: 1,987,082\n",
            "Trainable params: 1,987,082\n",
            "Non-trainable params: 0\n",
            "_________________________________________________________________\n"
          ]
        }
      ]
    },
    {
      "cell_type": "markdown",
      "metadata": {
        "papermill": {
          "duration": 3.298387,
          "end_time": "2021-01-06T14:34:28.096794",
          "exception": false,
          "start_time": "2021-01-06T14:34:24.798407",
          "status": "completed"
        },
        "tags": [],
        "id": "8dQlyglD4E1O"
      },
      "source": [
        "* input --> 512 --> relu --> 1024 --> relu --> 1024 --> softmax, oprimizer= RMSprop\n",
        "\n",
        "Başarım:  0.889 ( Val Acc.)"
      ]
    },
    {
      "cell_type": "code",
      "source": [
        "model3 = Sequential()\n",
        "model3.add(Flatten(input_shape=input_shape))\n",
        "model3.add(Dense(512, activation='relu'))\n",
        "model3.add(Dense(1024, activation='relu'))\n",
        "model3.add(Dropout(0.2))\n",
        "model3.add(Dense(1024, activation='relu'))\n",
        "model3.add(Dropout(0.2))\n",
        "model3.add(Dense(num_classes, activation='softmax'))"
      ],
      "metadata": {
        "id": "BfzKfi7AJVVE"
      },
      "execution_count": 76,
      "outputs": []
    },
    {
      "cell_type": "code",
      "source": [
        "RMS=tensorflow.keras.optimizers.RMSprop(lr=learning_rate)\n",
        "model3.compile(loss='categorical_crossentropy', optimizer=RMS,metrics=['accuracy'])\n",
        "model3.summary()\n"
      ],
      "metadata": {
        "colab": {
          "base_uri": "https://localhost:8080/"
        },
        "id": "-LNvxalaJbQO",
        "outputId": "45eba4e0-88a4-410d-c651-8b3a04716f04"
      },
      "execution_count": 79,
      "outputs": [
        {
          "output_type": "stream",
          "name": "stdout",
          "text": [
            "Model: \"sequential_8\"\n",
            "_________________________________________________________________\n",
            " Layer (type)                Output Shape              Param #   \n",
            "=================================================================\n",
            " flatten_8 (Flatten)         (None, 784)               0         \n",
            "                                                                 \n",
            " dense_30 (Dense)            (None, 512)               401920    \n",
            "                                                                 \n",
            " dense_31 (Dense)            (None, 1024)              525312    \n",
            "                                                                 \n",
            " dropout_12 (Dropout)        (None, 1024)              0         \n",
            "                                                                 \n",
            " dense_32 (Dense)            (None, 1024)              1049600   \n",
            "                                                                 \n",
            " dropout_13 (Dropout)        (None, 1024)              0         \n",
            "                                                                 \n",
            " dense_33 (Dense)            (None, 10)                10250     \n",
            "                                                                 \n",
            "=================================================================\n",
            "Total params: 1,987,082\n",
            "Trainable params: 1,987,082\n",
            "Non-trainable params: 0\n",
            "_________________________________________________________________\n"
          ]
        }
      ]
    },
    {
      "cell_type": "markdown",
      "metadata": {
        "papermill": {
          "duration": 4.899265,
          "end_time": "2021-01-06T14:40:13.301237",
          "exception": false,
          "start_time": "2021-01-06T14:40:08.401972",
          "status": "completed"
        },
        "tags": [],
        "id": "2LR0HgTl4E1P"
      },
      "source": [
        " Başarım: 0.893"
      ]
    },
    {
      "cell_type": "code",
      "source": [
        "model4 = Sequential()\n",
        "model4.add(Flatten(input_shape=input_shape))\n",
        "model4.add(Dense(1024, activation='relu'))\n",
        "\n",
        "model4.add(Dense(2048, activation='relu'))\n",
        "model4.add(Dropout(0.2))\n",
        "model4.add(Dense(1024, activation='relu'))\n",
        "model4.add(Dropout(0.2))\n",
        "model4.add(Dense(512, activation='relu'))\n",
        "model4.add(Dense(num_classes, activation='softmax'))"
      ],
      "metadata": {
        "id": "mC6EMEBHJsR-"
      },
      "execution_count": 81,
      "outputs": []
    },
    {
      "cell_type": "code",
      "source": [
        "adam=tensorflow.keras.optimizers.Adam(lr=learning_rate)\n",
        "model2.compile(loss='categorical_crossentropy', optimizer='adam',metrics=['accuracy'])\n",
        "\n",
        "model4.compile(loss='categorical_crossentropy', optimizer=adam,metrics=['accuracy'])\n",
        "\n",
        "model4.summary()"
      ],
      "metadata": {
        "colab": {
          "base_uri": "https://localhost:8080/"
        },
        "id": "Dz8iSX-lJwym",
        "outputId": "364fd259-39cd-40cf-c26a-441e115a4990"
      },
      "execution_count": 82,
      "outputs": [
        {
          "output_type": "stream",
          "name": "stdout",
          "text": [
            "Model: \"sequential_9\"\n",
            "_________________________________________________________________\n",
            " Layer (type)                Output Shape              Param #   \n",
            "=================================================================\n",
            " flatten_9 (Flatten)         (None, 784)               0         \n",
            "                                                                 \n",
            " dense_34 (Dense)            (None, 1024)              803840    \n",
            "                                                                 \n",
            " dense_35 (Dense)            (None, 2048)              2099200   \n",
            "                                                                 \n",
            " dropout_14 (Dropout)        (None, 2048)              0         \n",
            "                                                                 \n",
            " dense_36 (Dense)            (None, 1024)              2098176   \n",
            "                                                                 \n",
            " dropout_15 (Dropout)        (None, 1024)              0         \n",
            "                                                                 \n",
            " dense_37 (Dense)            (None, 512)               524800    \n",
            "                                                                 \n",
            " dense_38 (Dense)            (None, 10)                5130      \n",
            "                                                                 \n",
            "=================================================================\n",
            "Total params: 5,531,146\n",
            "Trainable params: 5,531,146\n",
            "Non-trainable params: 0\n",
            "_________________________________________________________________\n"
          ]
        }
      ]
    }
  ],
  "metadata": {
    "kernelspec": {
      "display_name": "Python 3",
      "language": "python",
      "name": "python3"
    },
    "language_info": {
      "codemirror_mode": {
        "name": "ipython",
        "version": 3
      },
      "file_extension": ".py",
      "mimetype": "text/x-python",
      "name": "python",
      "nbconvert_exporter": "python",
      "pygments_lexer": "ipython3",
      "version": "3.7.6"
    },
    "papermill": {
      "duration": 1721.724796,
      "end_time": "2021-01-06T14:52:39.566672",
      "environment_variables": {},
      "exception": null,
      "input_path": "__notebook__.ipynb",
      "output_path": "__notebook__.ipynb",
      "parameters": {},
      "start_time": "2021-01-06T14:23:57.841876",
      "version": "2.1.0"
    },
    "colab": {
      "provenance": [],
      "collapsed_sections": [],
      "include_colab_link": true
    }
  },
  "nbformat": 4,
  "nbformat_minor": 0
}