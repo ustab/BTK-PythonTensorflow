{
  "metadata": {
    "kernelspec": {
      "language": "python",
      "display_name": "Python 3",
      "name": "python3"
    },
    "language_info": {
      "name": "python",
      "version": "3.7.9",
      "mimetype": "text/x-python",
      "codemirror_mode": {
        "name": "ipython",
        "version": 3
      },
      "pygments_lexer": "ipython3",
      "nbconvert_exporter": "python",
      "file_extension": ".py"
    },
    "colab": {
      "provenance": [],
      "collapsed_sections": [],
      "include_colab_link": true
    }
  },
  "nbformat_minor": 0,
  "nbformat": 4,
  "cells": [
    {
      "cell_type": "markdown",
      "metadata": {
        "id": "view-in-github",
        "colab_type": "text"
      },
      "source": [
        "<a href=\"https://colab.research.google.com/github/ustab/BTK-PythonTensorflow/blob/master/streamlit_app_on_kaggle_notebook.ipynb\" target=\"_parent\"><img src=\"https://colab.research.google.com/assets/colab-badge.svg\" alt=\"Open In Colab\"/></a>"
      ]
    },
    {
      "cell_type": "markdown",
      "source": [
        "# Run streamlit app from a Google Colab Notebook"
      ],
      "metadata": {
        "id": "dmCn4MTQLViL"
      }
    },
    {
      "cell_type": "markdown",
      "source": [
        "# Install streamlit"
      ],
      "metadata": {
        "id": "hidwf6eDLViS"
      }
    },
    {
      "cell_type": "code",
      "source": [
        "# Install streamlit \n",
        "# NB : If any error occurs during installation process , run it again\n",
        "!pip install -q streamlit"
      ],
      "metadata": {
        "_kg_hide-output": true,
        "trusted": true,
        "colab": {
          "base_uri": "https://localhost:8080/"
        },
        "id": "yiJLK1lOLViT",
        "outputId": "d9471fca-cf27-412f-8b31-95da68e1a27a"
      },
      "execution_count": 1,
      "outputs": [
        {
          "output_type": "stream",
          "name": "stdout",
          "text": [
            "\u001b[K     |████████████████████████████████| 9.2 MB 2.1 MB/s \n",
            "\u001b[K     |████████████████████████████████| 4.7 MB 38.8 MB/s \n",
            "\u001b[K     |████████████████████████████████| 181 kB 63.3 MB/s \n",
            "\u001b[K     |████████████████████████████████| 237 kB 64.6 MB/s \n",
            "\u001b[K     |████████████████████████████████| 164 kB 52.6 MB/s \n",
            "\u001b[K     |████████████████████████████████| 78 kB 4.4 MB/s \n",
            "\u001b[K     |████████████████████████████████| 63 kB 1.5 MB/s \n",
            "\u001b[K     |████████████████████████████████| 51 kB 3.4 MB/s \n",
            "\u001b[?25h  Building wheel for validators (setup.py) ... \u001b[?25l\u001b[?25hdone\n"
          ]
        }
      ]
    },
    {
      "cell_type": "markdown",
      "source": [
        "# Download a streamlit app example or upload your app file or create a new file"
      ],
      "metadata": {
        "id": "UxZnEM9xLViW"
      }
    },
    {
      "cell_type": "code",
      "source": [
        "# download your streamlit file(s)\n",
        "# an example\n",
        "!wget https://raw.githubusercontent.com/ahmedshahriar/eda_basketball/main/eda_basketball.py"
      ],
      "metadata": {
        "execution": {
          "iopub.status.busy": "2022-09-10T00:15:30.746243Z",
          "iopub.execute_input": "2022-09-10T00:15:30.746800Z",
          "iopub.status.idle": "2022-09-10T00:15:32.542073Z",
          "shell.execute_reply.started": "2022-09-10T00:15:30.746683Z",
          "shell.execute_reply": "2022-09-10T00:15:32.540919Z"
        },
        "trusted": true,
        "id": "NuIgErfgLViX",
        "outputId": "48a9e04a-7f91-4d5a-d257-0c1e67ee8bd0"
      },
      "execution_count": null,
      "outputs": [
        {
          "name": "stdout",
          "text": "--2022-09-10 00:15:31--  https://raw.githubusercontent.com/ahmedshahriar/eda_basketball/main/eda_basketball.py\nResolving raw.githubusercontent.com (raw.githubusercontent.com)... 185.199.110.133, 185.199.111.133, 185.199.108.133, ...\nConnecting to raw.githubusercontent.com (raw.githubusercontent.com)|185.199.110.133|:443... connected.\nHTTP request sent, awaiting response... 200 OK\nLength: 3159 (3.1K) [text/plain]\nSaving to: ‘eda_basketball.py’\n\neda_basketball.py   100%[===================>]   3.08K  --.-KB/s    in 0s      \n\n2022-09-10 00:15:32 (9.04 MB/s) - ‘eda_basketball.py’ saved [3159/3159]\n\n",
          "output_type": "stream"
        }
      ]
    },
    {
      "cell_type": "markdown",
      "source": [
        "## Code and Save your streamlit file(s)\n",
        "## A sample below"
      ],
      "metadata": {
        "id": "P4f95kkiLViZ"
      }
    },
    {
      "cell_type": "code",
      "source": [
        "%%writefile my_app.py\n",
        "\n",
        "import streamlit as st\n",
        "import pandas as pd\n",
        "import numpy as np\n",
        "\n",
        "def main():\n",
        "    st.write(\"\"\"# Simple streamlit app\"\"\")\n",
        "    ser1 = pd.Series(list('abcedfghijklmnopqrstuvwxyz'))\n",
        "    ser2 = pd.Series(np.arange(26))\n",
        "    df = pd.DataFrame({\"alpha\":ser1, \"num\":ser2}).reset_index()\n",
        "    st.dataframe(df)\n",
        "    st.write(\"\"\"### Line Chart on Alpha Column \"\"\")\n",
        "    st.line_chart(df.alpha)\n",
        "    st.write(\"\"\"### Line Chart on Num Column \"\"\")\n",
        "    st.line_chart(df.num)\n",
        "\n",
        "if __name__ == '__main__':\n",
        "    main()"
      ],
      "metadata": {
        "execution": {
          "iopub.status.busy": "2022-09-10T00:15:35.057848Z",
          "iopub.execute_input": "2022-09-10T00:15:35.058224Z",
          "iopub.status.idle": "2022-09-10T00:15:35.065269Z",
          "shell.execute_reply.started": "2022-09-10T00:15:35.058192Z",
          "shell.execute_reply": "2022-09-10T00:15:35.064242Z"
        },
        "trusted": true,
        "colab": {
          "base_uri": "https://localhost:8080/"
        },
        "id": "3z65Uqe4LVia",
        "outputId": "24380fee-adf2-42c7-8ee6-82be429ff648"
      },
      "execution_count": 2,
      "outputs": [
        {
          "output_type": "stream",
          "name": "stdout",
          "text": [
            "Writing my_app.py\n"
          ]
        }
      ]
    },
    {
      "cell_type": "markdown",
      "source": [
        "# Install ngrok"
      ],
      "metadata": {
        "id": "_G5bnAM2LVib"
      }
    },
    {
      "cell_type": "code",
      "source": [
        "!wget https://bin.equinox.io/c/4VmDzA7iaHb/ngrok-stable-linux-amd64.zip"
      ],
      "metadata": {
        "_kg_hide-output": true,
        "execution": {
          "iopub.status.busy": "2022-09-10T00:15:38.156892Z",
          "iopub.execute_input": "2022-09-10T00:15:38.157235Z",
          "iopub.status.idle": "2022-09-10T00:15:42.517936Z",
          "shell.execute_reply.started": "2022-09-10T00:15:38.157205Z",
          "shell.execute_reply": "2022-09-10T00:15:42.516858Z"
        },
        "trusted": true,
        "colab": {
          "base_uri": "https://localhost:8080/"
        },
        "id": "l_s5aRNwLVic",
        "outputId": "d75049db-6e12-4aff-e3d8-b293985a2594"
      },
      "execution_count": 3,
      "outputs": [
        {
          "output_type": "stream",
          "name": "stdout",
          "text": [
            "--2022-10-03 09:30:52--  https://bin.equinox.io/c/4VmDzA7iaHb/ngrok-stable-linux-amd64.zip\n",
            "Resolving bin.equinox.io (bin.equinox.io)... 54.161.241.46, 18.205.222.128, 52.202.168.65, ...\n",
            "Connecting to bin.equinox.io (bin.equinox.io)|54.161.241.46|:443... connected.\n",
            "HTTP request sent, awaiting response... 200 OK\n",
            "Length: 13832437 (13M) [application/octet-stream]\n",
            "Saving to: ‘ngrok-stable-linux-amd64.zip’\n",
            "\n",
            "ngrok-stable-linux- 100%[===================>]  13.19M  5.95MB/s    in 2.2s    \n",
            "\n",
            "2022-10-03 09:30:55 (5.95 MB/s) - ‘ngrok-stable-linux-amd64.zip’ saved [13832437/13832437]\n",
            "\n"
          ]
        }
      ]
    },
    {
      "cell_type": "markdown",
      "source": [
        "# Unzip ngrok files"
      ],
      "metadata": {
        "id": "KX_kSIH_LVid"
      }
    },
    {
      "cell_type": "code",
      "source": [
        "!unzip ngrok-stable-linux-amd64.zip"
      ],
      "metadata": {
        "_kg_hide-output": true,
        "execution": {
          "iopub.status.busy": "2022-09-10T00:15:44.301514Z",
          "iopub.execute_input": "2022-09-10T00:15:44.301929Z",
          "iopub.status.idle": "2022-09-10T00:15:45.746647Z",
          "shell.execute_reply.started": "2022-09-10T00:15:44.301893Z",
          "shell.execute_reply": "2022-09-10T00:15:45.745401Z"
        },
        "trusted": true,
        "colab": {
          "base_uri": "https://localhost:8080/"
        },
        "id": "ZDlbEx1nLVid",
        "outputId": "80368e06-3b30-45ca-f702-acdba80053e4"
      },
      "execution_count": 4,
      "outputs": [
        {
          "output_type": "stream",
          "name": "stdout",
          "text": [
            "Archive:  ngrok-stable-linux-amd64.zip\n",
            "  inflating: ngrok                   \n"
          ]
        }
      ]
    },
    {
      "cell_type": "markdown",
      "source": [
        "# Serve "
      ],
      "metadata": {
        "id": "tkMJUXlWLVie"
      }
    },
    {
      "cell_type": "markdown",
      "source": [
        "## Run these 3 cells below consecutively to host in ngrok\n",
        "\n",
        "### If you want to restart the hosting process, stop the last cell and run again these 3 cells below consecutively"
      ],
      "metadata": {
        "id": "NokYa9ymLVie"
      }
    },
    {
      "cell_type": "code",
      "source": [
        "get_ipython().system_raw('./ngrok http 8501 &')"
      ],
      "metadata": {
        "execution": {
          "iopub.status.busy": "2022-09-10T00:15:48.394049Z",
          "iopub.execute_input": "2022-09-10T00:15:48.394430Z",
          "iopub.status.idle": "2022-09-10T00:15:48.412798Z",
          "shell.execute_reply.started": "2022-09-10T00:15:48.394397Z",
          "shell.execute_reply": "2022-09-10T00:15:48.411298Z"
        },
        "trusted": true,
        "id": "fVCXsAxiLVif"
      },
      "execution_count": 5,
      "outputs": []
    },
    {
      "cell_type": "code",
      "source": [
        "!curl -s http://localhost:4040/api/tunnels | python3 -c \\\n",
        "    'import sys, json; print(\"Execute the next cell and the go to the following URL: \" +json.load(sys.stdin)[\"tunnels\"][0][\"public_url\"])'"
      ],
      "metadata": {
        "execution": {
          "iopub.status.busy": "2022-09-10T00:15:51.234023Z",
          "iopub.execute_input": "2022-09-10T00:15:51.234440Z",
          "iopub.status.idle": "2022-09-10T00:15:52.461814Z",
          "shell.execute_reply.started": "2022-09-10T00:15:51.234400Z",
          "shell.execute_reply": "2022-09-10T00:15:52.460723Z"
        },
        "trusted": true,
        "colab": {
          "base_uri": "https://localhost:8080/"
        },
        "id": "3q4sufVOLVif",
        "outputId": "49d4c6ec-124a-4f26-e40e-7fe90cfd8b2f"
      },
      "execution_count": 6,
      "outputs": [
        {
          "output_type": "stream",
          "name": "stdout",
          "text": [
            "Execute the next cell and the go to the following URL: https://8f7b-35-221-198-25.ngrok.io\n"
          ]
        }
      ]
    },
    {
      "cell_type": "code",
      "source": [
        "# run your file containing the script \n",
        "\n",
        "# your uploaded file\n",
        "!streamlit run ./eda_basketball.py\n",
        "\n",
        "# or\n",
        "\n",
        "# newly created file\n",
        "# !streamlit run ./my_app.py"
      ],
      "metadata": {
        "execution": {
          "iopub.status.busy": "2022-09-10T00:15:55.042829Z",
          "iopub.execute_input": "2022-09-10T00:15:55.043210Z",
          "iopub.status.idle": "2022-09-10T00:15:56.182259Z",
          "shell.execute_reply.started": "2022-09-10T00:15:55.043173Z",
          "shell.execute_reply": "2022-09-10T00:15:56.181090Z"
        },
        "trusted": true,
        "colab": {
          "base_uri": "https://localhost:8080/"
        },
        "id": "u7O0fSXULVig",
        "outputId": "4109239f-7450-421a-c4d0-79fe43bd7736"
      },
      "execution_count": 7,
      "outputs": [
        {
          "output_type": "stream",
          "name": "stdout",
          "text": [
            "2022-10-03 09:31:29.727 INFO    numexpr.utils: NumExpr defaulting to 2 threads.\n",
            "Usage: streamlit run [OPTIONS] TARGET [ARGS]...\n",
            "\n",
            "Error: Invalid value: File does not exist: ./eda_basketball.py\n"
          ]
        }
      ]
    },
    {
      "cell_type": "markdown",
      "source": [
        "If you go to the above ngrok URL (signature https://abc.ngrok.io ) You will see this page\n",
        "![alt text](https://i.paste.pics/b12f403852be9998d3ba05642654402b.png \"EDA basketball\")"
      ],
      "metadata": {
        "id": "MrnGabzWLVig"
      }
    }
  ]
}