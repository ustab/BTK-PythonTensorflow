{
  "nbformat": 4,
  "nbformat_minor": 0,
  "metadata": {
    "colab": {
      "provenance": [],
      "collapsed_sections": [],
      "authorship_tag": "ABX9TyOY7ue7hFEqdTUnr7zYUEU0",
      "include_colab_link": true
    },
    "kernelspec": {
      "name": "python3",
      "display_name": "Python 3"
    },
    "language_info": {
      "name": "python"
    }
  },
  "cells": [
    {
      "cell_type": "markdown",
      "metadata": {
        "id": "view-in-github",
        "colab_type": "text"
      },
      "source": [
        "<a href=\"https://colab.research.google.com/github/ustab/BTK-PythonTensorflow/blob/master/DATA_SAPLON.ipynb\" target=\"_parent\"><img src=\"https://colab.research.google.com/assets/colab-badge.svg\" alt=\"Open In Colab\"/></a>"
      ]
    },
    {
      "cell_type": "code",
      "execution_count": null,
      "metadata": {
        "id": "W8RfyvwykBUT"
      },
      "outputs": [],
      "source": [
        "#1.kutuphaneler\n",
        "import numpy as np\n",
        "import matplotlib.pyplot as plt\n",
        "import pandas as pd\n",
        "\n",
        "#2.veri onisleme\n",
        "#2.1.veri yukleme\n",
        "veriler = pd.read_csv('veriler.csv')\n",
        "#pd.read_csv(\"veriler.csv\")\n",
        "#test\n",
        "print(veriler)\n",
        "\n",
        "x = veriler.iloc[:,1:4].values #bağımsız değişkenler\n",
        "y = veriler.iloc[:,4:].values #bağımlı değişken\n",
        "print(y)\n",
        "\n",
        "#verilerin egitim ve test icin bolunmesi\n",
        "from sklearn.model_selection import train_test_split\n",
        "\n",
        "x_train, x_test,y_train,y_test = train_test_split(x,y,test_size=0.33, random_state=0)\n",
        "\n",
        "#verilerin olceklenmesi\n",
        "from sklearn.preprocessing import StandardScaler\n",
        "\n",
        "sc=StandardScaler()\n",
        "\n",
        "X_train = sc.fit_transform(x_train)\n",
        "X_test = sc.transform(x_test)\n",
        "\n",
        "\n",
        "from sklearn.linear_model import LogisticRegression\n",
        "logr = LogisticRegression(random_state=0)\n",
        "logr.fit(X_train,y_train)\n",
        "\n",
        "y_pred = logr.predict(X_test)\n",
        "print(y_pred)\n",
        "print(y_test)\n"
      ]
    }
  ]
}