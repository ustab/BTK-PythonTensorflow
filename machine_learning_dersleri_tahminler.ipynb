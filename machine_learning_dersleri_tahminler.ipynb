{
  "cells": [
    {
      "cell_type": "markdown",
      "metadata": {
        "id": "view-in-github",
        "colab_type": "text"
      },
      "source": [
        "<a href=\"https://colab.research.google.com/github/ustab/BTK-PythonTensorflow/blob/master/machine_learning_dersleri_tahminler.ipynb\" target=\"_parent\"><img src=\"https://colab.research.google.com/assets/colab-badge.svg\" alt=\"Open In Colab\"/></a>"
      ]
    },
    {
      "cell_type": "markdown",
      "id": "3933bb41",
      "metadata": {
        "papermill": {
          "duration": 0.082711,
          "end_time": "2022-03-08T12:42:37.305053",
          "exception": false,
          "start_time": "2022-03-08T12:42:37.222342",
          "status": "completed"
        },
        "tags": [],
        "id": "3933bb41"
      },
      "source": [
        "# Girizgah\n",
        "\n",
        "Merhaba, ben Sezer. Bu notebook Hacettepe Üniversitesi Yapay Zeka Topluluğunun \"Makine Öğrenmesi Derslerinin\" 2. haftasında eğitmenliğini üstlendiğim konuların, anlatımlarının ve kodlarının yer aldığı bir çalışmadır. \n",
        "\n",
        "# Motivasyon\n",
        "\n",
        "Cahilce bir şeyler yaratmak. Yazılım dünyasına \"Hello World!\" dediğinde, kimse arkaplanda çalışan birleri ve sıfırları bilmiyordu. Bende öyle... Cahilce bir çok şey yarattım ancak cahilliğimi koruyamadığım tek alan Yapay Zeka oldu diyebilirim, teorisinin arkasında yatan sayıların iletişimini öğrenmeden istediğim yere gidemedim. Çoğu insan Makine Öğrenmesinin \"Kodlamadan çok matematik\" olduğunu söylüyor, bende öyle düşünüyorum. Basit uygulamaların ötesine geçeceksek teoriyle birlikte matematiğini, istatistiğini, olasılık teorisini bilmek gerekiyor. \n",
        "\n",
        "## Dunning-Kruger Etkisi\n",
        "\n",
        "Dunning-kruger etkisi \"Yetkin olmayan insanların becerilerine aşırı değer biçme eğilimi\" olarak özetleniyor. Yani cahil cesareti. Dunning-kruger etkisini aşağıda ki grafikte görebiliriz. Motivasyon bölümüne, genellikle grafikler ve veriyle uğraştığımız bir alanla ilgili olarak grafikle gösterilen bir psikolojik etkiyi eklemezsem olmaz diye düşündüm. \n",
        "\n",
        "Asıl sebebi şu, makine öğrenmesini öğrenmek bazen bu etkinin zıttında da çalışabilir, hatta çalışmaz. Eğer makine öğrenmesi çok zor geliyorsa tutkunuzu kaybetmeyin, zamana yayın. Temeli sözel olan birisi oalrak bu alanda kendimi istediğim takdirde istediğim şekilde geliştirebildiğimi gördüm.\n",
        "\n",
        "Aynı şekilde, çok büyük özgüvenle başlasanız bile makine öğrenmesinde kendinizi geliştirdikçe bilmediğimiz çok daha fazla şeyin olduğunu görüyoruz. Buda motivasyon düşürmesin, istikrar ve çalışma ile büyük bir başarının söz konusu olduğunu düşünüyorum. \n",
        "\n",
        "![](https://pbs.twimg.com/media/EsQ7XXqXEAcV5Db?format=jpg&name=large)\n",
        "\n",
        "## Yeni bir alan, yeni bir dünya!!!\n",
        "\n",
        "Makine öğrenmesi, derin öğrenme, veri bilimi, yapay zeka. Bu kavramlar birbirlerinin yerine kullanılsada bir küme içerisinde birleştirelim bunları, buda yapay zeka olsun. Yapay zeka yepyeni bir alan, geçen haftada söylendiği gibi şuan bile bir makale yazılıyor, teknik yada teorik bir gelişme yapılıyor ve sürekli ileri gidiyor. Henüz çok yeni. Uygulandığı tonla alan olsada çok daha fazla uygulanmadı alan söz konusu. Yapay zeka neredeyse her şeye uyarlanabilir. Kaba kuvvet gerektiren bir işte bile, kaba kuvveti minimize edip tekniği geliştirerek o işi daha hızlı bitirmenin yollarını yapay zeka ile bulabiliriz. \n",
        "\n",
        "Ben burada sayısal disiplinlerden gelmeyen arkadaşları ekstradan cesaretlendirmek istiyorum. Yeni bir şey icat etmeniz çok muhtemel, sizin disipliniz ve yapay zeka disiplininin birleştirilmemiş olma ihtimali var. Bugün büyük bir gelişmeyle ilgili makale okuyorsanız iki hafta sonra sizde makale yazıyor olabilirsiniz, buda muhtemel diyebilirim. Yapay zeka dünyası bir silikon vadisiyse o vadide daha çok boş arazi var..."
      ]
    },
    {
      "cell_type": "markdown",
      "id": "91ad9b22",
      "metadata": {
        "papermill": {
          "duration": 0.095351,
          "end_time": "2022-03-08T12:42:37.481996",
          "exception": false,
          "start_time": "2022-03-08T12:42:37.386645",
          "status": "completed"
        },
        "tags": [],
        "id": "91ad9b22"
      },
      "source": [
        "# Jupyter Notebook Nedir?\n",
        "\n",
        "> Project Jupyter, amacı \"düzinelerce programlama dilinde etkileşimli bilgi işlem için açık kaynaklı yazılım, açık standartlar ve hizmetler geliştirmek\" olan bir proje ve topluluktur. 2014 yılında Fernando Pérez ve Brian Granger tarafından IPython'dan ayrıldı. Wikipedia\n",
        "\n",
        "> IPython Notebook yada diğer adıyla Jupyter Notebook çeşitli programlama dillerini kullanabileceğimiz etkileşimli bir arayüz sağlayan açık kaynaklı bir yazılımdır. - Ben\n",
        "\n",
        "Jupyter notebook bir defter gibi kullanılabilir, şuan bu metinler, görseller, animasyonlar, bağlantılar, kodlar, grafikler ve kodların çıktılarının tamamı bir Jupyter Notebook üzerinde hazırlanmış ve barınıyor. Kodlarımızı interaktif olarak Jupyter Notebook üzerinde çalıştırabiliyoruz, çıktılarını da interaktif olarak görebiliyoruz.\n",
        "\n",
        "Jupyter notebook metin dili olarak Markdown kullanır, Markdown ise bünyesinde bazı HTML kodlarını çalıştırmaya izin verir. \n",
        "\n",
        "Jupyter notebook hücrelerden oluşur.\n",
        "\n",
        "# Neden Jupyter Notebook?\n",
        "\n",
        "* Jupyter notebook'unuzu doğrudan kullandığınız python geliştirme ortamında çalıştırabilirsiniz ve bu geliştirme ortamında bulunan tüm kütüphanelere erişebilirsiniz.\n",
        "* Jupyter notebook kaggle, google colab, dataspell gibi platformlarda tarayıcı üzerinden, bilgisayarınızın hesaplama gücünü kullanmadan çalışabilir.\n",
        "* Yeni başlayanlar için sıcak bir arayüz sunar, programlama camiasının \"korkutucu\" arayüzlerinden uzaktır. \n",
        "* Yazdığınız kodların arasında değilde metinsel olarak göze hitap eden, sistemli bir not alma yolunda ilerleyebilirsiniz. \n",
        "* Sektörde özellikle veribilimciler tarafından vazgeçilmez bir yazılımdır, veri analizi sunumlarında yada raporlarında çok işimize yarar.\n",
        "\n",
        "Bazı kısayollar:\n",
        "* CTRL + ENTER: Bulunduğumuz hücreyi çalıştırmaya yarar. Kod yazılıysa kodu derler, markdown yazılıysa markdown'ı uygun formatta gösterir.\n",
        "* SHIFT + ENTER: CTRL + ENTER ile aynıdır ancak bu çalıştığında sıradaki satıra geçer.\n",
        "* Yön tuşlarıyla hücreler arasında gezinebilirsiniz.\n",
        "* \"m\" hücreyi markdown'a çevirir.\n",
        "* \"y\" hücreyi kod bloğuna çevirir.\n"
      ]
    },
    {
      "cell_type": "markdown",
      "id": "dc163ad5",
      "metadata": {
        "papermill": {
          "duration": 0.078316,
          "end_time": "2022-03-08T12:42:37.648099",
          "exception": false,
          "start_time": "2022-03-08T12:42:37.569783",
          "status": "completed"
        },
        "tags": [],
        "id": "dc163ad5"
      },
      "source": [
        "# Kaggle nedir?\n",
        "\n",
        "> Google LLC'nin bir yan kuruluşu olan Kaggle, çevrimiçi veri bilimcileri ve makine öğrenimi uygulayıcıları topluluğudur. - Wikipedia\n",
        "\n",
        "# Neden Kaggle?\n",
        "\n",
        "* En iyi seçenek olmasada çalışmalarımızı gerçekleştirirken bize online bir geliştirme ortamı ve hesaplama gücü verir, çalışmalarımız bulutta depolanmış olur ve bilgisayar bağımsız olarak heryerden erişilebilme imkanı tanır.\n",
        "* Diğer insanların bu alanda yaptığı çalışmaları incelememize olanak sağlar, bizde aynı şekilde çalışmalarımızı paylaşarak kendimize bir portfolyo oluşturabiliriz. Bu çalışmaları github yerine kaggle'da paylaşmanın artısı şudur: çalışmalarımız daha ulaşılabilir olur. \n",
        "* Bünyesinde çok fazla hazır veriseti vardır ve bunları kullanarak becerilerimizi geliştirebiliriz. \n",
        "* Devam eden yarışmalara katılarak kendimizi geliştirebilir ödüller kazanabiliriz yada tamamlanmış yarışmalara katılarak skor tablosunda yerimizi alabiliriz.\n",
        "* Bünyesinde çeşitli başlatıcı kurslar mevcuttur, bu kursları değerlendirebilirsiniz. [Kurslar için buraya tıklayınız.](https://www.kaggle.com/learn)\n",
        "\n",
        "Daha bir çok güzel yanı mevcuttur tabi ancak Google'ın sunduğu bu güzel olanakları kullanmamak ve daha fazlasını keşfetmemek ayıp olur diyebilirim. \n",
        "\n",
        "> Not: Sadece online hesaplama gücü için kaggle kullanacaksanız daha iyi bir alternatif olarak Google Colab'i önerebilirim.\n",
        "\n",
        "\n",
        "# Makine Öğrenmesi\n",
        "\n",
        "> Bilgisayarlara, programlanmadan öğrenme kabiliyeti kazandıran bir çalışma alanı. - Arthur Samuel\n",
        "\n",
        "> Makine öğrenimi veya makine öğrenmesi, bilgisayarların algılayıcı verisi ya da veritabanları gibi veri türlerine dayalı öğrenimini olanaklı kılan algoritmaların tasarım ve geliştirme süreçlerini konu edinen bir bilim dalıdır. - Wikipedia\n",
        "\n",
        "> Makine öğrenmesi, insanların öğrenme şekillerini taklit etmek için veri ve algoritmaların kullanımına odaklanıp doğruluğunu kademeli olarak artıran bir yapay zeka (AI) ve bilgisayar bilimi dalıdır. - [IBM Makine Öğrenmesi Nedir?](https://www.ibm.com/tr-tr/cloud/learn/machine-learning)\n",
        "\n",
        "Kısaca Makine Öğrenmesi, Yapay Zeka'nın bir alt dalıdır, bir yapay öğrenme metodolojisidir. Uygulamada, makine öğrenmesi bize, öğrenme algoritmalarının verilerle beslenerek, sınıflandırma, tahmine dayalı modelleme ve verilerin analiziyle ilgili çeşitli görevler gerçekleştirme imkanlarını tanır.\n",
        "\n",
        "![Ekran Görüntüsü - 1](https://pbs.twimg.com/media/EeNyA2OU0AANI7W?format=png&name=4096x4096)\n",
        "\n",
        "![Ekran Görüntüsü - 2](https://www.slideteam.net/media/catalog/product/cache/1280x720/m/a/machine_learning_vs_traditional_programming_ppt_powerpoint_presentation_icons_slide01.jpg)\n",
        "\n",
        "Makine Öğrenmesi algoritması aslında öğrenen yapının kendisidir, sorun için matematiksel bir denklem kurar ve öğrendikçe bu denklemi optimize eder. Bizde daha sonra bu denklemi benzer sorunlarda çözüm için kullanırız. \n",
        "\n",
        "Makine Öğrenmesinin alt kategorileri:\n",
        "* Supervised Learning\n",
        "* Unsupervised Learning\n",
        "* Semi-supervised Learning\n",
        "* Reinforcement Learning - Pekiştirmeli Öğrenme\n",
        "\n",
        "\n",
        "![Ekran Görüntüsü (231).png](https://miro.medium.com/max/1400/0*p3zNp9D8YFmX32am.jpg)\n",
        "\n",
        "Further Readings:\n",
        "* [Makineler Nasıl Öğrenir?](https://www.veribilimiokulu.com/makineler-nasil-ogrenir/)\n",
        "\n",
        "## Supervised Learning Nedir?\n",
        "\n",
        "\"Gözetimli Öğrenme\" ve \"Denetimli Öğrenme\" olarak dilimize geçmiştir. Gerçekleştireceğimiz makine öğrenmesi uygulamasında genel olarak bir kaynak veriseti kullanırız. Eğer bu kaynak verisetinde girdi ve çıktı verileri bir arada bulunuyorsa gözetimli öğrenme yapabiliriz. En kısa tabirle \"etiketli veri\" ile eğitimi gerçekleştirilen makine öğrenmesi uygulamaları \"Gözetimli Öğrenme\" olarak nitelenebilir. \n",
        "\n",
        "Bazı Supervised Learning Algoritmaları:\n",
        "* Karar Ağaçları ve Rastgele Orman - Decision Tree and Random Forest\n",
        "* K En Yakın Komşu - K Nearest Neighbors\n",
        "* Regresyon Algoritmaları - Simple Linear, Multiple Linear, Polynomial, Ridge, Lasso, Logistic Regression\n",
        "* Destek Vektör Makineleri - Support Vector Machines\n",
        "* Naive Bayes - Koşullu Olasılık Kuralı\n",
        "\n",
        "![](https://blogtech.online/wp-content/uploads/2020/07/supervised-learning-diagram.jpg)\n",
        "\n",
        "[Daha fazlası için: 10 Machine Learning Models to Know for Beginners](https://www.greycampus.com/blog/data-science/10-machine-learning-models-to-know-for-beginners)\n",
        "\n",
        "[Bu örnekleri gördükten sonra Silicon Valley dizisinden \"Not Hotdog\" uygulamasını paylaşmazsam olmaz dedim, buyrun tıklayın.](https://www.youtube.com/watch?v=vIci3C4JkL0)\n",
        "\n",
        "\n",
        "> Gözetimli öğrenme kendi içerisinde ikiye ayrılır, bunlar:\n",
        "\n",
        "### Regression - Prediction Algorithms - Regresyon - Tahmin Algoritmaları\n",
        "\n",
        "Sürekli değerlerin tahmin edilmesinde kullanılır. Bu notebook içerisinde tahmin algoritmalarına değineceğiz. Bu sürekli değerler sayısal veri olarakta geçer. Oransal ve aralıklı ölçekler arasında değerler alır. Boy, kilo, yaş, maaş, hız ve fiyat gibi değerler Oransal ölçek için gösterilebilir. Sıcaklık, zeka derecesi, başarı ölçümü, rakım gibi değerler Aralıklı ölçek için gösterilebilir. Deneyime göre maaş, senelere göre zam veya metrekareye göre fiyat tespiti gibi durumlarda kullanılırlar. Bu durumların genelinde çıktı olarak alacağımız değer sonsuz değer olabilir. \n",
        "\n",
        "### Classification Problems - Sınıflandırma Problemleri\n",
        "\n",
        "Sürekli olmayan, kategorik olan değerlerin sınıflandırılmasında kullanılır. Aslında burada da bir tahmin söz konusudur ancak çıktı değer sınırlı değerler aralığında olacağından bir sınıflandırma söz konusudur. Nominal ve ordinal ölçeklerde değer alır. Nominale örnek olarak cinsiyet, kan grubu gibi ikili durumlar söylenebilir. Ordinal içinse, ünvan, eğitim, rütbe gibi farklılık gösterdiğinde aralarında sıralı ilişkiler olan durumlar söylenebilir. Yaş aralığına göre indirim tutarı(oran değil), çiçeklerin yaprak boyutlarına göre türünün belirlenmesi, boy ve kilo özelliklerine göre cinsiyet tahmini, maaştan ünvan tahmini, mail içeriğinden mailin spam olup olmadığının tahmini yani sınıflandırılması diyebiliriz. \n",
        "\n",
        "![](https://cdn-coiao.nitrocdn.com/CYHudqJZsSxQpAPzLkHFOkuzFKDpEHGF/assets/static/optimized/rev-4d1b478/wp-content/uploads/2021/04/regression-vs-classification_simple-comparison-image_v3.png)\n",
        "\n",
        "## Unsupervised Learning Nedir?\n",
        "\n",
        "\"Gözetimsiz Öğrenme\" ve \"Denetimsiz Öğrenme\" olarak dilimize geçmiştir. Gözetimli Öğrenmeden farkı, etiketli verimizin olmamasıdır, almak istediğimiz sonuç hali hazırda sahip olduğumuz veriseti içerisinde yoktur. Genel anlamda etiketsiz verileri analiz etmek, kümelek, gruplamak için kullanılır. Gözetimsiz öğrenme algoritmaları verisetleri içerisinde kalıplar ve şablonlar bularak yani ilişkileri tespit ederek öğrenme gerçekleştirir.\n",
        "\n",
        "Bazı uygulama alanları ve algoritmaları:\n",
        "* Kümeleme: Benzer verileri gruplar ve etiketler. \n",
        "\n",
        "Biz eğitimimiz boyunca gözetimli öğrenme ve gözetimsiz öğrenme üzerine duracağımız için pekiştirmeli öğrenme ve yarı gözetimli öğrenme üzerine bilgi aktarımı gerçekleştirmiyoruz ancak daha fazla bilgi için aşağıya bir bağlantı bırakıyoruz.\n",
        "\n",
        "![](https://blogtech.online/wp-content/uploads/2020/07/unsupervised-learning-diagram.jpg)\n",
        "\n",
        "[Daha fazla bilgi için okumanızı tavsiye ediyorum: Makine Öğrenmesi (Machine Learning) Nedir?](https://www.turhost.com/blog/makine-ogrenmesi-machine-learning-nedir/)\n",
        "\n",
        "## Scikit Learn kütüphanesi - frameworkü hakkında...\n",
        "\n",
        "Scikit Learn kütüphanesi veri bilimi ve makine öğrenmesi uygulamalarında kullanılan en yaygın Python modüllerinden biridir. Bu alanlarla ilgili ihtiyaç duyabileceğimiz çoğu fonksiyon ve algoritma bünyesinde hali hazırda vardır. Başlangıç aşamasında sci-kit learn kullanırken bünyesinde getirdiği \"starter dataset\"leri kullanabiliriz, bunlarda pratik yapmamızı oldukça kolaylaştırır. Derin Öğrenme odaklı bir kütüphane değildir, derin öğrenme ile ilgili çalışmalar gerçekleştirirken başvurcağımız ilk iki kütüphane TensorFlow ve PyTorch olacaktır. \n",
        "\n",
        "Aşağıdaki bağlantıları kullanarak daha fazlasını öğrenebilirsiniz, bu bağlantılarda surf yapıp keşfe çıkmanızı tavsiye ediyorum.\n",
        "* [scikit-learn: Machine Learning in Python](https://scikit-learn.org/stable/)\n",
        "* [scikit-learn user guide](https://scikit-learn.org/stable/user_guide.html)\n",
        "* Makine Öğrenmesi Algoritması seçeceğiniz zaman ilk ziyaret etmeniz gereken bağlantı: [scikit-learn algorithm cheat-sheet](https://scikit-learn.org/stable/tutorial/machine_learning_map/index.html)\n",
        "\n",
        "## Bazı terimler\n",
        "\n",
        "> Veriseti: Makine öğrenmesi algoritmaları geliştirmek için kullandığımız bilgi birikintisi diyebiliriz... İngilizcede \"Dataset\" olarak geçer.\n",
        "\n",
        "> Bağımsız değişken: Veristesi içerisinde bulunan makine öğrenmesi modelini eğitmek ve test etmek ve bu model ile tahmin yapabilmek için makine öğrenmesi algoritmasına verdiğimiz girdi bilgilerdir. Örneğin elimizde boy ve yaş bilgilerinin olduğu bir veriseti var diyelim, boyu kullanarak yaşı elde etmek istiyorsak \"boy\" bilgisi bir bağımsız değişkendir. \"Girdi değişkeni\", \"Öznitelik\", \"Özellik\" ve \"Feature\" ile eş anlamlı olarak kullanılır. Bağımlı değişkeni açıklamaya yarar.\n",
        "\n",
        "> \"X\",büyük x, bağımsız değişkeni temsilen kullanılır. \n",
        "\n",
        "> Bağımlı değişken: Veriseti içerisinde tahmin edilmesini istediğimiz değişkendir. Yukarıda ki örneği kullanırsak, \"yaş\" bilgisi bizim için bir bağımlı değişken konumundadır. \"Çıktı değişkeni\", \"Etiket\" ve \"Label\" ile eş anlamlı olarak kullanılır.\n",
        "\n",
        "> \"y\", küçük y, bağımlı değişkeni temsilen kullanılır.\n",
        "\n",
        "> Gözlem: Veriseti içerisinde bulunan her bir örnekleme gözlem denir. Genel anlamda sütunlar özellikleri, satırlar ise gözlemleri işaret eder.\n",
        "\n",
        "> Eğitim verisi: Makine öğrenmesi algoritmasına verdiğimiz ve makine öğrenmesi modelini oluştururken kullandığımız veri grubu. İngilizcede \"Training Data\" olarak geçer.\n",
        "\n",
        "> Test verisi: Eğittiğimiz makine öğrenmesi modelinin test edilip doğruluk oranının hesaplanması için kullandığımız veri grubu. İngilizcede \"Test Data\" olarak geçer.\n",
        "\n",
        "> Aykırı gözlem: Aykırı değer olarakta geçer, İngilizcesi \"outlier\"dır. Aykırı gözlem kısaca, bulunduğu verisetindeki diğer gözlemlerden çok farklı, aşırı değerler almış, öğrenme sürecine zarar verebilen, modelimizi yanıltabilen istisna gözlemdir. Örnek olarak, yeni evli bir çift istedikleri özelliklere göre bir semt bulur ve bu semtin en önemli kriteri hanelerin gelir ortalamasıdır. Bu semte taşınırlar, gelir ortalaması 10k değerine diyelim, yeni evine taşınan çift zamanla bu semtin gelir ortalamasının 2k olduğunu öğrenir / fark eder. Araştırmaya başlarlar, buna sebep olan şey ise bu semtte maaşı çok yüksek bir milyarderin yaşıyor olmasıdır. Bu milyarder bu semtteki maaş dağılım dengesini bozmuştur, milyarderin maaşı aykırı gözlemdir çünkü analizimi yanıltmıştır. Örneğin burada en önemli kriter olarak medyan kullanılsaydı hata payı azalabilirdi. \n",
        "\n",
        "\n",
        "* [Veriseti Animasyonu](https://www.figma.com/embed?embed_host=share&url=https%3A%2F%2Fwww.figma.com%2Fproto%2FoKWxNt5stAWCBIYA1Fgu6n%2FMachine-Learning%3Fpage-id%3D0%253A1%26node-id%3D2%253A1117%26viewport%3D368%252C48%252C1%26scaling%3Dcontain%26starting-point-node-id%3D2%253A430)"
      ]
    },
    {
      "cell_type": "code",
      "execution_count": null,
      "id": "b5d5a59a",
      "metadata": {
        "execution": {
          "iopub.execute_input": "2022-03-08T12:42:37.818222Z",
          "iopub.status.busy": "2022-03-08T12:42:37.817505Z",
          "iopub.status.idle": "2022-03-08T12:42:37.827124Z",
          "shell.execute_reply": "2022-03-08T12:42:37.826415Z",
          "shell.execute_reply.started": "2022-03-08T12:35:38.943888Z"
        },
        "papermill": {
          "duration": 0.100548,
          "end_time": "2022-03-08T12:42:37.827324",
          "exception": false,
          "start_time": "2022-03-08T12:42:37.726776",
          "status": "completed"
        },
        "tags": [],
        "id": "b5d5a59a",
        "outputId": "54cfa654-4f9c-49b2-c44c-fdf0e1c8f2b1"
      },
      "outputs": [
        {
          "data": {
            "text/html": [
              "<iframe style=\"border: 1px solid rgba(0, 0, 0, 0.1);\" width=\"800\" height=\"600\" src=\"https://www.figma.com/embed?embed_host=share&url=https%3A%2F%2Fwww.figma.com%2Fproto%2FoKWxNt5stAWCBIYA1Fgu6n%2FMachine-Learning%3Fpage-id%3D0%253A1%26node-id%3D2%253A1117%26viewport%3D368%252C48%252C1%26scaling%3Dcontain%26starting-point-node-id%3D2%253A430\" allowfullscreen></iframe>\n"
            ],
            "text/plain": [
              "<IPython.core.display.HTML object>"
            ]
          },
          "metadata": {},
          "output_type": "display_data"
        }
      ],
      "source": [
        "%%html\n",
        "<iframe style=\"border: 1px solid rgba(0, 0, 0, 0.1);\" width=\"800\" height=\"600\" src=\"https://www.figma.com/embed?embed_host=share&url=https%3A%2F%2Fwww.figma.com%2Fproto%2FoKWxNt5stAWCBIYA1Fgu6n%2FMachine-Learning%3Fpage-id%3D0%253A1%26node-id%3D2%253A1117%26viewport%3D368%252C48%252C1%26scaling%3Dcontain%26starting-point-node-id%3D2%253A430\" allowfullscreen></iframe>"
      ]
    },
    {
      "cell_type": "markdown",
      "id": "155983b4",
      "metadata": {
        "papermill": {
          "duration": 0.079819,
          "end_time": "2022-03-08T12:42:37.988608",
          "exception": false,
          "start_time": "2022-03-08T12:42:37.908789",
          "status": "completed"
        },
        "tags": [],
        "id": "155983b4"
      },
      "source": [
        "# Doğrusal Regresyon Nedir\n",
        "\n",
        "Basit doğrusal regresyon makine öğrenmesi dünyasının \"Hello World\"ü olabilir, oldukça yaygın olarak kullanılan en temel algoritmalardan birisidir. Tanımına göre, doğrusal regresyon değişkenler arasında ki ilişkiyi bulmak ve ölçmek için kullanılan istatistiksel bir yaklaşımdır. Burada ki doğrusallık, değişkenler arasında ki değişimin oransal bağlantısıyla alakasıdır. Orantının yönü doğru olabileceği gibi ters orantıda olabilir. Burada yine korelasyonu sıfır olan değişkenler birbiriyle alakasız, sıfırdan uzak olan değişkenler alakalıdır.\n",
        "\n",
        "> Doğrusal regresyon bir tahmin algoritmasıdır ve makine öğrenmesinde kullandığımız tahmin algoritmalarının çoğu istatistikten gelir ve istatistiksel öğrenme diye geçer.\n",
        "\n",
        "# Doğrusal Regression Ne Yapar? \n",
        "Örneğin, bir ziraat mühendisi buğday verimi ve gübre miktarı arasındaki ilişkiyi, bir mühendis, basınç ve sıcaklık, bir ekonomist gelir düzeyi ve tüketim harcamaları, bir eğitimci öğrencilerin devamsızlık gösterdiği gün sayıları ve başarı dereceleri arasındaki ilişkiyi bilmek isteyebilir. Regresyon ile bu ilişkiler hesaplanabilir. - Wikipedia\n",
        "\n",
        "Yukarıdaki örneklerde olduğu gibi, metrekare ile fiyat, tecrübe ile maaşta  birbirini etkileyen verilerdir. Regresyon bu veriler arasındaki doğrusal bağlantıyı ölçmemizi sağlar. Bu gibi birbirini etkileyen değişkenler arasında doğrusal bir hesaplama yapılabilen problemlere çözüm getirmeye odaklanır. \"Prediction\" yani sürekli değişken üzerinden tahmin için kullanılır. Kategorik verilerde kullanılmaz. Bağımlı ve bağımsız değişken/değişkenler arasındaki doğrusal ilişkiyi düz bir çizgi çizerek formülize etmek ve bunun üzerinden çıkarım yapmak, açıklamak için kullanılır. \n",
        "\n",
        "![](https://images.saymedia-content.com/.image/t_share/MTc0NjM5MDEyNTAwNjEzMTEw/how-to-create-a-simple-linear-regression-equation.png)\n",
        "\n",
        "> Bu istatistiksel ilişkiye dayanan bir örnektir.\n",
        "\n",
        "\n",
        "# Doğrusal Regresyon ne yapamaz?\n",
        "\n",
        "Bağımlı ve Bağımsız değişkenler arasında doğrusal bir ilişki olmayan verisetlerinde çıkarım yapamaz. Tahmin yapabilir, sınıflandırma yapamaz. \n",
        "\n",
        "\n",
        "## Matematiksel gösterimi şu şekildedir \n",
        "\n",
        "### $y = m\\times x + b$\n",
        "\n",
        "$y$ = bağımlı değişken, tahmin etmeye çalıştığımız değer\n",
        "\n",
        "$x$ bağımsız değişkeni, girdiyi\n",
        "\n",
        "$b$ = bias, constant, intercept, doğrunun y eksenini kestiği nokta, y kesişimi\n",
        "\n",
        "$m$ = bağımsız değişkenin çarpanını temsil etmektedir, coeff, katsayı, slope of line, çizginin eğimi\n",
        "\n",
        "---\n",
        "\n",
        "### $y_i = \\beta_0 + \\beta_i \\times x$\n",
        "\n",
        "$y$ = bağımlı değişken, tahmin etmeye çalıştığımız değer\n",
        "\n",
        "$x$ bağımsız değişkeni, girdiyi\n",
        "\n",
        "$\\beta_0$ = bias, constant, intercept, doğrunun y eksenini kestiği nokta, y kesişimi\n",
        "\n",
        "$\\beta_i$ bağımsız değişkenin çarpanını temsil etmektedir, coeff, katsayı, slope of line, çizginin eğimi\n",
        "\n",
        "\n",
        "Bu formül üzerinden açıklamak gerekirse doğrusal regresyon $y$ değerine en yakın sonuca ulaşabileceğimiz $\\beta_0$ ve $\\beta_i$ katsayılarını elde etmeye çalışır.\n",
        "\n",
        "--- \n",
        "\n",
        "### $maaş = \\beta_0 + \\beta_1 \\times {deneyim}$\n",
        "\n",
        "Hiç deneyimi olmayan birisi ne kadar maaş alır? Bu sorunun cevabı $\\beta_0$\n",
        "\n",
        "Deneyimin maaşa etkisi ne? Bu sorunun cevabı $\\beta_1$\n",
        "\n",
        "Tecrübesiz birisi 2000 lira alsın, deneyim olarakta her sene için +500 lira alsın\n",
        "\n",
        "### $maaş = 2000 + 500\\times3 = 3500$\n",
        "\n",
        "---\n",
        "\n",
        "Further Readings:\n",
        "* [Linear Regression Explained Simply](https://www.youtube.com/watch?v=iIUq0SqBSH0)\n",
        "* [scikit-learn - Doğrusal Modeller](https://scikit-learn.org/stable/modules/linear_model.html)\n",
        "* [scikit-learn - Linear Regression Documentation](https://scikit-learn.org/stable/modules/generated/sklearn.linear_model.LinearRegression.html#sklearn.linear_model.LinearRegression)\n",
        "* [Korelasyon Nedir ?](https://medium.com/rick-sanchez-cs/bayes-s%C4%B1n%C4%B1fland%C4%B1r%C4%B1c%C4%B1s%C4%B1-i%CC%87%C3%A7in-olas%C4%B1l%C4%B1ksal-ve-i%CC%87statistiksel-temeller-korelasyon-nedir-7ea30f90033f)"
      ]
    },
    {
      "cell_type": "markdown",
      "id": "92447960",
      "metadata": {
        "papermill": {
          "duration": 0.079824,
          "end_time": "2022-03-08T12:42:38.150390",
          "exception": false,
          "start_time": "2022-03-08T12:42:38.070566",
          "status": "completed"
        },
        "tags": [],
        "id": "92447960"
      },
      "source": [
        "## Girilen gün sayısına göre kaç yıl olduğunu tahmin eden, bir yılın uzunluğunu öğrenen bir model oluşturalım.\n",
        "* 1 yılda 365 gün vardır\n",
        "* 2 yılda 730 gün vardır \n",
        "* 3 yılda 1095 gün vardır \n",
        "* 4 yılda 1460 gün vardır \n",
        "* 5 yılda 1825 gün vardır \n",
        "* 6 yılda 2190 gün vardır \n",
        "* 7 yılda 2555 gün vardır \n",
        "* 8 yılda 2920 gün vardır \n",
        "* 9 yılda 3285 gün vardır \n",
        "* 10 yılda 3650 gün vardır \n",
        "\n",
        "> Biz regresyon algoritmasına doğru orantılı olan değerlerin 4 yılını vereceğiz ve regresyon algoritmasından bize bir formül çıkartmasını isteyeceğiz.\n",
        "\n",
        "> Bu bir deterministik örnektir."
      ]
    },
    {
      "cell_type": "markdown",
      "id": "b65f0568",
      "metadata": {
        "papermill": {
          "duration": 0.079308,
          "end_time": "2022-03-08T12:42:38.310600",
          "exception": false,
          "start_time": "2022-03-08T12:42:38.231292",
          "status": "completed"
        },
        "tags": [],
        "id": "b65f0568"
      },
      "source": [
        "# Simple Linear Regression\n",
        "\n",
        "Eğer bağımsız değişken 1 adet ise \"Basit Doğrusal Regresyon\" oluşturmuş oluruz. \n",
        "\n",
        "Further Readings:\n",
        "* [Basit Lineer Regresyon (Simple Linear Regression)](https://veribilimcisi.com/2017/07/13/basit-lineer-regresyon-nedir/)"
      ]
    },
    {
      "cell_type": "code",
      "execution_count": null,
      "id": "05ff0674",
      "metadata": {
        "execution": {
          "iopub.execute_input": "2022-03-08T12:42:38.480354Z",
          "iopub.status.busy": "2022-03-08T12:42:38.479576Z",
          "iopub.status.idle": "2022-03-08T12:42:39.582052Z",
          "shell.execute_reply": "2022-03-08T12:42:39.581104Z",
          "shell.execute_reply.started": "2022-03-08T12:35:41.507932Z"
        },
        "papermill": {
          "duration": 1.191884,
          "end_time": "2022-03-08T12:42:39.582213",
          "exception": false,
          "start_time": "2022-03-08T12:42:38.390329",
          "status": "completed"
        },
        "tags": [],
        "id": "05ff0674"
      },
      "outputs": [],
      "source": [
        "# Kütüphanelerimizin projeye dahil edilmesi\n",
        "\n",
        "# Lineer Cebir kütüphanesi - Bilimsel hesaplama kütüphanesi\n",
        "import numpy as np\n",
        "\n",
        "# Veri işleme, CSV dosyası okuyup yazma\n",
        "import pandas as pd\n",
        "\n",
        "# Veri görselleştirme\n",
        "import matplotlib.pyplot as plt\n",
        "\n",
        "# sklearn makine öğrenmesi kütüphanesi / frameworku\n",
        "# LinearRegression, adı üzerinde algoritmamız\n",
        "from sklearn.linear_model import LinearRegression\n",
        "\n",
        "# PolynomialFeatures bizim verisetimizde ki verileri polynomial regresyon için uygun hale getirir\n",
        "from sklearn.preprocessing import PolynomialFeatures\n",
        "\n",
        "# Metriklerin projeye dahil edilmesi\n",
        "from sklearn.metrics import r2_score, mean_squared_error, mean_absolute_error "
      ]
    },
    {
      "cell_type": "code",
      "execution_count": null,
      "id": "c9708bbc",
      "metadata": {
        "execution": {
          "iopub.execute_input": "2022-03-08T12:42:39.747974Z",
          "iopub.status.busy": "2022-03-08T12:42:39.747272Z",
          "iopub.status.idle": "2022-03-08T12:42:39.762102Z",
          "shell.execute_reply": "2022-03-08T12:42:39.762653Z",
          "shell.execute_reply.started": "2022-03-08T12:36:09.740046Z"
        },
        "papermill": {
          "duration": 0.100752,
          "end_time": "2022-03-08T12:42:39.762864",
          "exception": false,
          "start_time": "2022-03-08T12:42:39.662112",
          "status": "completed"
        },
        "tags": [],
        "id": "c9708bbc"
      },
      "outputs": [],
      "source": [
        "# Özellikleri gün sayısı, etiketleri yıl sayısı olmak üzere iki veri kümesi oluşturuyoruz\n",
        "# X algoritmaya verdiğimiz değerler\n",
        "X = np.array([365,730,1095,1460]).reshape(-1,1)\n",
        "# y çıktı olarak alacağımız değerler\n",
        "y = np.array([1,2,3,4]).reshape(-1,1)\n",
        "\n",
        "# Modelin oluşturulması ve modelin eğitilmesi\n",
        "linear_reg = LinearRegression().fit(X,y)"
      ]
    },
    {
      "cell_type": "code",
      "execution_count": null,
      "id": "796a0c7c",
      "metadata": {
        "execution": {
          "iopub.execute_input": "2022-03-08T12:42:39.931146Z",
          "iopub.status.busy": "2022-03-08T12:42:39.930424Z",
          "iopub.status.idle": "2022-03-08T12:42:39.933406Z",
          "shell.execute_reply": "2022-03-08T12:42:39.934395Z",
          "shell.execute_reply.started": "2022-03-08T12:36:41.638351Z"
        },
        "papermill": {
          "duration": 0.093031,
          "end_time": "2022-03-08T12:42:39.934656",
          "exception": false,
          "start_time": "2022-03-08T12:42:39.841625",
          "status": "completed"
        },
        "tags": [],
        "id": "796a0c7c",
        "outputId": "52f4fdf6-139a-4eca-c2a4-f442d5a518ef"
      },
      "outputs": [
        {
          "name": "stdout",
          "output_type": "stream",
          "text": [
            "Y Kesişimi b0:  [[-4.4408921e-16]]\n",
            "Y Kesişimi b0:  [-4.4408921e-16]\n",
            "Katsayılar - Çarpanlar b1:  [[0.00273973]]\n",
            "\n",
            "El ile hesap : [[1.]]\n",
            "algoritmanın tahmini [[1.]]\n"
          ]
        }
      ],
      "source": [
        "# Modelin katsayılarının gözlemlenmesi\n",
        "\n",
        "y_kesisimi_b0 = linear_reg.predict(np.array(0).reshape(-1,1)) # [[-4.4408921e-16]]\n",
        "print(\"Y Kesişimi b0: \", y_kesisimi_b0)\n",
        "\n",
        "y_kesisimi_b0 = linear_reg.intercept_ #  [-4.4408921e-16]\n",
        "print(\"Y Kesişimi b0: \", y_kesisimi_b0) # y eksenini kestigi nokta intercept\n",
        "\n",
        "katsayi = linear_reg.coef_ # [[0.00273973]]\n",
        "print(\"Katsayılar - Çarpanlar b1: \", katsayi) # egim / slope / Coefficent\n",
        "print()\n",
        "\n",
        "# Katsayılara göre 11 yıl deneyimi olan kişinin maaşının el ile hesaplanması\n",
        "tahmin = y_kesisimi_b0 + katsayi*365 # [[1.]]\n",
        "print(\"El ile hesap :\",tahmin)\n",
        "\n",
        "# Şimdi de üst satırda yaptığımız işlemi otomatik gerçekleştiren fonksiyonla gerçekleştirelim, 11 yıl deneyimi olan bir kişinin maaşı ne kadar tahmin edelim\n",
        "print(\"algoritmanın tahmini\", linear_reg.predict(np.array(365).reshape(-1,1)))"
      ]
    },
    {
      "cell_type": "markdown",
      "id": "7dcaf1eb",
      "metadata": {
        "papermill": {
          "duration": 0.079267,
          "end_time": "2022-03-08T12:42:40.094947",
          "exception": false,
          "start_time": "2022-03-08T12:42:40.015680",
          "status": "completed"
        },
        "tags": [],
        "id": "7dcaf1eb"
      },
      "source": [
        "## Celsius ve Fahrenheit - Fahrenheit = 32 + 1.8 * Celcius\n",
        "\n",
        "\n",
        "### $y_i = \\beta_0 + \\beta_i \\times x$\n",
        "\n",
        "### $Fahrenheit = 32 + 1.8\\times{Celcius}$\n",
        "\n",
        "> Bu bir deterministik örnektir."
      ]
    },
    {
      "cell_type": "code",
      "execution_count": null,
      "id": "7a816c9a",
      "metadata": {
        "execution": {
          "iopub.execute_input": "2022-03-08T12:42:40.259203Z",
          "iopub.status.busy": "2022-03-08T12:42:40.258164Z",
          "iopub.status.idle": "2022-03-08T12:42:40.265439Z",
          "shell.execute_reply": "2022-03-08T12:42:40.264775Z",
          "shell.execute_reply.started": "2022-03-08T12:37:01.747145Z"
        },
        "papermill": {
          "duration": 0.091248,
          "end_time": "2022-03-08T12:42:40.265583",
          "exception": false,
          "start_time": "2022-03-08T12:42:40.174335",
          "status": "completed"
        },
        "tags": [],
        "id": "7a816c9a"
      },
      "outputs": [],
      "source": [
        "# Celcius\n",
        "X = np.array([-40, -10,  0,  8, 15, 22,  38],  dtype=float).reshape(-1,1)\n",
        "# Fahrenheit\n",
        "y = np.array([-40,  14, 32, 46, 59, 72, 100],  dtype=float).reshape(-1,1) \n",
        "\n",
        "# Modelin oluşturulması ve modelin eğitilmesi\n",
        "linear_reg = LinearRegression().fit(X,y)"
      ]
    },
    {
      "cell_type": "code",
      "execution_count": null,
      "id": "c81c19f1",
      "metadata": {
        "execution": {
          "iopub.execute_input": "2022-03-08T12:42:40.439427Z",
          "iopub.status.busy": "2022-03-08T12:42:40.438658Z",
          "iopub.status.idle": "2022-03-08T12:42:40.738858Z",
          "shell.execute_reply": "2022-03-08T12:42:40.739479Z",
          "shell.execute_reply.started": "2022-03-08T12:37:13.463366Z"
        },
        "papermill": {
          "duration": 0.392973,
          "end_time": "2022-03-08T12:42:40.739673",
          "exception": false,
          "start_time": "2022-03-08T12:42:40.346700",
          "status": "completed"
        },
        "tags": [],
        "id": "c81c19f1",
        "outputId": "3947a0bc-d99b-4e61-d6fc-f05f17c6dc37"
      },
      "outputs": [
        {
          "data": {
            "image/png": "[encoded data removed]",
            "text/plain": [
              "<Figure size 1008x720 with 1 Axes>"
            ]
          },
          "metadata": {
            "needs_background": "light"
          },
          "output_type": "display_data"
        }
      ],
      "source": [
        "fig = plt.figure(figsize=(14,10))\n",
        "plt.scatter(X,y, s=300)\n",
        "plt.plot(X,y, color = \"red\")\n",
        "plt.xlabel(\"Celcius\", size=40)\n",
        "plt.ylabel(\"Fahrenheit\", size = 40)\n",
        "plt.show()"
      ]
    },
    {
      "cell_type": "code",
      "execution_count": null,
      "id": "7e66e28d",
      "metadata": {
        "execution": {
          "iopub.execute_input": "2022-03-08T12:42:40.906940Z",
          "iopub.status.busy": "2022-03-08T12:42:40.906167Z",
          "iopub.status.idle": "2022-03-08T12:42:40.915680Z",
          "shell.execute_reply": "2022-03-08T12:42:40.916229Z",
          "shell.execute_reply.started": "2022-03-08T12:37:42.286689Z"
        },
        "papermill": {
          "duration": 0.094111,
          "end_time": "2022-03-08T12:42:40.916410",
          "exception": false,
          "start_time": "2022-03-08T12:42:40.822299",
          "status": "completed"
        },
        "tags": [],
        "id": "7e66e28d",
        "outputId": "fa10b7c5-846f-4199-d023-1ff52aca1c2a"
      },
      "outputs": [
        {
          "name": "stdout",
          "output_type": "stream",
          "text": [
            "Y Kesişimi b0:  [31.95252564]\n",
            "Katsayılar - Çarpanlar b1:  [[1.79794911]]\n",
            "\n",
            "El ile hesap : [[211.74743638]]\n",
            "algoritmanın tahmini [[211.74743638]]\n"
          ]
        }
      ],
      "source": [
        "# Modelin katsayılarının gözlemlenmesi\n",
        "\n",
        "y_kesisimi_b0 = linear_reg.intercept_\n",
        "print(\"Y Kesişimi b0: \", y_kesisimi_b0) # y eksenini kestigi nokta intercept - [31.95252564]\n",
        "katsayi = linear_reg.coef_\n",
        "print(\"Katsayılar - Çarpanlar b1: \", katsayi) # egim / slope / Coefficent - [[1.79794911]]\n",
        "print()\n",
        "\n",
        "# Katsayılara göre 100 celcius kaç fahrenheit\n",
        "tahmin = y_kesisimi_b0 + katsayi*100\n",
        "print(\"El ile hesap :\",tahmin) # [[211.74743638]]\n",
        "\n",
        "# Şimdi de üst satırda yaptığımız işlemi otomatik gerçekleştiren fonksiyonla gerçekleştirelim, 11 yıl deneyimi olan bir kişinin maaşı ne kadar tahmin edelim\n",
        "print(\"algoritmanın tahmini\", linear_reg.predict(np.array(100).reshape(-1,1))) # [[211.74743638]]"
      ]
    },
    {
      "cell_type": "markdown",
      "id": "c929c47b",
      "metadata": {
        "papermill": {
          "duration": 0.081727,
          "end_time": "2022-03-08T12:42:41.081405",
          "exception": false,
          "start_time": "2022-03-08T12:42:40.999678",
          "status": "completed"
        },
        "tags": [],
        "id": "c929c47b"
      },
      "source": [
        "## Asıl sorun: Maaş\n",
        "\n",
        "> Bu istatistiksel ilişkiye dayanan bir örnektir."
      ]
    },
    {
      "cell_type": "code",
      "execution_count": null,
      "id": "25b9046e",
      "metadata": {
        "execution": {
          "iopub.execute_input": "2022-03-08T12:42:41.248862Z",
          "iopub.status.busy": "2022-03-08T12:42:41.248149Z",
          "iopub.status.idle": "2022-03-08T12:42:41.278278Z",
          "shell.execute_reply": "2022-03-08T12:42:41.278797Z",
          "shell.execute_reply.started": "2022-03-08T12:37:44.345404Z"
        },
        "papermill": {
          "duration": 0.115891,
          "end_time": "2022-03-08T12:42:41.278983",
          "exception": false,
          "start_time": "2022-03-08T12:42:41.163092",
          "status": "completed"
        },
        "tags": [],
        "id": "25b9046e",
        "outputId": "76f495da-c4d0-4015-9d34-0a995d30e11f"
      },
      "outputs": [
        {
          "data": {
            "text/html": [
              "<div>\n",
              "<style scoped>\n",
              "    .dataframe tbody tr th:only-of-type {\n",
              "        vertical-align: middle;\n",
              "    }\n",
              "\n",
              "    .dataframe tbody tr th {\n",
              "        vertical-align: top;\n",
              "    }\n",
              "\n",
              "    .dataframe thead th {\n",
              "        text-align: right;\n",
              "    }\n",
              "</style>\n",
              "<table border=\"1\" class=\"dataframe\">\n",
              "  <thead>\n",
              "    <tr style=\"text-align: right;\">\n",
              "      <th></th>\n",
              "      <th>deneyim</th>\n",
              "      <th>maas</th>\n",
              "    </tr>\n",
              "  </thead>\n",
              "  <tbody>\n",
              "    <tr>\n",
              "      <th>0</th>\n",
              "      <td>0.5</td>\n",
              "      <td>2600</td>\n",
              "    </tr>\n",
              "    <tr>\n",
              "      <th>1</th>\n",
              "      <td>0.0</td>\n",
              "      <td>2350</td>\n",
              "    </tr>\n",
              "    <tr>\n",
              "      <th>2</th>\n",
              "      <td>1.0</td>\n",
              "      <td>3000</td>\n",
              "    </tr>\n",
              "    <tr>\n",
              "      <th>3</th>\n",
              "      <td>5.0</td>\n",
              "      <td>9000</td>\n",
              "    </tr>\n",
              "    <tr>\n",
              "      <th>4</th>\n",
              "      <td>8.0</td>\n",
              "      <td>11000</td>\n",
              "    </tr>\n",
              "    <tr>\n",
              "      <th>5</th>\n",
              "      <td>4.0</td>\n",
              "      <td>6900</td>\n",
              "    </tr>\n",
              "    <tr>\n",
              "      <th>6</th>\n",
              "      <td>15.0</td>\n",
              "      <td>20000</td>\n",
              "    </tr>\n",
              "    <tr>\n",
              "      <th>7</th>\n",
              "      <td>7.0</td>\n",
              "      <td>10000</td>\n",
              "    </tr>\n",
              "    <tr>\n",
              "      <th>8</th>\n",
              "      <td>3.0</td>\n",
              "      <td>6000</td>\n",
              "    </tr>\n",
              "    <tr>\n",
              "      <th>9</th>\n",
              "      <td>2.0</td>\n",
              "      <td>3500</td>\n",
              "    </tr>\n",
              "    <tr>\n",
              "      <th>10</th>\n",
              "      <td>12.0</td>\n",
              "      <td>15000</td>\n",
              "    </tr>\n",
              "    <tr>\n",
              "      <th>11</th>\n",
              "      <td>10.0</td>\n",
              "      <td>13000</td>\n",
              "    </tr>\n",
              "    <tr>\n",
              "      <th>12</th>\n",
              "      <td>14.0</td>\n",
              "      <td>18000</td>\n",
              "    </tr>\n",
              "    <tr>\n",
              "      <th>13</th>\n",
              "      <td>6.0</td>\n",
              "      <td>9500</td>\n",
              "    </tr>\n",
              "  </tbody>\n",
              "</table>\n",
              "</div>"
            ],
            "text/plain": [
              "    deneyim   maas\n",
              "0       0.5   2600\n",
              "1       0.0   2350\n",
              "2       1.0   3000\n",
              "3       5.0   9000\n",
              "4       8.0  11000\n",
              "5       4.0   6900\n",
              "6      15.0  20000\n",
              "7       7.0  10000\n",
              "8       3.0   6000\n",
              "9       2.0   3500\n",
              "10     12.0  15000\n",
              "11     10.0  13000\n",
              "12     14.0  18000\n",
              "13      6.0   9500"
            ]
          },
          "execution_count": 8,
          "metadata": {},
          "output_type": "execute_result"
        }
      ],
      "source": [
        "# Verisetinin projeye dahil edilmesi\n",
        "df = pd.read_csv(\"/kaggle/input/hacettepeailineerregression/linear_regression_dataset.csv\",sep = \";\")\n",
        "\n",
        "# df = DataFrame, Veri Çerçevesi olarak söylenebilir, yani tablomuz\n",
        "# Tablomuzun önizlemesi\n",
        "df"
      ]
    },
    {
      "cell_type": "code",
      "execution_count": null,
      "id": "aab76873",
      "metadata": {
        "execution": {
          "iopub.execute_input": "2022-03-08T12:42:41.468224Z",
          "iopub.status.busy": "2022-03-08T12:42:41.467452Z",
          "iopub.status.idle": "2022-03-08T12:42:41.714215Z",
          "shell.execute_reply": "2022-03-08T12:42:41.714774Z",
          "shell.execute_reply.started": "2022-03-08T12:37:49.517335Z"
        },
        "papermill": {
          "duration": 0.352813,
          "end_time": "2022-03-08T12:42:41.714957",
          "exception": false,
          "start_time": "2022-03-08T12:42:41.362144",
          "status": "completed"
        },
        "tags": [],
        "id": "aab76873",
        "outputId": "a326f29b-2bc9-48ed-8684-55ac5a94d9e4"
      },
      "outputs": [
        {
          "data": {
            "image/png": "[encoded data removed]",
            "text/plain": [
              "<Figure size 1008x720 with 1 Axes>"
            ]
          },
          "metadata": {
            "needs_background": "light"
          },
          "output_type": "display_data"
        }
      ],
      "source": [
        "fig = plt.figure(figsize=(14,10))\n",
        "plt.scatter(df.deneyim,df.maas,color=\"red\", s=300)\n",
        "plt.xlabel(\"Deneyim\", size=40)\n",
        "plt.ylabel(\"Maaş\", size=40)\n",
        "plt.show()"
      ]
    },
    {
      "cell_type": "code",
      "execution_count": null,
      "id": "a1a4c0db",
      "metadata": {
        "execution": {
          "iopub.execute_input": "2022-03-08T12:42:41.888416Z",
          "iopub.status.busy": "2022-03-08T12:42:41.884712Z",
          "iopub.status.idle": "2022-03-08T12:42:42.466080Z",
          "shell.execute_reply": "2022-03-08T12:42:42.466662Z",
          "shell.execute_reply.started": "2022-03-08T12:38:00.648280Z"
        },
        "papermill": {
          "duration": 0.668374,
          "end_time": "2022-03-08T12:42:42.466881",
          "exception": false,
          "start_time": "2022-03-08T12:42:41.798507",
          "status": "completed"
        },
        "tags": [],
        "id": "a1a4c0db",
        "outputId": "30a61973-2e79-4237-8e18-9b8f253f0f9d"
      },
      "outputs": [
        {
          "name": "stderr",
          "output_type": "stream",
          "text": [
            "/opt/conda/lib/python3.7/site-packages/seaborn/_decorators.py:43: FutureWarning: Pass the following variables as keyword args: x, y. From version 0.12, the only valid positional argument will be `data`, and passing other arguments without an explicit keyword will result in an error or misinterpretation.\n",
            "  FutureWarning\n"
          ]
        },
        {
          "data": {
            "text/plain": [
              "Text(0, 0.5, 'Deneyim')"
            ]
          },
          "execution_count": 10,
          "metadata": {},
          "output_type": "execute_result"
        },
        {
          "data": {
            "image/png": "[encoded data removed]",
            "text/plain": [
              "<Figure size 1008x720 with 1 Axes>"
            ]
          },
          "metadata": {
            "needs_background": "light"
          },
          "output_type": "display_data"
        }
      ],
      "source": [
        "import seaborn as sns\n",
        "fig = plt.figure(figsize=(14,10))\n",
        "sns.regplot(df.deneyim,df.maas, marker='o', color='blue', scatter_kws={'s':300}, line_kws={\"color\": \"red\"})\n",
        "plt.xlabel(\"Maaş\", size=40)\n",
        "plt.ylabel(\"Deneyim\", size = 40)"
      ]
    },
    {
      "cell_type": "code",
      "execution_count": null,
      "id": "fdbee1fe",
      "metadata": {
        "execution": {
          "iopub.execute_input": "2022-03-08T12:42:42.657369Z",
          "iopub.status.busy": "2022-03-08T12:42:42.656387Z",
          "iopub.status.idle": "2022-03-08T12:42:42.659979Z",
          "shell.execute_reply": "2022-03-08T12:42:42.660554Z",
          "shell.execute_reply.started": "2022-03-08T12:38:03.228177Z"
        },
        "papermill": {
          "duration": 0.10641,
          "end_time": "2022-03-08T12:42:42.660767",
          "exception": false,
          "start_time": "2022-03-08T12:42:42.554357",
          "status": "completed"
        },
        "tags": [],
        "id": "fdbee1fe",
        "outputId": "e0a13980-7835-41f0-bae2-c29003ded1ef"
      },
      "outputs": [
        {
          "name": "stdout",
          "output_type": "stream",
          "text": [
            "(14, 1)\n",
            "(14, 1)\n"
          ]
        }
      ],
      "source": [
        "# Algoritma objesinin oluşturulması\n",
        "linear_reg = LinearRegression()\n",
        "\n",
        "# Özellikler ve etiketler şeklinde ayırma\n",
        "X = df[[\"deneyim\"]] # df.deneyim.values.reshape(-1,1)\n",
        "y = df[[\"maas\"]] # df.maas.values.reshape(-1,1)\n",
        "\n",
        "print(X.shape)\n",
        "print(y.shape)"
      ]
    },
    {
      "cell_type": "code",
      "execution_count": null,
      "id": "405a501a",
      "metadata": {
        "execution": {
          "iopub.execute_input": "2022-03-08T12:42:42.846830Z",
          "iopub.status.busy": "2022-03-08T12:42:42.845667Z",
          "iopub.status.idle": "2022-03-08T12:42:42.851964Z",
          "shell.execute_reply": "2022-03-08T12:42:42.851259Z",
          "shell.execute_reply.started": "2022-03-08T12:38:24.610590Z"
        },
        "papermill": {
          "duration": 0.103158,
          "end_time": "2022-03-08T12:42:42.852141",
          "exception": false,
          "start_time": "2022-03-08T12:42:42.748983",
          "status": "completed"
        },
        "tags": [],
        "id": "405a501a",
        "outputId": "62ef7698-ef48-4545-e4af-bf9215f88db6"
      },
      "outputs": [
        {
          "data": {
            "text/plain": [
              "LinearRegression()"
            ]
          },
          "execution_count": 12,
          "metadata": {},
          "output_type": "execute_result"
        }
      ],
      "source": [
        "# Modelin eğitimi\n",
        "linear_reg.fit(X,y)"
      ]
    },
    {
      "cell_type": "code",
      "execution_count": null,
      "id": "e7988c93",
      "metadata": {
        "execution": {
          "iopub.execute_input": "2022-03-08T12:42:43.036100Z",
          "iopub.status.busy": "2022-03-08T12:42:43.035203Z",
          "iopub.status.idle": "2022-03-08T12:42:43.042647Z",
          "shell.execute_reply": "2022-03-08T12:42:43.041522Z",
          "shell.execute_reply.started": "2022-03-08T12:38:26.327947Z"
        },
        "papermill": {
          "duration": 0.102622,
          "end_time": "2022-03-08T12:42:43.042919",
          "exception": false,
          "start_time": "2022-03-08T12:42:42.940297",
          "status": "completed"
        },
        "tags": [],
        "id": "e7988c93",
        "outputId": "89340035-d736-4ebd-fda6-6fbaba11109d"
      },
      "outputs": [
        {
          "name": "stdout",
          "output_type": "stream",
          "text": [
            "Y Kesişimi b0:  [2153.29585111]\n",
            "Katsayılar - Çarpanlar b1:  [[1139.47266382]]\n",
            "\n",
            "El ile hesap : [[4432.24117875]]\n",
            "Algoritmanın tahmini [[4432.24117875]]\n"
          ]
        },
        {
          "name": "stderr",
          "output_type": "stream",
          "text": [
            "/opt/conda/lib/python3.7/site-packages/sklearn/base.py:446: UserWarning: X does not have valid feature names, but LinearRegression was fitted with feature names\n",
            "  \"X does not have valid feature names, but\"\n"
          ]
        }
      ],
      "source": [
        "# Modelin katsayılarının gözlemlenmesi\n",
        "\n",
        "y_kesisimi_b0 = linear_reg.intercept_\n",
        "print(\"Y Kesişimi b0: \", y_kesisimi_b0) # y eksenini kestigi nokta intercept\n",
        "katsayi = linear_reg.coef_\n",
        "print(\"Katsayılar - Çarpanlar b1: \", katsayi) # egim / slope / Coefficent\n",
        "print()\n",
        "\n",
        "# Katsayılara göre 2 yıl deneyim kaç maaş veriyor\n",
        "tahmin = y_kesisimi_b0 + katsayi*2\n",
        "print(\"El ile hesap :\",tahmin)\n",
        "\n",
        "# Şimdi de üst satırda yaptığımız işlemi otomatik gerçekleştiren fonksiyonla gerçekleştirelim, 2 yıl deneyimi olan bir kişinin maaşı ne kadar tahmin edelim\n",
        "print(\"Algoritmanın tahmini\", linear_reg.predict(np.array([2]).reshape(-1,1)))"
      ]
    },
    {
      "cell_type": "code",
      "execution_count": null,
      "id": "0d4103b0",
      "metadata": {
        "execution": {
          "iopub.execute_input": "2022-03-08T12:42:43.230184Z",
          "iopub.status.busy": "2022-03-08T12:42:43.229171Z",
          "iopub.status.idle": "2022-03-08T12:42:43.232462Z",
          "shell.execute_reply": "2022-03-08T12:42:43.233145Z",
          "shell.execute_reply.started": "2022-03-08T12:38:32.843078Z"
        },
        "papermill": {
          "duration": 0.100729,
          "end_time": "2022-03-08T12:42:43.233328",
          "exception": false,
          "start_time": "2022-03-08T12:42:43.132599",
          "status": "completed"
        },
        "tags": [],
        "id": "0d4103b0",
        "outputId": "40bd8438-4aeb-46b8-8b06-c430bfce58b7"
      },
      "outputs": [
        {
          "data": {
            "text/plain": [
              "array([[ 2723.03218302],\n",
              "       [ 2153.29585111],\n",
              "       [ 3292.76851493],\n",
              "       [ 7850.65917022],\n",
              "       [11269.07716169],\n",
              "       [ 6711.1865064 ],\n",
              "       [19245.38580845],\n",
              "       [10129.60449787],\n",
              "       [ 5571.71384257],\n",
              "       [ 4432.24117875],\n",
              "       [15826.96781698],\n",
              "       [13548.02248934],\n",
              "       [18105.91314463],\n",
              "       [ 8990.13183404]])"
            ]
          },
          "execution_count": 14,
          "metadata": {},
          "output_type": "execute_result"
        }
      ],
      "source": [
        "# Tahminin gerçekleştirilmesi\n",
        "y_pred = linear_reg.predict(X) # maas\n",
        "y_pred"
      ]
    },
    {
      "cell_type": "code",
      "execution_count": null,
      "id": "4948ab81",
      "metadata": {
        "execution": {
          "iopub.execute_input": "2022-03-08T12:42:43.441253Z",
          "iopub.status.busy": "2022-03-08T12:42:43.434211Z",
          "iopub.status.idle": "2022-03-08T12:42:43.681064Z",
          "shell.execute_reply": "2022-03-08T12:42:43.680393Z",
          "shell.execute_reply.started": "2022-03-08T12:38:38.460355Z"
        },
        "papermill": {
          "duration": 0.357939,
          "end_time": "2022-03-08T12:42:43.681217",
          "exception": false,
          "start_time": "2022-03-08T12:42:43.323278",
          "status": "completed"
        },
        "tags": [],
        "id": "4948ab81",
        "outputId": "bec4a2d0-212c-4b07-a0cb-0aba41f28234"
      },
      "outputs": [
        {
          "data": {
            "image/png": "[encoded data removed]",
            "text/plain": [
              "<Figure size 1008x720 with 1 Axes>"
            ]
          },
          "metadata": {
            "needs_background": "light"
          },
          "output_type": "display_data"
        }
      ],
      "source": [
        "predicted = linear_reg.predict(X)\n",
        "\n",
        "fig = plt.figure(figsize=(14,10))\n",
        "plt.plot(X,predicted,color=\"blue\")\n",
        "plt.scatter(df.deneyim,df.maas,color=\"red\", s=300)\n",
        "plt.xlabel(\"Deneyim\")\n",
        "plt.ylabel(\"Maaş\")\n",
        "plt.show()"
      ]
    },
    {
      "cell_type": "code",
      "execution_count": null,
      "id": "d01e1410",
      "metadata": {
        "execution": {
          "iopub.execute_input": "2022-03-08T12:42:43.864855Z",
          "iopub.status.busy": "2022-03-08T12:42:43.862373Z",
          "iopub.status.idle": "2022-03-08T12:42:43.874683Z",
          "shell.execute_reply": "2022-03-08T12:42:43.875284Z",
          "shell.execute_reply.started": "2022-03-08T12:40:12.933436Z"
        },
        "papermill": {
          "duration": 0.104949,
          "end_time": "2022-03-08T12:42:43.875464",
          "exception": false,
          "start_time": "2022-03-08T12:42:43.770515",
          "status": "completed"
        },
        "tags": [],
        "id": "d01e1410",
        "outputId": "6359dc18-f527-4474-a845-6523aa1f19a2"
      },
      "outputs": [
        {
          "data": {
            "text/html": [
              "<div>\n",
              "<style scoped>\n",
              "    .dataframe tbody tr th:only-of-type {\n",
              "        vertical-align: middle;\n",
              "    }\n",
              "\n",
              "    .dataframe tbody tr th {\n",
              "        vertical-align: top;\n",
              "    }\n",
              "\n",
              "    .dataframe thead th {\n",
              "        text-align: right;\n",
              "    }\n",
              "</style>\n",
              "<table border=\"1\" class=\"dataframe\">\n",
              "  <thead>\n",
              "    <tr style=\"text-align: right;\">\n",
              "      <th></th>\n",
              "      <th>deneyim</th>\n",
              "      <th>maas</th>\n",
              "      <th>0</th>\n",
              "    </tr>\n",
              "  </thead>\n",
              "  <tbody>\n",
              "    <tr>\n",
              "      <th>0</th>\n",
              "      <td>0.5</td>\n",
              "      <td>2600</td>\n",
              "      <td>2723.032183</td>\n",
              "    </tr>\n",
              "    <tr>\n",
              "      <th>1</th>\n",
              "      <td>0.0</td>\n",
              "      <td>2350</td>\n",
              "      <td>2153.295851</td>\n",
              "    </tr>\n",
              "    <tr>\n",
              "      <th>2</th>\n",
              "      <td>1.0</td>\n",
              "      <td>3000</td>\n",
              "      <td>3292.768515</td>\n",
              "    </tr>\n",
              "    <tr>\n",
              "      <th>3</th>\n",
              "      <td>5.0</td>\n",
              "      <td>9000</td>\n",
              "      <td>7850.659170</td>\n",
              "    </tr>\n",
              "    <tr>\n",
              "      <th>4</th>\n",
              "      <td>8.0</td>\n",
              "      <td>11000</td>\n",
              "      <td>11269.077162</td>\n",
              "    </tr>\n",
              "    <tr>\n",
              "      <th>5</th>\n",
              "      <td>4.0</td>\n",
              "      <td>6900</td>\n",
              "      <td>6711.186506</td>\n",
              "    </tr>\n",
              "    <tr>\n",
              "      <th>6</th>\n",
              "      <td>15.0</td>\n",
              "      <td>20000</td>\n",
              "      <td>19245.385808</td>\n",
              "    </tr>\n",
              "    <tr>\n",
              "      <th>7</th>\n",
              "      <td>7.0</td>\n",
              "      <td>10000</td>\n",
              "      <td>10129.604498</td>\n",
              "    </tr>\n",
              "    <tr>\n",
              "      <th>8</th>\n",
              "      <td>3.0</td>\n",
              "      <td>6000</td>\n",
              "      <td>5571.713843</td>\n",
              "    </tr>\n",
              "    <tr>\n",
              "      <th>9</th>\n",
              "      <td>2.0</td>\n",
              "      <td>3500</td>\n",
              "      <td>4432.241179</td>\n",
              "    </tr>\n",
              "    <tr>\n",
              "      <th>10</th>\n",
              "      <td>12.0</td>\n",
              "      <td>15000</td>\n",
              "      <td>15826.967817</td>\n",
              "    </tr>\n",
              "    <tr>\n",
              "      <th>11</th>\n",
              "      <td>10.0</td>\n",
              "      <td>13000</td>\n",
              "      <td>13548.022489</td>\n",
              "    </tr>\n",
              "    <tr>\n",
              "      <th>12</th>\n",
              "      <td>14.0</td>\n",
              "      <td>18000</td>\n",
              "      <td>18105.913145</td>\n",
              "    </tr>\n",
              "    <tr>\n",
              "      <th>13</th>\n",
              "      <td>6.0</td>\n",
              "      <td>9500</td>\n",
              "      <td>8990.131834</td>\n",
              "    </tr>\n",
              "  </tbody>\n",
              "</table>\n",
              "</div>"
            ],
            "text/plain": [
              "    deneyim   maas             0\n",
              "0       0.5   2600   2723.032183\n",
              "1       0.0   2350   2153.295851\n",
              "2       1.0   3000   3292.768515\n",
              "3       5.0   9000   7850.659170\n",
              "4       8.0  11000  11269.077162\n",
              "5       4.0   6900   6711.186506\n",
              "6      15.0  20000  19245.385808\n",
              "7       7.0  10000  10129.604498\n",
              "8       3.0   6000   5571.713843\n",
              "9       2.0   3500   4432.241179\n",
              "10     12.0  15000  15826.967817\n",
              "11     10.0  13000  13548.022489\n",
              "12     14.0  18000  18105.913145\n",
              "13      6.0   9500   8990.131834"
            ]
          },
          "execution_count": 16,
          "metadata": {},
          "output_type": "execute_result"
        }
      ],
      "source": [
        "# Tabloda karşılaştırma yapalım\n",
        "pd.concat((df,pd.DataFrame(y_pred)), axis=1)"
      ]
    },
    {
      "cell_type": "markdown",
      "id": "d07c60b4",
      "metadata": {
        "papermill": {
          "duration": 0.089704,
          "end_time": "2022-03-08T12:42:44.054653",
          "exception": false,
          "start_time": "2022-03-08T12:42:43.964949",
          "status": "completed"
        },
        "tags": [],
        "id": "d07c60b4"
      },
      "source": [
        "# Multiple Linear Regression\n",
        "\n",
        "Çoklu doğrusal regresyonun doğrusal regresyondan farklı birden fazla x yani bağımsız değişken olmasıdır. \n",
        "\n",
        "> Tahmin algoritmaları kullanırken elimizdeki verisetinde birden fazla bağımsız değişken varsa bu bağımsız değişkenler arasından mümkün oldukça az ve bağımlı değişken ile ilişkisi yüksek olanları seçmemiz gerekir. Bu ilişkiyi değişkenlerin arasında ki korelasyonu gözlemleyerek bulmayı deneyebiliriz.\n",
        "\n",
        "## $y = \\beta_0 + \\beta_1 x_1 + \\beta_2 x_2 + \\beta_n x_n$\n",
        "\n",
        "## $boy = \\beta_0 + \\beta_1{kilo} + \\beta_2{yaş} + \\beta_3{ayakkabıNo}$\n"
      ]
    },
    {
      "cell_type": "markdown",
      "id": "58271595",
      "metadata": {
        "papermill": {
          "duration": 0.091101,
          "end_time": "2022-03-08T12:42:44.236814",
          "exception": false,
          "start_time": "2022-03-08T12:42:44.145713",
          "status": "completed"
        },
        "tags": [],
        "id": "58271595"
      },
      "source": [
        "## Bir matematik bulmacasını çözebilir misin Regresyon?\n",
        "\n",
        "* 7+7 = 2\n",
        "* 8+8 = 4\n",
        "* 8+5 = 1\n",
        "* 6+9 = 3\n",
        "* 10 + 11 = 9\n",
        "* 4 + 9 = ?\n",
        "\n",
        "[Bulmacanın kaynağı...](https://www.test4exams.com/math-puzzle/logical-reasoning-math-puzzles-with-answer-1166/)\n",
        "\n",
        "<details>\n",
        "\t<summary>Cevabı görmek için tıklayın</summary>\n",
        "\t<h5>1</h5>\n",
        "</details>\n",
        "\n",
        "> Bu bir deterministik örnektir."
      ]
    },
    {
      "cell_type": "code",
      "execution_count": null,
      "id": "fd534753",
      "metadata": {
        "execution": {
          "iopub.execute_input": "2022-03-08T12:42:44.427434Z",
          "iopub.status.busy": "2022-03-08T12:42:44.421838Z",
          "iopub.status.idle": "2022-03-08T12:42:44.433162Z",
          "shell.execute_reply": "2022-03-08T12:42:44.433758Z",
          "shell.execute_reply.started": "2022-03-08T12:40:35.351356Z"
        },
        "papermill": {
          "duration": 0.105016,
          "end_time": "2022-03-08T12:42:44.433944",
          "exception": false,
          "start_time": "2022-03-08T12:42:44.328928",
          "status": "completed"
        },
        "tags": [],
        "id": "fd534753"
      },
      "outputs": [],
      "source": [
        "X = np.array([[7,7],[8,8],[8,5],[6,9],[10,11]],  dtype=float).reshape(5,2) # celsius_q\n",
        "y = np.array([2,4,1,3,9],  dtype=float).reshape(-1,1) # fahrenheit_a\n",
        "\n",
        "# Modelin oluşturulması ve modelin eğitilmesi\n",
        "linear_reg = LinearRegression().fit(X,y)"
      ]
    },
    {
      "cell_type": "code",
      "execution_count": null,
      "id": "690c7f06",
      "metadata": {
        "execution": {
          "iopub.execute_input": "2022-03-08T12:42:44.616176Z",
          "iopub.status.busy": "2022-03-08T12:42:44.615504Z",
          "iopub.status.idle": "2022-03-08T12:42:44.625091Z",
          "shell.execute_reply": "2022-03-08T12:42:44.625764Z",
          "shell.execute_reply.started": "2022-03-08T12:40:38.756321Z"
        },
        "papermill": {
          "duration": 0.102596,
          "end_time": "2022-03-08T12:42:44.625944",
          "exception": false,
          "start_time": "2022-03-08T12:42:44.523348",
          "status": "completed"
        },
        "tags": [],
        "id": "690c7f06",
        "outputId": "912d2a41-e691-4002-87a4-f7672f31cf77"
      },
      "outputs": [
        {
          "data": {
            "text/html": [
              "<div>\n",
              "<style scoped>\n",
              "    .dataframe tbody tr th:only-of-type {\n",
              "        vertical-align: middle;\n",
              "    }\n",
              "\n",
              "    .dataframe tbody tr th {\n",
              "        vertical-align: top;\n",
              "    }\n",
              "\n",
              "    .dataframe thead th {\n",
              "        text-align: right;\n",
              "    }\n",
              "</style>\n",
              "<table border=\"1\" class=\"dataframe\">\n",
              "  <thead>\n",
              "    <tr style=\"text-align: right;\">\n",
              "      <th></th>\n",
              "      <th>0</th>\n",
              "      <th>1</th>\n",
              "    </tr>\n",
              "  </thead>\n",
              "  <tbody>\n",
              "    <tr>\n",
              "      <th>0</th>\n",
              "      <td>7.0</td>\n",
              "      <td>7.0</td>\n",
              "    </tr>\n",
              "    <tr>\n",
              "      <th>1</th>\n",
              "      <td>8.0</td>\n",
              "      <td>8.0</td>\n",
              "    </tr>\n",
              "    <tr>\n",
              "      <th>2</th>\n",
              "      <td>8.0</td>\n",
              "      <td>5.0</td>\n",
              "    </tr>\n",
              "    <tr>\n",
              "      <th>3</th>\n",
              "      <td>6.0</td>\n",
              "      <td>9.0</td>\n",
              "    </tr>\n",
              "    <tr>\n",
              "      <th>4</th>\n",
              "      <td>10.0</td>\n",
              "      <td>11.0</td>\n",
              "    </tr>\n",
              "  </tbody>\n",
              "</table>\n",
              "</div>"
            ],
            "text/plain": [
              "      0     1\n",
              "0   7.0   7.0\n",
              "1   8.0   8.0\n",
              "2   8.0   5.0\n",
              "3   6.0   9.0\n",
              "4  10.0  11.0"
            ]
          },
          "execution_count": 18,
          "metadata": {},
          "output_type": "execute_result"
        }
      ],
      "source": [
        "pd.DataFrame(X)"
      ]
    },
    {
      "cell_type": "code",
      "execution_count": null,
      "id": "7820d470",
      "metadata": {
        "execution": {
          "iopub.execute_input": "2022-03-08T12:42:44.814277Z",
          "iopub.status.busy": "2022-03-08T12:42:44.813564Z",
          "iopub.status.idle": "2022-03-08T12:42:44.816483Z",
          "shell.execute_reply": "2022-03-08T12:42:44.817145Z",
          "shell.execute_reply.started": "2022-03-08T12:40:40.416184Z"
        },
        "papermill": {
          "duration": 0.101779,
          "end_time": "2022-03-08T12:42:44.817319",
          "exception": false,
          "start_time": "2022-03-08T12:42:44.715540",
          "status": "completed"
        },
        "tags": [],
        "id": "7820d470",
        "outputId": "33fd0096-5d27-49c4-eb4d-b206806fd5ce"
      },
      "outputs": [
        {
          "data": {
            "text/html": [
              "<div>\n",
              "<style scoped>\n",
              "    .dataframe tbody tr th:only-of-type {\n",
              "        vertical-align: middle;\n",
              "    }\n",
              "\n",
              "    .dataframe tbody tr th {\n",
              "        vertical-align: top;\n",
              "    }\n",
              "\n",
              "    .dataframe thead th {\n",
              "        text-align: right;\n",
              "    }\n",
              "</style>\n",
              "<table border=\"1\" class=\"dataframe\">\n",
              "  <thead>\n",
              "    <tr style=\"text-align: right;\">\n",
              "      <th></th>\n",
              "      <th>0</th>\n",
              "    </tr>\n",
              "  </thead>\n",
              "  <tbody>\n",
              "    <tr>\n",
              "      <th>0</th>\n",
              "      <td>2.0</td>\n",
              "    </tr>\n",
              "    <tr>\n",
              "      <th>1</th>\n",
              "      <td>4.0</td>\n",
              "    </tr>\n",
              "    <tr>\n",
              "      <th>2</th>\n",
              "      <td>1.0</td>\n",
              "    </tr>\n",
              "    <tr>\n",
              "      <th>3</th>\n",
              "      <td>3.0</td>\n",
              "    </tr>\n",
              "    <tr>\n",
              "      <th>4</th>\n",
              "      <td>9.0</td>\n",
              "    </tr>\n",
              "  </tbody>\n",
              "</table>\n",
              "</div>"
            ],
            "text/plain": [
              "     0\n",
              "0  2.0\n",
              "1  4.0\n",
              "2  1.0\n",
              "3  3.0\n",
              "4  9.0"
            ]
          },
          "execution_count": 19,
          "metadata": {},
          "output_type": "execute_result"
        }
      ],
      "source": [
        "pd.DataFrame(y)"
      ]
    },
    {
      "cell_type": "code",
      "execution_count": null,
      "id": "f212c2bf",
      "metadata": {
        "execution": {
          "iopub.execute_input": "2022-03-08T12:42:45.002702Z",
          "iopub.status.busy": "2022-03-08T12:42:45.002026Z",
          "iopub.status.idle": "2022-03-08T12:42:45.013575Z",
          "shell.execute_reply": "2022-03-08T12:42:45.014155Z",
          "shell.execute_reply.started": "2022-03-08T12:40:44.997981Z"
        },
        "papermill": {
          "duration": 0.105992,
          "end_time": "2022-03-08T12:42:45.014344",
          "exception": false,
          "start_time": "2022-03-08T12:42:44.908352",
          "status": "completed"
        },
        "tags": [],
        "id": "f212c2bf",
        "outputId": "153f0e98-2024-443a-d902-bdea92ff66d6"
      },
      "outputs": [
        {
          "name": "stdout",
          "output_type": "stream",
          "text": [
            "Tahmin Edilecek Değer - 'bunu_bil' değeri:  [[4 9]]\n",
            "\n",
            "Y Kesişimi b0:  [-12.]\n",
            "Katsayılar - Çarpanlar b1 ve b2:  [[1. 1.]]\n",
            "\n",
            "El ile sonuç:  [1.]\n",
            "Algoritmanın tahmini [[1.]]\n"
          ]
        }
      ],
      "source": [
        "# Modelin katsayılarının gözlemlenmesi\n",
        "bunu_bil = np.array([4,9]).reshape(-1,2)\n",
        "print(\"Tahmin Edilecek Değer - 'bunu_bil' değeri: \", bunu_bil)\n",
        "print()\n",
        "\n",
        "\n",
        "y_kesisimi_b0 = linear_reg.intercept_ # y eksenini kestigi nokta intercept\n",
        "print(\"Y Kesişimi b0: \", y_kesisimi_b0)\n",
        "\n",
        "katsayi = linear_reg.coef_ # egim / slope / Coefficent\n",
        "print(\"Katsayılar - Çarpanlar b1 ve b2: \", katsayi)\n",
        "\n",
        "b1 = katsayi[0][0]\n",
        "b2 = katsayi[0][1]\n",
        "\n",
        "girdi1 = bunu_bil[0][0]\n",
        "girdi2 = bunu_bil[0][1]\n",
        "\n",
        "print()\n",
        "print(\"El ile sonuç: \", y_kesisimi_b0 + girdi1*b1 + girdi2*b2) # -12 +(1*4) +(1*9) = 1\n",
        "\n",
        "# Sorunun cevabı ise\n",
        "print(\"Algoritmanın tahmini\", linear_reg.predict(bunu_bil))"
      ]
    },
    {
      "cell_type": "code",
      "execution_count": null,
      "id": "36264c5c",
      "metadata": {
        "execution": {
          "iopub.execute_input": "2022-03-08T12:42:45.200734Z",
          "iopub.status.busy": "2022-03-08T12:42:45.200071Z",
          "iopub.status.idle": "2022-03-08T12:42:45.209459Z",
          "shell.execute_reply": "2022-03-08T12:42:45.208900Z",
          "shell.execute_reply.started": "2022-03-08T12:40:50.686927Z"
        },
        "papermill": {
          "duration": 0.103982,
          "end_time": "2022-03-08T12:42:45.209608",
          "exception": false,
          "start_time": "2022-03-08T12:42:45.105626",
          "status": "completed"
        },
        "tags": [],
        "id": "36264c5c",
        "outputId": "5d9259c3-7c86-48d7-d826-0723599e9a99"
      },
      "outputs": [
        {
          "name": "stdout",
          "output_type": "stream",
          "text": [
            "[[7. 7.]\n",
            " [8. 8.]]\n",
            "Algoritmanın tahmini 2 gözlemle bile 1 oldu. [[1.]]\n"
          ]
        }
      ],
      "source": [
        "# Linear regresyon bu sonucu alabilmek için minimum 2 gözleme ihtiyaç duyuyor.\n",
        "X = np.array([[7,7],[8,8]],  dtype=float).reshape(2,2) # celsius_q\n",
        "print(X)\n",
        "y = np.array([2,4],  dtype=float).reshape(-1,1) # fahrenheit_a\n",
        "\n",
        "# Modelin oluşturulması ve modelin eğitilmesi\n",
        "linear_reg = LinearRegression().fit(X,y)\n",
        "\n",
        "print(\"Algoritmanın tahmini 2 gözlemle bile 1 oldu.\", linear_reg.predict(bunu_bil))"
      ]
    },
    {
      "cell_type": "markdown",
      "id": "3b9338ac",
      "metadata": {
        "papermill": {
          "duration": 0.092156,
          "end_time": "2022-03-08T12:42:45.393966",
          "exception": false,
          "start_time": "2022-03-08T12:42:45.301810",
          "status": "completed"
        },
        "tags": [],
        "id": "3b9338ac"
      },
      "source": [
        "# Polynomial Regression\n",
        "\n",
        "Doğrusal regresyon bazı ilişkileri kurmada uygunsuz olabilir, bu nedenle polinomial regresyon kullanırız. Her regresyonda düz çizgi olmak zorunda değil. Bazen bağımlı değişkenler oransal artış gösterebilir. Ölümsüz bakterilerin 10 saat boyunca, saat başına artış miktarı gibi. \n",
        "\n",
        "> Özünde çoklu doğrusal regresyonda bir polinomial regresyondur ancak üssü 1 olan bir polinomdan oluşmuştur.\n",
        "\n",
        "Polinomun dereceleri:\n",
        "* Polinom derecesi 2 ise kuadratik\n",
        "* Polinom derecesi 3 ise kübik\n",
        "* Polinom derecesi 4 ise kuartik\n",
        "\n",
        "![](https://static.javatpoint.com/tutorial/machine-learning/images/machine-learning-polynomial-regression.png)\n",
        "\n",
        "Yukarıdaki görselde sağda ki dağılımda görüldüğü üzere \"exponential\" bir artım söz konusudur.\n",
        "\n",
        "Matematiksel Gösterimi:\n",
        "\n",
        "## $\\displaystyle y = \\beta_0 + \\beta_1 \\, x + \\beta_2 \\, x^2 + \\beta_3 \\, x^3 + \\beta_n \\, x^n $\n",
        "\n",
        "$x^n$ polinomun derecesini belirtir."
      ]
    },
    {
      "cell_type": "code",
      "execution_count": null,
      "id": "78e69c72",
      "metadata": {
        "execution": {
          "iopub.execute_input": "2022-03-08T12:42:45.583858Z",
          "iopub.status.busy": "2022-03-08T12:42:45.583153Z",
          "iopub.status.idle": "2022-03-08T12:42:45.603675Z",
          "shell.execute_reply": "2022-03-08T12:42:45.604359Z",
          "shell.execute_reply.started": "2022-03-08T12:40:53.906940Z"
        },
        "papermill": {
          "duration": 0.117354,
          "end_time": "2022-03-08T12:42:45.604538",
          "exception": false,
          "start_time": "2022-03-08T12:42:45.487184",
          "status": "completed"
        },
        "tags": [],
        "id": "78e69c72",
        "outputId": "fd99a345-7756-4e7d-bc50-1d986a8fe1aa"
      },
      "outputs": [
        {
          "data": {
            "text/html": [
              "<div>\n",
              "<style scoped>\n",
              "    .dataframe tbody tr th:only-of-type {\n",
              "        vertical-align: middle;\n",
              "    }\n",
              "\n",
              "    .dataframe tbody tr th {\n",
              "        vertical-align: top;\n",
              "    }\n",
              "\n",
              "    .dataframe thead th {\n",
              "        text-align: right;\n",
              "    }\n",
              "</style>\n",
              "<table border=\"1\" class=\"dataframe\">\n",
              "  <thead>\n",
              "    <tr style=\"text-align: right;\">\n",
              "      <th></th>\n",
              "      <th>Position</th>\n",
              "      <th>Level</th>\n",
              "      <th>Salary</th>\n",
              "    </tr>\n",
              "  </thead>\n",
              "  <tbody>\n",
              "    <tr>\n",
              "      <th>0</th>\n",
              "      <td>Business Analyst</td>\n",
              "      <td>1</td>\n",
              "      <td>45000</td>\n",
              "    </tr>\n",
              "    <tr>\n",
              "      <th>1</th>\n",
              "      <td>Junior Consultant</td>\n",
              "      <td>2</td>\n",
              "      <td>50000</td>\n",
              "    </tr>\n",
              "    <tr>\n",
              "      <th>2</th>\n",
              "      <td>Senior Consultant</td>\n",
              "      <td>3</td>\n",
              "      <td>60000</td>\n",
              "    </tr>\n",
              "    <tr>\n",
              "      <th>3</th>\n",
              "      <td>Manager</td>\n",
              "      <td>4</td>\n",
              "      <td>80000</td>\n",
              "    </tr>\n",
              "    <tr>\n",
              "      <th>4</th>\n",
              "      <td>Country Manager</td>\n",
              "      <td>5</td>\n",
              "      <td>110000</td>\n",
              "    </tr>\n",
              "    <tr>\n",
              "      <th>5</th>\n",
              "      <td>Region Manager</td>\n",
              "      <td>6</td>\n",
              "      <td>150000</td>\n",
              "    </tr>\n",
              "    <tr>\n",
              "      <th>6</th>\n",
              "      <td>Partner</td>\n",
              "      <td>7</td>\n",
              "      <td>200000</td>\n",
              "    </tr>\n",
              "    <tr>\n",
              "      <th>7</th>\n",
              "      <td>Senior Partner</td>\n",
              "      <td>8</td>\n",
              "      <td>300000</td>\n",
              "    </tr>\n",
              "    <tr>\n",
              "      <th>8</th>\n",
              "      <td>C-level</td>\n",
              "      <td>9</td>\n",
              "      <td>500000</td>\n",
              "    </tr>\n",
              "    <tr>\n",
              "      <th>9</th>\n",
              "      <td>CEO</td>\n",
              "      <td>10</td>\n",
              "      <td>1000000</td>\n",
              "    </tr>\n",
              "  </tbody>\n",
              "</table>\n",
              "</div>"
            ],
            "text/plain": [
              "            Position  Level   Salary\n",
              "0   Business Analyst      1    45000\n",
              "1  Junior Consultant      2    50000\n",
              "2  Senior Consultant      3    60000\n",
              "3            Manager      4    80000\n",
              "4    Country Manager      5   110000\n",
              "5     Region Manager      6   150000\n",
              "6            Partner      7   200000\n",
              "7     Senior Partner      8   300000\n",
              "8            C-level      9   500000\n",
              "9                CEO     10  1000000"
            ]
          },
          "execution_count": 22,
          "metadata": {},
          "output_type": "execute_result"
        }
      ],
      "source": [
        "df = pd.read_csv(\"../input/position-salary-dataset/Position_Salaries.csv\")\n",
        "df"
      ]
    },
    {
      "cell_type": "code",
      "execution_count": null,
      "id": "25dcf2fb",
      "metadata": {
        "execution": {
          "iopub.execute_input": "2022-03-08T12:42:45.792123Z",
          "iopub.status.busy": "2022-03-08T12:42:45.791431Z",
          "iopub.status.idle": "2022-03-08T12:42:45.796616Z",
          "shell.execute_reply": "2022-03-08T12:42:45.797278Z",
          "shell.execute_reply.started": "2022-03-08T12:40:56.078790Z"
        },
        "papermill": {
          "duration": 0.10053,
          "end_time": "2022-03-08T12:42:45.797447",
          "exception": false,
          "start_time": "2022-03-08T12:42:45.696917",
          "status": "completed"
        },
        "tags": [],
        "id": "25dcf2fb"
      },
      "outputs": [],
      "source": [
        "X = df[[\"Level\"]]  # np.array(df[\"Level\"]).reshape(-1,1)\n",
        "y = df[[\"Salary\"]] # np.array(df[\"Salary\"]).reshape(-1,1)"
      ]
    },
    {
      "cell_type": "code",
      "execution_count": null,
      "id": "2a27486a",
      "metadata": {
        "execution": {
          "iopub.execute_input": "2022-03-08T12:42:45.985388Z",
          "iopub.status.busy": "2022-03-08T12:42:45.984721Z",
          "iopub.status.idle": "2022-03-08T12:42:45.992480Z",
          "shell.execute_reply": "2022-03-08T12:42:45.993161Z",
          "shell.execute_reply.started": "2022-03-08T12:40:57.250664Z"
        },
        "papermill": {
          "duration": 0.10346,
          "end_time": "2022-03-08T12:42:45.993339",
          "exception": false,
          "start_time": "2022-03-08T12:42:45.889879",
          "status": "completed"
        },
        "tags": [],
        "id": "2a27486a",
        "outputId": "9b03eb00-f1d7-4a6b-fee3-e8cb8ff82e7e"
      },
      "outputs": [
        {
          "data": {
            "text/html": [
              "<div>\n",
              "<style scoped>\n",
              "    .dataframe tbody tr th:only-of-type {\n",
              "        vertical-align: middle;\n",
              "    }\n",
              "\n",
              "    .dataframe tbody tr th {\n",
              "        vertical-align: top;\n",
              "    }\n",
              "\n",
              "    .dataframe thead th {\n",
              "        text-align: right;\n",
              "    }\n",
              "</style>\n",
              "<table border=\"1\" class=\"dataframe\">\n",
              "  <thead>\n",
              "    <tr style=\"text-align: right;\">\n",
              "      <th></th>\n",
              "      <th>Level</th>\n",
              "    </tr>\n",
              "  </thead>\n",
              "  <tbody>\n",
              "    <tr>\n",
              "      <th>0</th>\n",
              "      <td>1</td>\n",
              "    </tr>\n",
              "    <tr>\n",
              "      <th>1</th>\n",
              "      <td>2</td>\n",
              "    </tr>\n",
              "    <tr>\n",
              "      <th>2</th>\n",
              "      <td>3</td>\n",
              "    </tr>\n",
              "    <tr>\n",
              "      <th>3</th>\n",
              "      <td>4</td>\n",
              "    </tr>\n",
              "    <tr>\n",
              "      <th>4</th>\n",
              "      <td>5</td>\n",
              "    </tr>\n",
              "    <tr>\n",
              "      <th>5</th>\n",
              "      <td>6</td>\n",
              "    </tr>\n",
              "    <tr>\n",
              "      <th>6</th>\n",
              "      <td>7</td>\n",
              "    </tr>\n",
              "    <tr>\n",
              "      <th>7</th>\n",
              "      <td>8</td>\n",
              "    </tr>\n",
              "    <tr>\n",
              "      <th>8</th>\n",
              "      <td>9</td>\n",
              "    </tr>\n",
              "    <tr>\n",
              "      <th>9</th>\n",
              "      <td>10</td>\n",
              "    </tr>\n",
              "  </tbody>\n",
              "</table>\n",
              "</div>"
            ],
            "text/plain": [
              "   Level\n",
              "0      1\n",
              "1      2\n",
              "2      3\n",
              "3      4\n",
              "4      5\n",
              "5      6\n",
              "6      7\n",
              "7      8\n",
              "8      9\n",
              "9     10"
            ]
          },
          "execution_count": 24,
          "metadata": {},
          "output_type": "execute_result"
        }
      ],
      "source": [
        "X"
      ]
    },
    {
      "cell_type": "code",
      "execution_count": null,
      "id": "01de2730",
      "metadata": {
        "execution": {
          "iopub.execute_input": "2022-03-08T12:42:46.183019Z",
          "iopub.status.busy": "2022-03-08T12:42:46.182314Z",
          "iopub.status.idle": "2022-03-08T12:42:46.190207Z",
          "shell.execute_reply": "2022-03-08T12:42:46.190797Z",
          "shell.execute_reply.started": "2022-03-08T12:40:58.926259Z"
        },
        "papermill": {
          "duration": 0.104626,
          "end_time": "2022-03-08T12:42:46.190972",
          "exception": false,
          "start_time": "2022-03-08T12:42:46.086346",
          "status": "completed"
        },
        "tags": [],
        "id": "01de2730",
        "outputId": "d522cd53-5edf-4d7b-b569-e790ea758e96"
      },
      "outputs": [
        {
          "data": {
            "text/html": [
              "<div>\n",
              "<style scoped>\n",
              "    .dataframe tbody tr th:only-of-type {\n",
              "        vertical-align: middle;\n",
              "    }\n",
              "\n",
              "    .dataframe tbody tr th {\n",
              "        vertical-align: top;\n",
              "    }\n",
              "\n",
              "    .dataframe thead th {\n",
              "        text-align: right;\n",
              "    }\n",
              "</style>\n",
              "<table border=\"1\" class=\"dataframe\">\n",
              "  <thead>\n",
              "    <tr style=\"text-align: right;\">\n",
              "      <th></th>\n",
              "      <th>Salary</th>\n",
              "    </tr>\n",
              "  </thead>\n",
              "  <tbody>\n",
              "    <tr>\n",
              "      <th>0</th>\n",
              "      <td>45000</td>\n",
              "    </tr>\n",
              "    <tr>\n",
              "      <th>1</th>\n",
              "      <td>50000</td>\n",
              "    </tr>\n",
              "    <tr>\n",
              "      <th>2</th>\n",
              "      <td>60000</td>\n",
              "    </tr>\n",
              "    <tr>\n",
              "      <th>3</th>\n",
              "      <td>80000</td>\n",
              "    </tr>\n",
              "    <tr>\n",
              "      <th>4</th>\n",
              "      <td>110000</td>\n",
              "    </tr>\n",
              "    <tr>\n",
              "      <th>5</th>\n",
              "      <td>150000</td>\n",
              "    </tr>\n",
              "    <tr>\n",
              "      <th>6</th>\n",
              "      <td>200000</td>\n",
              "    </tr>\n",
              "    <tr>\n",
              "      <th>7</th>\n",
              "      <td>300000</td>\n",
              "    </tr>\n",
              "    <tr>\n",
              "      <th>8</th>\n",
              "      <td>500000</td>\n",
              "    </tr>\n",
              "    <tr>\n",
              "      <th>9</th>\n",
              "      <td>1000000</td>\n",
              "    </tr>\n",
              "  </tbody>\n",
              "</table>\n",
              "</div>"
            ],
            "text/plain": [
              "    Salary\n",
              "0    45000\n",
              "1    50000\n",
              "2    60000\n",
              "3    80000\n",
              "4   110000\n",
              "5   150000\n",
              "6   200000\n",
              "7   300000\n",
              "8   500000\n",
              "9  1000000"
            ]
          },
          "execution_count": 25,
          "metadata": {},
          "output_type": "execute_result"
        }
      ],
      "source": [
        "y"
      ]
    },
    {
      "cell_type": "code",
      "execution_count": null,
      "id": "e07a6f14",
      "metadata": {
        "execution": {
          "iopub.execute_input": "2022-03-08T12:42:46.384530Z",
          "iopub.status.busy": "2022-03-08T12:42:46.383840Z",
          "iopub.status.idle": "2022-03-08T12:42:46.397662Z",
          "shell.execute_reply": "2022-03-08T12:42:46.398251Z",
          "shell.execute_reply.started": "2022-03-08T12:41:00.744688Z"
        },
        "papermill": {
          "duration": 0.113586,
          "end_time": "2022-03-08T12:42:46.398457",
          "exception": false,
          "start_time": "2022-03-08T12:42:46.284871",
          "status": "completed"
        },
        "tags": [],
        "id": "e07a6f14",
        "outputId": "ba39b658-9202-4bc6-fa8d-fe253c4141c2"
      },
      "outputs": [
        {
          "name": "stdout",
          "output_type": "stream",
          "text": [
            "[[  1.   1.   1.]\n",
            " [  1.   2.   4.]\n",
            " [  1.   3.   9.]\n",
            " [  1.   4.  16.]\n",
            " [  1.   5.  25.]\n",
            " [  1.   6.  36.]\n",
            " [  1.   7.  49.]\n",
            " [  1.   8.  64.]\n",
            " [  1.   9.  81.]\n",
            " [  1.  10. 100.]]\n"
          ]
        }
      ],
      "source": [
        "# Linear Regresyon için\n",
        "lr = LinearRegression().fit(X,y)\n",
        "\n",
        "\n",
        "pr = PolynomialFeatures(degree = 2)\n",
        "X_poly = pr.fit_transform(X)\n",
        "poly_reg = LinearRegression().fit(X_poly,y)\n",
        "print(X_poly)"
      ]
    },
    {
      "cell_type": "code",
      "execution_count": null,
      "id": "9fe6cd18",
      "metadata": {
        "execution": {
          "iopub.execute_input": "2022-03-08T12:42:46.596986Z",
          "iopub.status.busy": "2022-03-08T12:42:46.596276Z",
          "iopub.status.idle": "2022-03-08T12:42:46.604324Z",
          "shell.execute_reply": "2022-03-08T12:42:46.605228Z",
          "shell.execute_reply.started": "2022-03-08T12:41:02.367934Z"
        },
        "papermill": {
          "duration": 0.107411,
          "end_time": "2022-03-08T12:42:46.605530",
          "exception": false,
          "start_time": "2022-03-08T12:42:46.498119",
          "status": "completed"
        },
        "tags": [],
        "id": "9fe6cd18",
        "outputId": "ba449aef-89b1-4622-f4c2-cb6a5471a0f2"
      },
      "outputs": [
        {
          "name": "stdout",
          "output_type": "stream",
          "text": [
            "[[-114454.54545455]\n",
            " [ -33575.75757576]\n",
            " [  47303.03030303]\n",
            " [ 128181.81818182]\n",
            " [ 209060.60606061]\n",
            " [ 289939.39393939]\n",
            " [ 370818.18181818]\n",
            " [ 451696.96969697]\n",
            " [ 532575.75757576]\n",
            " [ 613454.54545455]]\n",
            "\n",
            "[[118727.27272727]\n",
            " [ 44151.51515151]\n",
            " [  8439.39393939]\n",
            " [ 11590.90909091]\n",
            " [ 53606.06060606]\n",
            " [134484.84848485]\n",
            " [254227.27272727]\n",
            " [412833.33333333]\n",
            " [610303.03030303]\n",
            " [846636.36363636]]\n"
          ]
        }
      ],
      "source": [
        "# Tahminler\n",
        "y_pred_lr = lr.predict(X)\n",
        "y_pred_pr = poly_reg.predict(X_poly)\n",
        "\n",
        "print(y_pred_lr)\n",
        "print()\n",
        "print(y_pred_pr)"
      ]
    },
    {
      "cell_type": "code",
      "execution_count": null,
      "id": "1bf2fba9",
      "metadata": {
        "execution": {
          "iopub.execute_input": "2022-03-08T12:42:46.808725Z",
          "iopub.status.busy": "2022-03-08T12:42:46.808019Z",
          "iopub.status.idle": "2022-03-08T12:42:47.476490Z",
          "shell.execute_reply": "2022-03-08T12:42:47.477354Z",
          "shell.execute_reply.started": "2022-03-08T12:41:04.031837Z"
        },
        "papermill": {
          "duration": 0.77367,
          "end_time": "2022-03-08T12:42:47.477629",
          "exception": false,
          "start_time": "2022-03-08T12:42:46.703959",
          "status": "completed"
        },
        "tags": [],
        "id": "1bf2fba9",
        "outputId": "6ea7d8a0-8545-4555-a55d-ac0f89fb49c2"
      },
      "outputs": [
        {
          "data": {
            "image/png": "[encoded data removed]",
            "text/plain": [
              "<Figure size 432x288 with 1 Axes>"
            ]
          },
          "metadata": {
            "needs_background": "light"
          },
          "output_type": "display_data"
        },
        {
          "data": {
            "image/png": "[encoded data removed]",
            "text/plain": [
              "<Figure size 432x288 with 1 Axes>"
            ]
          },
          "metadata": {
            "needs_background": "light"
          },
          "output_type": "display_data"
        },
        {
          "data": {
            "image/png": "[encoded data removed]",
            "text/plain": [
              "<Figure size 432x288 with 1 Axes>"
            ]
          },
          "metadata": {
            "needs_background": "light"
          },
          "output_type": "display_data"
        },
        {
          "name": "stdout",
          "output_type": "stream",
          "text": [
            "7.5 level maaşı:  [[411257.57575758]]\n",
            "7.5 level maaşı:  [[328672.34848485]]\n"
          ]
        },
        {
          "name": "stderr",
          "output_type": "stream",
          "text": [
            "/opt/conda/lib/python3.7/site-packages/sklearn/base.py:446: UserWarning: X does not have valid feature names, but LinearRegression was fitted with feature names\n",
            "  \"X does not have valid feature names, but\"\n"
          ]
        }
      ],
      "source": [
        "# Linear Regresyon Görselleştirme\n",
        "plt.scatter(X,y)\n",
        "plt.ylabel(\"Salary\")\n",
        "plt.xlabel(\"Level\")\n",
        "plt.plot(X, y_pred_lr)\n",
        "plt.title(\"Linear Regresyon\")\n",
        "plt.show()\n",
        "\n",
        "# Polynomial Regresyon Görselleştirme\n",
        "plt.scatter(X,y)\n",
        "plt.ylabel(\"Salary\")\n",
        "plt.xlabel(\"Level\")\n",
        "plt.plot(X, y_pred_pr)\n",
        "plt.title(\"Polynomial Regresyon\")\n",
        "plt.show()\n",
        "\n",
        "# Çakışmalı Görselleştirme\n",
        "plt.scatter(X,y)\n",
        "plt.ylabel(\"Salary\")\n",
        "plt.xlabel(\"Level\")\n",
        "plt.plot(X,y_pred_lr,color=\"red\",label =\"linear\")\n",
        "plt.plot(X,y_pred_pr,color= \"green\",label = \"poly\")\n",
        "plt.title(\"Linear ve Polynomial Regresyon\")\n",
        "plt.legend()\n",
        "plt.show()\n",
        "\n",
        "# Spesifik maaş hesabı\n",
        "y_pred_lr = lr.predict([[7.5]])\n",
        "y_pred_pr = poly_reg.predict(pr.fit_transform([[7.5]]))\n",
        "\n",
        "print(\"7.5 level maaşı: \", y_pred_lr)\n",
        "print(\"7.5 level maaşı: \", y_pred_pr)\n"
      ]
    },
    {
      "cell_type": "code",
      "execution_count": null,
      "id": "aa32a171",
      "metadata": {
        "execution": {
          "iopub.execute_input": "2022-03-08T12:42:47.687219Z",
          "iopub.status.busy": "2022-03-08T12:42:47.686069Z",
          "iopub.status.idle": "2022-03-08T12:42:47.902884Z",
          "shell.execute_reply": "2022-03-08T12:42:47.901893Z",
          "shell.execute_reply.started": "2022-03-08T12:41:08.229363Z"
        },
        "papermill": {
          "duration": 0.325182,
          "end_time": "2022-03-08T12:42:47.903061",
          "exception": false,
          "start_time": "2022-03-08T12:42:47.577879",
          "status": "completed"
        },
        "tags": [],
        "id": "aa32a171",
        "outputId": "512b0819-27b2-42bf-ecac-4cc558d93b13"
      },
      "outputs": [
        {
          "name": "stdout",
          "output_type": "stream",
          "text": [
            "R2 Score for 'y_pred_d1' :  0.6690412331929895\n",
            "[[ 1.  1.]\n",
            " [ 1.  2.]\n",
            " [ 1.  3.]\n",
            " [ 1.  4.]\n",
            " [ 1.  5.]\n",
            " [ 1.  6.]\n",
            " [ 1.  7.]\n",
            " [ 1.  8.]\n",
            " [ 1.  9.]\n",
            " [ 1. 10.]]\n"
          ]
        },
        {
          "data": {
            "image/png": "[encoded data removed]",
            "text/plain": [
              "<Figure size 432x288 with 1 Axes>"
            ]
          },
          "metadata": {
            "needs_background": "light"
          },
          "output_type": "display_data"
        }
      ],
      "source": [
        "# 1. dereceden polinomial\n",
        "pr_d1 = PolynomialFeatures(degree = 1)\n",
        "X_poly_d1 = pr_d1.fit_transform(X)\n",
        "poly_reg_d1 = LinearRegression().fit(X_poly_d1,y)\n",
        "y_pred_d1 = poly_reg_d1.predict(X_poly_d1)\n",
        "\n",
        "print(\"R2 Score for 'y_pred_d1' : \", r2_score(y,y_pred_d1))\n",
        "print(X_poly_d1)\n",
        "\n",
        "plt.scatter(X,y)\n",
        "plt.ylabel(\"Salary\")\n",
        "plt.xlabel(\"Level\")\n",
        "plt.plot(X, y_pred_d1)\n",
        "plt.title(\"1. dereceden polinomial\")\n",
        "plt.show()"
      ]
    },
    {
      "cell_type": "code",
      "execution_count": null,
      "id": "1c6053c1",
      "metadata": {
        "execution": {
          "iopub.execute_input": "2022-03-08T12:42:48.118968Z",
          "iopub.status.busy": "2022-03-08T12:42:48.118257Z",
          "iopub.status.idle": "2022-03-08T12:42:48.303451Z",
          "shell.execute_reply": "2022-03-08T12:42:48.302360Z",
          "shell.execute_reply.started": "2022-03-08T12:41:08.813450Z"
        },
        "papermill": {
          "duration": 0.300111,
          "end_time": "2022-03-08T12:42:48.303806",
          "exception": false,
          "start_time": "2022-03-08T12:42:48.003695",
          "status": "completed"
        },
        "tags": [],
        "id": "1c6053c1",
        "outputId": "8f2e8984-7a62-4416-89c0-dd93c37b55cf"
      },
      "outputs": [
        {
          "name": "stdout",
          "output_type": "stream",
          "text": [
            "R2 Score for 'y_pred_d2' :  0.9162082221443942\n",
            "[[  1.   1.   1.]\n",
            " [  1.   2.   4.]\n",
            " [  1.   3.   9.]\n",
            " [  1.   4.  16.]\n",
            " [  1.   5.  25.]\n",
            " [  1.   6.  36.]\n",
            " [  1.   7.  49.]\n",
            " [  1.   8.  64.]\n",
            " [  1.   9.  81.]\n",
            " [  1.  10. 100.]]\n"
          ]
        },
        {
          "data": {
            "image/png": "[encoded data removed]",
            "text/plain": [
              "<Figure size 432x288 with 1 Axes>"
            ]
          },
          "metadata": {
            "needs_background": "light"
          },
          "output_type": "display_data"
        }
      ],
      "source": [
        "# 2. dereceden polinomial\n",
        "pr_d2 = PolynomialFeatures(degree = 2)\n",
        "X_poly_d2 = pr_d2.fit_transform(X)\n",
        "poly_reg_d2 = LinearRegression().fit(X_poly_d2,y)\n",
        "y_pred_d2 = poly_reg_d2.predict(X_poly_d2)\n",
        "\n",
        "print(\"R2 Score for 'y_pred_d2' : \", r2_score(y,y_pred_d2))\n",
        "print(X_poly_d2)\n",
        "plt.scatter(X,y)\n",
        "plt.ylabel(\"Salary\")\n",
        "plt.xlabel(\"Level\")\n",
        "plt.plot(X, y_pred_d2)\n",
        "plt.title(\"2. dereceden polinomial\")\n",
        "plt.show()"
      ]
    },
    {
      "cell_type": "code",
      "execution_count": null,
      "id": "7d03bd33",
      "metadata": {
        "execution": {
          "iopub.execute_input": "2022-03-08T12:42:48.518921Z",
          "iopub.status.busy": "2022-03-08T12:42:48.518190Z",
          "iopub.status.idle": "2022-03-08T12:42:48.863154Z",
          "shell.execute_reply": "2022-03-08T12:42:48.863890Z",
          "shell.execute_reply.started": "2022-03-08T12:41:09.548854Z"
        },
        "papermill": {
          "duration": 0.456172,
          "end_time": "2022-03-08T12:42:48.864079",
          "exception": false,
          "start_time": "2022-03-08T12:42:48.407907",
          "status": "completed"
        },
        "tags": [],
        "id": "7d03bd33",
        "outputId": "c35722a6-5367-4a23-fd1d-b93d327bd7d3"
      },
      "outputs": [
        {
          "name": "stdout",
          "output_type": "stream",
          "text": [
            "R2 Score for 'y_pred_d3' :  0.9812097727913366\n",
            "[[   1.    1.    1.    1.]\n",
            " [   1.    2.    4.    8.]\n",
            " [   1.    3.    9.   27.]\n",
            " [   1.    4.   16.   64.]\n",
            " [   1.    5.   25.  125.]\n",
            " [   1.    6.   36.  216.]\n",
            " [   1.    7.   49.  343.]\n",
            " [   1.    8.   64.  512.]\n",
            " [   1.    9.   81.  729.]\n",
            " [   1.   10.  100. 1000.]]\n"
          ]
        },
        {
          "data": {
            "image/png": "[encoded data removed]",
            "text/plain": [
              "<Figure size 432x288 with 1 Axes>"
            ]
          },
          "metadata": {
            "needs_background": "light"
          },
          "output_type": "display_data"
        }
      ],
      "source": [
        "# 3. dereceden polinomial\n",
        "pr_d3 = PolynomialFeatures(degree = 3)\n",
        "X_poly_d3 = pr_d3.fit_transform(X)\n",
        "poly_reg_d3 = LinearRegression().fit(X_poly_d3,y)\n",
        "y_pred_d3 = poly_reg_d3.predict(X_poly_d3)\n",
        "\n",
        "print(\"R2 Score for 'y_pred_d3' : \", r2_score(y,y_pred_d3))\n",
        "print(X_poly_d3)\n",
        "\n",
        "plt.scatter(X,y)\n",
        "plt.ylabel(\"Salary\")\n",
        "plt.xlabel(\"Level\")\n",
        "plt.plot(X, y_pred_d3)\n",
        "plt.title(\"3. dereceden polinomial\")\n",
        "plt.show()"
      ]
    },
    {
      "cell_type": "code",
      "execution_count": null,
      "id": "b33637c4",
      "metadata": {
        "execution": {
          "iopub.execute_input": "2022-03-08T12:42:49.095249Z",
          "iopub.status.busy": "2022-03-08T12:42:49.079363Z",
          "iopub.status.idle": "2022-03-08T12:42:49.300694Z",
          "shell.execute_reply": "2022-03-08T12:42:49.300068Z",
          "shell.execute_reply.started": "2022-03-08T12:41:10.212770Z"
        },
        "papermill": {
          "duration": 0.333289,
          "end_time": "2022-03-08T12:42:49.300898",
          "exception": false,
          "start_time": "2022-03-08T12:42:48.967609",
          "status": "completed"
        },
        "tags": [],
        "id": "b33637c4",
        "outputId": "dd04a4ff-1bde-472b-ac52-f6fcb1086593"
      },
      "outputs": [
        {
          "name": "stdout",
          "output_type": "stream",
          "text": [
            "R2 Score for 'y_pred_d4' :  0.9973922891706615\n",
            "[[1.000e+00 1.000e+00 1.000e+00 1.000e+00 1.000e+00]\n",
            " [1.000e+00 2.000e+00 4.000e+00 8.000e+00 1.600e+01]\n",
            " [1.000e+00 3.000e+00 9.000e+00 2.700e+01 8.100e+01]\n",
            " [1.000e+00 4.000e+00 1.600e+01 6.400e+01 2.560e+02]\n",
            " [1.000e+00 5.000e+00 2.500e+01 1.250e+02 6.250e+02]\n",
            " [1.000e+00 6.000e+00 3.600e+01 2.160e+02 1.296e+03]\n",
            " [1.000e+00 7.000e+00 4.900e+01 3.430e+02 2.401e+03]\n",
            " [1.000e+00 8.000e+00 6.400e+01 5.120e+02 4.096e+03]\n",
            " [1.000e+00 9.000e+00 8.100e+01 7.290e+02 6.561e+03]\n",
            " [1.000e+00 1.000e+01 1.000e+02 1.000e+03 1.000e+04]]\n"
          ]
        },
        {
          "data": {
            "image/png": "[encoded data removed]",
            "text/plain": [
              "<Figure size 432x288 with 1 Axes>"
            ]
          },
          "metadata": {
            "needs_background": "light"
          },
          "output_type": "display_data"
        }
      ],
      "source": [
        "# 4. dereceden polinomial\n",
        "pr_d4 = PolynomialFeatures(degree = 4)\n",
        "X_poly_d4 = pr_d4.fit_transform(X)\n",
        "poly_reg_d4 = LinearRegression().fit(X_poly_d4,y)\n",
        "y_pred_d4 = poly_reg_d4.predict(X_poly_d4)\n",
        "\n",
        "print(\"R2 Score for 'y_pred_d4' : \", r2_score(y,y_pred_d4))\n",
        "print(X_poly_d4)\n",
        "\n",
        "plt.scatter(X,y)\n",
        "plt.ylabel(\"Salary\")\n",
        "plt.xlabel(\"Level\")\n",
        "plt.plot(X, y_pred_d4)\n",
        "plt.title(\"4. dereceden polinomial\")\n",
        "plt.show()"
      ]
    },
    {
      "cell_type": "code",
      "execution_count": null,
      "id": "ad6b3e9e",
      "metadata": {
        "execution": {
          "iopub.execute_input": "2022-03-08T12:42:49.531492Z",
          "iopub.status.busy": "2022-03-08T12:42:49.530431Z",
          "iopub.status.idle": "2022-03-08T12:42:49.824436Z",
          "shell.execute_reply": "2022-03-08T12:42:49.825017Z",
          "shell.execute_reply.started": "2022-03-08T12:41:10.996828Z"
        },
        "papermill": {
          "duration": 0.417412,
          "end_time": "2022-03-08T12:42:49.825202",
          "exception": false,
          "start_time": "2022-03-08T12:42:49.407790",
          "status": "completed"
        },
        "tags": [],
        "id": "ad6b3e9e",
        "outputId": "7909bc02-8cee-41db-802a-a59946a65b6e"
      },
      "outputs": [
        {
          "data": {
            "image/png": "[encoded data removed]",
            "text/plain": [
              "<Figure size 1008x720 with 1 Axes>"
            ]
          },
          "metadata": {
            "needs_background": "light"
          },
          "output_type": "display_data"
        }
      ],
      "source": [
        "# Çakışmalı Görselleştirme\n",
        "fig = plt.figure(figsize=(14,10))\n",
        "plt.scatter(X,y, color = \"black\")\n",
        "plt.ylabel(\"Salary\")\n",
        "plt.xlabel(\"Level\")\n",
        "plt.plot(X,y_pred_d1,color= \"red\",label = \"y_pred_d1\")\n",
        "plt.plot(X,y_pred_d2,color= \"green\",label = \"y_pred_d2\")\n",
        "plt.plot(X,y_pred_d3,color= \"blue\",label = \"y_pred_d3\")\n",
        "plt.plot(X,y_pred_d4,color= \"gray\",label = \"y_pred_d4\")\n",
        "plt.title(\"Dereceler\")\n",
        "plt.legend()\n",
        "plt.show()"
      ]
    },
    {
      "cell_type": "code",
      "execution_count": null,
      "id": "4235ec6d",
      "metadata": {
        "execution": {
          "iopub.execute_input": "2022-03-08T12:42:50.047099Z",
          "iopub.status.busy": "2022-03-08T12:42:50.046363Z",
          "iopub.status.idle": "2022-03-08T12:42:50.063651Z",
          "shell.execute_reply": "2022-03-08T12:42:50.062937Z",
          "shell.execute_reply.started": "2022-03-08T12:41:11.654043Z"
        },
        "papermill": {
          "duration": 0.132823,
          "end_time": "2022-03-08T12:42:50.063848",
          "exception": false,
          "start_time": "2022-03-08T12:42:49.931025",
          "status": "completed"
        },
        "tags": [],
        "id": "4235ec6d",
        "outputId": "c4a5b2fc-4367-46d3-a732-5c2cb617cff8"
      },
      "outputs": [
        {
          "name": "stdout",
          "output_type": "stream",
          "text": [
            "7.5 level maaşı y_pred_d1:  [[411257.57575758]]\n",
            "Score:  0.6690412331929895\n",
            "\n",
            "7.5 level maaşı y_pred_d2:  [[328672.34848485]]\n",
            "Doğruluk:  0.9162082221443942\n",
            "\n",
            "7.5 level maaşı y_pred_d3:  [[240915.35547786]]\n",
            "Doğruluk:  0.9812097727913366\n",
            "\n",
            "7.5 level maaşı y_pred_d4:  [[225126.29297787]]\n",
            "Doğruluk:  0.9973922891706615\n"
          ]
        }
      ],
      "source": [
        "# Spesifik maaş hesabı\n",
        "y_pred_d1 = poly_reg_d1.predict(pr_d1.fit_transform([[7.5]]))\n",
        "y_pred_d2 = poly_reg_d2.predict(pr_d2.fit_transform([[7.5]]))\n",
        "y_pred_d3 = poly_reg_d3.predict(pr_d3.fit_transform([[7.5]]))\n",
        "y_pred_d4 = poly_reg_d4.predict(pr_d4.fit_transform([[7.5]]))\n",
        "\n",
        "print(\"7.5 level maaşı y_pred_d1: \", y_pred_d1)\n",
        "print(\"Score: \", poly_reg_d1.score(X_poly_d1,y))\n",
        "print()\n",
        "print(\"7.5 level maaşı y_pred_d2: \", y_pred_d2)\n",
        "print(\"Doğruluk: \", poly_reg_d2.score(X_poly_d2,y))\n",
        "print()\n",
        "print(\"7.5 level maaşı y_pred_d3: \", y_pred_d3)\n",
        "print(\"Doğruluk: \", poly_reg_d3.score(X_poly_d3,y))\n",
        "print()\n",
        "print(\"7.5 level maaşı y_pred_d4: \", y_pred_d4)\n",
        "print(\"Doğruluk: \", poly_reg_d4.score(X_poly_d4,y))"
      ]
    },
    {
      "cell_type": "markdown",
      "id": "f8f71627",
      "metadata": {
        "papermill": {
          "duration": 0.107622,
          "end_time": "2022-03-08T12:42:50.278338",
          "exception": false,
          "start_time": "2022-03-08T12:42:50.170716",
          "status": "completed"
        },
        "tags": [],
        "id": "f8f71627"
      },
      "source": [
        "# Overfitting - Aşırı Öğrenme\n",
        "\n",
        "> İstatistikte, aşırı uyma, üretilen bir analizin belirli bir veri kümesine aşırı oranda uyum göstermesi, dolayısıyla bu veri kümesinde yer almayan yeni verilere uyum sağlayamaması problemidir. Aşırı uyan bir modelde verinin gerektirdiğinden daha fazla parametre vardır. - Wikipedia\n",
        "\n",
        "Wikipedia demek istemiş ki, modelimiz eğitim verimizi çok iyi öğrenmiş, haddinden fazla öğrenmiş ancak başka bir veriyi, örneğin test verisini görünce çuvallamış. Öğrenmemiş, ezberlemiş yani \"Overfitting\" yapmış.\n",
        "\n",
        "Yeni başlayanlar için bir yanılgıdır, modelini geliştirir, tekrar tekrar eğitir, eğitim verisinde iyi sonuç almasına rağmen dışarıdan gelen veride hata alır.  \n",
        "\n",
        "* Underfitting'e nazaran yaygındır \n",
        "* Varyans yüksektir. \n",
        "* Eğitim verisinde çok iyi çalışır.\n",
        "* Test ve diğer verilerde çok kötü çalışır.\n",
        "* [IBM Overfitting](https://www.ibm.com/cloud/learn/overfitting)\n",
        "\n",
        "\n",
        "\n",
        "# Underfitting - Eksik Öğrenme\n",
        "\n",
        "> Eksik öğrenme, veri bilimnde bir modelin girdi ve çıktı değerleri arasındaki bağlantıyı doğru bir şekilde tespit edememesidir, bu şekilde hem eğitim hemde test verisetinde yüksek bir hata oranı meydana gelir. - [IBM Underfitting](https://www.ibm.com/cloud/learn/underfitting)\n",
        "\n",
        "* Bağımsız değişkenlerin eksik olduğu durumlarda görülebilir. \n",
        "* Kullanılan algoritmanın, kendisine verilen verilere uygun olmadığı durumlarda görülebilir.\n",
        "* Hem eğitim hemde test verisinde hata oranı yüksektir.\n",
        "* Overfitting kadar yaygın değildir.\n",
        "* Yanlılık yüksektir.\n",
        "\n",
        "\n",
        "![](https://media-exp1.licdn.com/dms/image/C5612AQEZQngczL8Nxg/article-cover_image-shrink_720_1280/0/1621910409526?e=1651708800&v=beta&t=T3XFpszfMx247p5WVeXpXQUVgQzIaUWO-jkJCENT64E)"
      ]
    },
    {
      "cell_type": "markdown",
      "id": "ccc2d0ac",
      "metadata": {
        "papermill": {
          "duration": 0.106444,
          "end_time": "2022-03-08T12:42:50.493610",
          "exception": false,
          "start_time": "2022-03-08T12:42:50.387166",
          "status": "completed"
        },
        "tags": [],
        "id": "ccc2d0ac"
      },
      "source": [
        "# Loss - Cost Functions - Hata fonksiyonları\n",
        "\n",
        "Loss Fonksiyonu: Sadece bir gözlem için kayıpları-hataları hesaplayan fonksiyondur. Loss fonksiyonu hata fonksiyonu olarakta bilinir.\n",
        "\n",
        "Cost Fonksiyonu: Verisetinde ki tüm veriler için kayıpları-hataları hesaplayan fonksiyondur. Maliyet fonksiyonu olarakta bilinir.\n",
        "\n",
        "Eğittiğimiz modelin sonuçlarının doğruluğunu bilmek genel anlamda yetersiz olacaktır. Modelimizin yaptığı tahminlerle, doğru sonuçlar arasında ki sapmayı hesaplayıp modelimizi geliştirmeye devam edebiliriz. Bu işlemi Loss fonksiyonu ile yapabiliriz, Loss fonksiyonun amacı ise, hatayı bulmak ve Gradient Descent gibi optimizasyon algoritmalarını kullanarak hatayı minimuma indirip y-kesişimi ve katsayıların en doğru değeri almasını sağlamaktır. Loss fonksiyonumuzu seçerken bağımlı değişkenimizin değerini incelemeliyiz, modelimiz tahmin modelimi olacak yoksa sınıflandırma modelimi olacak?\n",
        "\n",
        "Verilerimizi test edip sonuçları analiz ederken eğitim veriseti ile test etmek hatalı olabilir çünkü modelimiz bu verisetini tanıyor ve önyargıyla sonuç verebilir. Test verisetini bu aşamada kullanırız ki genelleme hatasını tahmin edebilelim. \n",
        "\n",
        "Tahmine dayalı modellerde kullanılan Maliyet fonksiyonlarının bazıları:\n",
        "- Mean Absolute Error - MAE (Loss Fonksiyonu olarak Absolute Error Loss kullanır)\n",
        "- Mean Absolute Percentage Error - MAPE\n",
        "- Mean Squared Error - MSE (Loss Fonksiyonu olarak Squared Error kullanır)\n",
        "- Root Mean Squared Error - RMSE\n",
        "- Huber Loss\n",
        "- Log-cosh loss\n",
        "\n",
        "Sınıflandırma modellerinde kullanılan metrikler:\n",
        "- Confusion Matrix - Karışıklık Matrisi\n",
        "- F1 Score - F1 Skor\n",
        "- AUC-ROC Curve\n",
        "- Multi-class Cross Entropy Loss\n",
        "- Hinge Loss\n",
        "- KL-Divergence\n",
        "\n",
        "Further Readings:\n",
        "* [Daha fazlası için: \"A Comprehensive Guide To Loss Functions — Part 1 : Regression\"](https://medium.com/analytics-vidhya/a-comprehensive-guide-to-loss-functions-part-1-regression-ff8b847675d6)\n",
        "* [Daha fazlası için: MSE, RMSE, MAE, MAPE ve Diğer Metrikler](https://veribilimcisi.com/2017/07/14/mse-rmse-mae-mape-metrikleri-nedir/)\n",
        "* [scikit-learn Metrics and Scoring documentation](https://scikit-learn.org/stable/modules/model_evaluation.html)\n",
        "* [Model Performansını Değerlendirmek - Metrikler](https://medium.com/deep-learning-turkiye/model-performans%C4%B1n%C4%B1-de%C4%9Ferlendirmek-metrikler-cb6568705b1)\n",
        "* [End-to-End Introduction to Evaluating Regression Models](https://www.analyticsvidhya.com/blog/2021/10/evaluation-metric-for-regression-models/)\n",
        "* [A Detailed Guide to 7 Loss Functions for Machine Learning Algorithms with Python Code](https://www.analyticsvidhya.com/blog/2019/08/detailed-guide-7-loss-functions-machine-learning-python-code/)\n",
        "* [Evaluation Metrics With Python Codes](https://www.analyticsvidhya.com/blog/2022/01/evaluation-metrics-with-python-codes/)\n"
      ]
    },
    {
      "cell_type": "markdown",
      "id": "4ef45622",
      "metadata": {
        "papermill": {
          "duration": 0.106621,
          "end_time": "2022-03-08T12:42:50.707494",
          "exception": false,
          "start_time": "2022-03-08T12:42:50.600873",
          "status": "completed"
        },
        "tags": [],
        "id": "4ef45622"
      },
      "source": [
        "# Hataların gözlemlenmesi\n",
        "\n",
        "![](https://miro.medium.com/max/724/1*oXPGYqgTeIn0Ey3SWgkbsA.jpeg)\n",
        "\n",
        "* Mavi noktalar gerçek değerler.\n",
        "* Siyah çizgi, tahmin doğrusu.\n",
        "* Kırmızı noktalar ise dikey hizzada çakıştıkları mavi noktaların tahmin doğrusuyla elde ettiğimiz tahminleri.\n",
        "* Kırmızı noktalar ve mavi noktalar arasında ki çizgilerimiz yani noktaların uzaklığı ise atıklarımız, İngilizcede \"Residual\" olarak geçer.\n",
        "\n",
        "Regresyon doğrusu üzerinde doğru ile çakışmayan her gözlemin doğru ile arasında ki mesafeye \"residual\", yani atık denir. Bu atıkların kareleri toplamına da \"Residual Sum of Squared\", \"Atıkların kareleri toplamı\" denir.\n",
        "\n",
        "Matematiksel gösterimi: \n",
        "### Residual $ = y - \\hat{y}$"
      ]
    },
    {
      "cell_type": "markdown",
      "id": "443dca7a",
      "metadata": {
        "papermill": {
          "duration": 0.106585,
          "end_time": "2022-03-08T12:42:50.920837",
          "exception": false,
          "start_time": "2022-03-08T12:42:50.814252",
          "status": "completed"
        },
        "tags": [],
        "id": "443dca7a"
      },
      "source": [
        "## Mean Absolute Error - MAE\n",
        "\n",
        "En kolay maliyet fonksiyonu MAE diyebiliriz. MAE gerçek değer ve tahmin edilen değer arasında ki mutlak farkı hesaplar ve ortalamasını alır.\n",
        "\n",
        "MAE dilimize \"Mutlak Hata\" diye geçmiştir, loss fonksiyonu olarak \"Absolute Error Loss\" fonksiyonunu kullanır. \"Absolute Error Loss\", \"L1 Loss\" kısa adıylada bilinir. \n",
        "\n",
        "MAE ile ilgili bir kaç detay:\n",
        "* MAE bir Cost Fonksiyonudur.\n",
        "* L1 Loss, MAE'nin kullandığı Loss Fonksiyonudur.\n",
        "* Farkların mutlak değerini almasına rağmen aykıdır değerlere duyarlılığı yoktur.\n",
        "* Sürekli değişkenle aynı birimdedir, açıklaması kolaydır.\n",
        "* MAE'den iyidir.\n",
        "\n",
        "Matematiksel denklemi:\n",
        "\n",
        "## Absolute Error Loss $=\\big|y_{i}-\\hat{y}_{i} \\big| $\n",
        "\n",
        "\n",
        "## Mean Absolute Error $= \\frac{1}{n} \\sum\\limits^{n}_{i=1} \\big|y_{i}-\\hat{y}_{i} \\big| $\n",
        "\n",
        "$\\frac{1}{n} \\sum_{i=1}^{n} = $ Test veriseti\n",
        "\n",
        "$y_{i} = $ Tahmin edilen değer\n",
        "\n",
        "$\\hat{y}_{i} = $ asıl değer"
      ]
    },
    {
      "cell_type": "markdown",
      "id": "c72919f5",
      "metadata": {
        "papermill": {
          "duration": 0.106164,
          "end_time": "2022-03-08T12:42:51.134191",
          "exception": false,
          "start_time": "2022-03-08T12:42:51.028027",
          "status": "completed"
        },
        "tags": [],
        "id": "c72919f5"
      },
      "source": [
        "## Mean Squared Error - MSE\n",
        "\n",
        "Mean Squared Error bir \"cost function\"dır, yani bir değerlendirme metriğidir. Kısaca eğitim verisinde ki her gözlem için doğru değer ve tahmin edilen değer arasında ki farkın karesini alır. Doğrusal Regresyonda en yaygın kullanılan maliyet fonksiyonudur ve MAE'den daha iyi bir performans sergiler.\n",
        "\n",
        "MSE loss fonksiyonu olarak \"Least Squared Error\", diğer adıyla \"Squared Error Loss\" fonksiyonunu kullanır. \"Squared Error Loss\", \"L2 Loss\" kısa adıylada bilinir, dilimize \"En Küçük Kareler Yöntemi\" olarak geçmiştir. En küçük hataları alıyor olsaydık, negatif değerler ve pozitif değerler çakışıp sıkıntı doğurabilirdi. Bu sebepten kareleri alıyoruz ve negatifliği yok ediyoruz. \n",
        "\n",
        "> İkili sınıflandırma algoritmalarında kullanıldığında Loss fonksiyonu minimize ederken sıkıntı çekebilir çünkü MSE artı/eksi sonsuz değerler almayı bekler ancak ikili sınıflandırma modelleri 0 ve 1 arasında olasılıklar dönderir ve bu olasılıklarıda sigmoid gibi fonksiyonlardan geçirip çıktı alır.\n",
        "\n",
        "\n",
        "\n",
        "MSE ile ilgili bir kaç detay:\n",
        "* MSE bir Cost Fonksiyonudur.\n",
        "* L2 Loss MSE'nin kullandığı Loss Fonksiyonudur.\n",
        "* MSE farkların karesini aldığı için aykırı gözlemlere karşı daha hassastır ve bu gözlemleri ön plana çıkartır.\n",
        "* Sürekli değişkenle aynı birimde olmadığı için açıklaması kolay deildir.\n",
        "* MAE'den iyidir.\n",
        "\n",
        "\n",
        "\n",
        "Matematiksel denklemi:\n",
        "\n",
        "## Squared Error Loss $=  \\big(y_{i}-\\hat{y}_{i} \\big)^2 $\n",
        "\n",
        "\n",
        "\n",
        "## Mean Squared Error $= \\frac{1}{n} \\sum\\limits^{n}_{i=1} \\big(y_{i}-\\hat{y}_{i} \\big)^2 $\n",
        "\n",
        "$\\frac{1}{n} \\sum_{i=1}^{n} = $ Test veriseti\n",
        "\n",
        "$y_{i} = $ Tahmin edilen değer\n",
        "\n",
        "$\\hat{y}_{i} = $ asıl değer\n",
        "\n",
        "\n",
        "\n",
        "\n",
        "Adımlar:\n",
        "\n",
        "1 - Önce gerçek değer ve tahmin edilen değer arasında ki farkı, atığı bul.\n",
        "\n",
        "2 - Bu farkın karesini al.\n",
        "\n",
        "3 - Her X değeri için tüm karelerin ortalamasını hesapla.\n",
        "\n",
        "\n",
        "Further Readings:\n",
        "* [What is the difference between least squares error and mean squared error?](https://www.programsbuzz.com/interview-question/what-difference-between-least-squares-error-and-mean-squared-error)\n",
        "* [Mean squared error versus Least squared error, which one to compare datasets?](https://stats.stackexchange.com/questions/146092/mean-squared-error-versus-least-squared-error-which-one-to-compare-datasets)"
      ]
    },
    {
      "cell_type": "markdown",
      "id": "f1e48420",
      "metadata": {
        "papermill": {
          "duration": 0.108389,
          "end_time": "2022-03-08T12:42:51.349008",
          "exception": false,
          "start_time": "2022-03-08T12:42:51.240619",
          "status": "completed"
        },
        "tags": [],
        "id": "f1e48420"
      },
      "source": [
        "## Root Mean Squared Error - RMSE\n",
        "\n",
        "RMSE, MSE'nin kökü alınarak hesaplanır. En popüler değerlendirme metriğidir. MAE ve MSE'nin tüm dezavantajlarından arınmıştır. Yine aykırı gözlemleri ön plana çıkarmaya devam eder.\n",
        "\n",
        "\n",
        "RMSE ile ilgili bir kaç detay:\n",
        "* MSE farkların karesini aldığı için aykırı gözlemlere karşı daha hassastı, RMSE'de aynı şeyi yaptığı için bu gözlemleri ön plana çıkarmaya devam eder.\n",
        "* Sürekli değişkenle aynı birimdedir, açıklanması daha kolaydır.\n",
        "\n",
        "## Mean Squared Error $= \\sqrt{\\frac{1}{n} \\sum\\limits^{n}_{i=1} \\big(y_{i}-\\hat{y}_{i} \\big)^2 }$"
      ]
    },
    {
      "cell_type": "markdown",
      "id": "39e40578",
      "metadata": {
        "papermill": {
          "duration": 0.105882,
          "end_time": "2022-03-08T12:42:51.561953",
          "exception": false,
          "start_time": "2022-03-08T12:42:51.456071",
          "status": "completed"
        },
        "tags": [],
        "id": "39e40578"
      },
      "source": [
        "# Gradient Descent - (Dereceli azalma veya gradyan inişi)\n",
        "\n",
        "## Gradient Descent Nedir?\n",
        "\n",
        "Optimizasyonu, \"daha iyiye doğru\" şeklinde özetleyebiliriz. Bir sınava hazırlanırken hatalarımızı tespit eder ve bunları yapmamaya çalışırız.  Gradient Descent ise makine öğrenmesinde kullanılan en yaygın optimizasyon tekniğidir ve oluşturacağımız modeli daha az hataya doğru götürmeyi hedefler. Makine öğrenmesi algoritmalarında genel olarak \"daha iyiye gitme\" durumunu eğitim verisiyle gerçekleştiririz ve test verisiyle ne kadar iyi olduğunu görürüz. Gradient Descent birazdan göreceğimiz hata fonksiyonlarını en aza indirgeyip minimum hata oranını bulmak için kullanılır. \n",
        "> Matematikte gradyan inişi, türevlenebilir bir fonksiyonun yerel minimumunu bulmak için birinci dereceden yinelemeli bir optimizasyon algoritmasıdır. Buradaki fikir, mevcut noktada fonksiyonun gradyanının tersi yönünde tekrarlanan adımlar atmaktır, çünkü bu en dik iniş yönüdür. - Wikipedia\n",
        "\n",
        "\n",
        "Doğrusal regresyon modeli, kendisine verilen X değişkeni ile y değişkenini tahmin etmeye çalışır ve bunu \"best-fit\" regresyon çizgisini elde etmeyi amaçlayarak yapar. Model eğitimi gerçekleştirilirken maliyet fonksiyonunu hesaplar. Bu maliyet fonksiyonu \"Root Mean Squared Error\"dur ve bu fonksiyonda asıl değer ile tahmin edilen değer arasında ki farkı alıp, bu farkın karesinin kökünü almaya dayanır. Model maliyet fonksiyonunu en düşük haline getirmeye çalışır ki tüm gözlemlerde yaptığı tahminleri minimum hata payı ile yapsın. \n",
        "\n",
        "Maliyet fonksiyonunu minimize etmek için modelimizin \"y-kesişimi\" ve \"katsayıları\" için en iyi değeri bulması lazım. Regresyon algoritması çalışmaya başladığında \"y-kesişimi\" ve \"katsayılar\" için rastgele değerler atar ve her iterasyonda maliyet fonksiyonunu minimize etmek için bu değerleri günceller. Zaman içerisinde modelimiz minimum maliyet fonksiyonuna ulaşır yani \"y-kesişimi\" ve \"katsayılar\" alabilecekleri en iyi değerleri almış olur. \"y-kesişimi\" ve \"katsayılar\" için elde edilen son değerler kullanılarakta modelimiz yeni gelen X değişkeni ile y tahmini yapar. Peki \"y-kesişimi\" ve \"katsayılar\" nasıl güncellenir? \n",
        "\n",
        "Maliyet fonksiyonu bize hatalarımızı ve onların konumlarını söyledikten sonra modelimiz \"Gradient Descent\" algoritması ile hatamızın eğimini tespit eder ve hatayı minimuma indirecek yöne doğru ilerler, yani daha az hata alabileceğimiz değere doğru güncelleme yapar. Bunu grafiğe döktüğümüzde, dağlık bir araziyi düşünebiliriz. Maliyet fonksiyonumuz yüksekse bu arazide yüksek bir tepedeyizdir, amacımız aşağı inmek ve maliyet fonksiyonumuzu minimize etmek. Gradient Descent hatamızın konumuna ve etrafına bakar, hatamızı minimuma indirebilme olanağı söz konusuysa o yöne doğru adım adım ilerler. Bunu ise maliyet fonksiyonunun türevini alarak yapar. Gradient Descent algoritması adım adım ilerler dedik, bu adımlara step denir ve her stepin mesafesini ise \"learning rate\" isimli bir parametre ile kendimiz verebiliriz. Adımlar çok büyük olursa minimuma ulaşmak zorlaşabilir çünkü Gradient Descent minimumu ıskalayabilir, çok küçük olursa lokal minimumu bulup orada kalma ihtimalimiz artar, daha az olan maliyet fonksiyonunu bulma şansımız azalır ve modelimizin eğitimi daha uzun sürer. Doğru \"Learning Rate\" seçimi bu yüzden çok önemlidir.\n",
        "\n",
        "Bazı Gradient Descent varyatifler:\n",
        "* Stochastic Gradient Descent\n",
        "* Mini-batch Gradient Descent\n",
        "* Batch Gradient Descent\n",
        "\n",
        "Açıklayıcı Görseller:\n",
        "\n",
        "![](https://miro.medium.com/max/1024/1*G1v2WBigWmNzoMuKOYQV_g.png)\n",
        "\n",
        "\n",
        "Learning rate çok büyük olursa: Adımlar oldukça mesafeli olur ve hata değeri azalacağı yerde artar.\n",
        "\n",
        "Learning rate çok küçük olursa: Adımlar çok küçük olacağı için global minimuma ulaşmak çok zaman alır.\n",
        "\n",
        "Olması gereken Learning Rate verilirse kısa bir sürede global minimum noktasına ulaşılabilir.\n",
        "\n",
        "![](https://miro.medium.com/max/724/1*XigwiTBItRFWwcW5H6ug2A.png)\n",
        "\n",
        "![](https://miro.medium.com/max/724/0*QwE8M4MupSdqA3M4.png)\n",
        "\n",
        "![](https://miro.medium.com/max/724/0*hsnJ0zBOdq6G_o8J)\n",
        "\n",
        "Matematiksel denklemi:\n",
        "## $ \\theta_j = \\theta_j - \\alpha \\frac{\\partial}{\\partial\\theta_j} j(\\theta_0, \\theta_1)$\n",
        "\n",
        "Burada $J$, kullanacağımız hata fonksiyonunu gösterir. Yukarıda ki gösterimde hata fonksiyonunun türevini alıyoruz ve modelimizde hatalarımızı daha düşük hale Gradient Descent algoritması yardımıyla getiriyor.\n",
        "\n",
        "$\\alpha$ bizim öğrenme hızımız yani learning rate'imiz\n",
        "\n",
        "\n",
        "Further Readings:\n",
        "* [Playground](https://uclaacm.github.io/gradient-descent-visualiser/#playground)\n",
        "    * Function x^2, Starting point değerini 15 yapın, Learning Rate değerini 0.2 yapın ve iterasyonları gözlemleyin.\n",
        "    * Function x^2, Starting point değerini 15 yapın, Learning Rate değerini 1.1 yapın ve iterasyonları gözlemleyin.\n",
        "    * Function x^2,  Starting point değerini 15 yapın, Learning Rate değerini 1 yapın ve iterasyonları gözlemleyin.\n",
        "* [Detaylı Matematiksel Anlatımı - Video: Machine Learning & Deep Learning: Giriş #2 | Hacettepe AI Club | #yapayzeka](https://www.youtube.com/watch?v=8Sf--n-XbjA&list=PLuG3KTJbiTEUq9OezwQJsaAzX59BGlPSV&index=4)\n",
        "* [Detaylı Matematiksel Anlatımı - Yazı : Maliyet Fonksiyonu (Cost Function)](https://veribilimcisi.com/2017/07/12/model-olusturma-ve-maliyet-fonksiyonu/)\n",
        "* [Daha fazlası için: Gradient Descent in Linear Regression](https://www.geeksforgeeks.org/gradient-descent-in-linear-regression/)\n",
        "* [Daha fazlası için: Maliyet Fonksiyonu (Cost Function)](https://veribilimcisi.com/2017/07/12/model-olusturma-ve-maliyet-fonksiyonu/)\n",
        "* [A Visual Explanation of Gradient Descent Methods (Momentum, AdaGrad, RMSProp, Adam)](https://towardsdatascience.com/a-visual-explanation-of-gradient-descent-methods-momentum-adagrad-rmsprop-adam-f898b102325c)\n",
        "* [Adım adım, çoğu detayıyla geçrekleştirilmiş bir anlatım: Deepnote - Gradient Descent](https://deepnote.com/@brindhag/Gradient-Descent--w3Hzh5uT22j5c7A8i_nMg)"
      ]
    },
    {
      "cell_type": "markdown",
      "id": "53b83b07",
      "metadata": {
        "papermill": {
          "duration": 0.106227,
          "end_time": "2022-03-08T12:42:51.774317",
          "exception": false,
          "start_time": "2022-03-08T12:42:51.668090",
          "status": "completed"
        },
        "tags": [],
        "id": "53b83b07"
      },
      "source": [
        "# Regresyon modelini değerlendirme - R Squared\n",
        "\n",
        "R2 regresyon bazlı makine öğrenmesi modellerinde kullanılan bir performans değerlendirme ölçeğidir. Asıl verilerin regresyon çizgisine ne kadar yakın olduğunu istatistiksel olarak ölçer. \n",
        "\n",
        "> R2 modelin açıklanabilirliğinin ölçüsüdür.\n",
        "\n",
        "[Coefficent of determination](https://en.wikipedia.org/wiki/Coefficient_of_determination) yani belirleme katsayısı olarakta bilinir.\n",
        "\n",
        "Veri kümesi tarafından açıklanan tahminlerdeki varyans miktarını ölçerek çalışır.\n",
        "\n",
        "En basit anlatımla, veriseti içerisinde ki gözlemler ve modelin oluşturduğu tahminler arasındaki farkın ölçümüdür.\n",
        "\n",
        "> r2_score \"1\" dönderiyorsa model mükemmel, \"0\" dönderiyorsa model daha önce karşısına çıkmayan bir verisetinde kötü bir performans gösterecek diyebiliriz. r2 değeri 1'e ne kadar yakınsa o kadar iyi eğitilmiştir diyebiliriz.\n",
        "\n",
        "> Bazı durumlkarda yükske R2 değeri alırız ve bunu iyi bir şey olarak düşünebiliriz ancak bu durum aşırı öğrenmenin belirtisi olabilir. \n",
        "\n",
        "> R2, matematiksel anlamda temeline inilmesi ve farklı örneklerde verdiği sonuçların incelenip yorumlanması gereken bir metriktir, pratik yapılması tavsiye edilir.\n",
        "\n",
        "R2 ile ilgili bir kaç detay:\n",
        "* R2 değeri ne kadar yüksekse modelimiz o kadar iyidir.\n",
        "* R2 0 ve 1 arasında bir değer alır. \n",
        "\n",
        "Matematiksel denklemi:\n",
        "\n",
        "## Residual Sum of Squares $= \\sum\\limits^{n}_{i=1} \\big(y_{i}-\\hat{y}_{i} \\big)^2 $\n",
        "\n",
        "## Residual Sum of Squared Errors of our Regression $= \\sum_{i} \\big(y_{i}-\\hat{y}_{i} \\big)^2 $\n",
        "\n",
        "## Total Sum of Squares Squared Errors $= \\sum_{i} \\big(y_{i}-\\bar{y} \\big)^2 $\n",
        "\n",
        "## R Squared $= 1 - \\frac{\\sum_{i} \\big(y_{i}-\\hat{y}_{i} \\big)^2}{\\sum_{i} \\big(y_{i}-\\bar{y} \\big)^2}$\n",
        "\n",
        "\n",
        "Further Reading:\n",
        "* [An Introduction to R – Square](https://www.mygreatlearning.com/blog/r-square/)"
      ]
    },
    {
      "cell_type": "markdown",
      "id": "b6aafe6b",
      "metadata": {
        "papermill": {
          "duration": 0.106211,
          "end_time": "2022-03-08T12:42:51.986540",
          "exception": false,
          "start_time": "2022-03-08T12:42:51.880329",
          "status": "completed"
        },
        "tags": [],
        "id": "b6aafe6b"
      },
      "source": [
        "# Model Kaydetme\n",
        "\n",
        "Bizim modelimiz bu notebook'un hafızasında \"linear_reg\" ismiyle tutuluyor. Modelimizi neden kaydetmemiz gerektiğini açıklayayım, öncelikle bizim eğitim verimiz oldukça küçük ve modelimizde aynı oranda küçük ancak daha kapsamlı projelerde eğitimi saatler süren modeller olabiliyor. Notebook'umuzu her çalıştırışımızda modeli eğitmek zaman alacağı için daha önceden eğittiğimiz modeli kaydetmek daha sonra tekrar kullanabilmemiz için çok önemlidir.\n",
        "\n",
        "## Kaydetmek için son bir örnek daha görelim"
      ]
    },
    {
      "cell_type": "code",
      "execution_count": null,
      "id": "8fc5eac6",
      "metadata": {
        "execution": {
          "iopub.execute_input": "2022-03-08T12:42:52.204019Z",
          "iopub.status.busy": "2022-03-08T12:42:52.203302Z",
          "iopub.status.idle": "2022-03-08T12:42:52.231406Z",
          "shell.execute_reply": "2022-03-08T12:42:52.230651Z",
          "shell.execute_reply.started": "2022-03-08T12:41:23.543604Z"
        },
        "papermill": {
          "duration": 0.138902,
          "end_time": "2022-03-08T12:42:52.231566",
          "exception": false,
          "start_time": "2022-03-08T12:42:52.092664",
          "status": "completed"
        },
        "tags": [],
        "id": "8fc5eac6",
        "outputId": "222f38f2-0bfb-41fc-c922-654f44d4e471"
      },
      "outputs": [
        {
          "data": {
            "text/html": [
              "<div>\n",
              "<style scoped>\n",
              "    .dataframe tbody tr th:only-of-type {\n",
              "        vertical-align: middle;\n",
              "    }\n",
              "\n",
              "    .dataframe tbody tr th {\n",
              "        vertical-align: top;\n",
              "    }\n",
              "\n",
              "    .dataframe thead th {\n",
              "        text-align: right;\n",
              "    }\n",
              "</style>\n",
              "<table border=\"1\" class=\"dataframe\">\n",
              "  <thead>\n",
              "    <tr style=\"text-align: right;\">\n",
              "      <th></th>\n",
              "      <th>R&amp;D Spend</th>\n",
              "      <th>Administration</th>\n",
              "      <th>Marketing Spend</th>\n",
              "      <th>State</th>\n",
              "      <th>Profit</th>\n",
              "    </tr>\n",
              "  </thead>\n",
              "  <tbody>\n",
              "    <tr>\n",
              "      <th>0</th>\n",
              "      <td>165349.20</td>\n",
              "      <td>136897.80</td>\n",
              "      <td>471784.10</td>\n",
              "      <td>New York</td>\n",
              "      <td>192261.83</td>\n",
              "    </tr>\n",
              "    <tr>\n",
              "      <th>1</th>\n",
              "      <td>162597.70</td>\n",
              "      <td>151377.59</td>\n",
              "      <td>443898.53</td>\n",
              "      <td>California</td>\n",
              "      <td>191792.06</td>\n",
              "    </tr>\n",
              "    <tr>\n",
              "      <th>2</th>\n",
              "      <td>153441.51</td>\n",
              "      <td>101145.55</td>\n",
              "      <td>407934.54</td>\n",
              "      <td>Florida</td>\n",
              "      <td>191050.39</td>\n",
              "    </tr>\n",
              "    <tr>\n",
              "      <th>3</th>\n",
              "      <td>144372.41</td>\n",
              "      <td>118671.85</td>\n",
              "      <td>383199.62</td>\n",
              "      <td>New York</td>\n",
              "      <td>182901.99</td>\n",
              "    </tr>\n",
              "    <tr>\n",
              "      <th>4</th>\n",
              "      <td>142107.34</td>\n",
              "      <td>91391.77</td>\n",
              "      <td>366168.42</td>\n",
              "      <td>Florida</td>\n",
              "      <td>166187.94</td>\n",
              "    </tr>\n",
              "  </tbody>\n",
              "</table>\n",
              "</div>"
            ],
            "text/plain": [
              "   R&D Spend  Administration  Marketing Spend       State     Profit\n",
              "0  165349.20       136897.80        471784.10    New York  192261.83\n",
              "1  162597.70       151377.59        443898.53  California  191792.06\n",
              "2  153441.51       101145.55        407934.54     Florida  191050.39\n",
              "3  144372.41       118671.85        383199.62    New York  182901.99\n",
              "4  142107.34        91391.77        366168.42     Florida  166187.94"
            ]
          },
          "execution_count": 35,
          "metadata": {},
          "output_type": "execute_result"
        }
      ],
      "source": [
        "# Yukarıda ki animasyonda yaptığımız verisetini parçalamamızı işini\n",
        "# alt satırda çağırdığımız fonksiyon ile gerçekleştireceğiz\n",
        "from sklearn.model_selection import train_test_split\n",
        "\n",
        "# Verilerin projeye dahil edilmesi\n",
        "df = pd.read_csv(\"../input/various-expenses-and-the-profits-of-50-startups/50_Startups.csv\")\n",
        "# .head() metodu, verisetimizin ilk beş satırını gözlemlememizi sağlar\n",
        "df.head()"
      ]
    },
    {
      "cell_type": "code",
      "execution_count": null,
      "id": "30679e09",
      "metadata": {
        "execution": {
          "iopub.execute_input": "2022-03-08T12:42:52.465838Z",
          "iopub.status.busy": "2022-03-08T12:42:52.465122Z",
          "iopub.status.idle": "2022-03-08T12:42:52.469267Z",
          "shell.execute_reply": "2022-03-08T12:42:52.469855Z",
          "shell.execute_reply.started": "2022-03-08T12:41:24.890378Z"
        },
        "papermill": {
          "duration": 0.131027,
          "end_time": "2022-03-08T12:42:52.470050",
          "exception": false,
          "start_time": "2022-03-08T12:42:52.339023",
          "status": "completed"
        },
        "tags": [],
        "id": "30679e09",
        "outputId": "234e1b51-b634-46f4-83d4-14806058324f"
      },
      "outputs": [
        {
          "name": "stdout",
          "output_type": "stream",
          "text": [
            "<class 'pandas.core.frame.DataFrame'>\n",
            "RangeIndex: 50 entries, 0 to 49\n",
            "Data columns (total 5 columns):\n",
            " #   Column           Non-Null Count  Dtype  \n",
            "---  ------           --------------  -----  \n",
            " 0   R&D Spend        50 non-null     float64\n",
            " 1   Administration   50 non-null     float64\n",
            " 2   Marketing Spend  50 non-null     float64\n",
            " 3   State            50 non-null     object \n",
            " 4   Profit           50 non-null     float64\n",
            "dtypes: float64(4), object(1)\n",
            "memory usage: 2.1+ KB\n"
          ]
        }
      ],
      "source": [
        "# Verisetimizle ilgili bilgileri gözlemleyelim\n",
        "df.info()"
      ]
    },
    {
      "cell_type": "code",
      "execution_count": null,
      "id": "70787955",
      "metadata": {
        "execution": {
          "iopub.execute_input": "2022-03-08T12:42:52.708323Z",
          "iopub.status.busy": "2022-03-08T12:42:52.707564Z",
          "iopub.status.idle": "2022-03-08T12:42:52.712896Z",
          "shell.execute_reply": "2022-03-08T12:42:52.712241Z",
          "shell.execute_reply.started": "2022-03-08T12:41:25.294391Z"
        },
        "papermill": {
          "duration": 0.134842,
          "end_time": "2022-03-08T12:42:52.713067",
          "exception": false,
          "start_time": "2022-03-08T12:42:52.578225",
          "status": "completed"
        },
        "tags": [],
        "id": "70787955",
        "outputId": "3b40d18e-e245-4262-bad7-b78a99449fb6"
      },
      "outputs": [
        {
          "data": {
            "text/html": [
              "<div>\n",
              "<style scoped>\n",
              "    .dataframe tbody tr th:only-of-type {\n",
              "        vertical-align: middle;\n",
              "    }\n",
              "\n",
              "    .dataframe tbody tr th {\n",
              "        vertical-align: top;\n",
              "    }\n",
              "\n",
              "    .dataframe thead th {\n",
              "        text-align: right;\n",
              "    }\n",
              "</style>\n",
              "<table border=\"1\" class=\"dataframe\">\n",
              "  <thead>\n",
              "    <tr style=\"text-align: right;\">\n",
              "      <th></th>\n",
              "      <th>R&amp;D Spend</th>\n",
              "      <th>Administration</th>\n",
              "      <th>Marketing Spend</th>\n",
              "      <th>State</th>\n",
              "    </tr>\n",
              "  </thead>\n",
              "  <tbody>\n",
              "    <tr>\n",
              "      <th>0</th>\n",
              "      <td>165349.20</td>\n",
              "      <td>136897.80</td>\n",
              "      <td>471784.10</td>\n",
              "      <td>New York</td>\n",
              "    </tr>\n",
              "    <tr>\n",
              "      <th>1</th>\n",
              "      <td>162597.70</td>\n",
              "      <td>151377.59</td>\n",
              "      <td>443898.53</td>\n",
              "      <td>California</td>\n",
              "    </tr>\n",
              "    <tr>\n",
              "      <th>2</th>\n",
              "      <td>153441.51</td>\n",
              "      <td>101145.55</td>\n",
              "      <td>407934.54</td>\n",
              "      <td>Florida</td>\n",
              "    </tr>\n",
              "    <tr>\n",
              "      <th>3</th>\n",
              "      <td>144372.41</td>\n",
              "      <td>118671.85</td>\n",
              "      <td>383199.62</td>\n",
              "      <td>New York</td>\n",
              "    </tr>\n",
              "    <tr>\n",
              "      <th>4</th>\n",
              "      <td>142107.34</td>\n",
              "      <td>91391.77</td>\n",
              "      <td>366168.42</td>\n",
              "      <td>Florida</td>\n",
              "    </tr>\n",
              "    <tr>\n",
              "      <th>5</th>\n",
              "      <td>131876.90</td>\n",
              "      <td>99814.71</td>\n",
              "      <td>362861.36</td>\n",
              "      <td>New York</td>\n",
              "    </tr>\n",
              "    <tr>\n",
              "      <th>6</th>\n",
              "      <td>134615.46</td>\n",
              "      <td>147198.87</td>\n",
              "      <td>127716.82</td>\n",
              "      <td>California</td>\n",
              "    </tr>\n",
              "    <tr>\n",
              "      <th>7</th>\n",
              "      <td>130298.13</td>\n",
              "      <td>145530.06</td>\n",
              "      <td>323876.68</td>\n",
              "      <td>Florida</td>\n",
              "    </tr>\n",
              "    <tr>\n",
              "      <th>8</th>\n",
              "      <td>120542.52</td>\n",
              "      <td>148718.95</td>\n",
              "      <td>311613.29</td>\n",
              "      <td>New York</td>\n",
              "    </tr>\n",
              "    <tr>\n",
              "      <th>9</th>\n",
              "      <td>123334.88</td>\n",
              "      <td>108679.17</td>\n",
              "      <td>304981.62</td>\n",
              "      <td>California</td>\n",
              "    </tr>\n",
              "    <tr>\n",
              "      <th>10</th>\n",
              "      <td>101913.08</td>\n",
              "      <td>110594.11</td>\n",
              "      <td>229160.95</td>\n",
              "      <td>Florida</td>\n",
              "    </tr>\n",
              "    <tr>\n",
              "      <th>11</th>\n",
              "      <td>100671.96</td>\n",
              "      <td>91790.61</td>\n",
              "      <td>249744.55</td>\n",
              "      <td>California</td>\n",
              "    </tr>\n",
              "    <tr>\n",
              "      <th>12</th>\n",
              "      <td>93863.75</td>\n",
              "      <td>127320.38</td>\n",
              "      <td>249839.44</td>\n",
              "      <td>Florida</td>\n",
              "    </tr>\n",
              "    <tr>\n",
              "      <th>13</th>\n",
              "      <td>91992.39</td>\n",
              "      <td>135495.07</td>\n",
              "      <td>252664.93</td>\n",
              "      <td>California</td>\n",
              "    </tr>\n",
              "    <tr>\n",
              "      <th>14</th>\n",
              "      <td>119943.24</td>\n",
              "      <td>156547.42</td>\n",
              "      <td>256512.92</td>\n",
              "      <td>Florida</td>\n",
              "    </tr>\n",
              "  </tbody>\n",
              "</table>\n",
              "</div>"
            ],
            "text/plain": [
              "    R&D Spend  Administration  Marketing Spend       State\n",
              "0   165349.20       136897.80        471784.10    New York\n",
              "1   162597.70       151377.59        443898.53  California\n",
              "2   153441.51       101145.55        407934.54     Florida\n",
              "3   144372.41       118671.85        383199.62    New York\n",
              "4   142107.34        91391.77        366168.42     Florida\n",
              "5   131876.90        99814.71        362861.36    New York\n",
              "6   134615.46       147198.87        127716.82  California\n",
              "7   130298.13       145530.06        323876.68     Florida\n",
              "8   120542.52       148718.95        311613.29    New York\n",
              "9   123334.88       108679.17        304981.62  California\n",
              "10  101913.08       110594.11        229160.95     Florida\n",
              "11  100671.96        91790.61        249744.55  California\n",
              "12   93863.75       127320.38        249839.44     Florida\n",
              "13   91992.39       135495.07        252664.93  California\n",
              "14  119943.24       156547.42        256512.92     Florida"
            ]
          },
          "execution_count": 37,
          "metadata": {},
          "output_type": "execute_result"
        }
      ],
      "source": [
        "# Biz tahminimizi \"R&D Spend\",\"Administration\",\"Marketing Spend\", \"State\" bağımsız değişkenleriyle yapacağız\n",
        "# bu sebepten ötürü X değişkenine bu kolonlarımızı veriyoruz\n",
        "X = df[[\"R&D Spend\",\"Administration\",\"Marketing Spend\", \"State\"]]\n",
        "# tahmin edeceğimzi değer ise \"profit\" bağımlı değişeni\n",
        "y = df[[\"Profit\"]]\n",
        "X.head(15)"
      ]
    },
    {
      "cell_type": "code",
      "execution_count": null,
      "id": "e318d4e3",
      "metadata": {
        "execution": {
          "iopub.execute_input": "2022-03-08T12:42:52.939911Z",
          "iopub.status.busy": "2022-03-08T12:42:52.939172Z",
          "iopub.status.idle": "2022-03-08T12:42:52.944208Z",
          "shell.execute_reply": "2022-03-08T12:42:52.944821Z",
          "shell.execute_reply.started": "2022-03-08T12:41:25.708980Z"
        },
        "papermill": {
          "duration": 0.122384,
          "end_time": "2022-03-08T12:42:52.945006",
          "exception": false,
          "start_time": "2022-03-08T12:42:52.822622",
          "status": "completed"
        },
        "tags": [],
        "id": "e318d4e3",
        "outputId": "27b0f882-6f26-41dd-cab6-af0eb789ef59"
      },
      "outputs": [
        {
          "data": {
            "text/html": [
              "<div>\n",
              "<style scoped>\n",
              "    .dataframe tbody tr th:only-of-type {\n",
              "        vertical-align: middle;\n",
              "    }\n",
              "\n",
              "    .dataframe tbody tr th {\n",
              "        vertical-align: top;\n",
              "    }\n",
              "\n",
              "    .dataframe thead th {\n",
              "        text-align: right;\n",
              "    }\n",
              "</style>\n",
              "<table border=\"1\" class=\"dataframe\">\n",
              "  <thead>\n",
              "    <tr style=\"text-align: right;\">\n",
              "      <th></th>\n",
              "      <th>Profit</th>\n",
              "    </tr>\n",
              "  </thead>\n",
              "  <tbody>\n",
              "    <tr>\n",
              "      <th>0</th>\n",
              "      <td>192261.83</td>\n",
              "    </tr>\n",
              "    <tr>\n",
              "      <th>1</th>\n",
              "      <td>191792.06</td>\n",
              "    </tr>\n",
              "    <tr>\n",
              "      <th>2</th>\n",
              "      <td>191050.39</td>\n",
              "    </tr>\n",
              "    <tr>\n",
              "      <th>3</th>\n",
              "      <td>182901.99</td>\n",
              "    </tr>\n",
              "    <tr>\n",
              "      <th>4</th>\n",
              "      <td>166187.94</td>\n",
              "    </tr>\n",
              "    <tr>\n",
              "      <th>5</th>\n",
              "      <td>156991.12</td>\n",
              "    </tr>\n",
              "    <tr>\n",
              "      <th>6</th>\n",
              "      <td>156122.51</td>\n",
              "    </tr>\n",
              "    <tr>\n",
              "      <th>7</th>\n",
              "      <td>155752.60</td>\n",
              "    </tr>\n",
              "    <tr>\n",
              "      <th>8</th>\n",
              "      <td>152211.77</td>\n",
              "    </tr>\n",
              "    <tr>\n",
              "      <th>9</th>\n",
              "      <td>149759.96</td>\n",
              "    </tr>\n",
              "    <tr>\n",
              "      <th>10</th>\n",
              "      <td>146121.95</td>\n",
              "    </tr>\n",
              "    <tr>\n",
              "      <th>11</th>\n",
              "      <td>144259.40</td>\n",
              "    </tr>\n",
              "    <tr>\n",
              "      <th>12</th>\n",
              "      <td>141585.52</td>\n",
              "    </tr>\n",
              "    <tr>\n",
              "      <th>13</th>\n",
              "      <td>134307.35</td>\n",
              "    </tr>\n",
              "    <tr>\n",
              "      <th>14</th>\n",
              "      <td>132602.65</td>\n",
              "    </tr>\n",
              "  </tbody>\n",
              "</table>\n",
              "</div>"
            ],
            "text/plain": [
              "       Profit\n",
              "0   192261.83\n",
              "1   191792.06\n",
              "2   191050.39\n",
              "3   182901.99\n",
              "4   166187.94\n",
              "5   156991.12\n",
              "6   156122.51\n",
              "7   155752.60\n",
              "8   152211.77\n",
              "9   149759.96\n",
              "10  146121.95\n",
              "11  144259.40\n",
              "12  141585.52\n",
              "13  134307.35\n",
              "14  132602.65"
            ]
          },
          "execution_count": 38,
          "metadata": {},
          "output_type": "execute_result"
        }
      ],
      "source": [
        "y.head(15)"
      ]
    },
    {
      "cell_type": "code",
      "execution_count": null,
      "id": "74e93a57",
      "metadata": {
        "execution": {
          "iopub.execute_input": "2022-03-08T12:42:53.168162Z",
          "iopub.status.busy": "2022-03-08T12:42:53.167435Z",
          "iopub.status.idle": "2022-03-08T12:42:53.178463Z",
          "shell.execute_reply": "2022-03-08T12:42:53.179157Z",
          "shell.execute_reply.started": "2022-03-08T12:41:27.061084Z"
        },
        "papermill": {
          "duration": 0.124915,
          "end_time": "2022-03-08T12:42:53.179355",
          "exception": false,
          "start_time": "2022-03-08T12:42:53.054440",
          "status": "completed"
        },
        "tags": [],
        "id": "74e93a57",
        "outputId": "ab9bdd11-d82d-4202-ea07-1a4b4eaa8504"
      },
      "outputs": [
        {
          "data": {
            "text/html": [
              "<div>\n",
              "<style scoped>\n",
              "    .dataframe tbody tr th:only-of-type {\n",
              "        vertical-align: middle;\n",
              "    }\n",
              "\n",
              "    .dataframe tbody tr th {\n",
              "        vertical-align: top;\n",
              "    }\n",
              "\n",
              "    .dataframe thead th {\n",
              "        text-align: right;\n",
              "    }\n",
              "</style>\n",
              "<table border=\"1\" class=\"dataframe\">\n",
              "  <thead>\n",
              "    <tr style=\"text-align: right;\">\n",
              "      <th></th>\n",
              "      <th>California</th>\n",
              "      <th>Florida</th>\n",
              "      <th>New York</th>\n",
              "    </tr>\n",
              "  </thead>\n",
              "  <tbody>\n",
              "    <tr>\n",
              "      <th>0</th>\n",
              "      <td>0</td>\n",
              "      <td>0</td>\n",
              "      <td>1</td>\n",
              "    </tr>\n",
              "    <tr>\n",
              "      <th>1</th>\n",
              "      <td>1</td>\n",
              "      <td>0</td>\n",
              "      <td>0</td>\n",
              "    </tr>\n",
              "    <tr>\n",
              "      <th>2</th>\n",
              "      <td>0</td>\n",
              "      <td>1</td>\n",
              "      <td>0</td>\n",
              "    </tr>\n",
              "    <tr>\n",
              "      <th>3</th>\n",
              "      <td>0</td>\n",
              "      <td>0</td>\n",
              "      <td>1</td>\n",
              "    </tr>\n",
              "    <tr>\n",
              "      <th>4</th>\n",
              "      <td>0</td>\n",
              "      <td>1</td>\n",
              "      <td>0</td>\n",
              "    </tr>\n",
              "    <tr>\n",
              "      <th>5</th>\n",
              "      <td>0</td>\n",
              "      <td>0</td>\n",
              "      <td>1</td>\n",
              "    </tr>\n",
              "    <tr>\n",
              "      <th>6</th>\n",
              "      <td>1</td>\n",
              "      <td>0</td>\n",
              "      <td>0</td>\n",
              "    </tr>\n",
              "    <tr>\n",
              "      <th>7</th>\n",
              "      <td>0</td>\n",
              "      <td>1</td>\n",
              "      <td>0</td>\n",
              "    </tr>\n",
              "    <tr>\n",
              "      <th>8</th>\n",
              "      <td>0</td>\n",
              "      <td>0</td>\n",
              "      <td>1</td>\n",
              "    </tr>\n",
              "    <tr>\n",
              "      <th>9</th>\n",
              "      <td>1</td>\n",
              "      <td>0</td>\n",
              "      <td>0</td>\n",
              "    </tr>\n",
              "    <tr>\n",
              "      <th>10</th>\n",
              "      <td>0</td>\n",
              "      <td>1</td>\n",
              "      <td>0</td>\n",
              "    </tr>\n",
              "    <tr>\n",
              "      <th>11</th>\n",
              "      <td>1</td>\n",
              "      <td>0</td>\n",
              "      <td>0</td>\n",
              "    </tr>\n",
              "    <tr>\n",
              "      <th>12</th>\n",
              "      <td>0</td>\n",
              "      <td>1</td>\n",
              "      <td>0</td>\n",
              "    </tr>\n",
              "    <tr>\n",
              "      <th>13</th>\n",
              "      <td>1</td>\n",
              "      <td>0</td>\n",
              "      <td>0</td>\n",
              "    </tr>\n",
              "    <tr>\n",
              "      <th>14</th>\n",
              "      <td>0</td>\n",
              "      <td>1</td>\n",
              "      <td>0</td>\n",
              "    </tr>\n",
              "  </tbody>\n",
              "</table>\n",
              "</div>"
            ],
            "text/plain": [
              "    California  Florida  New York\n",
              "0            0        0         1\n",
              "1            1        0         0\n",
              "2            0        1         0\n",
              "3            0        0         1\n",
              "4            0        1         0\n",
              "5            0        0         1\n",
              "6            1        0         0\n",
              "7            0        1         0\n",
              "8            0        0         1\n",
              "9            1        0         0\n",
              "10           0        1         0\n",
              "11           1        0         0\n",
              "12           0        1         0\n",
              "13           1        0         0\n",
              "14           0        1         0"
            ]
          },
          "execution_count": 39,
          "metadata": {},
          "output_type": "execute_result"
        }
      ],
      "source": [
        "state = pd.get_dummies(X[\"State\"])\n",
        "state.head(15)"
      ]
    },
    {
      "cell_type": "code",
      "execution_count": null,
      "id": "eab1058a",
      "metadata": {
        "execution": {
          "iopub.execute_input": "2022-03-08T12:42:53.404518Z",
          "iopub.status.busy": "2022-03-08T12:42:53.403455Z",
          "iopub.status.idle": "2022-03-08T12:42:53.427137Z",
          "shell.execute_reply": "2022-03-08T12:42:53.427697Z",
          "shell.execute_reply.started": "2022-03-08T12:41:27.510031Z"
        },
        "papermill": {
          "duration": 0.13895,
          "end_time": "2022-03-08T12:42:53.427934",
          "exception": false,
          "start_time": "2022-03-08T12:42:53.288984",
          "status": "completed"
        },
        "tags": [],
        "id": "eab1058a",
        "outputId": "a49954e0-c57b-44e3-89c3-f878e04c5522"
      },
      "outputs": [
        {
          "name": "stderr",
          "output_type": "stream",
          "text": [
            "/opt/conda/lib/python3.7/site-packages/pandas/core/frame.py:4913: SettingWithCopyWarning: \n",
            "A value is trying to be set on a copy of a slice from a DataFrame\n",
            "\n",
            "See the caveats in the documentation: https://pandas.pydata.org/pandas-docs/stable/user_guide/indexing.html#returning-a-view-versus-a-copy\n",
            "  errors=errors,\n"
          ]
        },
        {
          "data": {
            "text/html": [
              "<div>\n",
              "<style scoped>\n",
              "    .dataframe tbody tr th:only-of-type {\n",
              "        vertical-align: middle;\n",
              "    }\n",
              "\n",
              "    .dataframe tbody tr th {\n",
              "        vertical-align: top;\n",
              "    }\n",
              "\n",
              "    .dataframe thead th {\n",
              "        text-align: right;\n",
              "    }\n",
              "</style>\n",
              "<table border=\"1\" class=\"dataframe\">\n",
              "  <thead>\n",
              "    <tr style=\"text-align: right;\">\n",
              "      <th></th>\n",
              "      <th>R&amp;D Spend</th>\n",
              "      <th>Administration</th>\n",
              "      <th>Marketing Spend</th>\n",
              "    </tr>\n",
              "  </thead>\n",
              "  <tbody>\n",
              "    <tr>\n",
              "      <th>0</th>\n",
              "      <td>165349.20</td>\n",
              "      <td>136897.80</td>\n",
              "      <td>471784.10</td>\n",
              "    </tr>\n",
              "    <tr>\n",
              "      <th>1</th>\n",
              "      <td>162597.70</td>\n",
              "      <td>151377.59</td>\n",
              "      <td>443898.53</td>\n",
              "    </tr>\n",
              "    <tr>\n",
              "      <th>2</th>\n",
              "      <td>153441.51</td>\n",
              "      <td>101145.55</td>\n",
              "      <td>407934.54</td>\n",
              "    </tr>\n",
              "    <tr>\n",
              "      <th>3</th>\n",
              "      <td>144372.41</td>\n",
              "      <td>118671.85</td>\n",
              "      <td>383199.62</td>\n",
              "    </tr>\n",
              "    <tr>\n",
              "      <th>4</th>\n",
              "      <td>142107.34</td>\n",
              "      <td>91391.77</td>\n",
              "      <td>366168.42</td>\n",
              "    </tr>\n",
              "    <tr>\n",
              "      <th>5</th>\n",
              "      <td>131876.90</td>\n",
              "      <td>99814.71</td>\n",
              "      <td>362861.36</td>\n",
              "    </tr>\n",
              "    <tr>\n",
              "      <th>6</th>\n",
              "      <td>134615.46</td>\n",
              "      <td>147198.87</td>\n",
              "      <td>127716.82</td>\n",
              "    </tr>\n",
              "    <tr>\n",
              "      <th>7</th>\n",
              "      <td>130298.13</td>\n",
              "      <td>145530.06</td>\n",
              "      <td>323876.68</td>\n",
              "    </tr>\n",
              "    <tr>\n",
              "      <th>8</th>\n",
              "      <td>120542.52</td>\n",
              "      <td>148718.95</td>\n",
              "      <td>311613.29</td>\n",
              "    </tr>\n",
              "    <tr>\n",
              "      <th>9</th>\n",
              "      <td>123334.88</td>\n",
              "      <td>108679.17</td>\n",
              "      <td>304981.62</td>\n",
              "    </tr>\n",
              "    <tr>\n",
              "      <th>10</th>\n",
              "      <td>101913.08</td>\n",
              "      <td>110594.11</td>\n",
              "      <td>229160.95</td>\n",
              "    </tr>\n",
              "    <tr>\n",
              "      <th>11</th>\n",
              "      <td>100671.96</td>\n",
              "      <td>91790.61</td>\n",
              "      <td>249744.55</td>\n",
              "    </tr>\n",
              "    <tr>\n",
              "      <th>12</th>\n",
              "      <td>93863.75</td>\n",
              "      <td>127320.38</td>\n",
              "      <td>249839.44</td>\n",
              "    </tr>\n",
              "    <tr>\n",
              "      <th>13</th>\n",
              "      <td>91992.39</td>\n",
              "      <td>135495.07</td>\n",
              "      <td>252664.93</td>\n",
              "    </tr>\n",
              "    <tr>\n",
              "      <th>14</th>\n",
              "      <td>119943.24</td>\n",
              "      <td>156547.42</td>\n",
              "      <td>256512.92</td>\n",
              "    </tr>\n",
              "  </tbody>\n",
              "</table>\n",
              "</div>"
            ],
            "text/plain": [
              "    R&D Spend  Administration  Marketing Spend\n",
              "0   165349.20       136897.80        471784.10\n",
              "1   162597.70       151377.59        443898.53\n",
              "2   153441.51       101145.55        407934.54\n",
              "3   144372.41       118671.85        383199.62\n",
              "4   142107.34        91391.77        366168.42\n",
              "5   131876.90        99814.71        362861.36\n",
              "6   134615.46       147198.87        127716.82\n",
              "7   130298.13       145530.06        323876.68\n",
              "8   120542.52       148718.95        311613.29\n",
              "9   123334.88       108679.17        304981.62\n",
              "10  101913.08       110594.11        229160.95\n",
              "11  100671.96        91790.61        249744.55\n",
              "12   93863.75       127320.38        249839.44\n",
              "13   91992.39       135495.07        252664.93\n",
              "14  119943.24       156547.42        256512.92"
            ]
          },
          "execution_count": 40,
          "metadata": {},
          "output_type": "execute_result"
        }
      ],
      "source": [
        "X.drop([\"State\"],axis=1, inplace=True)\n",
        "X.head(15)"
      ]
    },
    {
      "cell_type": "code",
      "execution_count": null,
      "id": "f84929dd",
      "metadata": {
        "execution": {
          "iopub.execute_input": "2022-03-08T12:42:53.666840Z",
          "iopub.status.busy": "2022-03-08T12:42:53.652593Z",
          "iopub.status.idle": "2022-03-08T12:42:53.670127Z",
          "shell.execute_reply": "2022-03-08T12:42:53.670804Z",
          "shell.execute_reply.started": "2022-03-08T12:41:30.388458Z"
        },
        "papermill": {
          "duration": 0.132593,
          "end_time": "2022-03-08T12:42:53.670992",
          "exception": false,
          "start_time": "2022-03-08T12:42:53.538399",
          "status": "completed"
        },
        "tags": [],
        "id": "f84929dd",
        "outputId": "5d623aa2-ea88-4483-d850-2a483f2ac9a5"
      },
      "outputs": [
        {
          "data": {
            "text/html": [
              "<div>\n",
              "<style scoped>\n",
              "    .dataframe tbody tr th:only-of-type {\n",
              "        vertical-align: middle;\n",
              "    }\n",
              "\n",
              "    .dataframe tbody tr th {\n",
              "        vertical-align: top;\n",
              "    }\n",
              "\n",
              "    .dataframe thead th {\n",
              "        text-align: right;\n",
              "    }\n",
              "</style>\n",
              "<table border=\"1\" class=\"dataframe\">\n",
              "  <thead>\n",
              "    <tr style=\"text-align: right;\">\n",
              "      <th></th>\n",
              "      <th>R&amp;D Spend</th>\n",
              "      <th>Administration</th>\n",
              "      <th>Marketing Spend</th>\n",
              "      <th>California</th>\n",
              "      <th>Florida</th>\n",
              "      <th>New York</th>\n",
              "    </tr>\n",
              "  </thead>\n",
              "  <tbody>\n",
              "    <tr>\n",
              "      <th>0</th>\n",
              "      <td>165349.20</td>\n",
              "      <td>136897.80</td>\n",
              "      <td>471784.10</td>\n",
              "      <td>0</td>\n",
              "      <td>0</td>\n",
              "      <td>1</td>\n",
              "    </tr>\n",
              "    <tr>\n",
              "      <th>1</th>\n",
              "      <td>162597.70</td>\n",
              "      <td>151377.59</td>\n",
              "      <td>443898.53</td>\n",
              "      <td>1</td>\n",
              "      <td>0</td>\n",
              "      <td>0</td>\n",
              "    </tr>\n",
              "    <tr>\n",
              "      <th>2</th>\n",
              "      <td>153441.51</td>\n",
              "      <td>101145.55</td>\n",
              "      <td>407934.54</td>\n",
              "      <td>0</td>\n",
              "      <td>1</td>\n",
              "      <td>0</td>\n",
              "    </tr>\n",
              "    <tr>\n",
              "      <th>3</th>\n",
              "      <td>144372.41</td>\n",
              "      <td>118671.85</td>\n",
              "      <td>383199.62</td>\n",
              "      <td>0</td>\n",
              "      <td>0</td>\n",
              "      <td>1</td>\n",
              "    </tr>\n",
              "    <tr>\n",
              "      <th>4</th>\n",
              "      <td>142107.34</td>\n",
              "      <td>91391.77</td>\n",
              "      <td>366168.42</td>\n",
              "      <td>0</td>\n",
              "      <td>1</td>\n",
              "      <td>0</td>\n",
              "    </tr>\n",
              "    <tr>\n",
              "      <th>5</th>\n",
              "      <td>131876.90</td>\n",
              "      <td>99814.71</td>\n",
              "      <td>362861.36</td>\n",
              "      <td>0</td>\n",
              "      <td>0</td>\n",
              "      <td>1</td>\n",
              "    </tr>\n",
              "    <tr>\n",
              "      <th>6</th>\n",
              "      <td>134615.46</td>\n",
              "      <td>147198.87</td>\n",
              "      <td>127716.82</td>\n",
              "      <td>1</td>\n",
              "      <td>0</td>\n",
              "      <td>0</td>\n",
              "    </tr>\n",
              "    <tr>\n",
              "      <th>7</th>\n",
              "      <td>130298.13</td>\n",
              "      <td>145530.06</td>\n",
              "      <td>323876.68</td>\n",
              "      <td>0</td>\n",
              "      <td>1</td>\n",
              "      <td>0</td>\n",
              "    </tr>\n",
              "    <tr>\n",
              "      <th>8</th>\n",
              "      <td>120542.52</td>\n",
              "      <td>148718.95</td>\n",
              "      <td>311613.29</td>\n",
              "      <td>0</td>\n",
              "      <td>0</td>\n",
              "      <td>1</td>\n",
              "    </tr>\n",
              "    <tr>\n",
              "      <th>9</th>\n",
              "      <td>123334.88</td>\n",
              "      <td>108679.17</td>\n",
              "      <td>304981.62</td>\n",
              "      <td>1</td>\n",
              "      <td>0</td>\n",
              "      <td>0</td>\n",
              "    </tr>\n",
              "    <tr>\n",
              "      <th>10</th>\n",
              "      <td>101913.08</td>\n",
              "      <td>110594.11</td>\n",
              "      <td>229160.95</td>\n",
              "      <td>0</td>\n",
              "      <td>1</td>\n",
              "      <td>0</td>\n",
              "    </tr>\n",
              "    <tr>\n",
              "      <th>11</th>\n",
              "      <td>100671.96</td>\n",
              "      <td>91790.61</td>\n",
              "      <td>249744.55</td>\n",
              "      <td>1</td>\n",
              "      <td>0</td>\n",
              "      <td>0</td>\n",
              "    </tr>\n",
              "    <tr>\n",
              "      <th>12</th>\n",
              "      <td>93863.75</td>\n",
              "      <td>127320.38</td>\n",
              "      <td>249839.44</td>\n",
              "      <td>0</td>\n",
              "      <td>1</td>\n",
              "      <td>0</td>\n",
              "    </tr>\n",
              "    <tr>\n",
              "      <th>13</th>\n",
              "      <td>91992.39</td>\n",
              "      <td>135495.07</td>\n",
              "      <td>252664.93</td>\n",
              "      <td>1</td>\n",
              "      <td>0</td>\n",
              "      <td>0</td>\n",
              "    </tr>\n",
              "    <tr>\n",
              "      <th>14</th>\n",
              "      <td>119943.24</td>\n",
              "      <td>156547.42</td>\n",
              "      <td>256512.92</td>\n",
              "      <td>0</td>\n",
              "      <td>1</td>\n",
              "      <td>0</td>\n",
              "    </tr>\n",
              "  </tbody>\n",
              "</table>\n",
              "</div>"
            ],
            "text/plain": [
              "    R&D Spend  Administration  Marketing Spend  California  Florida  New York\n",
              "0   165349.20       136897.80        471784.10           0        0         1\n",
              "1   162597.70       151377.59        443898.53           1        0         0\n",
              "2   153441.51       101145.55        407934.54           0        1         0\n",
              "3   144372.41       118671.85        383199.62           0        0         1\n",
              "4   142107.34        91391.77        366168.42           0        1         0\n",
              "5   131876.90        99814.71        362861.36           0        0         1\n",
              "6   134615.46       147198.87        127716.82           1        0         0\n",
              "7   130298.13       145530.06        323876.68           0        1         0\n",
              "8   120542.52       148718.95        311613.29           0        0         1\n",
              "9   123334.88       108679.17        304981.62           1        0         0\n",
              "10  101913.08       110594.11        229160.95           0        1         0\n",
              "11  100671.96        91790.61        249744.55           1        0         0\n",
              "12   93863.75       127320.38        249839.44           0        1         0\n",
              "13   91992.39       135495.07        252664.93           1        0         0\n",
              "14  119943.24       156547.42        256512.92           0        1         0"
            ]
          },
          "execution_count": 41,
          "metadata": {},
          "output_type": "execute_result"
        }
      ],
      "source": [
        "X = pd.concat((X,state), axis=1)\n",
        "X.head(15)"
      ]
    },
    {
      "cell_type": "code",
      "execution_count": null,
      "id": "6a4b5e50",
      "metadata": {
        "execution": {
          "iopub.execute_input": "2022-03-08T12:42:53.904106Z",
          "iopub.status.busy": "2022-03-08T12:42:53.903405Z",
          "iopub.status.idle": "2022-03-08T12:42:53.909095Z",
          "shell.execute_reply": "2022-03-08T12:42:53.909632Z",
          "shell.execute_reply.started": "2022-03-08T12:41:31.797568Z"
        },
        "papermill": {
          "duration": 0.126642,
          "end_time": "2022-03-08T12:42:53.909836",
          "exception": false,
          "start_time": "2022-03-08T12:42:53.783194",
          "status": "completed"
        },
        "tags": [],
        "id": "6a4b5e50",
        "outputId": "e751d486-85bb-4802-af7a-8f5b83792254"
      },
      "outputs": [
        {
          "data": {
            "text/html": [
              "<div>\n",
              "<style scoped>\n",
              "    .dataframe tbody tr th:only-of-type {\n",
              "        vertical-align: middle;\n",
              "    }\n",
              "\n",
              "    .dataframe tbody tr th {\n",
              "        vertical-align: top;\n",
              "    }\n",
              "\n",
              "    .dataframe thead th {\n",
              "        text-align: right;\n",
              "    }\n",
              "</style>\n",
              "<table border=\"1\" class=\"dataframe\">\n",
              "  <thead>\n",
              "    <tr style=\"text-align: right;\">\n",
              "      <th></th>\n",
              "      <th>Profit</th>\n",
              "    </tr>\n",
              "  </thead>\n",
              "  <tbody>\n",
              "    <tr>\n",
              "      <th>0</th>\n",
              "      <td>192261.83</td>\n",
              "    </tr>\n",
              "    <tr>\n",
              "      <th>1</th>\n",
              "      <td>191792.06</td>\n",
              "    </tr>\n",
              "    <tr>\n",
              "      <th>2</th>\n",
              "      <td>191050.39</td>\n",
              "    </tr>\n",
              "    <tr>\n",
              "      <th>3</th>\n",
              "      <td>182901.99</td>\n",
              "    </tr>\n",
              "    <tr>\n",
              "      <th>4</th>\n",
              "      <td>166187.94</td>\n",
              "    </tr>\n",
              "    <tr>\n",
              "      <th>5</th>\n",
              "      <td>156991.12</td>\n",
              "    </tr>\n",
              "    <tr>\n",
              "      <th>6</th>\n",
              "      <td>156122.51</td>\n",
              "    </tr>\n",
              "    <tr>\n",
              "      <th>7</th>\n",
              "      <td>155752.60</td>\n",
              "    </tr>\n",
              "    <tr>\n",
              "      <th>8</th>\n",
              "      <td>152211.77</td>\n",
              "    </tr>\n",
              "    <tr>\n",
              "      <th>9</th>\n",
              "      <td>149759.96</td>\n",
              "    </tr>\n",
              "    <tr>\n",
              "      <th>10</th>\n",
              "      <td>146121.95</td>\n",
              "    </tr>\n",
              "    <tr>\n",
              "      <th>11</th>\n",
              "      <td>144259.40</td>\n",
              "    </tr>\n",
              "    <tr>\n",
              "      <th>12</th>\n",
              "      <td>141585.52</td>\n",
              "    </tr>\n",
              "    <tr>\n",
              "      <th>13</th>\n",
              "      <td>134307.35</td>\n",
              "    </tr>\n",
              "    <tr>\n",
              "      <th>14</th>\n",
              "      <td>132602.65</td>\n",
              "    </tr>\n",
              "  </tbody>\n",
              "</table>\n",
              "</div>"
            ],
            "text/plain": [
              "       Profit\n",
              "0   192261.83\n",
              "1   191792.06\n",
              "2   191050.39\n",
              "3   182901.99\n",
              "4   166187.94\n",
              "5   156991.12\n",
              "6   156122.51\n",
              "7   155752.60\n",
              "8   152211.77\n",
              "9   149759.96\n",
              "10  146121.95\n",
              "11  144259.40\n",
              "12  141585.52\n",
              "13  134307.35\n",
              "14  132602.65"
            ]
          },
          "execution_count": 42,
          "metadata": {},
          "output_type": "execute_result"
        }
      ],
      "source": [
        "y.head(15)"
      ]
    },
    {
      "cell_type": "code",
      "execution_count": null,
      "id": "284afeb4",
      "metadata": {
        "execution": {
          "iopub.execute_input": "2022-03-08T12:42:54.139557Z",
          "iopub.status.busy": "2022-03-08T12:42:54.138901Z",
          "iopub.status.idle": "2022-03-08T12:42:54.144476Z",
          "shell.execute_reply": "2022-03-08T12:42:54.145057Z",
          "shell.execute_reply.started": "2022-03-08T12:41:33.407553Z"
        },
        "papermill": {
          "duration": 0.122169,
          "end_time": "2022-03-08T12:42:54.145254",
          "exception": false,
          "start_time": "2022-03-08T12:42:54.023085",
          "status": "completed"
        },
        "tags": [],
        "id": "284afeb4"
      },
      "outputs": [],
      "source": [
        "X_train, X_test, y_train, y_test = train_test_split(X,y, test_size = .2, random_state=0)"
      ]
    },
    {
      "cell_type": "code",
      "execution_count": null,
      "id": "e120d1b3",
      "metadata": {
        "execution": {
          "iopub.execute_input": "2022-03-08T12:42:54.378352Z",
          "iopub.status.busy": "2022-03-08T12:42:54.377612Z",
          "iopub.status.idle": "2022-03-08T12:42:54.393141Z",
          "shell.execute_reply": "2022-03-08T12:42:54.393668Z",
          "shell.execute_reply.started": "2022-03-08T12:41:33.980242Z"
        },
        "papermill": {
          "duration": 0.133961,
          "end_time": "2022-03-08T12:42:54.393881",
          "exception": false,
          "start_time": "2022-03-08T12:42:54.259920",
          "status": "completed"
        },
        "tags": [],
        "id": "e120d1b3",
        "outputId": "eedc213f-8279-472b-ee8b-4dab34a0e756"
      },
      "outputs": [
        {
          "data": {
            "text/html": [
              "<div>\n",
              "<style scoped>\n",
              "    .dataframe tbody tr th:only-of-type {\n",
              "        vertical-align: middle;\n",
              "    }\n",
              "\n",
              "    .dataframe tbody tr th {\n",
              "        vertical-align: top;\n",
              "    }\n",
              "\n",
              "    .dataframe thead th {\n",
              "        text-align: right;\n",
              "    }\n",
              "</style>\n",
              "<table border=\"1\" class=\"dataframe\">\n",
              "  <thead>\n",
              "    <tr style=\"text-align: right;\">\n",
              "      <th></th>\n",
              "      <th>R&amp;D Spend</th>\n",
              "      <th>Administration</th>\n",
              "      <th>Marketing Spend</th>\n",
              "      <th>California</th>\n",
              "      <th>Florida</th>\n",
              "      <th>New York</th>\n",
              "    </tr>\n",
              "  </thead>\n",
              "  <tbody>\n",
              "    <tr>\n",
              "      <th>33</th>\n",
              "      <td>55493.95</td>\n",
              "      <td>103057.49</td>\n",
              "      <td>214634.81</td>\n",
              "      <td>0</td>\n",
              "      <td>1</td>\n",
              "      <td>0</td>\n",
              "    </tr>\n",
              "    <tr>\n",
              "      <th>35</th>\n",
              "      <td>46014.02</td>\n",
              "      <td>85047.44</td>\n",
              "      <td>205517.64</td>\n",
              "      <td>0</td>\n",
              "      <td>0</td>\n",
              "      <td>1</td>\n",
              "    </tr>\n",
              "    <tr>\n",
              "      <th>26</th>\n",
              "      <td>75328.87</td>\n",
              "      <td>144135.98</td>\n",
              "      <td>134050.07</td>\n",
              "      <td>0</td>\n",
              "      <td>1</td>\n",
              "      <td>0</td>\n",
              "    </tr>\n",
              "    <tr>\n",
              "      <th>34</th>\n",
              "      <td>46426.07</td>\n",
              "      <td>157693.92</td>\n",
              "      <td>210797.67</td>\n",
              "      <td>1</td>\n",
              "      <td>0</td>\n",
              "      <td>0</td>\n",
              "    </tr>\n",
              "    <tr>\n",
              "      <th>18</th>\n",
              "      <td>91749.16</td>\n",
              "      <td>114175.79</td>\n",
              "      <td>294919.57</td>\n",
              "      <td>0</td>\n",
              "      <td>1</td>\n",
              "      <td>0</td>\n",
              "    </tr>\n",
              "    <tr>\n",
              "      <th>7</th>\n",
              "      <td>130298.13</td>\n",
              "      <td>145530.06</td>\n",
              "      <td>323876.68</td>\n",
              "      <td>0</td>\n",
              "      <td>1</td>\n",
              "      <td>0</td>\n",
              "    </tr>\n",
              "    <tr>\n",
              "      <th>14</th>\n",
              "      <td>119943.24</td>\n",
              "      <td>156547.42</td>\n",
              "      <td>256512.92</td>\n",
              "      <td>0</td>\n",
              "      <td>1</td>\n",
              "      <td>0</td>\n",
              "    </tr>\n",
              "    <tr>\n",
              "      <th>45</th>\n",
              "      <td>1000.23</td>\n",
              "      <td>124153.04</td>\n",
              "      <td>1903.93</td>\n",
              "      <td>0</td>\n",
              "      <td>0</td>\n",
              "      <td>1</td>\n",
              "    </tr>\n",
              "    <tr>\n",
              "      <th>48</th>\n",
              "      <td>542.05</td>\n",
              "      <td>51743.15</td>\n",
              "      <td>0.00</td>\n",
              "      <td>0</td>\n",
              "      <td>0</td>\n",
              "      <td>1</td>\n",
              "    </tr>\n",
              "    <tr>\n",
              "      <th>29</th>\n",
              "      <td>65605.48</td>\n",
              "      <td>153032.06</td>\n",
              "      <td>107138.38</td>\n",
              "      <td>0</td>\n",
              "      <td>0</td>\n",
              "      <td>1</td>\n",
              "    </tr>\n",
              "    <tr>\n",
              "      <th>15</th>\n",
              "      <td>114523.61</td>\n",
              "      <td>122616.84</td>\n",
              "      <td>261776.23</td>\n",
              "      <td>0</td>\n",
              "      <td>0</td>\n",
              "      <td>1</td>\n",
              "    </tr>\n",
              "    <tr>\n",
              "      <th>30</th>\n",
              "      <td>61994.48</td>\n",
              "      <td>115641.28</td>\n",
              "      <td>91131.24</td>\n",
              "      <td>0</td>\n",
              "      <td>1</td>\n",
              "      <td>0</td>\n",
              "    </tr>\n",
              "    <tr>\n",
              "      <th>32</th>\n",
              "      <td>63408.86</td>\n",
              "      <td>129219.61</td>\n",
              "      <td>46085.25</td>\n",
              "      <td>1</td>\n",
              "      <td>0</td>\n",
              "      <td>0</td>\n",
              "    </tr>\n",
              "    <tr>\n",
              "      <th>16</th>\n",
              "      <td>78013.11</td>\n",
              "      <td>121597.55</td>\n",
              "      <td>264346.06</td>\n",
              "      <td>1</td>\n",
              "      <td>0</td>\n",
              "      <td>0</td>\n",
              "    </tr>\n",
              "    <tr>\n",
              "      <th>42</th>\n",
              "      <td>23640.93</td>\n",
              "      <td>96189.63</td>\n",
              "      <td>148001.11</td>\n",
              "      <td>1</td>\n",
              "      <td>0</td>\n",
              "      <td>0</td>\n",
              "    </tr>\n",
              "  </tbody>\n",
              "</table>\n",
              "</div>"
            ],
            "text/plain": [
              "    R&D Spend  Administration  Marketing Spend  California  Florida  New York\n",
              "33   55493.95       103057.49        214634.81           0        1         0\n",
              "35   46014.02        85047.44        205517.64           0        0         1\n",
              "26   75328.87       144135.98        134050.07           0        1         0\n",
              "34   46426.07       157693.92        210797.67           1        0         0\n",
              "18   91749.16       114175.79        294919.57           0        1         0\n",
              "7   130298.13       145530.06        323876.68           0        1         0\n",
              "14  119943.24       156547.42        256512.92           0        1         0\n",
              "45    1000.23       124153.04          1903.93           0        0         1\n",
              "48     542.05        51743.15             0.00           0        0         1\n",
              "29   65605.48       153032.06        107138.38           0        0         1\n",
              "15  114523.61       122616.84        261776.23           0        0         1\n",
              "30   61994.48       115641.28         91131.24           0        1         0\n",
              "32   63408.86       129219.61         46085.25           1        0         0\n",
              "16   78013.11       121597.55        264346.06           1        0         0\n",
              "42   23640.93        96189.63        148001.11           1        0         0"
            ]
          },
          "execution_count": 44,
          "metadata": {},
          "output_type": "execute_result"
        }
      ],
      "source": [
        "X_train.head(15)"
      ]
    },
    {
      "cell_type": "code",
      "execution_count": null,
      "id": "6106d6dd",
      "metadata": {
        "execution": {
          "iopub.execute_input": "2022-03-08T12:42:54.622838Z",
          "iopub.status.busy": "2022-03-08T12:42:54.622139Z",
          "iopub.status.idle": "2022-03-08T12:42:54.631216Z",
          "shell.execute_reply": "2022-03-08T12:42:54.631705Z",
          "shell.execute_reply.started": "2022-03-08T12:41:35.338778Z"
        },
        "papermill": {
          "duration": 0.125451,
          "end_time": "2022-03-08T12:42:54.631911",
          "exception": false,
          "start_time": "2022-03-08T12:42:54.506460",
          "status": "completed"
        },
        "tags": [],
        "id": "6106d6dd",
        "outputId": "84c62e42-ffd5-42da-d13f-047c212ef96a"
      },
      "outputs": [
        {
          "data": {
            "text/html": [
              "<div>\n",
              "<style scoped>\n",
              "    .dataframe tbody tr th:only-of-type {\n",
              "        vertical-align: middle;\n",
              "    }\n",
              "\n",
              "    .dataframe tbody tr th {\n",
              "        vertical-align: top;\n",
              "    }\n",
              "\n",
              "    .dataframe thead th {\n",
              "        text-align: right;\n",
              "    }\n",
              "</style>\n",
              "<table border=\"1\" class=\"dataframe\">\n",
              "  <thead>\n",
              "    <tr style=\"text-align: right;\">\n",
              "      <th></th>\n",
              "      <th>Profit</th>\n",
              "    </tr>\n",
              "  </thead>\n",
              "  <tbody>\n",
              "    <tr>\n",
              "      <th>33</th>\n",
              "      <td>96778.92</td>\n",
              "    </tr>\n",
              "    <tr>\n",
              "      <th>35</th>\n",
              "      <td>96479.51</td>\n",
              "    </tr>\n",
              "    <tr>\n",
              "      <th>26</th>\n",
              "      <td>105733.54</td>\n",
              "    </tr>\n",
              "    <tr>\n",
              "      <th>34</th>\n",
              "      <td>96712.80</td>\n",
              "    </tr>\n",
              "    <tr>\n",
              "      <th>18</th>\n",
              "      <td>124266.90</td>\n",
              "    </tr>\n",
              "    <tr>\n",
              "      <th>7</th>\n",
              "      <td>155752.60</td>\n",
              "    </tr>\n",
              "    <tr>\n",
              "      <th>14</th>\n",
              "      <td>132602.65</td>\n",
              "    </tr>\n",
              "    <tr>\n",
              "      <th>45</th>\n",
              "      <td>64926.08</td>\n",
              "    </tr>\n",
              "    <tr>\n",
              "      <th>48</th>\n",
              "      <td>35673.41</td>\n",
              "    </tr>\n",
              "    <tr>\n",
              "      <th>29</th>\n",
              "      <td>101004.64</td>\n",
              "    </tr>\n",
              "    <tr>\n",
              "      <th>15</th>\n",
              "      <td>129917.04</td>\n",
              "    </tr>\n",
              "    <tr>\n",
              "      <th>30</th>\n",
              "      <td>99937.59</td>\n",
              "    </tr>\n",
              "    <tr>\n",
              "      <th>32</th>\n",
              "      <td>97427.84</td>\n",
              "    </tr>\n",
              "    <tr>\n",
              "      <th>16</th>\n",
              "      <td>126992.93</td>\n",
              "    </tr>\n",
              "    <tr>\n",
              "      <th>42</th>\n",
              "      <td>71498.49</td>\n",
              "    </tr>\n",
              "  </tbody>\n",
              "</table>\n",
              "</div>"
            ],
            "text/plain": [
              "       Profit\n",
              "33   96778.92\n",
              "35   96479.51\n",
              "26  105733.54\n",
              "34   96712.80\n",
              "18  124266.90\n",
              "7   155752.60\n",
              "14  132602.65\n",
              "45   64926.08\n",
              "48   35673.41\n",
              "29  101004.64\n",
              "15  129917.04\n",
              "30   99937.59\n",
              "32   97427.84\n",
              "16  126992.93\n",
              "42   71498.49"
            ]
          },
          "execution_count": 45,
          "metadata": {},
          "output_type": "execute_result"
        }
      ],
      "source": [
        "y_train.head(15)"
      ]
    },
    {
      "cell_type": "code",
      "execution_count": null,
      "id": "24ab01fb",
      "metadata": {
        "execution": {
          "iopub.execute_input": "2022-03-08T12:42:54.861011Z",
          "iopub.status.busy": "2022-03-08T12:42:54.860304Z",
          "iopub.status.idle": "2022-03-08T12:42:54.874037Z",
          "shell.execute_reply": "2022-03-08T12:42:54.874605Z",
          "shell.execute_reply.started": "2022-03-08T12:41:36.571997Z"
        },
        "papermill": {
          "duration": 0.129757,
          "end_time": "2022-03-08T12:42:54.874810",
          "exception": false,
          "start_time": "2022-03-08T12:42:54.745053",
          "status": "completed"
        },
        "tags": [],
        "id": "24ab01fb",
        "outputId": "e1bf0dd1-f457-42e7-9fec-faea818c529f"
      },
      "outputs": [
        {
          "data": {
            "text/html": [
              "<div>\n",
              "<style scoped>\n",
              "    .dataframe tbody tr th:only-of-type {\n",
              "        vertical-align: middle;\n",
              "    }\n",
              "\n",
              "    .dataframe tbody tr th {\n",
              "        vertical-align: top;\n",
              "    }\n",
              "\n",
              "    .dataframe thead th {\n",
              "        text-align: right;\n",
              "    }\n",
              "</style>\n",
              "<table border=\"1\" class=\"dataframe\">\n",
              "  <thead>\n",
              "    <tr style=\"text-align: right;\">\n",
              "      <th></th>\n",
              "      <th>R&amp;D Spend</th>\n",
              "      <th>Administration</th>\n",
              "      <th>Marketing Spend</th>\n",
              "      <th>California</th>\n",
              "      <th>Florida</th>\n",
              "      <th>New York</th>\n",
              "    </tr>\n",
              "  </thead>\n",
              "  <tbody>\n",
              "    <tr>\n",
              "      <th>28</th>\n",
              "      <td>66051.52</td>\n",
              "      <td>182645.56</td>\n",
              "      <td>118148.20</td>\n",
              "      <td>0</td>\n",
              "      <td>1</td>\n",
              "      <td>0</td>\n",
              "    </tr>\n",
              "    <tr>\n",
              "      <th>11</th>\n",
              "      <td>100671.96</td>\n",
              "      <td>91790.61</td>\n",
              "      <td>249744.55</td>\n",
              "      <td>1</td>\n",
              "      <td>0</td>\n",
              "      <td>0</td>\n",
              "    </tr>\n",
              "    <tr>\n",
              "      <th>10</th>\n",
              "      <td>101913.08</td>\n",
              "      <td>110594.11</td>\n",
              "      <td>229160.95</td>\n",
              "      <td>0</td>\n",
              "      <td>1</td>\n",
              "      <td>0</td>\n",
              "    </tr>\n",
              "    <tr>\n",
              "      <th>41</th>\n",
              "      <td>27892.92</td>\n",
              "      <td>84710.77</td>\n",
              "      <td>164470.71</td>\n",
              "      <td>0</td>\n",
              "      <td>1</td>\n",
              "      <td>0</td>\n",
              "    </tr>\n",
              "    <tr>\n",
              "      <th>2</th>\n",
              "      <td>153441.51</td>\n",
              "      <td>101145.55</td>\n",
              "      <td>407934.54</td>\n",
              "      <td>0</td>\n",
              "      <td>1</td>\n",
              "      <td>0</td>\n",
              "    </tr>\n",
              "    <tr>\n",
              "      <th>27</th>\n",
              "      <td>72107.60</td>\n",
              "      <td>127864.55</td>\n",
              "      <td>353183.81</td>\n",
              "      <td>0</td>\n",
              "      <td>0</td>\n",
              "      <td>1</td>\n",
              "    </tr>\n",
              "    <tr>\n",
              "      <th>38</th>\n",
              "      <td>20229.59</td>\n",
              "      <td>65947.93</td>\n",
              "      <td>185265.10</td>\n",
              "      <td>0</td>\n",
              "      <td>0</td>\n",
              "      <td>1</td>\n",
              "    </tr>\n",
              "    <tr>\n",
              "      <th>31</th>\n",
              "      <td>61136.38</td>\n",
              "      <td>152701.92</td>\n",
              "      <td>88218.23</td>\n",
              "      <td>0</td>\n",
              "      <td>0</td>\n",
              "      <td>1</td>\n",
              "    </tr>\n",
              "    <tr>\n",
              "      <th>22</th>\n",
              "      <td>73994.56</td>\n",
              "      <td>122782.75</td>\n",
              "      <td>303319.26</td>\n",
              "      <td>0</td>\n",
              "      <td>1</td>\n",
              "      <td>0</td>\n",
              "    </tr>\n",
              "    <tr>\n",
              "      <th>4</th>\n",
              "      <td>142107.34</td>\n",
              "      <td>91391.77</td>\n",
              "      <td>366168.42</td>\n",
              "      <td>0</td>\n",
              "      <td>1</td>\n",
              "      <td>0</td>\n",
              "    </tr>\n",
              "  </tbody>\n",
              "</table>\n",
              "</div>"
            ],
            "text/plain": [
              "    R&D Spend  Administration  Marketing Spend  California  Florida  New York\n",
              "28   66051.52       182645.56        118148.20           0        1         0\n",
              "11  100671.96        91790.61        249744.55           1        0         0\n",
              "10  101913.08       110594.11        229160.95           0        1         0\n",
              "41   27892.92        84710.77        164470.71           0        1         0\n",
              "2   153441.51       101145.55        407934.54           0        1         0\n",
              "27   72107.60       127864.55        353183.81           0        0         1\n",
              "38   20229.59        65947.93        185265.10           0        0         1\n",
              "31   61136.38       152701.92         88218.23           0        0         1\n",
              "22   73994.56       122782.75        303319.26           0        1         0\n",
              "4   142107.34        91391.77        366168.42           0        1         0"
            ]
          },
          "execution_count": 46,
          "metadata": {},
          "output_type": "execute_result"
        }
      ],
      "source": [
        "X_test.head(15)"
      ]
    },
    {
      "cell_type": "code",
      "execution_count": null,
      "id": "77cd593d",
      "metadata": {
        "execution": {
          "iopub.execute_input": "2022-03-08T12:42:55.112795Z",
          "iopub.status.busy": "2022-03-08T12:42:55.112006Z",
          "iopub.status.idle": "2022-03-08T12:42:55.116811Z",
          "shell.execute_reply": "2022-03-08T12:42:55.117484Z",
          "shell.execute_reply.started": "2022-03-08T12:41:38.251957Z"
        },
        "papermill": {
          "duration": 0.129761,
          "end_time": "2022-03-08T12:42:55.117666",
          "exception": false,
          "start_time": "2022-03-08T12:42:54.987905",
          "status": "completed"
        },
        "tags": [],
        "id": "77cd593d",
        "outputId": "4884f716-5a40-490d-aec6-5d39d6b7a3e9"
      },
      "outputs": [
        {
          "data": {
            "text/html": [
              "<div>\n",
              "<style scoped>\n",
              "    .dataframe tbody tr th:only-of-type {\n",
              "        vertical-align: middle;\n",
              "    }\n",
              "\n",
              "    .dataframe tbody tr th {\n",
              "        vertical-align: top;\n",
              "    }\n",
              "\n",
              "    .dataframe thead th {\n",
              "        text-align: right;\n",
              "    }\n",
              "</style>\n",
              "<table border=\"1\" class=\"dataframe\">\n",
              "  <thead>\n",
              "    <tr style=\"text-align: right;\">\n",
              "      <th></th>\n",
              "      <th>Profit</th>\n",
              "    </tr>\n",
              "  </thead>\n",
              "  <tbody>\n",
              "    <tr>\n",
              "      <th>28</th>\n",
              "      <td>103282.38</td>\n",
              "    </tr>\n",
              "    <tr>\n",
              "      <th>11</th>\n",
              "      <td>144259.40</td>\n",
              "    </tr>\n",
              "    <tr>\n",
              "      <th>10</th>\n",
              "      <td>146121.95</td>\n",
              "    </tr>\n",
              "    <tr>\n",
              "      <th>41</th>\n",
              "      <td>77798.83</td>\n",
              "    </tr>\n",
              "    <tr>\n",
              "      <th>2</th>\n",
              "      <td>191050.39</td>\n",
              "    </tr>\n",
              "    <tr>\n",
              "      <th>27</th>\n",
              "      <td>105008.31</td>\n",
              "    </tr>\n",
              "    <tr>\n",
              "      <th>38</th>\n",
              "      <td>81229.06</td>\n",
              "    </tr>\n",
              "    <tr>\n",
              "      <th>31</th>\n",
              "      <td>97483.56</td>\n",
              "    </tr>\n",
              "    <tr>\n",
              "      <th>22</th>\n",
              "      <td>110352.25</td>\n",
              "    </tr>\n",
              "    <tr>\n",
              "      <th>4</th>\n",
              "      <td>166187.94</td>\n",
              "    </tr>\n",
              "  </tbody>\n",
              "</table>\n",
              "</div>"
            ],
            "text/plain": [
              "       Profit\n",
              "28  103282.38\n",
              "11  144259.40\n",
              "10  146121.95\n",
              "41   77798.83\n",
              "2   191050.39\n",
              "27  105008.31\n",
              "38   81229.06\n",
              "31   97483.56\n",
              "22  110352.25\n",
              "4   166187.94"
            ]
          },
          "execution_count": 47,
          "metadata": {},
          "output_type": "execute_result"
        }
      ],
      "source": [
        "y_test.head(15)"
      ]
    },
    {
      "cell_type": "code",
      "execution_count": null,
      "id": "e27c100f",
      "metadata": {
        "execution": {
          "iopub.execute_input": "2022-03-08T12:42:55.386623Z",
          "iopub.status.busy": "2022-03-08T12:42:55.383897Z",
          "iopub.status.idle": "2022-03-08T12:42:55.401149Z",
          "shell.execute_reply": "2022-03-08T12:42:55.401853Z",
          "shell.execute_reply.started": "2022-03-08T12:41:39.627674Z"
        },
        "papermill": {
          "duration": 0.153658,
          "end_time": "2022-03-08T12:42:55.402061",
          "exception": false,
          "start_time": "2022-03-08T12:42:55.248403",
          "status": "completed"
        },
        "tags": [],
        "id": "e27c100f",
        "outputId": "9fed35bf-8468-4761-9a25-23da630a6792"
      },
      "outputs": [
        {
          "data": {
            "text/plain": [
              "array([[103015.20159796],\n",
              "       [132582.27760816],\n",
              "       [132447.73845174],\n",
              "       [ 71976.09851258],\n",
              "       [178537.48221055],\n",
              "       [116161.24230165],\n",
              "       [ 67851.69209676],\n",
              "       [ 98791.73374687],\n",
              "       [113969.43533012],\n",
              "       [167921.0656955 ]])"
            ]
          },
          "execution_count": 48,
          "metadata": {},
          "output_type": "execute_result"
        }
      ],
      "source": [
        "regr = LinearRegression().fit(X_train, y_train)\n",
        "y_pred = regr.predict(X_test)\n",
        "y_pred"
      ]
    },
    {
      "cell_type": "code",
      "execution_count": null,
      "id": "8d880e25",
      "metadata": {
        "execution": {
          "iopub.execute_input": "2022-03-08T12:42:55.659263Z",
          "iopub.status.busy": "2022-03-08T12:42:55.658563Z",
          "iopub.status.idle": "2022-03-08T12:42:55.667165Z",
          "shell.execute_reply": "2022-03-08T12:42:55.667848Z",
          "shell.execute_reply.started": "2022-03-08T12:41:40.569804Z"
        },
        "papermill": {
          "duration": 0.129956,
          "end_time": "2022-03-08T12:42:55.668030",
          "exception": false,
          "start_time": "2022-03-08T12:42:55.538074",
          "status": "completed"
        },
        "tags": [],
        "id": "8d880e25",
        "outputId": "c158e08d-49af-4afc-b880-b3d903f81d17"
      },
      "outputs": [
        {
          "name": "stdout",
          "output_type": "stream",
          "text": [
            "R2 Score for 'y_pred' :  0.9347068473282423\n"
          ]
        }
      ],
      "source": [
        "print(\"R2 Score for 'y_pred' : \", r2_score(y_test,y_pred))"
      ]
    },
    {
      "cell_type": "markdown",
      "id": "5f08c67b",
      "metadata": {
        "papermill": {
          "duration": 0.120623,
          "end_time": "2022-03-08T12:42:55.905079",
          "exception": false,
          "start_time": "2022-03-08T12:42:55.784456",
          "status": "completed"
        },
        "tags": [],
        "id": "5f08c67b"
      },
      "source": [
        "## Mean Absolute Error Hesabını Yapalım"
      ]
    },
    {
      "cell_type": "code",
      "execution_count": null,
      "id": "13ede952",
      "metadata": {
        "execution": {
          "iopub.execute_input": "2022-03-08T12:42:56.140112Z",
          "iopub.status.busy": "2022-03-08T12:42:56.139438Z",
          "iopub.status.idle": "2022-03-08T12:42:56.147730Z",
          "shell.execute_reply": "2022-03-08T12:42:56.149052Z",
          "shell.execute_reply.started": "2022-03-08T12:41:42.250177Z"
        },
        "papermill": {
          "duration": 0.12769,
          "end_time": "2022-03-08T12:42:56.149407",
          "exception": false,
          "start_time": "2022-03-08T12:42:56.021717",
          "status": "completed"
        },
        "tags": [],
        "id": "13ede952",
        "outputId": "e969afaf-2b34-4758-e651-27c8bd0cde1c"
      },
      "outputs": [
        {
          "name": "stdout",
          "output_type": "stream",
          "text": [
            "mean_absolute_error score:  7514.293659640616\n"
          ]
        }
      ],
      "source": [
        "from sklearn.metrics import mean_absolute_error # Fonksiyonun projeye dahil edilmesi\n",
        "\n",
        "mae = mean_absolute_error(y_test,y_pred) # MAE'nin hesaplanması\n",
        "\n",
        "print(\"mean_absolute_error score: \", mae) # MAE'nin yazdırılması"
      ]
    },
    {
      "cell_type": "markdown",
      "id": "b85ae0d4",
      "metadata": {
        "papermill": {
          "duration": 0.121337,
          "end_time": "2022-03-08T12:42:56.386761",
          "exception": false,
          "start_time": "2022-03-08T12:42:56.265424",
          "status": "completed"
        },
        "tags": [],
        "id": "b85ae0d4"
      },
      "source": [
        "## Mean Squared Error Hesabını Yapalım"
      ]
    },
    {
      "cell_type": "code",
      "execution_count": null,
      "id": "ec8a4d57",
      "metadata": {
        "execution": {
          "iopub.execute_input": "2022-03-08T12:42:56.630127Z",
          "iopub.status.busy": "2022-03-08T12:42:56.629437Z",
          "iopub.status.idle": "2022-03-08T12:42:56.637825Z",
          "shell.execute_reply": "2022-03-08T12:42:56.638350Z",
          "shell.execute_reply.started": "2022-03-08T12:41:44.281977Z"
        },
        "papermill": {
          "duration": 0.127878,
          "end_time": "2022-03-08T12:42:56.638519",
          "exception": false,
          "start_time": "2022-03-08T12:42:56.510641",
          "status": "completed"
        },
        "tags": [],
        "id": "ec8a4d57",
        "outputId": "c6ae152f-ea12-42c2-9bda-ba513787362e"
      },
      "outputs": [
        {
          "name": "stdout",
          "output_type": "stream",
          "text": [
            "mean_squared_error score:  83502864.03257766\n"
          ]
        }
      ],
      "source": [
        "from sklearn.metrics import mean_squared_error # Fonksiyonun projeye dahil edilmesi\n",
        "\n",
        "mse = mean_squared_error(y_test,y_pred) # MSE'nin hesaplanması\n",
        "\n",
        "print(\"mean_squared_error score: \", mse) # MSE'nin yazdırılması"
      ]
    },
    {
      "cell_type": "markdown",
      "id": "9883f94f",
      "metadata": {
        "papermill": {
          "duration": 0.116387,
          "end_time": "2022-03-08T12:42:56.871502",
          "exception": false,
          "start_time": "2022-03-08T12:42:56.755115",
          "status": "completed"
        },
        "tags": [],
        "id": "9883f94f"
      },
      "source": [
        "## Root Mean Squared Error Hesabını Yapalım"
      ]
    },
    {
      "cell_type": "code",
      "execution_count": null,
      "id": "f2ac36ed",
      "metadata": {
        "execution": {
          "iopub.execute_input": "2022-03-08T12:42:57.107986Z",
          "iopub.status.busy": "2022-03-08T12:42:57.107308Z",
          "iopub.status.idle": "2022-03-08T12:42:57.114868Z",
          "shell.execute_reply": "2022-03-08T12:42:57.115448Z",
          "shell.execute_reply.started": "2022-03-08T12:41:45.369878Z"
        },
        "papermill": {
          "duration": 0.127075,
          "end_time": "2022-03-08T12:42:57.115619",
          "exception": false,
          "start_time": "2022-03-08T12:42:56.988544",
          "status": "completed"
        },
        "tags": [],
        "id": "f2ac36ed",
        "outputId": "93717427-3c32-4032-a61d-5eb19864ce3e"
      },
      "outputs": [
        {
          "name": "stdout",
          "output_type": "stream",
          "text": [
            "root_mean_squared_error score:  9137.99015279496\n"
          ]
        }
      ],
      "source": [
        "from sklearn.metrics import mean_squared_error # Fonksiyonun projeye dahil edilmesi\n",
        "\n",
        "mse = mean_squared_error(y_test,y_pred) # MSE'nin hesaplanması\n",
        "\n",
        "rmse = np.sqrt(mse) # RMSE'nin hesaplanması\n",
        "\n",
        "print(\"root_mean_squared_error score: \", rmse) # RMSE'nin yazdırılması"
      ]
    },
    {
      "cell_type": "markdown",
      "id": "f9e701ed",
      "metadata": {
        "papermill": {
          "duration": 0.117068,
          "end_time": "2022-03-08T12:42:57.349661",
          "exception": false,
          "start_time": "2022-03-08T12:42:57.232593",
          "status": "completed"
        },
        "tags": [],
        "id": "f9e701ed"
      },
      "source": [
        "## R2 Skorunu görelim"
      ]
    },
    {
      "cell_type": "code",
      "execution_count": null,
      "id": "33a5c977",
      "metadata": {
        "execution": {
          "iopub.execute_input": "2022-03-08T12:42:57.589827Z",
          "iopub.status.busy": "2022-03-08T12:42:57.589134Z",
          "iopub.status.idle": "2022-03-08T12:42:57.598003Z",
          "shell.execute_reply": "2022-03-08T12:42:57.597433Z",
          "shell.execute_reply.started": "2022-03-08T12:41:46.914053Z"
        },
        "papermill": {
          "duration": 0.129096,
          "end_time": "2022-03-08T12:42:57.598162",
          "exception": false,
          "start_time": "2022-03-08T12:42:57.469066",
          "status": "completed"
        },
        "tags": [],
        "id": "33a5c977",
        "outputId": "085d5900-341d-47ff-dd89-1e8890c2e8f7"
      },
      "outputs": [
        {
          "name": "stdout",
          "output_type": "stream",
          "text": [
            "R Squared score:  0.9347068473282423\n"
          ]
        }
      ],
      "source": [
        "from sklearn.metrics import r2_score # Fonksiyonun projeye dahil edilmesi\n",
        "\n",
        "r2 = r2_score(y_test,y_pred) # R2 değerinin hespalanması\n",
        "\n",
        "print(\"R Squared score: \", r2) # R2 değerinin yazdırılması"
      ]
    },
    {
      "cell_type": "markdown",
      "id": "188eabe8",
      "metadata": {
        "papermill": {
          "duration": 0.11633,
          "end_time": "2022-03-08T12:42:57.831680",
          "exception": false,
          "start_time": "2022-03-08T12:42:57.715350",
          "status": "completed"
        },
        "tags": [],
        "id": "188eabe8"
      },
      "source": [
        "## Modelimizi kayıt edelim"
      ]
    },
    {
      "cell_type": "code",
      "execution_count": null,
      "id": "0d548cb7",
      "metadata": {
        "execution": {
          "iopub.execute_input": "2022-03-08T12:42:58.069764Z",
          "iopub.status.busy": "2022-03-08T12:42:58.068972Z",
          "iopub.status.idle": "2022-03-08T12:42:58.072842Z",
          "shell.execute_reply": "2022-03-08T12:42:58.073459Z",
          "shell.execute_reply.started": "2022-03-08T12:41:47.607920Z"
        },
        "papermill": {
          "duration": 0.124847,
          "end_time": "2022-03-08T12:42:58.073626",
          "exception": false,
          "start_time": "2022-03-08T12:42:57.948779",
          "status": "completed"
        },
        "tags": [],
        "id": "0d548cb7"
      },
      "outputs": [],
      "source": [
        "import pickle\n",
        "\n",
        "with open(\"linear_reg\",\"wb\") as f:\n",
        "    pickle.dump(regr,f)"
      ]
    },
    {
      "cell_type": "markdown",
      "id": "2e0d184d",
      "metadata": {
        "papermill": {
          "duration": 0.116747,
          "end_time": "2022-03-08T12:42:58.306896",
          "exception": false,
          "start_time": "2022-03-08T12:42:58.190149",
          "status": "completed"
        },
        "tags": [],
        "id": "2e0d184d"
      },
      "source": [
        "## Modelimizi yükleyelim"
      ]
    },
    {
      "cell_type": "code",
      "execution_count": null,
      "id": "273034b9",
      "metadata": {
        "execution": {
          "iopub.execute_input": "2022-03-08T12:42:58.545110Z",
          "iopub.status.busy": "2022-03-08T12:42:58.544447Z",
          "iopub.status.idle": "2022-03-08T12:42:58.550392Z",
          "shell.execute_reply": "2022-03-08T12:42:58.551017Z",
          "shell.execute_reply.started": "2022-03-08T12:41:52.606123Z"
        },
        "papermill": {
          "duration": 0.125894,
          "end_time": "2022-03-08T12:42:58.551191",
          "exception": false,
          "start_time": "2022-03-08T12:42:58.425297",
          "status": "completed"
        },
        "tags": [],
        "id": "273034b9"
      },
      "outputs": [],
      "source": [
        "with open(\"linear_reg\",\"rb\") as f:\n",
        "    reloaded_lin_reg = pickle.load(f)\n",
        "\n",
        "y_pred = reloaded_lin_reg.predict(X_test)"
      ]
    },
    {
      "cell_type": "markdown",
      "id": "9be1df0c",
      "metadata": {
        "papermill": {
          "duration": 0.11719,
          "end_time": "2022-03-08T12:42:58.785291",
          "exception": false,
          "start_time": "2022-03-08T12:42:58.668101",
          "status": "completed"
        },
        "tags": [],
        "id": "9be1df0c"
      },
      "source": [
        "# Modelimizin tahminlerini gözlemleyelim"
      ]
    },
    {
      "cell_type": "code",
      "execution_count": null,
      "id": "2f9e080c",
      "metadata": {
        "execution": {
          "iopub.execute_input": "2022-03-08T12:42:59.024088Z",
          "iopub.status.busy": "2022-03-08T12:42:59.023405Z",
          "iopub.status.idle": "2022-03-08T12:42:59.028362Z",
          "shell.execute_reply": "2022-03-08T12:42:59.029012Z",
          "shell.execute_reply.started": "2022-03-08T12:41:55.792448Z"
        },
        "papermill": {
          "duration": 0.126048,
          "end_time": "2022-03-08T12:42:59.029178",
          "exception": false,
          "start_time": "2022-03-08T12:42:58.903130",
          "status": "completed"
        },
        "tags": [],
        "id": "2f9e080c",
        "outputId": "9c7649f2-dbf9-4dbd-efcd-ee51954a7510"
      },
      "outputs": [
        {
          "data": {
            "text/plain": [
              "array([[103015.20159796],\n",
              "       [132582.27760816],\n",
              "       [132447.73845174],\n",
              "       [ 71976.09851258],\n",
              "       [178537.48221055],\n",
              "       [116161.24230165],\n",
              "       [ 67851.69209676],\n",
              "       [ 98791.73374687],\n",
              "       [113969.43533012],\n",
              "       [167921.0656955 ]])"
            ]
          },
          "execution_count": 56,
          "metadata": {},
          "output_type": "execute_result"
        }
      ],
      "source": [
        "y_pred"
      ]
    }
  ],
  "metadata": {
    "kernelspec": {
      "display_name": "Python 3",
      "language": "python",
      "name": "python3"
    },
    "language_info": {
      "codemirror_mode": {
        "name": "ipython",
        "version": 3
      },
      "file_extension": ".py",
      "mimetype": "text/x-python",
      "name": "python",
      "nbconvert_exporter": "python",
      "pygments_lexer": "ipython3",
      "version": "3.7.12"
    },
    "papermill": {
      "default_parameters": {},
      "duration": 32.279412,
      "end_time": "2022-03-08T12:42:59.856933",
      "environment_variables": {},
      "exception": null,
      "input_path": "__notebook__.ipynb",
      "output_path": "__notebook__.ipynb",
      "parameters": {},
      "start_time": "2022-03-08T12:42:27.577521",
      "version": "2.3.3"
    },
    "colab": {
      "provenance": [],
      "collapsed_sections": [
        "d07c60b4",
        "58271595",
        "3b9338ac",
        "f8f71627",
        "ccc2d0ac",
        "4ef45622",
        "443dca7a",
        "c72919f5",
        "f1e48420",
        "39e40578",
        "53b83b07",
        "b6aafe6b",
        "5f08c67b",
        "b85ae0d4",
        "9883f94f",
        "f9e701ed",
        "188eabe8",
        "2e0d184d",
        "9be1df0c"
      ],
      "include_colab_link": true
    }
  },
  "nbformat": 4,
  "nbformat_minor": 5
}